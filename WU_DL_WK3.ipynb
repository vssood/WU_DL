{
  "nbformat": 4,
  "nbformat_minor": 0,
  "metadata": {
    "colab": {
      "name": "WU_DL_WK3.ipynb",
      "provenance": [],
      "authorship_tag": "ABX9TyMX1+6IX3u/iqSyK1jnn1g8",
      "include_colab_link": true
    },
    "kernelspec": {
      "name": "python3",
      "display_name": "Python 3"
    }
  },
  "cells": [
    {
      "cell_type": "markdown",
      "metadata": {
        "id": "view-in-github",
        "colab_type": "text"
      },
      "source": [
        "<a href=\"https://colab.research.google.com/github/vssood/WU_DL/blob/master/WU_DL_WK3.ipynb\" target=\"_parent\"><img src=\"https://colab.research.google.com/assets/colab-badge.svg\" alt=\"Open In Colab\"/></a>"
      ]
    },
    {
      "cell_type": "markdown",
      "metadata": {
        "id": "1hn-KcBHrjG1"
      },
      "source": [
        "# Part 3.2: Introduction to Tensorflow and Keras"
      ]
    },
    {
      "cell_type": "code",
      "metadata": {
        "id": "FhhKDqpKrm_6"
      },
      "source": [
        "import tensorflow as tf\n",
        "import numpy as np\n"
      ],
      "execution_count": 41,
      "outputs": []
    },
    {
      "cell_type": "code",
      "metadata": {
        "id": "BLm4hZEXrw-r",
        "outputId": "96d4c8ac-aca3-47f3-bbd0-1af4d8ab638e",
        "colab": {
          "base_uri": "https://localhost:8080/",
          "height": 51
        }
      },
      "source": [
        "# 1x2 matrix\n",
        "matrix1 = tf.constant([[3., 3.]])\n",
        "# 2x1 matrix\n",
        "matrix2 = tf.constant([[2.], [2.]])\n",
        "\n",
        "product = tf.matmul(matrix1, matrix2)\n",
        "print(product)\n",
        "print(float(product))"
      ],
      "execution_count": 42,
      "outputs": [
        {
          "output_type": "stream",
          "text": [
            "tf.Tensor([[12.]], shape=(1, 1), dtype=float32)\n",
            "12.0\n"
          ],
          "name": "stdout"
        }
      ]
    },
    {
      "cell_type": "markdown",
      "metadata": {
        "id": "Fs0tAfuHt6RB"
      },
      "source": [
        "### Subtract"
      ]
    },
    {
      "cell_type": "code",
      "metadata": {
        "id": "QirgVdoPuLtg",
        "outputId": "555cd078-d0d8-4c02-dbb9-c818db559272",
        "colab": {
          "base_uri": "https://localhost:8080/",
          "height": 51
        }
      },
      "source": [
        "x = tf.Variable([1.0, 2.0])\n",
        "a = tf.constant([3.0, 3.0])\n",
        "\n",
        "sub = tf.subtract(x, a)\n",
        "print(sub)\n",
        "print(sub.numpy())"
      ],
      "execution_count": 43,
      "outputs": [
        {
          "output_type": "stream",
          "text": [
            "tf.Tensor([-2. -1.], shape=(2,), dtype=float32)\n",
            "[-2. -1.]\n"
          ],
          "name": "stdout"
        }
      ]
    },
    {
      "cell_type": "markdown",
      "metadata": {
        "id": "ZHWN-89uvskp"
      },
      "source": [
        "Assign / change varaible value"
      ]
    },
    {
      "cell_type": "code",
      "metadata": {
        "id": "sgDGevXQvvqU",
        "outputId": "e3be6ebf-4c7f-4469-9d9f-944f2b59ded3",
        "colab": {
          "base_uri": "https://localhost:8080/",
          "height": 54
        }
      },
      "source": [
        "x.assign([4.0, 6.0])"
      ],
      "execution_count": 44,
      "outputs": [
        {
          "output_type": "execute_result",
          "data": {
            "text/plain": [
              "<tf.Variable 'UnreadVariable' shape=(2,) dtype=float32, numpy=array([4., 6.], dtype=float32)>"
            ]
          },
          "metadata": {
            "tags": []
          },
          "execution_count": 44
        }
      ]
    },
    {
      "cell_type": "code",
      "metadata": {
        "id": "-5sVBTX2v30D",
        "outputId": "12e8bee9-5555-4d46-dfe4-3ffb0795b473",
        "colab": {
          "base_uri": "https://localhost:8080/",
          "height": 51
        }
      },
      "source": [
        "sub = tf.subtract(x, a)\n",
        "print(sub)\n",
        "print(sub.numpy())"
      ],
      "execution_count": 45,
      "outputs": [
        {
          "output_type": "stream",
          "text": [
            "tf.Tensor([1. 3.], shape=(2,), dtype=float32)\n",
            "[1. 3.]\n"
          ],
          "name": "stdout"
        }
      ]
    },
    {
      "cell_type": "markdown",
      "metadata": {
        "id": "9JlObsISnMgH"
      },
      "source": [
        "### Keras"
      ]
    },
    {
      "cell_type": "markdown",
      "metadata": {
        "id": "INpKr-_Qn2de"
      },
      "source": [
        "#### Regression with MPG input dataset"
      ]
    },
    {
      "cell_type": "code",
      "metadata": {
        "id": "AW9WgW4yn8rB"
      },
      "source": [
        "from tensorflow.keras.models import Sequential\n",
        "from tensorflow.keras.layers import Dense, Activation\n",
        "import pandas as pd\n",
        "import io\n",
        "import os \n",
        "import requests\n",
        "import numpy as np\n",
        "from sklearn import metrics"
      ],
      "execution_count": 46,
      "outputs": []
    },
    {
      "cell_type": "code",
      "metadata": {
        "id": "l20ZcM1Hod4B"
      },
      "source": [
        "file_path = \"https://data.heatonresearch.com/data/t81-558/auto-mpg.csv\""
      ],
      "execution_count": 47,
      "outputs": []
    },
    {
      "cell_type": "code",
      "metadata": {
        "id": "8cfc1mOHoii4"
      },
      "source": [
        "df = pd.read_csv(file_path, na_values=['NA', '?'])"
      ],
      "execution_count": 48,
      "outputs": []
    },
    {
      "cell_type": "code",
      "metadata": {
        "id": "RTSMV0pbouQf",
        "outputId": "a26cd18f-972d-46aa-c194-d0e186b6d28e",
        "colab": {
          "base_uri": "https://localhost:8080/",
          "height": 343
        }
      },
      "source": [
        "df.head()"
      ],
      "execution_count": 49,
      "outputs": [
        {
          "output_type": "execute_result",
          "data": {
            "text/html": [
              "<div>\n",
              "<style scoped>\n",
              "    .dataframe tbody tr th:only-of-type {\n",
              "        vertical-align: middle;\n",
              "    }\n",
              "\n",
              "    .dataframe tbody tr th {\n",
              "        vertical-align: top;\n",
              "    }\n",
              "\n",
              "    .dataframe thead th {\n",
              "        text-align: right;\n",
              "    }\n",
              "</style>\n",
              "<table border=\"1\" class=\"dataframe\">\n",
              "  <thead>\n",
              "    <tr style=\"text-align: right;\">\n",
              "      <th></th>\n",
              "      <th>mpg</th>\n",
              "      <th>cylinders</th>\n",
              "      <th>displacement</th>\n",
              "      <th>horsepower</th>\n",
              "      <th>weight</th>\n",
              "      <th>acceleration</th>\n",
              "      <th>year</th>\n",
              "      <th>origin</th>\n",
              "      <th>name</th>\n",
              "    </tr>\n",
              "  </thead>\n",
              "  <tbody>\n",
              "    <tr>\n",
              "      <th>0</th>\n",
              "      <td>18.0</td>\n",
              "      <td>8</td>\n",
              "      <td>307.0</td>\n",
              "      <td>130.0</td>\n",
              "      <td>3504</td>\n",
              "      <td>12.0</td>\n",
              "      <td>70</td>\n",
              "      <td>1</td>\n",
              "      <td>chevrolet chevelle malibu</td>\n",
              "    </tr>\n",
              "    <tr>\n",
              "      <th>1</th>\n",
              "      <td>15.0</td>\n",
              "      <td>8</td>\n",
              "      <td>350.0</td>\n",
              "      <td>165.0</td>\n",
              "      <td>3693</td>\n",
              "      <td>11.5</td>\n",
              "      <td>70</td>\n",
              "      <td>1</td>\n",
              "      <td>buick skylark 320</td>\n",
              "    </tr>\n",
              "    <tr>\n",
              "      <th>2</th>\n",
              "      <td>18.0</td>\n",
              "      <td>8</td>\n",
              "      <td>318.0</td>\n",
              "      <td>150.0</td>\n",
              "      <td>3436</td>\n",
              "      <td>11.0</td>\n",
              "      <td>70</td>\n",
              "      <td>1</td>\n",
              "      <td>plymouth satellite</td>\n",
              "    </tr>\n",
              "    <tr>\n",
              "      <th>3</th>\n",
              "      <td>16.0</td>\n",
              "      <td>8</td>\n",
              "      <td>304.0</td>\n",
              "      <td>150.0</td>\n",
              "      <td>3433</td>\n",
              "      <td>12.0</td>\n",
              "      <td>70</td>\n",
              "      <td>1</td>\n",
              "      <td>amc rebel sst</td>\n",
              "    </tr>\n",
              "    <tr>\n",
              "      <th>4</th>\n",
              "      <td>17.0</td>\n",
              "      <td>8</td>\n",
              "      <td>302.0</td>\n",
              "      <td>140.0</td>\n",
              "      <td>3449</td>\n",
              "      <td>10.5</td>\n",
              "      <td>70</td>\n",
              "      <td>1</td>\n",
              "      <td>ford torino</td>\n",
              "    </tr>\n",
              "  </tbody>\n",
              "</table>\n",
              "</div>"
            ],
            "text/plain": [
              "    mpg  cylinders  displacement  ...  year  origin                       name\n",
              "0  18.0          8         307.0  ...    70       1  chevrolet chevelle malibu\n",
              "1  15.0          8         350.0  ...    70       1          buick skylark 320\n",
              "2  18.0          8         318.0  ...    70       1         plymouth satellite\n",
              "3  16.0          8         304.0  ...    70       1              amc rebel sst\n",
              "4  17.0          8         302.0  ...    70       1                ford torino\n",
              "\n",
              "[5 rows x 9 columns]"
            ]
          },
          "metadata": {
            "tags": []
          },
          "execution_count": 49
        }
      ]
    },
    {
      "cell_type": "code",
      "metadata": {
        "id": "lHFOMKNBozLg"
      },
      "source": [
        "cars = df['name']"
      ],
      "execution_count": 50,
      "outputs": []
    },
    {
      "cell_type": "code",
      "metadata": {
        "id": "4SoJQ9Xxo1_Q",
        "outputId": "8209f0f1-9783-412a-bf48-1dda217f5a7e",
        "colab": {
          "base_uri": "https://localhost:8080/",
          "height": 134
        }
      },
      "source": [
        "df.head(1)"
      ],
      "execution_count": 51,
      "outputs": [
        {
          "output_type": "execute_result",
          "data": {
            "text/html": [
              "<div>\n",
              "<style scoped>\n",
              "    .dataframe tbody tr th:only-of-type {\n",
              "        vertical-align: middle;\n",
              "    }\n",
              "\n",
              "    .dataframe tbody tr th {\n",
              "        vertical-align: top;\n",
              "    }\n",
              "\n",
              "    .dataframe thead th {\n",
              "        text-align: right;\n",
              "    }\n",
              "</style>\n",
              "<table border=\"1\" class=\"dataframe\">\n",
              "  <thead>\n",
              "    <tr style=\"text-align: right;\">\n",
              "      <th></th>\n",
              "      <th>mpg</th>\n",
              "      <th>cylinders</th>\n",
              "      <th>displacement</th>\n",
              "      <th>horsepower</th>\n",
              "      <th>weight</th>\n",
              "      <th>acceleration</th>\n",
              "      <th>year</th>\n",
              "      <th>origin</th>\n",
              "      <th>name</th>\n",
              "    </tr>\n",
              "  </thead>\n",
              "  <tbody>\n",
              "    <tr>\n",
              "      <th>0</th>\n",
              "      <td>18.0</td>\n",
              "      <td>8</td>\n",
              "      <td>307.0</td>\n",
              "      <td>130.0</td>\n",
              "      <td>3504</td>\n",
              "      <td>12.0</td>\n",
              "      <td>70</td>\n",
              "      <td>1</td>\n",
              "      <td>chevrolet chevelle malibu</td>\n",
              "    </tr>\n",
              "  </tbody>\n",
              "</table>\n",
              "</div>"
            ],
            "text/plain": [
              "    mpg  cylinders  displacement  ...  year  origin                       name\n",
              "0  18.0          8         307.0  ...    70       1  chevrolet chevelle malibu\n",
              "\n",
              "[1 rows x 9 columns]"
            ]
          },
          "metadata": {
            "tags": []
          },
          "execution_count": 51
        }
      ]
    },
    {
      "cell_type": "markdown",
      "metadata": {
        "id": "nVCfxG-3pvTi"
      },
      "source": [
        "Check missing values"
      ]
    },
    {
      "cell_type": "code",
      "metadata": {
        "id": "y2vFcUtIqZGD",
        "outputId": "a3e69930-1f30-461f-b244-238b4b6245a4",
        "colab": {
          "base_uri": "https://localhost:8080/",
          "height": 34
        }
      },
      "source": [
        "df.shape"
      ],
      "execution_count": 52,
      "outputs": [
        {
          "output_type": "execute_result",
          "data": {
            "text/plain": [
              "(398, 9)"
            ]
          },
          "metadata": {
            "tags": []
          },
          "execution_count": 52
        }
      ]
    },
    {
      "cell_type": "code",
      "metadata": {
        "id": "640VT8X6pmMw",
        "outputId": "f993f3e8-a094-4fb8-9cd9-3e568b46ac49",
        "colab": {
          "base_uri": "https://localhost:8080/",
          "height": 187
        }
      },
      "source": [
        "df.isna().sum()"
      ],
      "execution_count": 53,
      "outputs": [
        {
          "output_type": "execute_result",
          "data": {
            "text/plain": [
              "mpg             0\n",
              "cylinders       0\n",
              "displacement    0\n",
              "horsepower      6\n",
              "weight          0\n",
              "acceleration    0\n",
              "year            0\n",
              "origin          0\n",
              "name            0\n",
              "dtype: int64"
            ]
          },
          "metadata": {
            "tags": []
          },
          "execution_count": 53
        }
      ]
    },
    {
      "cell_type": "code",
      "metadata": {
        "id": "21l2DX4IqgxK"
      },
      "source": [
        "# Handle missing value\n",
        "df['horsepower'] = df['horsepower'].fillna(df['horsepower'].median())"
      ],
      "execution_count": 54,
      "outputs": []
    },
    {
      "cell_type": "code",
      "metadata": {
        "id": "JGOlaKi0q7ba",
        "outputId": "1fbab305-0ff9-48c1-a32e-cf642e59d3d1",
        "colab": {
          "base_uri": "https://localhost:8080/",
          "height": 51
        }
      },
      "source": [
        "df.columns.values"
      ],
      "execution_count": 55,
      "outputs": [
        {
          "output_type": "execute_result",
          "data": {
            "text/plain": [
              "array(['mpg', 'cylinders', 'displacement', 'horsepower', 'weight',\n",
              "       'acceleration', 'year', 'origin', 'name'], dtype=object)"
            ]
          },
          "metadata": {
            "tags": []
          },
          "execution_count": 55
        }
      ]
    },
    {
      "cell_type": "code",
      "metadata": {
        "id": "ysHqcj20qx6q"
      },
      "source": [
        "# Pandas to Numpy\n",
        "x = df[['cylinders', 'displacement', 'horsepower', 'weight',\n",
        "       'acceleration', 'year', 'origin']].values\n",
        "y = df['mpg'].values    # regression"
      ],
      "execution_count": 56,
      "outputs": []
    },
    {
      "cell_type": "code",
      "metadata": {
        "id": "6qrxRQYPrOqs",
        "outputId": "dd97e824-5fa5-49ab-b1f5-652ee3914cd9",
        "colab": {
          "base_uri": "https://localhost:8080/",
          "height": 1000
        }
      },
      "source": [
        "# Build Neural Network\n",
        "model = Sequential()\n",
        "model.add(Dense(25, input_dim = x.shape[1], activation='relu'))   # hidden 1\n",
        "model.add(Dense(10, activation='relu'))                 # Hidden 2\n",
        "model.add(Dense(1))         # output \n",
        "model.compile(loss='mean_squared_error', optimizer='adam')\n",
        "model.fit(x, y, verbose=2, epochs=100)\n"
      ],
      "execution_count": 57,
      "outputs": [
        {
          "output_type": "stream",
          "text": [
            "Epoch 1/100\n",
            "13/13 - 0s - loss: 226699.7188\n",
            "Epoch 2/100\n",
            "13/13 - 0s - loss: 87207.8594\n",
            "Epoch 3/100\n",
            "13/13 - 0s - loss: 42639.2812\n",
            "Epoch 4/100\n",
            "13/13 - 0s - loss: 23439.2188\n",
            "Epoch 5/100\n",
            "13/13 - 0s - loss: 10800.5645\n",
            "Epoch 6/100\n",
            "13/13 - 0s - loss: 3948.7974\n",
            "Epoch 7/100\n",
            "13/13 - 0s - loss: 1049.8458\n",
            "Epoch 8/100\n",
            "13/13 - 0s - loss: 310.8604\n",
            "Epoch 9/100\n",
            "13/13 - 0s - loss: 234.4959\n",
            "Epoch 10/100\n",
            "13/13 - 0s - loss: 239.5697\n",
            "Epoch 11/100\n",
            "13/13 - 0s - loss: 235.5028\n",
            "Epoch 12/100\n",
            "13/13 - 0s - loss: 232.2986\n",
            "Epoch 13/100\n",
            "13/13 - 0s - loss: 231.3969\n",
            "Epoch 14/100\n",
            "13/13 - 0s - loss: 231.6414\n",
            "Epoch 15/100\n",
            "13/13 - 0s - loss: 231.0472\n",
            "Epoch 16/100\n",
            "13/13 - 0s - loss: 230.8707\n",
            "Epoch 17/100\n",
            "13/13 - 0s - loss: 230.8278\n",
            "Epoch 18/100\n",
            "13/13 - 0s - loss: 230.4282\n",
            "Epoch 19/100\n",
            "13/13 - 0s - loss: 230.1508\n",
            "Epoch 20/100\n",
            "13/13 - 0s - loss: 229.7843\n",
            "Epoch 21/100\n",
            "13/13 - 0s - loss: 229.6536\n",
            "Epoch 22/100\n",
            "13/13 - 0s - loss: 229.1895\n",
            "Epoch 23/100\n",
            "13/13 - 0s - loss: 229.1347\n",
            "Epoch 24/100\n",
            "13/13 - 0s - loss: 228.6751\n",
            "Epoch 25/100\n",
            "13/13 - 0s - loss: 228.3860\n",
            "Epoch 26/100\n",
            "13/13 - 0s - loss: 228.0264\n",
            "Epoch 27/100\n",
            "13/13 - 0s - loss: 227.7927\n",
            "Epoch 28/100\n",
            "13/13 - 0s - loss: 227.6989\n",
            "Epoch 29/100\n",
            "13/13 - 0s - loss: 227.3518\n",
            "Epoch 30/100\n",
            "13/13 - 0s - loss: 226.7843\n",
            "Epoch 31/100\n",
            "13/13 - 0s - loss: 226.4029\n",
            "Epoch 32/100\n",
            "13/13 - 0s - loss: 226.1508\n",
            "Epoch 33/100\n",
            "13/13 - 0s - loss: 225.9176\n",
            "Epoch 34/100\n",
            "13/13 - 0s - loss: 225.4613\n",
            "Epoch 35/100\n",
            "13/13 - 0s - loss: 224.9164\n",
            "Epoch 36/100\n",
            "13/13 - 0s - loss: 224.5628\n",
            "Epoch 37/100\n",
            "13/13 - 0s - loss: 224.9446\n",
            "Epoch 38/100\n",
            "13/13 - 0s - loss: 223.9013\n",
            "Epoch 39/100\n",
            "13/13 - 0s - loss: 223.5348\n",
            "Epoch 40/100\n",
            "13/13 - 0s - loss: 223.2300\n",
            "Epoch 41/100\n",
            "13/13 - 0s - loss: 223.0460\n",
            "Epoch 42/100\n",
            "13/13 - 0s - loss: 222.3717\n",
            "Epoch 43/100\n",
            "13/13 - 0s - loss: 222.1321\n",
            "Epoch 44/100\n",
            "13/13 - 0s - loss: 221.4505\n",
            "Epoch 45/100\n",
            "13/13 - 0s - loss: 220.9043\n",
            "Epoch 46/100\n",
            "13/13 - 0s - loss: 221.6258\n",
            "Epoch 47/100\n",
            "13/13 - 0s - loss: 221.1566\n",
            "Epoch 48/100\n",
            "13/13 - 0s - loss: 219.8969\n",
            "Epoch 49/100\n",
            "13/13 - 0s - loss: 219.5181\n",
            "Epoch 50/100\n",
            "13/13 - 0s - loss: 219.1469\n",
            "Epoch 51/100\n",
            "13/13 - 0s - loss: 219.0878\n",
            "Epoch 52/100\n",
            "13/13 - 0s - loss: 217.9240\n",
            "Epoch 53/100\n",
            "13/13 - 0s - loss: 218.0256\n",
            "Epoch 54/100\n",
            "13/13 - 0s - loss: 217.1106\n",
            "Epoch 55/100\n",
            "13/13 - 0s - loss: 216.4339\n",
            "Epoch 56/100\n",
            "13/13 - 0s - loss: 216.4027\n",
            "Epoch 57/100\n",
            "13/13 - 0s - loss: 215.2613\n",
            "Epoch 58/100\n",
            "13/13 - 0s - loss: 215.2560\n",
            "Epoch 59/100\n",
            "13/13 - 0s - loss: 214.8723\n",
            "Epoch 60/100\n",
            "13/13 - 0s - loss: 213.9114\n",
            "Epoch 61/100\n",
            "13/13 - 0s - loss: 213.6703\n",
            "Epoch 62/100\n",
            "13/13 - 0s - loss: 213.2346\n",
            "Epoch 63/100\n",
            "13/13 - 0s - loss: 212.8914\n",
            "Epoch 64/100\n",
            "13/13 - 0s - loss: 212.0929\n",
            "Epoch 65/100\n",
            "13/13 - 0s - loss: 211.3832\n",
            "Epoch 66/100\n",
            "13/13 - 0s - loss: 210.8487\n",
            "Epoch 67/100\n",
            "13/13 - 0s - loss: 210.1209\n",
            "Epoch 68/100\n",
            "13/13 - 0s - loss: 211.0218\n",
            "Epoch 69/100\n",
            "13/13 - 0s - loss: 209.0034\n",
            "Epoch 70/100\n",
            "13/13 - 0s - loss: 208.9405\n",
            "Epoch 71/100\n",
            "13/13 - 0s - loss: 209.3845\n",
            "Epoch 72/100\n",
            "13/13 - 0s - loss: 208.3215\n",
            "Epoch 73/100\n",
            "13/13 - 0s - loss: 208.6187\n",
            "Epoch 74/100\n",
            "13/13 - 0s - loss: 209.3173\n",
            "Epoch 75/100\n",
            "13/13 - 0s - loss: 206.1842\n",
            "Epoch 76/100\n",
            "13/13 - 0s - loss: 205.9267\n",
            "Epoch 77/100\n",
            "13/13 - 0s - loss: 205.3645\n",
            "Epoch 78/100\n",
            "13/13 - 0s - loss: 204.2458\n",
            "Epoch 79/100\n",
            "13/13 - 0s - loss: 204.0352\n",
            "Epoch 80/100\n",
            "13/13 - 0s - loss: 202.9322\n",
            "Epoch 81/100\n",
            "13/13 - 0s - loss: 202.7226\n",
            "Epoch 82/100\n",
            "13/13 - 0s - loss: 202.0402\n",
            "Epoch 83/100\n",
            "13/13 - 0s - loss: 201.7570\n",
            "Epoch 84/100\n",
            "13/13 - 0s - loss: 200.8266\n",
            "Epoch 85/100\n",
            "13/13 - 0s - loss: 200.5289\n",
            "Epoch 86/100\n",
            "13/13 - 0s - loss: 200.4863\n",
            "Epoch 87/100\n",
            "13/13 - 0s - loss: 199.7530\n",
            "Epoch 88/100\n",
            "13/13 - 0s - loss: 198.6024\n",
            "Epoch 89/100\n",
            "13/13 - 0s - loss: 197.6713\n",
            "Epoch 90/100\n",
            "13/13 - 0s - loss: 196.8677\n",
            "Epoch 91/100\n",
            "13/13 - 0s - loss: 197.5181\n",
            "Epoch 92/100\n",
            "13/13 - 0s - loss: 195.5844\n",
            "Epoch 93/100\n",
            "13/13 - 0s - loss: 195.8524\n",
            "Epoch 94/100\n",
            "13/13 - 0s - loss: 194.5122\n",
            "Epoch 95/100\n",
            "13/13 - 0s - loss: 193.9066\n",
            "Epoch 96/100\n",
            "13/13 - 0s - loss: 194.1364\n",
            "Epoch 97/100\n",
            "13/13 - 0s - loss: 192.6655\n",
            "Epoch 98/100\n",
            "13/13 - 0s - loss: 191.7862\n",
            "Epoch 99/100\n",
            "13/13 - 0s - loss: 191.3679\n",
            "Epoch 100/100\n",
            "13/13 - 0s - loss: 190.8357\n"
          ],
          "name": "stdout"
        },
        {
          "output_type": "execute_result",
          "data": {
            "text/plain": [
              "<tensorflow.python.keras.callbacks.History at 0x7f4a7e42dc50>"
            ]
          },
          "metadata": {
            "tags": []
          },
          "execution_count": 57
        }
      ]
    },
    {
      "cell_type": "markdown",
      "metadata": {
        "id": "kRlYmMGutQvh"
      },
      "source": [
        "### Neural Network Hyperparameters"
      ]
    },
    {
      "cell_type": "markdown",
      "metadata": {
        "id": "t-zlZs4_uW8R"
      },
      "source": [
        "Prediction"
      ]
    },
    {
      "cell_type": "code",
      "metadata": {
        "id": "yMg1CLfgtPes",
        "outputId": "2dfd9730-2bc3-43bf-b822-4f386e85b490",
        "colab": {
          "base_uri": "https://localhost:8080/",
          "height": 204
        }
      },
      "source": [
        "pred = model.predict(x)\n",
        "print(f\"Shape:{pred.shape}\")\n",
        "print(pred[0:10])"
      ],
      "execution_count": 58,
      "outputs": [
        {
          "output_type": "stream",
          "text": [
            "Shape:(398, 1)\n",
            "[[23.45822 ]\n",
            " [24.35388 ]\n",
            " [22.54991 ]\n",
            " [22.712797]\n",
            " [23.012663]\n",
            " [29.060377]\n",
            " [28.679228]\n",
            " [28.558043]\n",
            " [29.268538]\n",
            " [25.147642]]\n"
          ],
          "name": "stdout"
        }
      ]
    },
    {
      "cell_type": "markdown",
      "metadata": {
        "id": "nZW3Ka_Eunre"
      },
      "source": [
        "Measure the peformance of the prediction"
      ]
    },
    {
      "cell_type": "code",
      "metadata": {
        "id": "0WlxIuyGus9v",
        "outputId": "bec94d17-a71e-4f0e-8825-49e699376448",
        "colab": {
          "base_uri": "https://localhost:8080/",
          "height": 34
        }
      },
      "source": [
        "# Measure RMSE error.  RMSE is common for regression.\n",
        "score = np.sqrt(metrics.mean_squared_error(pred,y))\n",
        "print(f\"Final Score (RMSE): {score}\")"
      ],
      "execution_count": 59,
      "outputs": [
        {
          "output_type": "stream",
          "text": [
            "Final Score (RMSE): 13.787785041463286\n"
          ],
          "name": "stdout"
        }
      ]
    },
    {
      "cell_type": "code",
      "metadata": {
        "id": "FAK2c6OSvKk2",
        "outputId": "516f08b3-571f-4447-b89a-140dde3a33dc",
        "colab": {
          "base_uri": "https://localhost:8080/",
          "height": 187
        }
      },
      "source": [
        "# Sample prediction  - Print first 10 predictions \n",
        "for i in range(10): \n",
        "    print(f\"{i+1}. Car Name: {cars[i]}, MPG: {y[i]}, \"\n",
        "    + f\"Predicted MPG: {pred[i]}\")"
      ],
      "execution_count": 60,
      "outputs": [
        {
          "output_type": "stream",
          "text": [
            "1. Car Name: chevrolet chevelle malibu, MPG: 18.0, Predicted MPG: [23.45822]\n",
            "2. Car Name: buick skylark 320, MPG: 15.0, Predicted MPG: [24.35388]\n",
            "3. Car Name: plymouth satellite, MPG: 18.0, Predicted MPG: [22.54991]\n",
            "4. Car Name: amc rebel sst, MPG: 16.0, Predicted MPG: [22.712797]\n",
            "5. Car Name: ford torino, MPG: 17.0, Predicted MPG: [23.012663]\n",
            "6. Car Name: ford galaxie 500, MPG: 15.0, Predicted MPG: [29.060377]\n",
            "7. Car Name: chevrolet impala, MPG: 14.0, Predicted MPG: [28.679228]\n",
            "8. Car Name: plymouth fury iii, MPG: 14.0, Predicted MPG: [28.558043]\n",
            "9. Car Name: pontiac catalina, MPG: 14.0, Predicted MPG: [29.268538]\n",
            "10. Car Name: amc ambassador dpl, MPG: 15.0, Predicted MPG: [25.147642]\n"
          ],
          "name": "stdout"
        }
      ]
    },
    {
      "cell_type": "markdown",
      "metadata": {
        "id": "fyd5xzVCKnLO"
      },
      "source": [
        "###  Classification: Iris"
      ]
    },
    {
      "cell_type": "code",
      "metadata": {
        "id": "AkS2bjnNKfDg"
      },
      "source": [
        "from tensorflow.keras.callbacks import EarlyStopping"
      ],
      "execution_count": 61,
      "outputs": []
    },
    {
      "cell_type": "code",
      "metadata": {
        "id": "qm3jFfT9LYaV"
      },
      "source": [
        "file_path = \"https://data.heatonresearch.com/data/t81-558/iris.csv\""
      ],
      "execution_count": 62,
      "outputs": []
    },
    {
      "cell_type": "code",
      "metadata": {
        "id": "XZz_KdWaLbJM"
      },
      "source": [
        "df_iris = pd.read_csv(file_path, na_values=[\"NA\", \"?\"])"
      ],
      "execution_count": 65,
      "outputs": []
    },
    {
      "cell_type": "code",
      "metadata": {
        "id": "DIVyrrS8LlfT",
        "outputId": "01f29145-e7e0-4393-d8a9-1a08f7be4b09",
        "colab": {
          "base_uri": "https://localhost:8080/",
          "height": 204
        }
      },
      "source": [
        "df_iris.head()"
      ],
      "execution_count": 66,
      "outputs": [
        {
          "output_type": "execute_result",
          "data": {
            "text/html": [
              "<div>\n",
              "<style scoped>\n",
              "    .dataframe tbody tr th:only-of-type {\n",
              "        vertical-align: middle;\n",
              "    }\n",
              "\n",
              "    .dataframe tbody tr th {\n",
              "        vertical-align: top;\n",
              "    }\n",
              "\n",
              "    .dataframe thead th {\n",
              "        text-align: right;\n",
              "    }\n",
              "</style>\n",
              "<table border=\"1\" class=\"dataframe\">\n",
              "  <thead>\n",
              "    <tr style=\"text-align: right;\">\n",
              "      <th></th>\n",
              "      <th>sepal_l</th>\n",
              "      <th>sepal_w</th>\n",
              "      <th>petal_l</th>\n",
              "      <th>petal_w</th>\n",
              "      <th>species</th>\n",
              "    </tr>\n",
              "  </thead>\n",
              "  <tbody>\n",
              "    <tr>\n",
              "      <th>0</th>\n",
              "      <td>5.1</td>\n",
              "      <td>3.5</td>\n",
              "      <td>1.4</td>\n",
              "      <td>0.2</td>\n",
              "      <td>Iris-setosa</td>\n",
              "    </tr>\n",
              "    <tr>\n",
              "      <th>1</th>\n",
              "      <td>4.9</td>\n",
              "      <td>3.0</td>\n",
              "      <td>1.4</td>\n",
              "      <td>0.2</td>\n",
              "      <td>Iris-setosa</td>\n",
              "    </tr>\n",
              "    <tr>\n",
              "      <th>2</th>\n",
              "      <td>4.7</td>\n",
              "      <td>3.2</td>\n",
              "      <td>1.3</td>\n",
              "      <td>0.2</td>\n",
              "      <td>Iris-setosa</td>\n",
              "    </tr>\n",
              "    <tr>\n",
              "      <th>3</th>\n",
              "      <td>4.6</td>\n",
              "      <td>3.1</td>\n",
              "      <td>1.5</td>\n",
              "      <td>0.2</td>\n",
              "      <td>Iris-setosa</td>\n",
              "    </tr>\n",
              "    <tr>\n",
              "      <th>4</th>\n",
              "      <td>5.0</td>\n",
              "      <td>3.6</td>\n",
              "      <td>1.4</td>\n",
              "      <td>0.2</td>\n",
              "      <td>Iris-setosa</td>\n",
              "    </tr>\n",
              "  </tbody>\n",
              "</table>\n",
              "</div>"
            ],
            "text/plain": [
              "   sepal_l  sepal_w  petal_l  petal_w      species\n",
              "0      5.1      3.5      1.4      0.2  Iris-setosa\n",
              "1      4.9      3.0      1.4      0.2  Iris-setosa\n",
              "2      4.7      3.2      1.3      0.2  Iris-setosa\n",
              "3      4.6      3.1      1.5      0.2  Iris-setosa\n",
              "4      5.0      3.6      1.4      0.2  Iris-setosa"
            ]
          },
          "metadata": {
            "tags": []
          },
          "execution_count": 66
        }
      ]
    },
    {
      "cell_type": "markdown",
      "metadata": {
        "id": "RPXAV-YrLweJ"
      },
      "source": [
        "Convert to nympy - classification"
      ]
    },
    {
      "cell_type": "code",
      "metadata": {
        "id": "HooLbIRkLz08",
        "outputId": "50068b52-a5fb-4222-ba2b-06f96cd70ec5",
        "colab": {
          "base_uri": "https://localhost:8080/",
          "height": 51
        }
      },
      "source": [
        "df_iris.columns.values"
      ],
      "execution_count": 68,
      "outputs": [
        {
          "output_type": "execute_result",
          "data": {
            "text/plain": [
              "array(['sepal_l', 'sepal_w', 'petal_l', 'petal_w', 'species'],\n",
              "      dtype=object)"
            ]
          },
          "metadata": {
            "tags": []
          },
          "execution_count": 68
        }
      ]
    },
    {
      "cell_type": "code",
      "metadata": {
        "id": "g2FdG1PtL9Mw"
      },
      "source": [
        "x = df_iris[['sepal_l', 'sepal_w', 'petal_l', 'petal_w']].values\n",
        "dummies = pd.get_dummies(df_iris['species'])            # classification\n",
        "species = dummies.columns\n",
        "y = dummies.values"
      ],
      "execution_count": 70,
      "outputs": []
    },
    {
      "cell_type": "code",
      "metadata": {
        "id": "9KPHdZyhM62V",
        "outputId": "857a0f42-459f-460c-cd20-531c9e1e2bbb",
        "colab": {
          "base_uri": "https://localhost:8080/",
          "height": 34
        }
      },
      "source": [
        "x.shape"
      ],
      "execution_count": 76,
      "outputs": [
        {
          "output_type": "execute_result",
          "data": {
            "text/plain": [
              "(150, 4)"
            ]
          },
          "metadata": {
            "tags": []
          },
          "execution_count": 76
        }
      ]
    },
    {
      "cell_type": "code",
      "metadata": {
        "id": "QaLjaYdGMAoV",
        "outputId": "a0bb1b01-6ae7-427f-8825-bd5e979fcb5d",
        "colab": {
          "base_uri": "https://localhost:8080/",
          "height": 111
        }
      },
      "source": [
        "dummies[0:2]"
      ],
      "execution_count": 72,
      "outputs": [
        {
          "output_type": "execute_result",
          "data": {
            "text/html": [
              "<div>\n",
              "<style scoped>\n",
              "    .dataframe tbody tr th:only-of-type {\n",
              "        vertical-align: middle;\n",
              "    }\n",
              "\n",
              "    .dataframe tbody tr th {\n",
              "        vertical-align: top;\n",
              "    }\n",
              "\n",
              "    .dataframe thead th {\n",
              "        text-align: right;\n",
              "    }\n",
              "</style>\n",
              "<table border=\"1\" class=\"dataframe\">\n",
              "  <thead>\n",
              "    <tr style=\"text-align: right;\">\n",
              "      <th></th>\n",
              "      <th>Iris-setosa</th>\n",
              "      <th>Iris-versicolor</th>\n",
              "      <th>Iris-virginica</th>\n",
              "    </tr>\n",
              "  </thead>\n",
              "  <tbody>\n",
              "    <tr>\n",
              "      <th>0</th>\n",
              "      <td>1</td>\n",
              "      <td>0</td>\n",
              "      <td>0</td>\n",
              "    </tr>\n",
              "    <tr>\n",
              "      <th>1</th>\n",
              "      <td>1</td>\n",
              "      <td>0</td>\n",
              "      <td>0</td>\n",
              "    </tr>\n",
              "  </tbody>\n",
              "</table>\n",
              "</div>"
            ],
            "text/plain": [
              "   Iris-setosa  Iris-versicolor  Iris-virginica\n",
              "0            1                0               0\n",
              "1            1                0               0"
            ]
          },
          "metadata": {
            "tags": []
          },
          "execution_count": 72
        }
      ]
    },
    {
      "cell_type": "code",
      "metadata": {
        "id": "YBnEjutYMiW7",
        "outputId": "564f13ec-0f7b-43f5-d76d-2fe8deac90b1",
        "colab": {
          "base_uri": "https://localhost:8080/",
          "height": 34
        }
      },
      "source": [
        "species"
      ],
      "execution_count": 73,
      "outputs": [
        {
          "output_type": "execute_result",
          "data": {
            "text/plain": [
              "Index(['Iris-setosa', 'Iris-versicolor', 'Iris-virginica'], dtype='object')"
            ]
          },
          "metadata": {
            "tags": []
          },
          "execution_count": 73
        }
      ]
    },
    {
      "cell_type": "code",
      "metadata": {
        "id": "uOiMXpOZMljk",
        "outputId": "01e7ee90-50c3-41b6-e517-f654a933075c",
        "colab": {
          "base_uri": "https://localhost:8080/",
          "height": 102
        }
      },
      "source": [
        "y[0:5]"
      ],
      "execution_count": 75,
      "outputs": [
        {
          "output_type": "execute_result",
          "data": {
            "text/plain": [
              "array([[1, 0, 0],\n",
              "       [1, 0, 0],\n",
              "       [1, 0, 0],\n",
              "       [1, 0, 0],\n",
              "       [1, 0, 0]], dtype=uint8)"
            ]
          },
          "metadata": {
            "tags": []
          },
          "execution_count": 75
        }
      ]
    },
    {
      "cell_type": "code",
      "metadata": {
        "id": "GSL9U34ZMtgY",
        "outputId": "ef9bd1f9-631d-42ad-e296-9a937039d731",
        "colab": {
          "base_uri": "https://localhost:8080/",
          "height": 34
        }
      },
      "source": [
        "# Build neural network\n",
        "model = Sequential()\n",
        "model.add(Dense(50, input_dim = x.shape[1], activation= 'relu' ))   # Hidden 1\n",
        "model.add(Dense(25, activation='relu'))                 # Hidden 2\n",
        "model.add(Dense(y.shape[1], activation= 'softmax'))     # output\n",
        "\n",
        "model.compile(loss='categorical_crossentropy', optimizer='adam')\n",
        "model.fit(x, y, verbose=0, epochs=100)"
      ],
      "execution_count": 81,
      "outputs": [
        {
          "output_type": "execute_result",
          "data": {
            "text/plain": [
              "<tensorflow.python.keras.callbacks.History at 0x7f4a7c880ba8>"
            ]
          },
          "metadata": {
            "tags": []
          },
          "execution_count": 81
        }
      ]
    },
    {
      "cell_type": "code",
      "metadata": {
        "id": "J6cr72E8N9ww",
        "outputId": "197d88b4-a5e6-456c-a937-5c181e395f5c",
        "colab": {
          "base_uri": "https://localhost:8080/",
          "height": 34
        }
      },
      "source": [
        "# Print out number of species found:\n",
        "print(species)"
      ],
      "execution_count": 80,
      "outputs": [
        {
          "output_type": "stream",
          "text": [
            "Index(['Iris-setosa', 'Iris-versicolor', 'Iris-virginica'], dtype='object')\n"
          ],
          "name": "stdout"
        }
      ]
    },
    {
      "cell_type": "markdown",
      "metadata": {
        "id": "kS1fF1g7R3Ud"
      },
      "source": [
        "Prediction \n",
        "\n",
        "Notice that three values come back for each of the 150 iris flowers"
      ]
    },
    {
      "cell_type": "code",
      "metadata": {
        "id": "SL32DCglR6FN",
        "outputId": "320ef2e5-f8fe-49de-b5c8-29ee7a483162",
        "colab": {
          "base_uri": "https://localhost:8080/",
          "height": 204
        }
      },
      "source": [
        "pred = model.predict(x)\n",
        "print(f\"Shape : {pred.shape}\")\n",
        "print(pred[0:10])"
      ],
      "execution_count": 83,
      "outputs": [
        {
          "output_type": "stream",
          "text": [
            "Shape : (150, 3)\n",
            "[[9.9644488e-01 3.5551381e-03 1.0858597e-08]\n",
            " [9.9118340e-01 8.8164732e-03 7.5958425e-08]\n",
            " [9.9435270e-01 5.6473524e-03 4.5446804e-08]\n",
            " [9.9119240e-01 8.8075316e-03 1.2340251e-07]\n",
            " [9.9683088e-01 3.1691198e-03 1.0182261e-08]\n",
            " [9.9740607e-01 2.5938943e-03 6.0095511e-09]\n",
            " [9.9511659e-01 4.8833843e-03 4.9477212e-08]\n",
            " [9.9525297e-01 4.7470988e-03 2.2339734e-08]\n",
            " [9.8873490e-01 1.1264860e-02 2.5655649e-07]\n",
            " [9.9208128e-01 7.9187118e-03 5.4118672e-08]]\n"
          ],
          "name": "stdout"
        }
      ]
    },
    {
      "cell_type": "code",
      "metadata": {
        "id": "Mw2Nd22kSNg0"
      },
      "source": [
        "# Turn off the scientific notation \n",
        "np.set_printoptions(suppress=True)"
      ],
      "execution_count": 84,
      "outputs": []
    },
    {
      "cell_type": "code",
      "metadata": {
        "id": "Vkz8fN8eSVu3",
        "outputId": "de2826af-d4cf-470d-d5a8-b593032157b3",
        "colab": {
          "base_uri": "https://localhost:8080/",
          "height": 187
        }
      },
      "source": [
        "print(y[0:10])"
      ],
      "execution_count": 85,
      "outputs": [
        {
          "output_type": "stream",
          "text": [
            "[[1 0 0]\n",
            " [1 0 0]\n",
            " [1 0 0]\n",
            " [1 0 0]\n",
            " [1 0 0]\n",
            " [1 0 0]\n",
            " [1 0 0]\n",
            " [1 0 0]\n",
            " [1 0 0]\n",
            " [1 0 0]]\n"
          ],
          "name": "stdout"
        }
      ]
    },
    {
      "cell_type": "code",
      "metadata": {
        "id": "cx8pmwwASsda",
        "outputId": "467f4dd6-99fc-4089-968b-b84168e11ba5",
        "colab": {
          "base_uri": "https://localhost:8080/",
          "height": 207
        }
      },
      "source": [
        "# convert the predictions to the expected iris species\n",
        "# The argmax function finds the index of the maximum prediction for each row.\n",
        "\n",
        "predict_class = np.argmax(pred, axis=1)\n",
        "expected_class = np.argmax(y, axis =1)\n",
        "print(f\"Predictions : {predict_class}\")\n",
        "print(f\"Expected : {expected_class}\")"
      ],
      "execution_count": 87,
      "outputs": [
        {
          "output_type": "stream",
          "text": [
            "Predictions : [0 0 0 0 0 0 0 0 0 0 0 0 0 0 0 0 0 0 0 0 0 0 0 0 0 0 0 0 0 0 0 0 0 0 0 0 0\n",
            " 0 0 0 0 0 0 0 0 0 0 0 0 0 1 1 1 1 1 1 1 1 1 1 1 1 1 1 1 1 1 1 1 1 2 1 2 1\n",
            " 1 1 1 1 1 1 1 1 1 2 1 1 1 1 1 1 1 1 1 1 1 1 1 1 1 1 2 2 2 2 2 2 2 2 2 2 2\n",
            " 2 2 2 2 2 2 2 2 2 2 2 2 2 2 2 2 2 2 2 2 2 2 2 2 2 2 2 2 2 2 2 2 2 2 2 2 2\n",
            " 2 2]\n",
            "Expected : [0 0 0 0 0 0 0 0 0 0 0 0 0 0 0 0 0 0 0 0 0 0 0 0 0 0 0 0 0 0 0 0 0 0 0 0 0\n",
            " 0 0 0 0 0 0 0 0 0 0 0 0 0 1 1 1 1 1 1 1 1 1 1 1 1 1 1 1 1 1 1 1 1 1 1 1 1\n",
            " 1 1 1 1 1 1 1 1 1 1 1 1 1 1 1 1 1 1 1 1 1 1 1 1 1 1 2 2 2 2 2 2 2 2 2 2 2\n",
            " 2 2 2 2 2 2 2 2 2 2 2 2 2 2 2 2 2 2 2 2 2 2 2 2 2 2 2 2 2 2 2 2 2 2 2 2 2\n",
            " 2 2]\n"
          ],
          "name": "stdout"
        }
      ]
    },
    {
      "cell_type": "code",
      "metadata": {
        "id": "LAD6Mw3FTS0O",
        "outputId": "4f63c792-84e4-4107-dbe2-73701927e8ae",
        "colab": {
          "base_uri": "https://localhost:8080/",
          "height": 85
        }
      },
      "source": [
        "# to to show the species name\n",
        "print(species[predict_class[0:10]])"
      ],
      "execution_count": 88,
      "outputs": [
        {
          "output_type": "stream",
          "text": [
            "Index(['Iris-setosa', 'Iris-setosa', 'Iris-setosa', 'Iris-setosa',\n",
            "       'Iris-setosa', 'Iris-setosa', 'Iris-setosa', 'Iris-setosa',\n",
            "       'Iris-setosa', 'Iris-setosa'],\n",
            "      dtype='object')\n"
          ],
          "name": "stdout"
        }
      ]
    },
    {
      "cell_type": "code",
      "metadata": {
        "id": "1Sjj6kYoTjyr",
        "outputId": "8baf4960-d046-4137-b4fb-156f54b3a66c",
        "colab": {
          "base_uri": "https://localhost:8080/",
          "height": 34
        }
      },
      "source": [
        "# find accuracy\n",
        "correct = metrics.accuracy_score(expected_class, predict_class)\n",
        "print(f\"Accuracy : {correct}\")"
      ],
      "execution_count": 89,
      "outputs": [
        {
          "output_type": "stream",
          "text": [
            "Accuracy : 0.98\n"
          ],
          "name": "stdout"
        }
      ]
    },
    {
      "cell_type": "markdown",
      "metadata": {
        "id": "TnMRy5rKUUnP"
      },
      "source": [
        "### Part 3.3: Saving and Loading a Keras Neural Network"
      ]
    },
    {
      "cell_type": "markdown",
      "metadata": {
        "id": "bv8wBW9BVCF2"
      },
      "source": [
        "#### Save MPG model"
      ]
    },
    {
      "cell_type": "code",
      "metadata": {
        "id": "uPqlahqrV6Lg"
      },
      "source": [
        "save_path = '.'"
      ],
      "execution_count": 92,
      "outputs": []
    },
    {
      "cell_type": "code",
      "metadata": {
        "id": "9hKFpIZnUV_5"
      },
      "source": [
        "# Save neural network structureto JSON (no weight)\n",
        "model_json = model.to_json()\n",
        "with open(os.path.join(save_path, \"iris_netwrk.json\"), \"w\") as json_file:\n",
        "    json_file.write(model_json)"
      ],
      "execution_count": 98,
      "outputs": []
    },
    {
      "cell_type": "code",
      "metadata": {
        "id": "6ObWhXmTWUha"
      },
      "source": [
        "# save neural network structure to YAML (no weights)\n",
        "model_ymal = model.to_yaml()\n",
        "with open(os.path.join(save_path, 'iris_network.ymal'), \"w\") as ymal_file:\n",
        "    ymal_file.write(model_ymal)"
      ],
      "execution_count": 99,
      "outputs": []
    },
    {
      "cell_type": "code",
      "metadata": {
        "id": "YUMBOC_mXNJz"
      },
      "source": [
        "# save entire network to HDF5 (save everything, suggested)\n",
        "model.save(os.path.join(save_path, \"iris_network.h5\"))"
      ],
      "execution_count": 100,
      "outputs": []
    },
    {
      "cell_type": "markdown",
      "metadata": {
        "id": "6g4RKjjPXqR5"
      },
      "source": [
        "To load the saved model and run the prediction "
      ]
    },
    {
      "cell_type": "code",
      "metadata": {
        "id": "y0zjBrtzXuxp"
      },
      "source": [
        "from tensorflow.keras.models import load_model\n",
        "\n",
        "model2 = load_model(os.path.join(save_path, \"iris_network.h5\"))"
      ],
      "execution_count": 101,
      "outputs": []
    },
    {
      "cell_type": "code",
      "metadata": {
        "id": "5ogJdYucYMA7"
      },
      "source": [
        "pred = model2.predict(x)"
      ],
      "execution_count": 102,
      "outputs": []
    },
    {
      "cell_type": "code",
      "metadata": {
        "id": "yz_Twf_8YRJZ"
      },
      "source": [
        "# Measure the accuracy - Cross Entropy for "
      ],
      "execution_count": null,
      "outputs": []
    },
    {
      "cell_type": "code",
      "metadata": {
        "id": "nI17AZr2Z0se",
        "outputId": "f43416cd-dfac-4dc4-be75-27ad1c9fc340",
        "colab": {
          "base_uri": "https://localhost:8080/",
          "height": 34
        }
      },
      "source": [
        "predict_class = np.argmax(pred, axis=1)\n",
        "expected_class = np.argmax(y, axis =1)\n",
        "\n",
        "# find accuracy\n",
        "correct = metrics.accuracy_score(expected_class, predict_class)\n",
        "print(f\"Accuracy : {correct}\")"
      ],
      "execution_count": 104,
      "outputs": [
        {
          "output_type": "stream",
          "text": [
            "Accuracy : 0.98\n"
          ],
          "name": "stdout"
        }
      ]
    },
    {
      "cell_type": "markdown",
      "metadata": {
        "id": "_CUHWqDral7Q"
      },
      "source": [
        "### Part 3.4: Early Stopping in Keras to Prevent Overfitting"
      ]
    },
    {
      "cell_type": "markdown",
      "metadata": {
        "id": "mHLbF4JzcUk5"
      },
      "source": [
        "**Early Stopping with Classification**"
      ]
    },
    {
      "cell_type": "code",
      "metadata": {
        "id": "yI9pePnEcT54"
      },
      "source": [
        "from tensorflow.keras.callbacks import EarlyStopping\n",
        "from sklearn.model_selection import train_test_split"
      ],
      "execution_count": 106,
      "outputs": []
    },
    {
      "cell_type": "markdown",
      "metadata": {
        "id": "PIBU3JAjciSh"
      },
      "source": [
        "Using iris dataset to train & test split"
      ]
    },
    {
      "cell_type": "code",
      "metadata": {
        "id": "IzKBmbEtcm-y"
      },
      "source": [
        "# Split into validation and training sets\n",
        "x_train, x_test, y_train, y_test = train_test_split(\n",
        "        x, y, test_size = 0.25, random_state = 42 )"
      ],
      "execution_count": 109,
      "outputs": []
    },
    {
      "cell_type": "code",
      "metadata": {
        "id": "Nf4-QmjxdRMs"
      },
      "source": [
        "# Build neural network\n",
        "model = Sequential()\n",
        "model.add(Dense( 50, input_dim = x.shape[1], activation = 'relu' ) )   # Hidden\n",
        "model.add(Dense(25, activation='relu'))             # Hidden 2\n",
        "model.add(Dense(y.shape[1], activation='softmax'))  # output\n",
        "model.compile(loss = 'categorical_crossentropy', optimizer='adam')"
      ],
      "execution_count": 125,
      "outputs": []
    },
    {
      "cell_type": "markdown",
      "metadata": {
        "id": "_H9mWbOCeCHS"
      },
      "source": [
        "Early stopping "
      ]
    },
    {
      "cell_type": "code",
      "metadata": {
        "id": "gQLPE6qaeEEv"
      },
      "source": [
        "monitor = EarlyStopping( monitor= 'val_loss',  min_delta=1e-3, patience=5, \n",
        "                        verbose = 1, mode= 'auto', restore_best_weights = True) "
      ],
      "execution_count": 122,
      "outputs": []
    },
    {
      "cell_type": "code",
      "metadata": {
        "id": "Ok_ZtpdWfSil",
        "outputId": "966e0e53-d338-425c-e54f-58da13732143",
        "colab": {
          "base_uri": "https://localhost:8080/",
          "height": 1000
        }
      },
      "source": [
        "# Fit the model \n",
        "model.fit(x_train, y_train, validation_data=(x_test, y_test),\n",
        "          callbacks = [monitor], verbose = 2, epochs = 1000)"
      ],
      "execution_count": 127,
      "outputs": [
        {
          "output_type": "stream",
          "text": [
            "Epoch 1/1000\n",
            "4/4 - 0s - loss: 0.6339 - val_loss: 0.5824\n",
            "Epoch 2/1000\n",
            "4/4 - 0s - loss: 0.6069 - val_loss: 0.5531\n",
            "Epoch 3/1000\n",
            "4/4 - 0s - loss: 0.5830 - val_loss: 0.5308\n",
            "Epoch 4/1000\n",
            "4/4 - 0s - loss: 0.5636 - val_loss: 0.5124\n",
            "Epoch 5/1000\n",
            "4/4 - 0s - loss: 0.5466 - val_loss: 0.4960\n",
            "Epoch 6/1000\n",
            "4/4 - 0s - loss: 0.5305 - val_loss: 0.4804\n",
            "Epoch 7/1000\n",
            "4/4 - 0s - loss: 0.5156 - val_loss: 0.4668\n",
            "Epoch 8/1000\n",
            "4/4 - 0s - loss: 0.5021 - val_loss: 0.4534\n",
            "Epoch 9/1000\n",
            "4/4 - 0s - loss: 0.4881 - val_loss: 0.4416\n",
            "Epoch 10/1000\n",
            "4/4 - 0s - loss: 0.4770 - val_loss: 0.4317\n",
            "Epoch 11/1000\n",
            "4/4 - 0s - loss: 0.4673 - val_loss: 0.4209\n",
            "Epoch 12/1000\n",
            "4/4 - 0s - loss: 0.4552 - val_loss: 0.4083\n",
            "Epoch 13/1000\n",
            "4/4 - 0s - loss: 0.4448 - val_loss: 0.3972\n",
            "Epoch 14/1000\n",
            "4/4 - 0s - loss: 0.4341 - val_loss: 0.3872\n",
            "Epoch 15/1000\n",
            "4/4 - 0s - loss: 0.4243 - val_loss: 0.3780\n",
            "Epoch 16/1000\n",
            "4/4 - 0s - loss: 0.4154 - val_loss: 0.3678\n",
            "Epoch 17/1000\n",
            "4/4 - 0s - loss: 0.4062 - val_loss: 0.3588\n",
            "Epoch 18/1000\n",
            "4/4 - 0s - loss: 0.3985 - val_loss: 0.3505\n",
            "Epoch 19/1000\n",
            "4/4 - 0s - loss: 0.3884 - val_loss: 0.3420\n",
            "Epoch 20/1000\n",
            "4/4 - 0s - loss: 0.3813 - val_loss: 0.3341\n",
            "Epoch 21/1000\n",
            "4/4 - 0s - loss: 0.3740 - val_loss: 0.3266\n",
            "Epoch 22/1000\n",
            "4/4 - 0s - loss: 0.3663 - val_loss: 0.3198\n",
            "Epoch 23/1000\n",
            "4/4 - 0s - loss: 0.3589 - val_loss: 0.3132\n",
            "Epoch 24/1000\n",
            "4/4 - 0s - loss: 0.3527 - val_loss: 0.3062\n",
            "Epoch 25/1000\n",
            "4/4 - 0s - loss: 0.3457 - val_loss: 0.2999\n",
            "Epoch 26/1000\n",
            "4/4 - 0s - loss: 0.3375 - val_loss: 0.2943\n",
            "Epoch 27/1000\n",
            "4/4 - 0s - loss: 0.3317 - val_loss: 0.2873\n",
            "Epoch 28/1000\n",
            "4/4 - 0s - loss: 0.3243 - val_loss: 0.2807\n",
            "Epoch 29/1000\n",
            "4/4 - 0s - loss: 0.3184 - val_loss: 0.2743\n",
            "Epoch 30/1000\n",
            "4/4 - 0s - loss: 0.3117 - val_loss: 0.2692\n",
            "Epoch 31/1000\n",
            "4/4 - 0s - loss: 0.3050 - val_loss: 0.2630\n",
            "Epoch 32/1000\n",
            "4/4 - 0s - loss: 0.2983 - val_loss: 0.2572\n",
            "Epoch 33/1000\n",
            "4/4 - 0s - loss: 0.2949 - val_loss: 0.2521\n",
            "Epoch 34/1000\n",
            "4/4 - 0s - loss: 0.2846 - val_loss: 0.2447\n",
            "Epoch 35/1000\n",
            "4/4 - 0s - loss: 0.2825 - val_loss: 0.2395\n",
            "Epoch 36/1000\n",
            "4/4 - 0s - loss: 0.2768 - val_loss: 0.2337\n",
            "Epoch 37/1000\n",
            "4/4 - 0s - loss: 0.2678 - val_loss: 0.2301\n",
            "Epoch 38/1000\n",
            "4/4 - 0s - loss: 0.2639 - val_loss: 0.2266\n",
            "Epoch 39/1000\n",
            "4/4 - 0s - loss: 0.2579 - val_loss: 0.2187\n",
            "Epoch 40/1000\n",
            "4/4 - 0s - loss: 0.2533 - val_loss: 0.2132\n",
            "Epoch 41/1000\n",
            "4/4 - 0s - loss: 0.2468 - val_loss: 0.2090\n",
            "Epoch 42/1000\n",
            "4/4 - 0s - loss: 0.2409 - val_loss: 0.2066\n",
            "Epoch 43/1000\n",
            "4/4 - 0s - loss: 0.2368 - val_loss: 0.1995\n",
            "Epoch 44/1000\n",
            "4/4 - 0s - loss: 0.2322 - val_loss: 0.1940\n",
            "Epoch 45/1000\n",
            "4/4 - 0s - loss: 0.2272 - val_loss: 0.1908\n",
            "Epoch 46/1000\n",
            "4/4 - 0s - loss: 0.2225 - val_loss: 0.1871\n",
            "Epoch 47/1000\n",
            "4/4 - 0s - loss: 0.2178 - val_loss: 0.1817\n",
            "Epoch 48/1000\n",
            "4/4 - 0s - loss: 0.2133 - val_loss: 0.1784\n",
            "Epoch 49/1000\n",
            "4/4 - 0s - loss: 0.2093 - val_loss: 0.1768\n",
            "Epoch 50/1000\n",
            "4/4 - 0s - loss: 0.2056 - val_loss: 0.1708\n",
            "Epoch 51/1000\n",
            "4/4 - 0s - loss: 0.2002 - val_loss: 0.1660\n",
            "Epoch 52/1000\n",
            "4/4 - 0s - loss: 0.2026 - val_loss: 0.1625\n",
            "Epoch 53/1000\n",
            "4/4 - 0s - loss: 0.1982 - val_loss: 0.1630\n",
            "Epoch 54/1000\n",
            "4/4 - 0s - loss: 0.1919 - val_loss: 0.1566\n",
            "Epoch 55/1000\n",
            "4/4 - 0s - loss: 0.1866 - val_loss: 0.1530\n",
            "Epoch 56/1000\n",
            "4/4 - 0s - loss: 0.1863 - val_loss: 0.1531\n",
            "Epoch 57/1000\n",
            "4/4 - 0s - loss: 0.1798 - val_loss: 0.1468\n",
            "Epoch 58/1000\n",
            "4/4 - 0s - loss: 0.1781 - val_loss: 0.1442\n",
            "Epoch 59/1000\n",
            "4/4 - 0s - loss: 0.1738 - val_loss: 0.1430\n",
            "Epoch 60/1000\n",
            "4/4 - 0s - loss: 0.1721 - val_loss: 0.1441\n",
            "Epoch 61/1000\n",
            "4/4 - 0s - loss: 0.1688 - val_loss: 0.1369\n",
            "Epoch 62/1000\n",
            "4/4 - 0s - loss: 0.1670 - val_loss: 0.1334\n",
            "Epoch 63/1000\n",
            "4/4 - 0s - loss: 0.1653 - val_loss: 0.1339\n",
            "Epoch 64/1000\n",
            "4/4 - 0s - loss: 0.1635 - val_loss: 0.1333\n",
            "Epoch 65/1000\n",
            "4/4 - 0s - loss: 0.1576 - val_loss: 0.1273\n",
            "Epoch 66/1000\n",
            "4/4 - 0s - loss: 0.1555 - val_loss: 0.1245\n",
            "Epoch 67/1000\n",
            "4/4 - 0s - loss: 0.1546 - val_loss: 0.1222\n",
            "Epoch 68/1000\n",
            "4/4 - 0s - loss: 0.1537 - val_loss: 0.1211\n",
            "Epoch 69/1000\n",
            "4/4 - 0s - loss: 0.1478 - val_loss: 0.1241\n",
            "Epoch 70/1000\n",
            "4/4 - 0s - loss: 0.1505 - val_loss: 0.1286\n",
            "Epoch 71/1000\n",
            "4/4 - 0s - loss: 0.1460 - val_loss: 0.1160\n",
            "Epoch 72/1000\n",
            "4/4 - 0s - loss: 0.1439 - val_loss: 0.1130\n",
            "Epoch 73/1000\n",
            "4/4 - 0s - loss: 0.1445 - val_loss: 0.1118\n",
            "Epoch 74/1000\n",
            "4/4 - 0s - loss: 0.1382 - val_loss: 0.1154\n",
            "Epoch 75/1000\n",
            "4/4 - 0s - loss: 0.1390 - val_loss: 0.1177\n",
            "Epoch 76/1000\n",
            "4/4 - 0s - loss: 0.1371 - val_loss: 0.1093\n",
            "Epoch 77/1000\n",
            "4/4 - 0s - loss: 0.1354 - val_loss: 0.1043\n",
            "Epoch 78/1000\n",
            "4/4 - 0s - loss: 0.1347 - val_loss: 0.1046\n",
            "Epoch 79/1000\n",
            "4/4 - 0s - loss: 0.1358 - val_loss: 0.1138\n",
            "Epoch 80/1000\n",
            "4/4 - 0s - loss: 0.1337 - val_loss: 0.1017\n",
            "Epoch 81/1000\n",
            "4/4 - 0s - loss: 0.1315 - val_loss: 0.0994\n",
            "Epoch 82/1000\n",
            "4/4 - 0s - loss: 0.1320 - val_loss: 0.1066\n",
            "Epoch 83/1000\n",
            "4/4 - 0s - loss: 0.1263 - val_loss: 0.0986\n",
            "Epoch 84/1000\n",
            "4/4 - 0s - loss: 0.1245 - val_loss: 0.0958\n",
            "Epoch 85/1000\n",
            "4/4 - 0s - loss: 0.1229 - val_loss: 0.0967\n",
            "Epoch 86/1000\n",
            "4/4 - 0s - loss: 0.1250 - val_loss: 0.0998\n",
            "Epoch 87/1000\n",
            "4/4 - 0s - loss: 0.1203 - val_loss: 0.0924\n",
            "Epoch 88/1000\n",
            "4/4 - 0s - loss: 0.1201 - val_loss: 0.0909\n",
            "Epoch 89/1000\n",
            "4/4 - 0s - loss: 0.1212 - val_loss: 0.0940\n",
            "Epoch 90/1000\n",
            "4/4 - 0s - loss: 0.1208 - val_loss: 0.0897\n",
            "Epoch 91/1000\n",
            "4/4 - 0s - loss: 0.1152 - val_loss: 0.0936\n",
            "Epoch 92/1000\n",
            "4/4 - 0s - loss: 0.1198 - val_loss: 0.0947\n",
            "Epoch 93/1000\n",
            "4/4 - 0s - loss: 0.1146 - val_loss: 0.0852\n",
            "Epoch 94/1000\n",
            "4/4 - 0s - loss: 0.1166 - val_loss: 0.0843\n",
            "Epoch 95/1000\n",
            "4/4 - 0s - loss: 0.1126 - val_loss: 0.0864\n",
            "Epoch 96/1000\n",
            "4/4 - 0s - loss: 0.1096 - val_loss: 0.0931\n",
            "Epoch 97/1000\n",
            "4/4 - 0s - loss: 0.1151 - val_loss: 0.0992\n",
            "Epoch 98/1000\n",
            "Restoring model weights from the end of the best epoch.\n",
            "4/4 - 0s - loss: 0.1136 - val_loss: 0.0903\n",
            "Epoch 00098: early stopping\n"
          ],
          "name": "stdout"
        },
        {
          "output_type": "execute_result",
          "data": {
            "text/plain": [
              "<tensorflow.python.keras.callbacks.History at 0x7f4a7a1b5e80>"
            ]
          },
          "metadata": {
            "tags": []
          },
          "execution_count": 127
        }
      ]
    },
    {
      "cell_type": "code",
      "metadata": {
        "id": "FNIZGGotgKob",
        "outputId": "aa7b2d47-fe53-49e9-cc7f-1da2aed6b046",
        "colab": {
          "base_uri": "https://localhost:8080/",
          "height": 34
        }
      },
      "source": [
        "# Predict Accuracy \n",
        "pred = model.predict(x_test)\n",
        "predict_class = np.argmax(pred, axis = 1)\n",
        "expected_class = np.argmax(y_test, axis =1)\n",
        "correct = metrics.accuracy_score(expected_class, predict_class)\n",
        "print(f\"Accuracy : {correct}\")"
      ],
      "execution_count": 129,
      "outputs": [
        {
          "output_type": "stream",
          "text": [
            "Accuracy : 1.0\n"
          ],
          "name": "stdout"
        }
      ]
    },
    {
      "cell_type": "markdown",
      "metadata": {
        "id": "JaHvegKEob4c"
      },
      "source": [
        "**Early Stopping with Regression**"
      ]
    },
    {
      "cell_type": "code",
      "metadata": {
        "id": "5VRYIxnDoeHZ",
        "outputId": "5444af68-0d78-4cf2-f07f-5bb6f2f790af",
        "colab": {
          "base_uri": "https://localhost:8080/",
          "height": 199
        }
      },
      "source": [
        "df.head(2)"
      ],
      "execution_count": 131,
      "outputs": [
        {
          "output_type": "execute_result",
          "data": {
            "text/html": [
              "<div>\n",
              "<style scoped>\n",
              "    .dataframe tbody tr th:only-of-type {\n",
              "        vertical-align: middle;\n",
              "    }\n",
              "\n",
              "    .dataframe tbody tr th {\n",
              "        vertical-align: top;\n",
              "    }\n",
              "\n",
              "    .dataframe thead th {\n",
              "        text-align: right;\n",
              "    }\n",
              "</style>\n",
              "<table border=\"1\" class=\"dataframe\">\n",
              "  <thead>\n",
              "    <tr style=\"text-align: right;\">\n",
              "      <th></th>\n",
              "      <th>mpg</th>\n",
              "      <th>cylinders</th>\n",
              "      <th>displacement</th>\n",
              "      <th>horsepower</th>\n",
              "      <th>weight</th>\n",
              "      <th>acceleration</th>\n",
              "      <th>year</th>\n",
              "      <th>origin</th>\n",
              "      <th>name</th>\n",
              "    </tr>\n",
              "  </thead>\n",
              "  <tbody>\n",
              "    <tr>\n",
              "      <th>0</th>\n",
              "      <td>18.0</td>\n",
              "      <td>8</td>\n",
              "      <td>307.0</td>\n",
              "      <td>130.0</td>\n",
              "      <td>3504</td>\n",
              "      <td>12.0</td>\n",
              "      <td>70</td>\n",
              "      <td>1</td>\n",
              "      <td>chevrolet chevelle malibu</td>\n",
              "    </tr>\n",
              "    <tr>\n",
              "      <th>1</th>\n",
              "      <td>15.0</td>\n",
              "      <td>8</td>\n",
              "      <td>350.0</td>\n",
              "      <td>165.0</td>\n",
              "      <td>3693</td>\n",
              "      <td>11.5</td>\n",
              "      <td>70</td>\n",
              "      <td>1</td>\n",
              "      <td>buick skylark 320</td>\n",
              "    </tr>\n",
              "  </tbody>\n",
              "</table>\n",
              "</div>"
            ],
            "text/plain": [
              "    mpg  cylinders  displacement  ...  year  origin                       name\n",
              "0  18.0          8         307.0  ...    70       1  chevrolet chevelle malibu\n",
              "1  15.0          8         350.0  ...    70       1          buick skylark 320\n",
              "\n",
              "[2 rows x 9 columns]"
            ]
          },
          "metadata": {
            "tags": []
          },
          "execution_count": 131
        }
      ]
    },
    {
      "cell_type": "code",
      "metadata": {
        "id": "cAX9m1BdpLU8"
      },
      "source": [
        "cars = df['name']"
      ],
      "execution_count": 132,
      "outputs": []
    },
    {
      "cell_type": "code",
      "metadata": {
        "id": "NmnKXw-ppRXV",
        "outputId": "86fa0896-55fe-429b-890d-84ed1d137afe",
        "colab": {
          "base_uri": "https://localhost:8080/",
          "height": 51
        }
      },
      "source": [
        "df.columns.values"
      ],
      "execution_count": 133,
      "outputs": [
        {
          "output_type": "execute_result",
          "data": {
            "text/plain": [
              "array(['mpg', 'cylinders', 'displacement', 'horsepower', 'weight',\n",
              "       'acceleration', 'year', 'origin', 'name'], dtype=object)"
            ]
          },
          "metadata": {
            "tags": []
          },
          "execution_count": 133
        }
      ]
    },
    {
      "cell_type": "code",
      "metadata": {
        "id": "NmwUlhGVpUkd"
      },
      "source": [
        "x = df[['cylinders', 'displacement', 'horsepower', 'weight',\n",
        "       'acceleration', 'year', 'origin']]\n",
        "y = df['mpg']"
      ],
      "execution_count": 136,
      "outputs": []
    },
    {
      "cell_type": "code",
      "metadata": {
        "id": "54YhpOhKprQ_"
      },
      "source": [
        "# split test and train \n",
        "x_train_mpg, x_test_mpg, y_train_mpg, y_test_mpg = train_test_split(\n",
        "    x, y, test_size = 0.25, random_state = 42 )\n"
      ],
      "execution_count": 137,
      "outputs": []
    },
    {
      "cell_type": "code",
      "metadata": {
        "id": "Z4PB0xO-qDs7"
      },
      "source": [
        "# Build Neural Network \n",
        "\n",
        "model = Sequential()\n",
        "model.add(Dense(25, input_dim = x.shape[1], activation='relu'))  # Hidden 1\n",
        "model.add(Dense(10, activation='relu'))     # Hidden 2\n",
        "model.add(Dense(1))         # output\n",
        "model.compile(loss = 'mean_squared_error', optimizer='adam')"
      ],
      "execution_count": 148,
      "outputs": []
    },
    {
      "cell_type": "code",
      "metadata": {
        "id": "n01J7JTQwe0G"
      },
      "source": [
        "# Early stopping\n",
        "\n",
        "monitor = EarlyStopping(monitor = 'val_loss', min_delta= 1e-3,  \n",
        "                        patience = 5, verbose = 1, mode = 'auto',\n",
        "                        restore_best_weights = True)"
      ],
      "execution_count": 149,
      "outputs": []
    },
    {
      "cell_type": "code",
      "metadata": {
        "id": "Ms_BoCX0w_k8",
        "outputId": "32cd5987-45f9-4a0f-80eb-4326643bc6df",
        "colab": {
          "base_uri": "https://localhost:8080/",
          "height": 68
        }
      },
      "source": [
        "# fit the model \n",
        "model.fit(x_train_mpg, y_train_mpg, validation_data=(x_test_mpg, y_test_mpg),\n",
        "          callbacks  = [monitor], verbose =  0, epochs = 1000)"
      ],
      "execution_count": 150,
      "outputs": [
        {
          "output_type": "stream",
          "text": [
            "Restoring model weights from the end of the best epoch.\n",
            "Epoch 00122: early stopping\n"
          ],
          "name": "stdout"
        },
        {
          "output_type": "execute_result",
          "data": {
            "text/plain": [
              "<tensorflow.python.keras.callbacks.History at 0x7f4a78010d68>"
            ]
          },
          "metadata": {
            "tags": []
          },
          "execution_count": 150
        }
      ]
    },
    {
      "cell_type": "code",
      "metadata": {
        "id": "Pya9OKYgydIR",
        "outputId": "8a63293f-0046-43d3-95a2-2125f45b434f",
        "colab": {
          "base_uri": "https://localhost:8080/",
          "height": 34
        }
      },
      "source": [
        "# Evaluate the error\n",
        "pred = model.predict(x_test_mpg)\n",
        "score = np.sqrt(metrics.mean_squared_error(pred, y_test_mpg))\n",
        "print(f\"Final Score (RMSE) : {score}\")"
      ],
      "execution_count": 151,
      "outputs": [
        {
          "output_type": "stream",
          "text": [
            "Final Score (RMSE) : 6.237766436141136\n"
          ],
          "name": "stdout"
        }
      ]
    },
    {
      "cell_type": "markdown",
      "metadata": {
        "id": "ubFIBqop3V0J"
      },
      "source": [
        "### Manual Neural Network Calculation"
      ]
    },
    {
      "cell_type": "code",
      "metadata": {
        "id": "FgmziWyH3ZvY"
      },
      "source": [
        "# Create a dataset for the XOR function\n",
        "x = np.array([\n",
        "              [0, 0],\n",
        "              [1, 0],\n",
        "              [0, 1],\n",
        "              [1, 1]\n",
        "])\n",
        "\n",
        "y = np.array([\n",
        "              0,\n",
        "              1,\n",
        "              1,\n",
        "              0\n",
        "])"
      ],
      "execution_count": 161,
      "outputs": []
    },
    {
      "cell_type": "code",
      "metadata": {
        "id": "ylcryvAs4HQa",
        "outputId": "1ae596fa-307a-4501-822b-fa879649be21",
        "colab": {
          "base_uri": "https://localhost:8080/",
          "height": 85
        }
      },
      "source": [
        "print(x, y)"
      ],
      "execution_count": 162,
      "outputs": [
        {
          "output_type": "stream",
          "text": [
            "[[0 0]\n",
            " [1 0]\n",
            " [0 1]\n",
            " [1 1]] [0 1 1 0]\n"
          ],
          "name": "stdout"
        }
      ]
    },
    {
      "cell_type": "code",
      "metadata": {
        "id": "yzaTsTz74Syn",
        "outputId": "1d70ef4a-a640-4554-ee26-a05c961b5a12",
        "colab": {
          "base_uri": "https://localhost:8080/",
          "height": 445
        }
      },
      "source": [
        "# Build the network\n",
        "# sgd = optimizers.SGD(lr=0.01, decay=1e-6, momentum=0.9, nesterov=True)\n",
        "\n",
        "done = False\n",
        "cycle = 1\n",
        "\n",
        "while not done:\n",
        "    print(\"Cyle # {}\".format(cycle))\n",
        "    cycle +=1\n",
        "    model = Sequential()\n",
        "    model.add(Dense(2, input_dim = 2, activation='relu'))\n",
        "    model.add(Dense(1))\n",
        "    model.compile(loss = 'mean_squared_error', optimizer='adam')\n",
        "    model.fit(x,y, verbose = 0, epochs=1000)\n",
        "\n",
        "    # predict \n",
        "    pred = model.predict(x)\n",
        "\n",
        "    # check if sucessful\n",
        "# done = pred[0]<0.01 and pred[3] <0.01 and pred[1] > 0.9 and pred[2] > 0.9\n",
        "    done = pred[0]<0.01 and pred[3]<0.01 and pred[1] > 0.9 \\\n",
        "        and pred[2] > 0.9 \n",
        "    print(pred)"
      ],
      "execution_count": 164,
      "outputs": [
        {
          "output_type": "stream",
          "text": [
            "Cyle # 1\n",
            "WARNING:tensorflow:11 out of the last 11 calls to <function Model.make_predict_function.<locals>.predict_function at 0x7f4a65710b70> triggered tf.function retracing. Tracing is expensive and the excessive number of tracings could be due to (1) creating @tf.function repeatedly in a loop, (2) passing tensors with different shapes, (3) passing Python objects instead of tensors. For (1), please define your @tf.function outside of the loop. For (2), @tf.function has experimental_relax_shapes=True option that relaxes argument shapes that can avoid unnecessary retracing. For (3), please refer to https://www.tensorflow.org/tutorials/customization/performance#python_or_tensor_args and https://www.tensorflow.org/api_docs/python/tf/function for  more details.\n",
            "[[0.5252784 ]\n",
            " [0.5252469 ]\n",
            " [0.5252784 ]\n",
            " [0.24206212]]\n",
            "Cyle # 2\n",
            "WARNING:tensorflow:11 out of the last 11 calls to <function Model.make_predict_function.<locals>.predict_function at 0x7f4a65614620> triggered tf.function retracing. Tracing is expensive and the excessive number of tracings could be due to (1) creating @tf.function repeatedly in a loop, (2) passing tensors with different shapes, (3) passing Python objects instead of tensors. For (1), please define your @tf.function outside of the loop. For (2), @tf.function has experimental_relax_shapes=True option that relaxes argument shapes that can avoid unnecessary retracing. For (3), please refer to https://www.tensorflow.org/tutorials/customization/performance#python_or_tensor_args and https://www.tensorflow.org/api_docs/python/tf/function for  more details.\n",
            "[[0.43732506]\n",
            " [0.5045229 ]\n",
            " [0.47092167]\n",
            " [0.5381195 ]]\n",
            "Cyle # 3\n",
            "WARNING:tensorflow:11 out of the last 11 calls to <function Model.make_predict_function.<locals>.predict_function at 0x7f4a689807b8> triggered tf.function retracing. Tracing is expensive and the excessive number of tracings could be due to (1) creating @tf.function repeatedly in a loop, (2) passing tensors with different shapes, (3) passing Python objects instead of tensors. For (1), please define your @tf.function outside of the loop. For (2), @tf.function has experimental_relax_shapes=True option that relaxes argument shapes that can avoid unnecessary retracing. For (3), please refer to https://www.tensorflow.org/tutorials/customization/performance#python_or_tensor_args and https://www.tensorflow.org/api_docs/python/tf/function for  more details.\n",
            "[[0.48646683]\n",
            " [0.48646683]\n",
            " [0.48646683]\n",
            " [0.48646683]]\n",
            "Cyle # 4\n",
            "WARNING:tensorflow:11 out of the last 11 calls to <function Model.make_predict_function.<locals>.predict_function at 0x7f4a7ab07950> triggered tf.function retracing. Tracing is expensive and the excessive number of tracings could be due to (1) creating @tf.function repeatedly in a loop, (2) passing tensors with different shapes, (3) passing Python objects instead of tensors. For (1), please define your @tf.function outside of the loop. For (2), @tf.function has experimental_relax_shapes=True option that relaxes argument shapes that can avoid unnecessary retracing. For (3), please refer to https://www.tensorflow.org/tutorials/customization/performance#python_or_tensor_args and https://www.tensorflow.org/api_docs/python/tf/function for  more details.\n",
            "[[0.00810108]\n",
            " [0.99229985]\n",
            " [0.99831873]\n",
            " [0.00814819]]\n"
          ],
          "name": "stdout"
        }
      ]
    }
  ]
}