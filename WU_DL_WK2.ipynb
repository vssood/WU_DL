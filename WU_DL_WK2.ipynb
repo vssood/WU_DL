{
  "nbformat": 4,
  "nbformat_minor": 0,
  "metadata": {
    "colab": {
      "name": "WU_DL_WK2.ipynb",
      "provenance": [],
      "authorship_tag": "ABX9TyO9U6Q3g6vEnQ6qHdVm7mkg",
      "include_colab_link": true
    },
    "kernelspec": {
      "name": "python3",
      "display_name": "Python 3"
    }
  },
  "cells": [
    {
      "cell_type": "markdown",
      "metadata": {
        "id": "view-in-github",
        "colab_type": "text"
      },
      "source": [
        "<a href=\"https://colab.research.google.com/github/vssood/WU_DL/blob/master/WU_DL_WK2.ipynb\" target=\"_parent\"><img src=\"https://colab.research.google.com/assets/colab-badge.svg\" alt=\"Open In Colab\"/></a>"
      ]
    },
    {
      "cell_type": "code",
      "metadata": {
        "id": "tLHKsdjgV3RE"
      },
      "source": [
        "import pandas as pd\n",
        "import os\n",
        "import numpy as np\n"
      ],
      "execution_count": null,
      "outputs": []
    },
    {
      "cell_type": "markdown",
      "metadata": {
        "id": "7oMQid73pyNC"
      },
      "source": [
        "## Introduction to Pandas"
      ]
    },
    {
      "cell_type": "code",
      "metadata": {
        "id": "sR8lb9o_V-IO"
      },
      "source": [
        "csv_file = \"https://data.heatonresearch.com/data/t81-558/auto-mpg.csv\""
      ],
      "execution_count": null,
      "outputs": []
    },
    {
      "cell_type": "code",
      "metadata": {
        "id": "7PA_ZoRDWKIV"
      },
      "source": [
        "df = pd.read_csv(csv_file, na_values=['NA', '?'])"
      ],
      "execution_count": null,
      "outputs": []
    },
    {
      "cell_type": "code",
      "metadata": {
        "id": "BYbTHi_tWP78",
        "outputId": "25febf8a-bd55-4674-c9e0-bb7babbb8e89",
        "colab": {
          "base_uri": "https://localhost:8080/",
          "height": 343
        }
      },
      "source": [
        "df.head()"
      ],
      "execution_count": null,
      "outputs": [
        {
          "output_type": "execute_result",
          "data": {
            "text/html": [
              "<div>\n",
              "<style scoped>\n",
              "    .dataframe tbody tr th:only-of-type {\n",
              "        vertical-align: middle;\n",
              "    }\n",
              "\n",
              "    .dataframe tbody tr th {\n",
              "        vertical-align: top;\n",
              "    }\n",
              "\n",
              "    .dataframe thead th {\n",
              "        text-align: right;\n",
              "    }\n",
              "</style>\n",
              "<table border=\"1\" class=\"dataframe\">\n",
              "  <thead>\n",
              "    <tr style=\"text-align: right;\">\n",
              "      <th></th>\n",
              "      <th>mpg</th>\n",
              "      <th>cylinders</th>\n",
              "      <th>displacement</th>\n",
              "      <th>horsepower</th>\n",
              "      <th>weight</th>\n",
              "      <th>acceleration</th>\n",
              "      <th>year</th>\n",
              "      <th>origin</th>\n",
              "      <th>name</th>\n",
              "    </tr>\n",
              "  </thead>\n",
              "  <tbody>\n",
              "    <tr>\n",
              "      <th>0</th>\n",
              "      <td>18.0</td>\n",
              "      <td>8</td>\n",
              "      <td>307.0</td>\n",
              "      <td>130.0</td>\n",
              "      <td>3504</td>\n",
              "      <td>12.0</td>\n",
              "      <td>70</td>\n",
              "      <td>1</td>\n",
              "      <td>chevrolet chevelle malibu</td>\n",
              "    </tr>\n",
              "    <tr>\n",
              "      <th>1</th>\n",
              "      <td>15.0</td>\n",
              "      <td>8</td>\n",
              "      <td>350.0</td>\n",
              "      <td>165.0</td>\n",
              "      <td>3693</td>\n",
              "      <td>11.5</td>\n",
              "      <td>70</td>\n",
              "      <td>1</td>\n",
              "      <td>buick skylark 320</td>\n",
              "    </tr>\n",
              "    <tr>\n",
              "      <th>2</th>\n",
              "      <td>18.0</td>\n",
              "      <td>8</td>\n",
              "      <td>318.0</td>\n",
              "      <td>150.0</td>\n",
              "      <td>3436</td>\n",
              "      <td>11.0</td>\n",
              "      <td>70</td>\n",
              "      <td>1</td>\n",
              "      <td>plymouth satellite</td>\n",
              "    </tr>\n",
              "    <tr>\n",
              "      <th>3</th>\n",
              "      <td>16.0</td>\n",
              "      <td>8</td>\n",
              "      <td>304.0</td>\n",
              "      <td>150.0</td>\n",
              "      <td>3433</td>\n",
              "      <td>12.0</td>\n",
              "      <td>70</td>\n",
              "      <td>1</td>\n",
              "      <td>amc rebel sst</td>\n",
              "    </tr>\n",
              "    <tr>\n",
              "      <th>4</th>\n",
              "      <td>17.0</td>\n",
              "      <td>8</td>\n",
              "      <td>302.0</td>\n",
              "      <td>140.0</td>\n",
              "      <td>3449</td>\n",
              "      <td>10.5</td>\n",
              "      <td>70</td>\n",
              "      <td>1</td>\n",
              "      <td>ford torino</td>\n",
              "    </tr>\n",
              "  </tbody>\n",
              "</table>\n",
              "</div>"
            ],
            "text/plain": [
              "    mpg  cylinders  displacement  ...  year  origin                       name\n",
              "0  18.0          8         307.0  ...    70       1  chevrolet chevelle malibu\n",
              "1  15.0          8         350.0  ...    70       1          buick skylark 320\n",
              "2  18.0          8         318.0  ...    70       1         plymouth satellite\n",
              "3  16.0          8         304.0  ...    70       1              amc rebel sst\n",
              "4  17.0          8         302.0  ...    70       1                ford torino\n",
              "\n",
              "[5 rows x 9 columns]"
            ]
          },
          "metadata": {
            "tags": []
          },
          "execution_count": 9
        }
      ]
    },
    {
      "cell_type": "markdown",
      "metadata": {
        "id": "b9vPOUxRWki7"
      },
      "source": [
        "The display function provides a cleaner display than merely printing the data frame. Specifying the maximum rows and columns allows you to achieve greater control over the display."
      ]
    },
    {
      "cell_type": "code",
      "metadata": {
        "id": "zhmCks9ZWbcr",
        "outputId": "a552caa1-ad66-41c7-c17c-a225dee55d29",
        "colab": {
          "base_uri": "https://localhost:8080/",
          "height": 233
        }
      },
      "source": [
        "pd.set_option('display.max_columns', 7)\n",
        "pd.set_option('display.max_rows', 5)\n",
        "display(df)"
      ],
      "execution_count": null,
      "outputs": [
        {
          "output_type": "display_data",
          "data": {
            "text/html": [
              "<div>\n",
              "<style scoped>\n",
              "    .dataframe tbody tr th:only-of-type {\n",
              "        vertical-align: middle;\n",
              "    }\n",
              "\n",
              "    .dataframe tbody tr th {\n",
              "        vertical-align: top;\n",
              "    }\n",
              "\n",
              "    .dataframe thead th {\n",
              "        text-align: right;\n",
              "    }\n",
              "</style>\n",
              "<table border=\"1\" class=\"dataframe\">\n",
              "  <thead>\n",
              "    <tr style=\"text-align: right;\">\n",
              "      <th></th>\n",
              "      <th>mpg</th>\n",
              "      <th>cylinders</th>\n",
              "      <th>displacement</th>\n",
              "      <th>...</th>\n",
              "      <th>year</th>\n",
              "      <th>origin</th>\n",
              "      <th>name</th>\n",
              "    </tr>\n",
              "  </thead>\n",
              "  <tbody>\n",
              "    <tr>\n",
              "      <th>0</th>\n",
              "      <td>18.0</td>\n",
              "      <td>8</td>\n",
              "      <td>307.0</td>\n",
              "      <td>...</td>\n",
              "      <td>70</td>\n",
              "      <td>1</td>\n",
              "      <td>chevrolet chevelle malibu</td>\n",
              "    </tr>\n",
              "    <tr>\n",
              "      <th>1</th>\n",
              "      <td>15.0</td>\n",
              "      <td>8</td>\n",
              "      <td>350.0</td>\n",
              "      <td>...</td>\n",
              "      <td>70</td>\n",
              "      <td>1</td>\n",
              "      <td>buick skylark 320</td>\n",
              "    </tr>\n",
              "    <tr>\n",
              "      <th>...</th>\n",
              "      <td>...</td>\n",
              "      <td>...</td>\n",
              "      <td>...</td>\n",
              "      <td>...</td>\n",
              "      <td>...</td>\n",
              "      <td>...</td>\n",
              "      <td>...</td>\n",
              "    </tr>\n",
              "    <tr>\n",
              "      <th>396</th>\n",
              "      <td>28.0</td>\n",
              "      <td>4</td>\n",
              "      <td>120.0</td>\n",
              "      <td>...</td>\n",
              "      <td>82</td>\n",
              "      <td>1</td>\n",
              "      <td>ford ranger</td>\n",
              "    </tr>\n",
              "    <tr>\n",
              "      <th>397</th>\n",
              "      <td>31.0</td>\n",
              "      <td>4</td>\n",
              "      <td>119.0</td>\n",
              "      <td>...</td>\n",
              "      <td>82</td>\n",
              "      <td>1</td>\n",
              "      <td>chevy s-10</td>\n",
              "    </tr>\n",
              "  </tbody>\n",
              "</table>\n",
              "<p>398 rows × 9 columns</p>\n",
              "</div>"
            ],
            "text/plain": [
              "      mpg  cylinders  displacement  ...  year  origin  \\\n",
              "0    18.0          8         307.0  ...    70       1   \n",
              "1    15.0          8         350.0  ...    70       1   \n",
              "..    ...        ...           ...  ...   ...     ...   \n",
              "396  28.0          4         120.0  ...    82       1   \n",
              "397  31.0          4         119.0  ...    82       1   \n",
              "\n",
              "                          name  \n",
              "0    chevrolet chevelle malibu  \n",
              "1            buick skylark 320  \n",
              "..                         ...  \n",
              "396                ford ranger  \n",
              "397                 chevy s-10  \n",
              "\n",
              "[398 rows x 9 columns]"
            ]
          },
          "metadata": {
            "tags": []
          }
        }
      ]
    },
    {
      "cell_type": "markdown",
      "metadata": {
        "id": "vTnTQdm5cLTM"
      },
      "source": [
        "\n",
        "It is possible to generate a second data frame to display statistical information about the first data frame."
      ]
    },
    {
      "cell_type": "code",
      "metadata": {
        "id": "qlN4KC3yZtax"
      },
      "source": [
        "df1 = df.select_dtypes(include=['int', 'float'])\n",
        "headers = list(df1.columns.values)\n",
        "\n",
        "fields = []\n",
        "\n",
        "for field in headers:\n",
        "    fields.append({\n",
        "        'name' : field,\n",
        "        'mean' : df1[field].mean(),\n",
        "        'Var'  : df1[field].var(),\n",
        "        'std. Dev': df1[field].std()\n",
        "    })"
      ],
      "execution_count": null,
      "outputs": []
    },
    {
      "cell_type": "code",
      "metadata": {
        "id": "Jf1XPqBJbuMP",
        "outputId": "4c46dd62-ae52-4a03-d15e-b45d6888ff98",
        "colab": {
          "base_uri": "https://localhost:8080/",
          "height": 173
        }
      },
      "source": [
        "for field in fields :\n",
        "    print(field)"
      ],
      "execution_count": null,
      "outputs": [
        {
          "output_type": "stream",
          "text": [
            "{'name': 'mpg', 'mean': 23.514572864321615, 'Var': 61.089610774274405, 'std. Dev': 7.815984312565782}\n",
            "{'name': 'cylinders', 'mean': 5.454773869346734, 'Var': 2.8934154399199943, 'std. Dev': 1.7010042445332094}\n",
            "{'name': 'displacement', 'mean': 193.42587939698493, 'Var': 10872.199152247364, 'std. Dev': 104.26983817119581}\n",
            "{'name': 'horsepower', 'mean': 104.46938775510205, 'Var': 1481.5693929745862, 'std. Dev': 38.49115993282855}\n",
            "{'name': 'weight', 'mean': 2970.424623115578, 'Var': 717140.9905256768, 'std. Dev': 846.8417741973271}\n",
            "{'name': 'acceleration', 'mean': 15.568090452261291, 'Var': 7.604848233611381, 'std. Dev': 2.7576889298126757}\n",
            "{'name': 'year', 'mean': 76.01005025125629, 'Var': 13.672442818627143, 'std. Dev': 3.697626646732623}\n",
            "{'name': 'origin', 'mean': 1.5728643216080402, 'Var': 0.6432920268850575, 'std. Dev': 0.8020548777266163}\n"
          ],
          "name": "stdout"
        }
      ]
    },
    {
      "cell_type": "code",
      "metadata": {
        "id": "XYh5Itrfd9c6",
        "outputId": "714ac4d1-fd00-465d-de9c-93429953c954",
        "colab": {
          "base_uri": "https://localhost:8080/",
          "height": 297
        }
      },
      "source": [
        "pd.set_option( 'display.max_columns',  0)\n",
        "pd.set_option('display.max_rows', 0)\n",
        "df2 = pd.DataFrame(fields)\n",
        "display(df2)"
      ],
      "execution_count": null,
      "outputs": [
        {
          "output_type": "display_data",
          "data": {
            "text/html": [
              "<div>\n",
              "<style scoped>\n",
              "    .dataframe tbody tr th:only-of-type {\n",
              "        vertical-align: middle;\n",
              "    }\n",
              "\n",
              "    .dataframe tbody tr th {\n",
              "        vertical-align: top;\n",
              "    }\n",
              "\n",
              "    .dataframe thead th {\n",
              "        text-align: right;\n",
              "    }\n",
              "</style>\n",
              "<table border=\"1\" class=\"dataframe\">\n",
              "  <thead>\n",
              "    <tr style=\"text-align: right;\">\n",
              "      <th></th>\n",
              "      <th>name</th>\n",
              "      <th>mean</th>\n",
              "      <th>Var</th>\n",
              "      <th>std. Dev</th>\n",
              "    </tr>\n",
              "  </thead>\n",
              "  <tbody>\n",
              "    <tr>\n",
              "      <th>0</th>\n",
              "      <td>mpg</td>\n",
              "      <td>23.514573</td>\n",
              "      <td>61.089611</td>\n",
              "      <td>7.815984</td>\n",
              "    </tr>\n",
              "    <tr>\n",
              "      <th>1</th>\n",
              "      <td>cylinders</td>\n",
              "      <td>5.454774</td>\n",
              "      <td>2.893415</td>\n",
              "      <td>1.701004</td>\n",
              "    </tr>\n",
              "    <tr>\n",
              "      <th>2</th>\n",
              "      <td>displacement</td>\n",
              "      <td>193.425879</td>\n",
              "      <td>10872.199152</td>\n",
              "      <td>104.269838</td>\n",
              "    </tr>\n",
              "    <tr>\n",
              "      <th>3</th>\n",
              "      <td>horsepower</td>\n",
              "      <td>104.469388</td>\n",
              "      <td>1481.569393</td>\n",
              "      <td>38.491160</td>\n",
              "    </tr>\n",
              "    <tr>\n",
              "      <th>4</th>\n",
              "      <td>weight</td>\n",
              "      <td>2970.424623</td>\n",
              "      <td>717140.990526</td>\n",
              "      <td>846.841774</td>\n",
              "    </tr>\n",
              "    <tr>\n",
              "      <th>5</th>\n",
              "      <td>acceleration</td>\n",
              "      <td>15.568090</td>\n",
              "      <td>7.604848</td>\n",
              "      <td>2.757689</td>\n",
              "    </tr>\n",
              "    <tr>\n",
              "      <th>6</th>\n",
              "      <td>year</td>\n",
              "      <td>76.010050</td>\n",
              "      <td>13.672443</td>\n",
              "      <td>3.697627</td>\n",
              "    </tr>\n",
              "    <tr>\n",
              "      <th>7</th>\n",
              "      <td>origin</td>\n",
              "      <td>1.572864</td>\n",
              "      <td>0.643292</td>\n",
              "      <td>0.802055</td>\n",
              "    </tr>\n",
              "  </tbody>\n",
              "</table>\n",
              "</div>"
            ],
            "text/plain": [
              "           name         mean            Var    std. Dev\n",
              "0           mpg    23.514573      61.089611    7.815984\n",
              "1     cylinders     5.454774       2.893415    1.701004\n",
              "2  displacement   193.425879   10872.199152  104.269838\n",
              "3    horsepower   104.469388    1481.569393   38.491160\n",
              "4        weight  2970.424623  717140.990526  846.841774\n",
              "5  acceleration    15.568090       7.604848    2.757689\n",
              "6          year    76.010050      13.672443    3.697627\n",
              "7        origin     1.572864       0.643292    0.802055"
            ]
          },
          "metadata": {
            "tags": []
          }
        }
      ]
    },
    {
      "cell_type": "markdown",
      "metadata": {
        "id": "wh2bObaVhCIe"
      },
      "source": [
        "### Missing Values"
      ]
    },
    {
      "cell_type": "code",
      "metadata": {
        "id": "W77q-QO_1Sfx",
        "outputId": "3556f9fd-044f-4990-8864-138fdf81f256",
        "colab": {
          "base_uri": "https://localhost:8080/",
          "height": 34
        }
      },
      "source": [
        "df.shape"
      ],
      "execution_count": null,
      "outputs": [
        {
          "output_type": "execute_result",
          "data": {
            "text/plain": [
              "(398, 9)"
            ]
          },
          "metadata": {
            "tags": []
          },
          "execution_count": 14
        }
      ]
    },
    {
      "cell_type": "code",
      "metadata": {
        "id": "VPFPoiM92NSM",
        "outputId": "9950f8e1-8159-4c95-9166-cb9e96150950",
        "colab": {
          "base_uri": "https://localhost:8080/",
          "height": 68
        }
      },
      "source": [
        "df.columns"
      ],
      "execution_count": null,
      "outputs": [
        {
          "output_type": "execute_result",
          "data": {
            "text/plain": [
              "Index(['mpg', 'cylinders', 'displacement', 'horsepower', 'weight',\n",
              "       'acceleration', 'year', 'origin', 'name'],\n",
              "      dtype='object')"
            ]
          },
          "metadata": {
            "tags": []
          },
          "execution_count": 15
        }
      ]
    },
    {
      "cell_type": "code",
      "metadata": {
        "id": "NxrVlwqv1Lah"
      },
      "source": [
        "df_ = df.loc[:, df.columns != 'name']\n"
      ],
      "execution_count": null,
      "outputs": []
    },
    {
      "cell_type": "code",
      "metadata": {
        "id": "z9rVG3pv1DLs",
        "outputId": "e6ddb5a2-ca65-4fc5-d1aa-3fa9641c2288",
        "colab": {
          "base_uri": "https://localhost:8080/",
          "height": 687
        }
      },
      "source": [
        "df_[df_.applymap(np.isreal).all(1)]"
      ],
      "execution_count": null,
      "outputs": [
        {
          "output_type": "execute_result",
          "data": {
            "text/html": [
              "<div>\n",
              "<style scoped>\n",
              "    .dataframe tbody tr th:only-of-type {\n",
              "        vertical-align: middle;\n",
              "    }\n",
              "\n",
              "    .dataframe tbody tr th {\n",
              "        vertical-align: top;\n",
              "    }\n",
              "\n",
              "    .dataframe thead th {\n",
              "        text-align: right;\n",
              "    }\n",
              "</style>\n",
              "<table border=\"1\" class=\"dataframe\">\n",
              "  <thead>\n",
              "    <tr style=\"text-align: right;\">\n",
              "      <th></th>\n",
              "      <th>mpg</th>\n",
              "      <th>cylinders</th>\n",
              "      <th>displacement</th>\n",
              "      <th>horsepower</th>\n",
              "      <th>weight</th>\n",
              "      <th>acceleration</th>\n",
              "      <th>year</th>\n",
              "      <th>origin</th>\n",
              "    </tr>\n",
              "  </thead>\n",
              "  <tbody>\n",
              "    <tr>\n",
              "      <th>0</th>\n",
              "      <td>18.0</td>\n",
              "      <td>8</td>\n",
              "      <td>307.0</td>\n",
              "      <td>130.0</td>\n",
              "      <td>3504</td>\n",
              "      <td>12.0</td>\n",
              "      <td>70</td>\n",
              "      <td>1</td>\n",
              "    </tr>\n",
              "    <tr>\n",
              "      <th>1</th>\n",
              "      <td>15.0</td>\n",
              "      <td>8</td>\n",
              "      <td>350.0</td>\n",
              "      <td>165.0</td>\n",
              "      <td>3693</td>\n",
              "      <td>11.5</td>\n",
              "      <td>70</td>\n",
              "      <td>1</td>\n",
              "    </tr>\n",
              "    <tr>\n",
              "      <th>2</th>\n",
              "      <td>18.0</td>\n",
              "      <td>8</td>\n",
              "      <td>318.0</td>\n",
              "      <td>150.0</td>\n",
              "      <td>3436</td>\n",
              "      <td>11.0</td>\n",
              "      <td>70</td>\n",
              "      <td>1</td>\n",
              "    </tr>\n",
              "    <tr>\n",
              "      <th>3</th>\n",
              "      <td>16.0</td>\n",
              "      <td>8</td>\n",
              "      <td>304.0</td>\n",
              "      <td>150.0</td>\n",
              "      <td>3433</td>\n",
              "      <td>12.0</td>\n",
              "      <td>70</td>\n",
              "      <td>1</td>\n",
              "    </tr>\n",
              "    <tr>\n",
              "      <th>4</th>\n",
              "      <td>17.0</td>\n",
              "      <td>8</td>\n",
              "      <td>302.0</td>\n",
              "      <td>140.0</td>\n",
              "      <td>3449</td>\n",
              "      <td>10.5</td>\n",
              "      <td>70</td>\n",
              "      <td>1</td>\n",
              "    </tr>\n",
              "    <tr>\n",
              "      <th>5</th>\n",
              "      <td>15.0</td>\n",
              "      <td>8</td>\n",
              "      <td>429.0</td>\n",
              "      <td>198.0</td>\n",
              "      <td>4341</td>\n",
              "      <td>10.0</td>\n",
              "      <td>70</td>\n",
              "      <td>1</td>\n",
              "    </tr>\n",
              "    <tr>\n",
              "      <th>6</th>\n",
              "      <td>14.0</td>\n",
              "      <td>8</td>\n",
              "      <td>454.0</td>\n",
              "      <td>220.0</td>\n",
              "      <td>4354</td>\n",
              "      <td>9.0</td>\n",
              "      <td>70</td>\n",
              "      <td>1</td>\n",
              "    </tr>\n",
              "    <tr>\n",
              "      <th>7</th>\n",
              "      <td>14.0</td>\n",
              "      <td>8</td>\n",
              "      <td>440.0</td>\n",
              "      <td>215.0</td>\n",
              "      <td>4312</td>\n",
              "      <td>8.5</td>\n",
              "      <td>70</td>\n",
              "      <td>1</td>\n",
              "    </tr>\n",
              "    <tr>\n",
              "      <th>8</th>\n",
              "      <td>14.0</td>\n",
              "      <td>8</td>\n",
              "      <td>455.0</td>\n",
              "      <td>225.0</td>\n",
              "      <td>4425</td>\n",
              "      <td>10.0</td>\n",
              "      <td>70</td>\n",
              "      <td>1</td>\n",
              "    </tr>\n",
              "    <tr>\n",
              "      <th>...</th>\n",
              "      <td>...</td>\n",
              "      <td>...</td>\n",
              "      <td>...</td>\n",
              "      <td>...</td>\n",
              "      <td>...</td>\n",
              "      <td>...</td>\n",
              "      <td>...</td>\n",
              "      <td>...</td>\n",
              "    </tr>\n",
              "    <tr>\n",
              "      <th>389</th>\n",
              "      <td>22.0</td>\n",
              "      <td>6</td>\n",
              "      <td>232.0</td>\n",
              "      <td>112.0</td>\n",
              "      <td>2835</td>\n",
              "      <td>14.7</td>\n",
              "      <td>82</td>\n",
              "      <td>1</td>\n",
              "    </tr>\n",
              "    <tr>\n",
              "      <th>390</th>\n",
              "      <td>32.0</td>\n",
              "      <td>4</td>\n",
              "      <td>144.0</td>\n",
              "      <td>96.0</td>\n",
              "      <td>2665</td>\n",
              "      <td>13.9</td>\n",
              "      <td>82</td>\n",
              "      <td>3</td>\n",
              "    </tr>\n",
              "    <tr>\n",
              "      <th>391</th>\n",
              "      <td>36.0</td>\n",
              "      <td>4</td>\n",
              "      <td>135.0</td>\n",
              "      <td>84.0</td>\n",
              "      <td>2370</td>\n",
              "      <td>13.0</td>\n",
              "      <td>82</td>\n",
              "      <td>1</td>\n",
              "    </tr>\n",
              "    <tr>\n",
              "      <th>392</th>\n",
              "      <td>27.0</td>\n",
              "      <td>4</td>\n",
              "      <td>151.0</td>\n",
              "      <td>90.0</td>\n",
              "      <td>2950</td>\n",
              "      <td>17.3</td>\n",
              "      <td>82</td>\n",
              "      <td>1</td>\n",
              "    </tr>\n",
              "    <tr>\n",
              "      <th>393</th>\n",
              "      <td>27.0</td>\n",
              "      <td>4</td>\n",
              "      <td>140.0</td>\n",
              "      <td>86.0</td>\n",
              "      <td>2790</td>\n",
              "      <td>15.6</td>\n",
              "      <td>82</td>\n",
              "      <td>1</td>\n",
              "    </tr>\n",
              "    <tr>\n",
              "      <th>394</th>\n",
              "      <td>44.0</td>\n",
              "      <td>4</td>\n",
              "      <td>97.0</td>\n",
              "      <td>52.0</td>\n",
              "      <td>2130</td>\n",
              "      <td>24.6</td>\n",
              "      <td>82</td>\n",
              "      <td>2</td>\n",
              "    </tr>\n",
              "    <tr>\n",
              "      <th>395</th>\n",
              "      <td>32.0</td>\n",
              "      <td>4</td>\n",
              "      <td>135.0</td>\n",
              "      <td>84.0</td>\n",
              "      <td>2295</td>\n",
              "      <td>11.6</td>\n",
              "      <td>82</td>\n",
              "      <td>1</td>\n",
              "    </tr>\n",
              "    <tr>\n",
              "      <th>396</th>\n",
              "      <td>28.0</td>\n",
              "      <td>4</td>\n",
              "      <td>120.0</td>\n",
              "      <td>79.0</td>\n",
              "      <td>2625</td>\n",
              "      <td>18.6</td>\n",
              "      <td>82</td>\n",
              "      <td>1</td>\n",
              "    </tr>\n",
              "    <tr>\n",
              "      <th>397</th>\n",
              "      <td>31.0</td>\n",
              "      <td>4</td>\n",
              "      <td>119.0</td>\n",
              "      <td>82.0</td>\n",
              "      <td>2720</td>\n",
              "      <td>19.4</td>\n",
              "      <td>82</td>\n",
              "      <td>1</td>\n",
              "    </tr>\n",
              "  </tbody>\n",
              "</table>\n",
              "<p>398 rows × 8 columns</p>\n",
              "</div>"
            ],
            "text/plain": [
              "      mpg  cylinders  displacement  ...  acceleration  year  origin\n",
              "0    18.0          8         307.0  ...          12.0    70       1\n",
              "1    15.0          8         350.0  ...          11.5    70       1\n",
              "2    18.0          8         318.0  ...          11.0    70       1\n",
              "3    16.0          8         304.0  ...          12.0    70       1\n",
              "4    17.0          8         302.0  ...          10.5    70       1\n",
              "5    15.0          8         429.0  ...          10.0    70       1\n",
              "6    14.0          8         454.0  ...           9.0    70       1\n",
              "7    14.0          8         440.0  ...           8.5    70       1\n",
              "8    14.0          8         455.0  ...          10.0    70       1\n",
              "..    ...        ...           ...  ...           ...   ...     ...\n",
              "389  22.0          6         232.0  ...          14.7    82       1\n",
              "390  32.0          4         144.0  ...          13.9    82       3\n",
              "391  36.0          4         135.0  ...          13.0    82       1\n",
              "392  27.0          4         151.0  ...          17.3    82       1\n",
              "393  27.0          4         140.0  ...          15.6    82       1\n",
              "394  44.0          4          97.0  ...          24.6    82       2\n",
              "395  32.0          4         135.0  ...          11.6    82       1\n",
              "396  28.0          4         120.0  ...          18.6    82       1\n",
              "397  31.0          4         119.0  ...          19.4    82       1\n",
              "\n",
              "[398 rows x 8 columns]"
            ]
          },
          "metadata": {
            "tags": []
          },
          "execution_count": 17
        }
      ]
    },
    {
      "cell_type": "code",
      "metadata": {
        "id": "HAx5K5Uxnnsz",
        "outputId": "decbe19b-092c-45bb-9526-eb2edc6c8454",
        "colab": {
          "base_uri": "https://localhost:8080/",
          "height": 170
        }
      },
      "source": [
        "df_.isna().sum()"
      ],
      "execution_count": null,
      "outputs": [
        {
          "output_type": "execute_result",
          "data": {
            "text/plain": [
              "mpg             0\n",
              "cylinders       0\n",
              "displacement    0\n",
              "horsepower      6\n",
              "weight          0\n",
              "acceleration    0\n",
              "year            0\n",
              "origin          0\n",
              "dtype: int64"
            ]
          },
          "metadata": {
            "tags": []
          },
          "execution_count": 18
        }
      ]
    },
    {
      "cell_type": "code",
      "metadata": {
        "id": "41lwaL6xlyQq",
        "outputId": "392d38c0-b2a8-4434-d089-7317bf9c66c1",
        "colab": {
          "base_uri": "https://localhost:8080/",
          "height": 255
        }
      },
      "source": [
        "df_[df_.horsepower.isna() == True]"
      ],
      "execution_count": null,
      "outputs": [
        {
          "output_type": "execute_result",
          "data": {
            "text/html": [
              "<div>\n",
              "<style scoped>\n",
              "    .dataframe tbody tr th:only-of-type {\n",
              "        vertical-align: middle;\n",
              "    }\n",
              "\n",
              "    .dataframe tbody tr th {\n",
              "        vertical-align: top;\n",
              "    }\n",
              "\n",
              "    .dataframe thead th {\n",
              "        text-align: right;\n",
              "    }\n",
              "</style>\n",
              "<table border=\"1\" class=\"dataframe\">\n",
              "  <thead>\n",
              "    <tr style=\"text-align: right;\">\n",
              "      <th></th>\n",
              "      <th>mpg</th>\n",
              "      <th>cylinders</th>\n",
              "      <th>displacement</th>\n",
              "      <th>horsepower</th>\n",
              "      <th>weight</th>\n",
              "      <th>acceleration</th>\n",
              "      <th>year</th>\n",
              "      <th>origin</th>\n",
              "    </tr>\n",
              "  </thead>\n",
              "  <tbody>\n",
              "    <tr>\n",
              "      <th>32</th>\n",
              "      <td>25.0</td>\n",
              "      <td>4</td>\n",
              "      <td>98.0</td>\n",
              "      <td>NaN</td>\n",
              "      <td>2046</td>\n",
              "      <td>19.0</td>\n",
              "      <td>71</td>\n",
              "      <td>1</td>\n",
              "    </tr>\n",
              "    <tr>\n",
              "      <th>126</th>\n",
              "      <td>21.0</td>\n",
              "      <td>6</td>\n",
              "      <td>200.0</td>\n",
              "      <td>NaN</td>\n",
              "      <td>2875</td>\n",
              "      <td>17.0</td>\n",
              "      <td>74</td>\n",
              "      <td>1</td>\n",
              "    </tr>\n",
              "    <tr>\n",
              "      <th>330</th>\n",
              "      <td>40.9</td>\n",
              "      <td>4</td>\n",
              "      <td>85.0</td>\n",
              "      <td>NaN</td>\n",
              "      <td>1835</td>\n",
              "      <td>17.3</td>\n",
              "      <td>80</td>\n",
              "      <td>2</td>\n",
              "    </tr>\n",
              "    <tr>\n",
              "      <th>336</th>\n",
              "      <td>23.6</td>\n",
              "      <td>4</td>\n",
              "      <td>140.0</td>\n",
              "      <td>NaN</td>\n",
              "      <td>2905</td>\n",
              "      <td>14.3</td>\n",
              "      <td>80</td>\n",
              "      <td>1</td>\n",
              "    </tr>\n",
              "    <tr>\n",
              "      <th>354</th>\n",
              "      <td>34.5</td>\n",
              "      <td>4</td>\n",
              "      <td>100.0</td>\n",
              "      <td>NaN</td>\n",
              "      <td>2320</td>\n",
              "      <td>15.8</td>\n",
              "      <td>81</td>\n",
              "      <td>2</td>\n",
              "    </tr>\n",
              "    <tr>\n",
              "      <th>374</th>\n",
              "      <td>23.0</td>\n",
              "      <td>4</td>\n",
              "      <td>151.0</td>\n",
              "      <td>NaN</td>\n",
              "      <td>3035</td>\n",
              "      <td>20.5</td>\n",
              "      <td>82</td>\n",
              "      <td>1</td>\n",
              "    </tr>\n",
              "  </tbody>\n",
              "</table>\n",
              "</div>"
            ],
            "text/plain": [
              "      mpg  cylinders  displacement  ...  acceleration  year  origin\n",
              "32   25.0          4          98.0  ...          19.0    71       1\n",
              "126  21.0          6         200.0  ...          17.0    74       1\n",
              "330  40.9          4          85.0  ...          17.3    80       2\n",
              "336  23.6          4         140.0  ...          14.3    80       1\n",
              "354  34.5          4         100.0  ...          15.8    81       2\n",
              "374  23.0          4         151.0  ...          20.5    82       1\n",
              "\n",
              "[6 rows x 8 columns]"
            ]
          },
          "metadata": {
            "tags": []
          },
          "execution_count": 19
        }
      ]
    },
    {
      "cell_type": "markdown",
      "metadata": {
        "id": "DswUe9wO7W0_"
      },
      "source": [
        "Populate median value to the missing "
      ]
    },
    {
      "cell_type": "code",
      "metadata": {
        "id": "BgpCGX8I7dfu",
        "outputId": "062fecac-156c-4a67-b9c1-7602ad39f514",
        "colab": {
          "base_uri": "https://localhost:8080/",
          "height": 122
        }
      },
      "source": [
        "med = df_.horsepower.median()\n",
        "df_.horsepower.fillna(med, inplace=True)"
      ],
      "execution_count": null,
      "outputs": [
        {
          "output_type": "stream",
          "text": [
            "/usr/local/lib/python3.6/dist-packages/pandas/core/generic.py:6245: SettingWithCopyWarning: \n",
            "A value is trying to be set on a copy of a slice from a DataFrame\n",
            "\n",
            "See the caveats in the documentation: https://pandas.pydata.org/pandas-docs/stable/user_guide/indexing.html#returning-a-view-versus-a-copy\n",
            "  self._update_inplace(new_data)\n"
          ],
          "name": "stderr"
        }
      ]
    },
    {
      "cell_type": "code",
      "metadata": {
        "id": "1Zh2PgVC7ozO",
        "outputId": "e4de3fca-03be-44c0-dd00-c38639362873",
        "colab": {
          "base_uri": "https://localhost:8080/",
          "height": 49
        }
      },
      "source": [
        "df_[df_.horsepower.isna() == True]"
      ],
      "execution_count": null,
      "outputs": [
        {
          "output_type": "execute_result",
          "data": {
            "text/html": [
              "<div>\n",
              "<style scoped>\n",
              "    .dataframe tbody tr th:only-of-type {\n",
              "        vertical-align: middle;\n",
              "    }\n",
              "\n",
              "    .dataframe tbody tr th {\n",
              "        vertical-align: top;\n",
              "    }\n",
              "\n",
              "    .dataframe thead th {\n",
              "        text-align: right;\n",
              "    }\n",
              "</style>\n",
              "<table border=\"1\" class=\"dataframe\">\n",
              "  <thead>\n",
              "    <tr style=\"text-align: right;\">\n",
              "      <th></th>\n",
              "      <th>mpg</th>\n",
              "      <th>cylinders</th>\n",
              "      <th>displacement</th>\n",
              "      <th>horsepower</th>\n",
              "      <th>weight</th>\n",
              "      <th>acceleration</th>\n",
              "      <th>year</th>\n",
              "      <th>origin</th>\n",
              "    </tr>\n",
              "  </thead>\n",
              "  <tbody>\n",
              "  </tbody>\n",
              "</table>\n",
              "</div>"
            ],
            "text/plain": [
              "Empty DataFrame\n",
              "Columns: [mpg, cylinders, displacement, horsepower, weight, acceleration, year, origin]\n",
              "Index: []"
            ]
          },
          "metadata": {
            "tags": []
          },
          "execution_count": 21
        }
      ]
    },
    {
      "cell_type": "markdown",
      "metadata": {
        "id": "qmfpTiOU8AEA"
      },
      "source": [
        "### Outliers \n",
        "\n",
        "Those outside 3 sd "
      ]
    },
    {
      "cell_type": "code",
      "metadata": {
        "id": "Ce7q5q3S8IWd"
      },
      "source": [
        "from sklearn import metrics\n",
        "from scipy.stats import zscore"
      ],
      "execution_count": null,
      "outputs": []
    },
    {
      "cell_type": "code",
      "metadata": {
        "id": "rEV-oijH9gG1",
        "outputId": "1fd26ce6-2516-4e49-905c-43ba7f2489ac",
        "colab": {
          "base_uri": "https://localhost:8080/",
          "height": 317
        }
      },
      "source": [
        "df_.describe()"
      ],
      "execution_count": null,
      "outputs": [
        {
          "output_type": "execute_result",
          "data": {
            "text/html": [
              "<div>\n",
              "<style scoped>\n",
              "    .dataframe tbody tr th:only-of-type {\n",
              "        vertical-align: middle;\n",
              "    }\n",
              "\n",
              "    .dataframe tbody tr th {\n",
              "        vertical-align: top;\n",
              "    }\n",
              "\n",
              "    .dataframe thead th {\n",
              "        text-align: right;\n",
              "    }\n",
              "</style>\n",
              "<table border=\"1\" class=\"dataframe\">\n",
              "  <thead>\n",
              "    <tr style=\"text-align: right;\">\n",
              "      <th></th>\n",
              "      <th>mpg</th>\n",
              "      <th>cylinders</th>\n",
              "      <th>displacement</th>\n",
              "      <th>horsepower</th>\n",
              "      <th>weight</th>\n",
              "      <th>acceleration</th>\n",
              "      <th>year</th>\n",
              "      <th>origin</th>\n",
              "    </tr>\n",
              "  </thead>\n",
              "  <tbody>\n",
              "    <tr>\n",
              "      <th>count</th>\n",
              "      <td>398.000000</td>\n",
              "      <td>398.000000</td>\n",
              "      <td>398.000000</td>\n",
              "      <td>398.000000</td>\n",
              "      <td>398.000000</td>\n",
              "      <td>398.000000</td>\n",
              "      <td>398.000000</td>\n",
              "      <td>398.000000</td>\n",
              "    </tr>\n",
              "    <tr>\n",
              "      <th>mean</th>\n",
              "      <td>23.514573</td>\n",
              "      <td>5.454774</td>\n",
              "      <td>193.425879</td>\n",
              "      <td>104.304020</td>\n",
              "      <td>2970.424623</td>\n",
              "      <td>15.568090</td>\n",
              "      <td>76.010050</td>\n",
              "      <td>1.572864</td>\n",
              "    </tr>\n",
              "    <tr>\n",
              "      <th>std</th>\n",
              "      <td>7.815984</td>\n",
              "      <td>1.701004</td>\n",
              "      <td>104.269838</td>\n",
              "      <td>38.222625</td>\n",
              "      <td>846.841774</td>\n",
              "      <td>2.757689</td>\n",
              "      <td>3.697627</td>\n",
              "      <td>0.802055</td>\n",
              "    </tr>\n",
              "    <tr>\n",
              "      <th>min</th>\n",
              "      <td>9.000000</td>\n",
              "      <td>3.000000</td>\n",
              "      <td>68.000000</td>\n",
              "      <td>46.000000</td>\n",
              "      <td>1613.000000</td>\n",
              "      <td>8.000000</td>\n",
              "      <td>70.000000</td>\n",
              "      <td>1.000000</td>\n",
              "    </tr>\n",
              "    <tr>\n",
              "      <th>25%</th>\n",
              "      <td>17.500000</td>\n",
              "      <td>4.000000</td>\n",
              "      <td>104.250000</td>\n",
              "      <td>76.000000</td>\n",
              "      <td>2223.750000</td>\n",
              "      <td>13.825000</td>\n",
              "      <td>73.000000</td>\n",
              "      <td>1.000000</td>\n",
              "    </tr>\n",
              "    <tr>\n",
              "      <th>50%</th>\n",
              "      <td>23.000000</td>\n",
              "      <td>4.000000</td>\n",
              "      <td>148.500000</td>\n",
              "      <td>93.500000</td>\n",
              "      <td>2803.500000</td>\n",
              "      <td>15.500000</td>\n",
              "      <td>76.000000</td>\n",
              "      <td>1.000000</td>\n",
              "    </tr>\n",
              "    <tr>\n",
              "      <th>75%</th>\n",
              "      <td>29.000000</td>\n",
              "      <td>8.000000</td>\n",
              "      <td>262.000000</td>\n",
              "      <td>125.000000</td>\n",
              "      <td>3608.000000</td>\n",
              "      <td>17.175000</td>\n",
              "      <td>79.000000</td>\n",
              "      <td>2.000000</td>\n",
              "    </tr>\n",
              "    <tr>\n",
              "      <th>max</th>\n",
              "      <td>46.600000</td>\n",
              "      <td>8.000000</td>\n",
              "      <td>455.000000</td>\n",
              "      <td>230.000000</td>\n",
              "      <td>5140.000000</td>\n",
              "      <td>24.800000</td>\n",
              "      <td>82.000000</td>\n",
              "      <td>3.000000</td>\n",
              "    </tr>\n",
              "  </tbody>\n",
              "</table>\n",
              "</div>"
            ],
            "text/plain": [
              "              mpg   cylinders  ...        year      origin\n",
              "count  398.000000  398.000000  ...  398.000000  398.000000\n",
              "mean    23.514573    5.454774  ...   76.010050    1.572864\n",
              "std      7.815984    1.701004  ...    3.697627    0.802055\n",
              "min      9.000000    3.000000  ...   70.000000    1.000000\n",
              "25%     17.500000    4.000000  ...   73.000000    1.000000\n",
              "50%     23.000000    4.000000  ...   76.000000    1.000000\n",
              "75%     29.000000    8.000000  ...   79.000000    2.000000\n",
              "max     46.600000    8.000000  ...   82.000000    3.000000\n",
              "\n",
              "[8 rows x 8 columns]"
            ]
          },
          "metadata": {
            "tags": []
          },
          "execution_count": 23
        }
      ]
    },
    {
      "cell_type": "code",
      "metadata": {
        "id": "Mv8jWMsS81OP"
      },
      "source": [
        "# Show outliers in data\n",
        "z = np.abs(zscore(df_))\n"
      ],
      "execution_count": null,
      "outputs": []
    },
    {
      "cell_type": "code",
      "metadata": {
        "id": "GK-EIDbD-_1_",
        "outputId": "54c523ee-fb3b-4e8c-a3be-46d76d09d919",
        "colab": {
          "base_uri": "https://localhost:8080/",
          "height": 34
        }
      },
      "source": [
        "print(np.where(z>3))"
      ],
      "execution_count": null,
      "outputs": [
        {
          "output_type": "stream",
          "text": [
            "(array([  6,   8,  13,  95, 116, 299, 394]), array([3, 3, 3, 3, 3, 5, 5]))\n"
          ],
          "name": "stdout"
        }
      ]
    },
    {
      "cell_type": "code",
      "metadata": {
        "id": "HMtSKOYy_KR-",
        "outputId": "0bc723eb-67c4-409a-ae73-5ddf74b53f48",
        "colab": {
          "base_uri": "https://localhost:8080/",
          "height": 286
        }
      },
      "source": [
        "# Data frame with high Z score values \n",
        "df_[np.abs(zscore(df_)) > 3]"
      ],
      "execution_count": null,
      "outputs": [
        {
          "output_type": "execute_result",
          "data": {
            "text/html": [
              "<div>\n",
              "<style scoped>\n",
              "    .dataframe tbody tr th:only-of-type {\n",
              "        vertical-align: middle;\n",
              "    }\n",
              "\n",
              "    .dataframe tbody tr th {\n",
              "        vertical-align: top;\n",
              "    }\n",
              "\n",
              "    .dataframe thead th {\n",
              "        text-align: right;\n",
              "    }\n",
              "</style>\n",
              "<table border=\"1\" class=\"dataframe\">\n",
              "  <thead>\n",
              "    <tr style=\"text-align: right;\">\n",
              "      <th></th>\n",
              "      <th>mpg</th>\n",
              "      <th>cylinders</th>\n",
              "      <th>displacement</th>\n",
              "      <th>horsepower</th>\n",
              "      <th>weight</th>\n",
              "      <th>acceleration</th>\n",
              "      <th>year</th>\n",
              "      <th>origin</th>\n",
              "    </tr>\n",
              "  </thead>\n",
              "  <tbody>\n",
              "    <tr>\n",
              "      <th>6</th>\n",
              "      <td>14.0</td>\n",
              "      <td>8</td>\n",
              "      <td>454.0</td>\n",
              "      <td>220.0</td>\n",
              "      <td>4354</td>\n",
              "      <td>9.0</td>\n",
              "      <td>70</td>\n",
              "      <td>1</td>\n",
              "    </tr>\n",
              "    <tr>\n",
              "      <th>8</th>\n",
              "      <td>14.0</td>\n",
              "      <td>8</td>\n",
              "      <td>455.0</td>\n",
              "      <td>225.0</td>\n",
              "      <td>4425</td>\n",
              "      <td>10.0</td>\n",
              "      <td>70</td>\n",
              "      <td>1</td>\n",
              "    </tr>\n",
              "    <tr>\n",
              "      <th>13</th>\n",
              "      <td>14.0</td>\n",
              "      <td>8</td>\n",
              "      <td>455.0</td>\n",
              "      <td>225.0</td>\n",
              "      <td>3086</td>\n",
              "      <td>10.0</td>\n",
              "      <td>70</td>\n",
              "      <td>1</td>\n",
              "    </tr>\n",
              "    <tr>\n",
              "      <th>95</th>\n",
              "      <td>12.0</td>\n",
              "      <td>8</td>\n",
              "      <td>455.0</td>\n",
              "      <td>225.0</td>\n",
              "      <td>4951</td>\n",
              "      <td>11.0</td>\n",
              "      <td>73</td>\n",
              "      <td>1</td>\n",
              "    </tr>\n",
              "    <tr>\n",
              "      <th>116</th>\n",
              "      <td>16.0</td>\n",
              "      <td>8</td>\n",
              "      <td>400.0</td>\n",
              "      <td>230.0</td>\n",
              "      <td>4278</td>\n",
              "      <td>9.5</td>\n",
              "      <td>73</td>\n",
              "      <td>1</td>\n",
              "    </tr>\n",
              "    <tr>\n",
              "      <th>299</th>\n",
              "      <td>27.2</td>\n",
              "      <td>4</td>\n",
              "      <td>141.0</td>\n",
              "      <td>71.0</td>\n",
              "      <td>3190</td>\n",
              "      <td>24.8</td>\n",
              "      <td>79</td>\n",
              "      <td>2</td>\n",
              "    </tr>\n",
              "    <tr>\n",
              "      <th>394</th>\n",
              "      <td>44.0</td>\n",
              "      <td>4</td>\n",
              "      <td>97.0</td>\n",
              "      <td>52.0</td>\n",
              "      <td>2130</td>\n",
              "      <td>24.6</td>\n",
              "      <td>82</td>\n",
              "      <td>2</td>\n",
              "    </tr>\n",
              "  </tbody>\n",
              "</table>\n",
              "</div>"
            ],
            "text/plain": [
              "      mpg  cylinders  displacement  ...  acceleration  year  origin\n",
              "6    14.0          8         454.0  ...           9.0    70       1\n",
              "8    14.0          8         455.0  ...          10.0    70       1\n",
              "13   14.0          8         455.0  ...          10.0    70       1\n",
              "95   12.0          8         455.0  ...          11.0    73       1\n",
              "116  16.0          8         400.0  ...           9.5    73       1\n",
              "299  27.2          4         141.0  ...          24.8    79       2\n",
              "394  44.0          4          97.0  ...          24.6    82       2\n",
              "\n",
              "[7 rows x 8 columns]"
            ]
          },
          "metadata": {
            "tags": []
          },
          "execution_count": 26
        }
      ]
    },
    {
      "cell_type": "code",
      "metadata": {
        "id": "9dnALqES_osU"
      },
      "source": [
        "# Exclude data that has high z score value > 3 \n",
        "df_ = df_[np.abs(zscore(df_)) <= 3]"
      ],
      "execution_count": null,
      "outputs": []
    },
    {
      "cell_type": "code",
      "metadata": {
        "id": "UhvJ2wOSAAcL",
        "outputId": "0366f3f0-7312-437e-832f-d1830d02ebf6",
        "colab": {
          "base_uri": "https://localhost:8080/",
          "height": 34
        }
      },
      "source": [
        "df_.shape"
      ],
      "execution_count": null,
      "outputs": [
        {
          "output_type": "execute_result",
          "data": {
            "text/plain": [
              "(3177, 8)"
            ]
          },
          "metadata": {
            "tags": []
          },
          "execution_count": 28
        }
      ]
    },
    {
      "cell_type": "markdown",
      "metadata": {
        "id": "2WcuyQtsEgNy"
      },
      "source": [
        "### Train & Test data split"
      ]
    },
    {
      "cell_type": "code",
      "metadata": {
        "id": "y_sGMMZyEcnc"
      },
      "source": [
        "# Shuffle the data to split between train and test data \n",
        "df = df.reindex(np.random.permutation(df.index))"
      ],
      "execution_count": null,
      "outputs": []
    },
    {
      "cell_type": "code",
      "metadata": {
        "id": "4clup4qzEwaw"
      },
      "source": [
        "mask = np.random.rand(len(df)) < .8"
      ],
      "execution_count": null,
      "outputs": []
    },
    {
      "cell_type": "code",
      "metadata": {
        "id": "HWRSMdoYFD66",
        "outputId": "927ddc95-ce7f-4fa0-d706-dea71aa11e84",
        "colab": {
          "base_uri": "https://localhost:8080/",
          "height": 68
        }
      },
      "source": [
        "mask[0: 25]"
      ],
      "execution_count": null,
      "outputs": [
        {
          "output_type": "execute_result",
          "data": {
            "text/plain": [
              "array([ True,  True,  True, False,  True,  True,  True,  True,  True,\n",
              "        True,  True,  True,  True,  True,  True,  True,  True, False,\n",
              "        True, False, False,  True,  True,  True,  True])"
            ]
          },
          "metadata": {
            "tags": []
          },
          "execution_count": 31
        }
      ]
    },
    {
      "cell_type": "code",
      "metadata": {
        "id": "sTkA6lgwFnxK"
      },
      "source": [
        "train_df = pd.DataFrame(df[mask])\n",
        "test_df = df[~mask]"
      ],
      "execution_count": null,
      "outputs": []
    },
    {
      "cell_type": "code",
      "metadata": {
        "id": "sokbAZ0lFH7a",
        "outputId": "0d259352-e8a0-4769-9919-17eb3033224b",
        "colab": {
          "base_uri": "https://localhost:8080/",
          "height": 51
        }
      },
      "source": [
        "print(f'Train Dataset {len(train_df)}')\n",
        "print(f'Test dataset {len(test_df)}')"
      ],
      "execution_count": null,
      "outputs": [
        {
          "output_type": "stream",
          "text": [
            "Train Dataset 334\n",
            "Test dataset 64\n"
          ],
          "name": "stdout"
        }
      ]
    },
    {
      "cell_type": "markdown",
      "metadata": {
        "id": "HG-4SsjSGfZC"
      },
      "source": [
        "### Converting Data Frame to Matrix\n",
        "\n",
        "Neural networks do not directly operate on Python data frames. A neural network requires a numeric matrix. The program uses the values property of a data frame to convert the data to a matrix."
      ]
    },
    {
      "cell_type": "code",
      "metadata": {
        "id": "l9FCO82DGsXb",
        "outputId": "585c23a7-5c1a-4397-9b8a-4579c373be8a",
        "colab": {
          "base_uri": "https://localhost:8080/",
          "height": 136
        }
      },
      "source": [
        "df[['mpg', 'cylinders', 'displacement', 'horsepower', 'weight',\n",
        "       'acceleration', 'year', 'origin']].values"
      ],
      "execution_count": null,
      "outputs": [
        {
          "output_type": "execute_result",
          "data": {
            "text/plain": [
              "array([[ 13. ,   8. , 360. , ...,  11. ,  73. ,   1. ],\n",
              "       [ 25. ,   4. ,  97.5, ...,  17. ,  72. ,   1. ],\n",
              "       [ 22. ,   6. , 225. , ...,  15.4,  76. ,   1. ],\n",
              "       ...,\n",
              "       [ 14. ,   8. , 304. , ...,  11.5,  73. ,   1. ],\n",
              "       [ 27.2,   4. , 119. , ...,  14.7,  78. ,   3. ],\n",
              "       [ 24. ,   4. , 107. , ...,  14.5,  70. ,   2. ]])"
            ]
          },
          "metadata": {
            "tags": []
          },
          "execution_count": 34
        }
      ]
    },
    {
      "cell_type": "markdown",
      "metadata": {
        "id": "b4E1JFUkG6oX"
      },
      "source": [
        "### Save the dataset"
      ]
    },
    {
      "cell_type": "code",
      "metadata": {
        "id": "ByHqDKPzGeoY"
      },
      "source": [
        "file_name_write = os.path.join('/content/', 'auto-mpg-shuffle.csv')\n",
        "\n",
        "df.to_csv(file_name_write, index=False)"
      ],
      "execution_count": null,
      "outputs": []
    },
    {
      "cell_type": "markdown",
      "metadata": {
        "id": "j9ZJclg9POt7"
      },
      "source": [
        "## Categorical and Continuous Values"
      ]
    },
    {
      "cell_type": "code",
      "metadata": {
        "id": "G7aKHI17Q7dW",
        "outputId": "f93eea8b-3900-4903-cc56-07cac903581d",
        "colab": {
          "base_uri": "https://localhost:8080/",
          "height": 51
        }
      },
      "source": [
        "df.columns.values"
      ],
      "execution_count": null,
      "outputs": [
        {
          "output_type": "execute_result",
          "data": {
            "text/plain": [
              "array(['mpg', 'cylinders', 'displacement', 'horsepower', 'weight',\n",
              "       'acceleration', 'year', 'origin', 'name'], dtype=object)"
            ]
          },
          "metadata": {
            "tags": []
          },
          "execution_count": 36
        }
      ]
    },
    {
      "cell_type": "code",
      "metadata": {
        "id": "SOHK-lr0POQn"
      },
      "source": [
        "# Add Z score value for MPG \n",
        "df['mpg_zscore'] = zscore(df['mpg'])"
      ],
      "execution_count": null,
      "outputs": []
    },
    {
      "cell_type": "code",
      "metadata": {
        "id": "99NRIwu2RIgF",
        "outputId": "6c4bbcba-d60c-4216-d855-427c768c75e7",
        "colab": {
          "base_uri": "https://localhost:8080/",
          "height": 959
        }
      },
      "source": [
        "display(df)"
      ],
      "execution_count": null,
      "outputs": [
        {
          "output_type": "display_data",
          "data": {
            "text/html": [
              "<div>\n",
              "<style scoped>\n",
              "    .dataframe tbody tr th:only-of-type {\n",
              "        vertical-align: middle;\n",
              "    }\n",
              "\n",
              "    .dataframe tbody tr th {\n",
              "        vertical-align: top;\n",
              "    }\n",
              "\n",
              "    .dataframe thead th {\n",
              "        text-align: right;\n",
              "    }\n",
              "</style>\n",
              "<table border=\"1\" class=\"dataframe\">\n",
              "  <thead>\n",
              "    <tr style=\"text-align: right;\">\n",
              "      <th></th>\n",
              "      <th>mpg</th>\n",
              "      <th>cylinders</th>\n",
              "      <th>displacement</th>\n",
              "      <th>horsepower</th>\n",
              "      <th>weight</th>\n",
              "      <th>acceleration</th>\n",
              "      <th>year</th>\n",
              "      <th>origin</th>\n",
              "      <th>name</th>\n",
              "      <th>mpg_zscore</th>\n",
              "    </tr>\n",
              "  </thead>\n",
              "  <tbody>\n",
              "    <tr>\n",
              "      <th>96</th>\n",
              "      <td>13.0</td>\n",
              "      <td>8</td>\n",
              "      <td>360.0</td>\n",
              "      <td>175.0</td>\n",
              "      <td>3821</td>\n",
              "      <td>11.0</td>\n",
              "      <td>73</td>\n",
              "      <td>1</td>\n",
              "      <td>amc ambassador brougham</td>\n",
              "      <td>-1.346959</td>\n",
              "    </tr>\n",
              "    <tr>\n",
              "      <th>58</th>\n",
              "      <td>25.0</td>\n",
              "      <td>4</td>\n",
              "      <td>97.5</td>\n",
              "      <td>80.0</td>\n",
              "      <td>2126</td>\n",
              "      <td>17.0</td>\n",
              "      <td>72</td>\n",
              "      <td>1</td>\n",
              "      <td>dodge colt hardtop</td>\n",
              "      <td>0.190289</td>\n",
              "    </tr>\n",
              "    <tr>\n",
              "      <th>191</th>\n",
              "      <td>22.0</td>\n",
              "      <td>6</td>\n",
              "      <td>225.0</td>\n",
              "      <td>100.0</td>\n",
              "      <td>3233</td>\n",
              "      <td>15.4</td>\n",
              "      <td>76</td>\n",
              "      <td>1</td>\n",
              "      <td>plymouth valiant</td>\n",
              "      <td>-0.194023</td>\n",
              "    </tr>\n",
              "    <tr>\n",
              "      <th>123</th>\n",
              "      <td>20.0</td>\n",
              "      <td>6</td>\n",
              "      <td>156.0</td>\n",
              "      <td>122.0</td>\n",
              "      <td>2807</td>\n",
              "      <td>13.5</td>\n",
              "      <td>73</td>\n",
              "      <td>3</td>\n",
              "      <td>toyota mark ii</td>\n",
              "      <td>-0.450231</td>\n",
              "    </tr>\n",
              "    <tr>\n",
              "      <th>341</th>\n",
              "      <td>23.5</td>\n",
              "      <td>6</td>\n",
              "      <td>173.0</td>\n",
              "      <td>110.0</td>\n",
              "      <td>2725</td>\n",
              "      <td>12.6</td>\n",
              "      <td>81</td>\n",
              "      <td>1</td>\n",
              "      <td>chevrolet citation</td>\n",
              "      <td>-0.001867</td>\n",
              "    </tr>\n",
              "    <tr>\n",
              "      <th>280</th>\n",
              "      <td>21.5</td>\n",
              "      <td>6</td>\n",
              "      <td>231.0</td>\n",
              "      <td>115.0</td>\n",
              "      <td>3245</td>\n",
              "      <td>15.4</td>\n",
              "      <td>79</td>\n",
              "      <td>1</td>\n",
              "      <td>pontiac lemans v6</td>\n",
              "      <td>-0.258075</td>\n",
              "    </tr>\n",
              "    <tr>\n",
              "      <th>271</th>\n",
              "      <td>23.2</td>\n",
              "      <td>4</td>\n",
              "      <td>156.0</td>\n",
              "      <td>105.0</td>\n",
              "      <td>2745</td>\n",
              "      <td>16.7</td>\n",
              "      <td>78</td>\n",
              "      <td>1</td>\n",
              "      <td>plymouth sapporo</td>\n",
              "      <td>-0.040298</td>\n",
              "    </tr>\n",
              "    <tr>\n",
              "      <th>337</th>\n",
              "      <td>32.4</td>\n",
              "      <td>4</td>\n",
              "      <td>107.0</td>\n",
              "      <td>72.0</td>\n",
              "      <td>2290</td>\n",
              "      <td>17.0</td>\n",
              "      <td>80</td>\n",
              "      <td>3</td>\n",
              "      <td>honda accord</td>\n",
              "      <td>1.138259</td>\n",
              "    </tr>\n",
              "    <tr>\n",
              "      <th>61</th>\n",
              "      <td>21.0</td>\n",
              "      <td>4</td>\n",
              "      <td>122.0</td>\n",
              "      <td>86.0</td>\n",
              "      <td>2226</td>\n",
              "      <td>16.5</td>\n",
              "      <td>72</td>\n",
              "      <td>1</td>\n",
              "      <td>ford pinto runabout</td>\n",
              "      <td>-0.322127</td>\n",
              "    </tr>\n",
              "    <tr>\n",
              "      <th>...</th>\n",
              "      <td>...</td>\n",
              "      <td>...</td>\n",
              "      <td>...</td>\n",
              "      <td>...</td>\n",
              "      <td>...</td>\n",
              "      <td>...</td>\n",
              "      <td>...</td>\n",
              "      <td>...</td>\n",
              "      <td>...</td>\n",
              "      <td>...</td>\n",
              "    </tr>\n",
              "    <tr>\n",
              "      <th>222</th>\n",
              "      <td>17.0</td>\n",
              "      <td>8</td>\n",
              "      <td>260.0</td>\n",
              "      <td>110.0</td>\n",
              "      <td>4060</td>\n",
              "      <td>19.0</td>\n",
              "      <td>77</td>\n",
              "      <td>1</td>\n",
              "      <td>oldsmobile cutlass supreme</td>\n",
              "      <td>-0.834543</td>\n",
              "    </tr>\n",
              "    <tr>\n",
              "      <th>198</th>\n",
              "      <td>33.0</td>\n",
              "      <td>4</td>\n",
              "      <td>91.0</td>\n",
              "      <td>53.0</td>\n",
              "      <td>1795</td>\n",
              "      <td>17.4</td>\n",
              "      <td>76</td>\n",
              "      <td>3</td>\n",
              "      <td>honda civic</td>\n",
              "      <td>1.215121</td>\n",
              "    </tr>\n",
              "    <tr>\n",
              "      <th>368</th>\n",
              "      <td>27.0</td>\n",
              "      <td>4</td>\n",
              "      <td>112.0</td>\n",
              "      <td>88.0</td>\n",
              "      <td>2640</td>\n",
              "      <td>18.6</td>\n",
              "      <td>82</td>\n",
              "      <td>1</td>\n",
              "      <td>chevrolet cavalier wagon</td>\n",
              "      <td>0.446497</td>\n",
              "    </tr>\n",
              "    <tr>\n",
              "      <th>206</th>\n",
              "      <td>26.5</td>\n",
              "      <td>4</td>\n",
              "      <td>140.0</td>\n",
              "      <td>72.0</td>\n",
              "      <td>2565</td>\n",
              "      <td>13.6</td>\n",
              "      <td>76</td>\n",
              "      <td>1</td>\n",
              "      <td>ford pinto</td>\n",
              "      <td>0.382445</td>\n",
              "    </tr>\n",
              "    <tr>\n",
              "      <th>145</th>\n",
              "      <td>32.0</td>\n",
              "      <td>4</td>\n",
              "      <td>83.0</td>\n",
              "      <td>61.0</td>\n",
              "      <td>2003</td>\n",
              "      <td>19.0</td>\n",
              "      <td>74</td>\n",
              "      <td>3</td>\n",
              "      <td>datsun 710</td>\n",
              "      <td>1.087017</td>\n",
              "    </tr>\n",
              "    <tr>\n",
              "      <th>46</th>\n",
              "      <td>22.0</td>\n",
              "      <td>4</td>\n",
              "      <td>140.0</td>\n",
              "      <td>72.0</td>\n",
              "      <td>2408</td>\n",
              "      <td>19.0</td>\n",
              "      <td>71</td>\n",
              "      <td>1</td>\n",
              "      <td>chevrolet vega (sw)</td>\n",
              "      <td>-0.194023</td>\n",
              "    </tr>\n",
              "    <tr>\n",
              "      <th>86</th>\n",
              "      <td>14.0</td>\n",
              "      <td>8</td>\n",
              "      <td>304.0</td>\n",
              "      <td>150.0</td>\n",
              "      <td>3672</td>\n",
              "      <td>11.5</td>\n",
              "      <td>73</td>\n",
              "      <td>1</td>\n",
              "      <td>amc matador</td>\n",
              "      <td>-1.218855</td>\n",
              "    </tr>\n",
              "    <tr>\n",
              "      <th>268</th>\n",
              "      <td>27.2</td>\n",
              "      <td>4</td>\n",
              "      <td>119.0</td>\n",
              "      <td>97.0</td>\n",
              "      <td>2300</td>\n",
              "      <td>14.7</td>\n",
              "      <td>78</td>\n",
              "      <td>3</td>\n",
              "      <td>datsun 510</td>\n",
              "      <td>0.472118</td>\n",
              "    </tr>\n",
              "    <tr>\n",
              "      <th>21</th>\n",
              "      <td>24.0</td>\n",
              "      <td>4</td>\n",
              "      <td>107.0</td>\n",
              "      <td>90.0</td>\n",
              "      <td>2430</td>\n",
              "      <td>14.5</td>\n",
              "      <td>70</td>\n",
              "      <td>2</td>\n",
              "      <td>audi 100 ls</td>\n",
              "      <td>0.062185</td>\n",
              "    </tr>\n",
              "  </tbody>\n",
              "</table>\n",
              "<p>398 rows × 10 columns</p>\n",
              "</div>"
            ],
            "text/plain": [
              "      mpg  cylinders  ...                        name  mpg_zscore\n",
              "96   13.0          8  ...     amc ambassador brougham   -1.346959\n",
              "58   25.0          4  ...          dodge colt hardtop    0.190289\n",
              "191  22.0          6  ...            plymouth valiant   -0.194023\n",
              "123  20.0          6  ...              toyota mark ii   -0.450231\n",
              "341  23.5          6  ...          chevrolet citation   -0.001867\n",
              "280  21.5          6  ...           pontiac lemans v6   -0.258075\n",
              "271  23.2          4  ...            plymouth sapporo   -0.040298\n",
              "337  32.4          4  ...                honda accord    1.138259\n",
              "61   21.0          4  ...         ford pinto runabout   -0.322127\n",
              "..    ...        ...  ...                         ...         ...\n",
              "222  17.0          8  ...  oldsmobile cutlass supreme   -0.834543\n",
              "198  33.0          4  ...                 honda civic    1.215121\n",
              "368  27.0          4  ...    chevrolet cavalier wagon    0.446497\n",
              "206  26.5          4  ...                  ford pinto    0.382445\n",
              "145  32.0          4  ...                  datsun 710    1.087017\n",
              "46   22.0          4  ...         chevrolet vega (sw)   -0.194023\n",
              "86   14.0          8  ...                 amc matador   -1.218855\n",
              "268  27.2          4  ...                  datsun 510    0.472118\n",
              "21   24.0          4  ...                 audi 100 ls    0.062185\n",
              "\n",
              "[398 rows x 10 columns]"
            ]
          },
          "metadata": {
            "tags": []
          }
        }
      ]
    },
    {
      "cell_type": "markdown",
      "metadata": {
        "id": "5lXSmLnWRUCa"
      },
      "source": [
        "### One-hot-encoding / dummy variables"
      ]
    },
    {
      "cell_type": "code",
      "metadata": {
        "id": "x0YfenCTRbvj"
      },
      "source": [
        "file_path = \"https://data.heatonresearch.com/data/t81-558/jh-simple-dataset.csv\""
      ],
      "execution_count": null,
      "outputs": []
    },
    {
      "cell_type": "code",
      "metadata": {
        "id": "pk3AVwz-RqMW"
      },
      "source": [
        "df_job = pd.read_csv(file_path, na_values=['NA', '?'])"
      ],
      "execution_count": null,
      "outputs": []
    },
    {
      "cell_type": "code",
      "metadata": {
        "id": "B89Qa0fSR9BZ",
        "outputId": "97d853b7-2c9b-463a-902f-cba6da364af2",
        "colab": {
          "base_uri": "https://localhost:8080/",
          "height": 224
        }
      },
      "source": [
        "df_job.head()"
      ],
      "execution_count": null,
      "outputs": [
        {
          "output_type": "execute_result",
          "data": {
            "text/html": [
              "<div>\n",
              "<style scoped>\n",
              "    .dataframe tbody tr th:only-of-type {\n",
              "        vertical-align: middle;\n",
              "    }\n",
              "\n",
              "    .dataframe tbody tr th {\n",
              "        vertical-align: top;\n",
              "    }\n",
              "\n",
              "    .dataframe thead th {\n",
              "        text-align: right;\n",
              "    }\n",
              "</style>\n",
              "<table border=\"1\" class=\"dataframe\">\n",
              "  <thead>\n",
              "    <tr style=\"text-align: right;\">\n",
              "      <th></th>\n",
              "      <th>id</th>\n",
              "      <th>job</th>\n",
              "      <th>area</th>\n",
              "      <th>income</th>\n",
              "      <th>aspect</th>\n",
              "      <th>subscriptions</th>\n",
              "      <th>dist_healthy</th>\n",
              "      <th>save_rate</th>\n",
              "      <th>dist_unhealthy</th>\n",
              "      <th>age</th>\n",
              "      <th>pop_dense</th>\n",
              "      <th>retail_dense</th>\n",
              "      <th>crime</th>\n",
              "      <th>product</th>\n",
              "    </tr>\n",
              "  </thead>\n",
              "  <tbody>\n",
              "    <tr>\n",
              "      <th>0</th>\n",
              "      <td>1</td>\n",
              "      <td>vv</td>\n",
              "      <td>c</td>\n",
              "      <td>50876.0</td>\n",
              "      <td>13.100000</td>\n",
              "      <td>1</td>\n",
              "      <td>9.017895</td>\n",
              "      <td>35</td>\n",
              "      <td>11.738935</td>\n",
              "      <td>49</td>\n",
              "      <td>0.885827</td>\n",
              "      <td>0.492126</td>\n",
              "      <td>0.071100</td>\n",
              "      <td>b</td>\n",
              "    </tr>\n",
              "    <tr>\n",
              "      <th>1</th>\n",
              "      <td>2</td>\n",
              "      <td>kd</td>\n",
              "      <td>c</td>\n",
              "      <td>60369.0</td>\n",
              "      <td>18.625000</td>\n",
              "      <td>2</td>\n",
              "      <td>7.766643</td>\n",
              "      <td>59</td>\n",
              "      <td>6.805396</td>\n",
              "      <td>51</td>\n",
              "      <td>0.874016</td>\n",
              "      <td>0.342520</td>\n",
              "      <td>0.400809</td>\n",
              "      <td>c</td>\n",
              "    </tr>\n",
              "    <tr>\n",
              "      <th>2</th>\n",
              "      <td>3</td>\n",
              "      <td>pe</td>\n",
              "      <td>c</td>\n",
              "      <td>55126.0</td>\n",
              "      <td>34.766667</td>\n",
              "      <td>1</td>\n",
              "      <td>3.632069</td>\n",
              "      <td>6</td>\n",
              "      <td>13.671772</td>\n",
              "      <td>44</td>\n",
              "      <td>0.944882</td>\n",
              "      <td>0.724409</td>\n",
              "      <td>0.207723</td>\n",
              "      <td>b</td>\n",
              "    </tr>\n",
              "    <tr>\n",
              "      <th>3</th>\n",
              "      <td>4</td>\n",
              "      <td>11</td>\n",
              "      <td>c</td>\n",
              "      <td>51690.0</td>\n",
              "      <td>15.808333</td>\n",
              "      <td>1</td>\n",
              "      <td>5.372942</td>\n",
              "      <td>16</td>\n",
              "      <td>4.333286</td>\n",
              "      <td>50</td>\n",
              "      <td>0.889764</td>\n",
              "      <td>0.444882</td>\n",
              "      <td>0.361216</td>\n",
              "      <td>b</td>\n",
              "    </tr>\n",
              "    <tr>\n",
              "      <th>4</th>\n",
              "      <td>5</td>\n",
              "      <td>kl</td>\n",
              "      <td>d</td>\n",
              "      <td>28347.0</td>\n",
              "      <td>40.941667</td>\n",
              "      <td>3</td>\n",
              "      <td>3.822477</td>\n",
              "      <td>20</td>\n",
              "      <td>5.967121</td>\n",
              "      <td>38</td>\n",
              "      <td>0.744094</td>\n",
              "      <td>0.661417</td>\n",
              "      <td>0.068033</td>\n",
              "      <td>a</td>\n",
              "    </tr>\n",
              "  </tbody>\n",
              "</table>\n",
              "</div>"
            ],
            "text/plain": [
              "   id job area   income  ...  pop_dense  retail_dense     crime  product\n",
              "0   1  vv    c  50876.0  ...   0.885827      0.492126  0.071100        b\n",
              "1   2  kd    c  60369.0  ...   0.874016      0.342520  0.400809        c\n",
              "2   3  pe    c  55126.0  ...   0.944882      0.724409  0.207723        b\n",
              "3   4  11    c  51690.0  ...   0.889764      0.444882  0.361216        b\n",
              "4   5  kl    d  28347.0  ...   0.744094      0.661417  0.068033        a\n",
              "\n",
              "[5 rows x 14 columns]"
            ]
          },
          "metadata": {
            "tags": []
          },
          "execution_count": 41
        }
      ]
    },
    {
      "cell_type": "markdown",
      "metadata": {
        "id": "lMQA6fEjTXMV"
      },
      "source": [
        "Unique count of values"
      ]
    },
    {
      "cell_type": "code",
      "metadata": {
        "id": "e1l6WKSGSMBP",
        "outputId": "b12e1c12-8d98-486b-ffcf-48521640cb52",
        "colab": {
          "base_uri": "https://localhost:8080/",
          "height": 255
        }
      },
      "source": [
        "for i in df_job.columns.values:\n",
        "    print(i, df_job[i].nunique())"
      ],
      "execution_count": null,
      "outputs": [
        {
          "output_type": "stream",
          "text": [
            "id 2000\n",
            "job 33\n",
            "area 4\n",
            "income 897\n",
            "aspect 356\n",
            "subscriptions 6\n",
            "dist_healthy 242\n",
            "save_rate 273\n",
            "dist_unhealthy 1407\n",
            "age 24\n",
            "pop_dense 106\n",
            "retail_dense 203\n",
            "crime 1301\n",
            "product 7\n"
          ],
          "name": "stdout"
        }
      ]
    },
    {
      "cell_type": "markdown",
      "metadata": {
        "id": "ARDrQXS0VT2W"
      },
      "source": [
        "One-hot-encoding of area into 4 different columns where \n",
        "The value A becomes [1,0,0,0] and the value B becomes [0,1,0,0]."
      ]
    },
    {
      "cell_type": "code",
      "metadata": {
        "id": "VpIMJsfYVar3",
        "outputId": "b1f27b27-ca52-4b2d-b273-dc33021f97d9",
        "colab": {
          "base_uri": "https://localhost:8080/",
          "height": 102
        }
      },
      "source": [
        "dummies = pd.get_dummies(['a','b','c','d'], prefix='area')\n",
        "print(dummies)"
      ],
      "execution_count": null,
      "outputs": [
        {
          "output_type": "stream",
          "text": [
            "   area_a  area_b  area_c  area_d\n",
            "0       1       0       0       0\n",
            "1       0       1       0       0\n",
            "2       0       0       1       0\n",
            "3       0       0       0       1\n"
          ],
          "name": "stdout"
        }
      ]
    },
    {
      "cell_type": "code",
      "metadata": {
        "id": "gnMnPmp4V_d5"
      },
      "source": [
        "# Using the above logic, generate dummies dataset from df_job\n",
        "dummies = pd.get_dummies(df_job.area, prefix='area')"
      ],
      "execution_count": null,
      "outputs": []
    },
    {
      "cell_type": "code",
      "metadata": {
        "id": "_tAaHSEnXFib"
      },
      "source": [
        "df_job = pd.concat([df_job, dummies], axis=1 )"
      ],
      "execution_count": null,
      "outputs": []
    },
    {
      "cell_type": "code",
      "metadata": {
        "id": "mkd-6nEsXZxl",
        "outputId": "f006f4d7-7a2a-4894-b1a6-dfbb405e59bb",
        "colab": {
          "base_uri": "https://localhost:8080/",
          "height": 204
        }
      },
      "source": [
        "df_job[['id','job','area','income','area_a',\n",
        "                  'area_b','area_c','area_d']].head(5)"
      ],
      "execution_count": null,
      "outputs": [
        {
          "output_type": "execute_result",
          "data": {
            "text/html": [
              "<div>\n",
              "<style scoped>\n",
              "    .dataframe tbody tr th:only-of-type {\n",
              "        vertical-align: middle;\n",
              "    }\n",
              "\n",
              "    .dataframe tbody tr th {\n",
              "        vertical-align: top;\n",
              "    }\n",
              "\n",
              "    .dataframe thead th {\n",
              "        text-align: right;\n",
              "    }\n",
              "</style>\n",
              "<table border=\"1\" class=\"dataframe\">\n",
              "  <thead>\n",
              "    <tr style=\"text-align: right;\">\n",
              "      <th></th>\n",
              "      <th>id</th>\n",
              "      <th>job</th>\n",
              "      <th>area</th>\n",
              "      <th>income</th>\n",
              "      <th>area_a</th>\n",
              "      <th>area_b</th>\n",
              "      <th>area_c</th>\n",
              "      <th>area_d</th>\n",
              "    </tr>\n",
              "  </thead>\n",
              "  <tbody>\n",
              "    <tr>\n",
              "      <th>0</th>\n",
              "      <td>1</td>\n",
              "      <td>vv</td>\n",
              "      <td>c</td>\n",
              "      <td>50876.0</td>\n",
              "      <td>0</td>\n",
              "      <td>0</td>\n",
              "      <td>1</td>\n",
              "      <td>0</td>\n",
              "    </tr>\n",
              "    <tr>\n",
              "      <th>1</th>\n",
              "      <td>2</td>\n",
              "      <td>kd</td>\n",
              "      <td>c</td>\n",
              "      <td>60369.0</td>\n",
              "      <td>0</td>\n",
              "      <td>0</td>\n",
              "      <td>1</td>\n",
              "      <td>0</td>\n",
              "    </tr>\n",
              "    <tr>\n",
              "      <th>2</th>\n",
              "      <td>3</td>\n",
              "      <td>pe</td>\n",
              "      <td>c</td>\n",
              "      <td>55126.0</td>\n",
              "      <td>0</td>\n",
              "      <td>0</td>\n",
              "      <td>1</td>\n",
              "      <td>0</td>\n",
              "    </tr>\n",
              "    <tr>\n",
              "      <th>3</th>\n",
              "      <td>4</td>\n",
              "      <td>11</td>\n",
              "      <td>c</td>\n",
              "      <td>51690.0</td>\n",
              "      <td>0</td>\n",
              "      <td>0</td>\n",
              "      <td>1</td>\n",
              "      <td>0</td>\n",
              "    </tr>\n",
              "    <tr>\n",
              "      <th>4</th>\n",
              "      <td>5</td>\n",
              "      <td>kl</td>\n",
              "      <td>d</td>\n",
              "      <td>28347.0</td>\n",
              "      <td>0</td>\n",
              "      <td>0</td>\n",
              "      <td>0</td>\n",
              "      <td>1</td>\n",
              "    </tr>\n",
              "  </tbody>\n",
              "</table>\n",
              "</div>"
            ],
            "text/plain": [
              "   id job area   income  area_a  area_b  area_c  area_d\n",
              "0   1  vv    c  50876.0       0       0       1       0\n",
              "1   2  kd    c  60369.0       0       0       1       0\n",
              "2   3  pe    c  55126.0       0       0       1       0\n",
              "3   4  11    c  51690.0       0       0       1       0\n",
              "4   5  kl    d  28347.0       0       0       0       1"
            ]
          },
          "metadata": {
            "tags": []
          },
          "execution_count": 46
        }
      ]
    },
    {
      "cell_type": "markdown",
      "metadata": {
        "id": "io3YRUFNYDit"
      },
      "source": [
        "As the categorical has been converted to numeric - drop the area "
      ]
    },
    {
      "cell_type": "code",
      "metadata": {
        "id": "xP6ZOqjkYJwW"
      },
      "source": [
        "df_job.drop('area', axis = 1, inplace= True)"
      ],
      "execution_count": null,
      "outputs": []
    },
    {
      "cell_type": "markdown",
      "metadata": {
        "id": "ZJR6Dc7Iq42r"
      },
      "source": [
        "## 2.3 Grouping, sorting and shuffling"
      ]
    },
    {
      "cell_type": "markdown",
      "metadata": {
        "id": "ysEE3It1rI29"
      },
      "source": [
        "### Shuffling"
      ]
    },
    {
      "cell_type": "code",
      "metadata": {
        "id": "niV07KJBrF5Z"
      },
      "source": [
        "# Uncomment the line below to get the same shuffle each time\n",
        "np. random.seed(42)\n",
        "df = df.reindex(np.random.permutation(df.index))\n",
        "\n",
        "display(df)"
      ],
      "execution_count": null,
      "outputs": []
    },
    {
      "cell_type": "markdown",
      "metadata": {
        "id": "SMGNRUoYsvNL"
      },
      "source": [
        "The following code demonstrates a reindex. Notice how the reindex orders the row indexes."
      ]
    },
    {
      "cell_type": "code",
      "metadata": {
        "id": "9YQ0Qwq5swDu",
        "outputId": "9d67cf7e-e532-4325-8c2c-994d5613274f",
        "colab": {
          "base_uri": "https://localhost:8080/",
          "height": 377
        }
      },
      "source": [
        "df.reset_index(inplace=True, drop= True)\n",
        "df.head(5)"
      ],
      "execution_count": null,
      "outputs": [
        {
          "output_type": "execute_result",
          "data": {
            "text/html": [
              "<div>\n",
              "<style scoped>\n",
              "    .dataframe tbody tr th:only-of-type {\n",
              "        vertical-align: middle;\n",
              "    }\n",
              "\n",
              "    .dataframe tbody tr th {\n",
              "        vertical-align: top;\n",
              "    }\n",
              "\n",
              "    .dataframe thead th {\n",
              "        text-align: right;\n",
              "    }\n",
              "</style>\n",
              "<table border=\"1\" class=\"dataframe\">\n",
              "  <thead>\n",
              "    <tr style=\"text-align: right;\">\n",
              "      <th></th>\n",
              "      <th>mpg</th>\n",
              "      <th>cylinders</th>\n",
              "      <th>displacement</th>\n",
              "      <th>horsepower</th>\n",
              "      <th>weight</th>\n",
              "      <th>acceleration</th>\n",
              "      <th>year</th>\n",
              "      <th>origin</th>\n",
              "      <th>name</th>\n",
              "      <th>mpg_zscore</th>\n",
              "    </tr>\n",
              "  </thead>\n",
              "  <tbody>\n",
              "    <tr>\n",
              "      <th>0</th>\n",
              "      <td>17.0</td>\n",
              "      <td>6</td>\n",
              "      <td>163.0</td>\n",
              "      <td>125.0</td>\n",
              "      <td>3140</td>\n",
              "      <td>13.6</td>\n",
              "      <td>78</td>\n",
              "      <td>2</td>\n",
              "      <td>volvo 264gl</td>\n",
              "      <td>-0.834543</td>\n",
              "    </tr>\n",
              "    <tr>\n",
              "      <th>1</th>\n",
              "      <td>13.0</td>\n",
              "      <td>8</td>\n",
              "      <td>302.0</td>\n",
              "      <td>140.0</td>\n",
              "      <td>4294</td>\n",
              "      <td>16.0</td>\n",
              "      <td>72</td>\n",
              "      <td>1</td>\n",
              "      <td>ford gran torino (sw)</td>\n",
              "      <td>-1.346959</td>\n",
              "    </tr>\n",
              "    <tr>\n",
              "      <th>2</th>\n",
              "      <td>32.2</td>\n",
              "      <td>4</td>\n",
              "      <td>108.0</td>\n",
              "      <td>75.0</td>\n",
              "      <td>2265</td>\n",
              "      <td>15.2</td>\n",
              "      <td>80</td>\n",
              "      <td>3</td>\n",
              "      <td>toyota corolla</td>\n",
              "      <td>1.112638</td>\n",
              "    </tr>\n",
              "    <tr>\n",
              "      <th>3</th>\n",
              "      <td>18.1</td>\n",
              "      <td>6</td>\n",
              "      <td>258.0</td>\n",
              "      <td>120.0</td>\n",
              "      <td>3410</td>\n",
              "      <td>15.1</td>\n",
              "      <td>78</td>\n",
              "      <td>1</td>\n",
              "      <td>amc concord d/l</td>\n",
              "      <td>-0.693628</td>\n",
              "    </tr>\n",
              "    <tr>\n",
              "      <th>4</th>\n",
              "      <td>19.8</td>\n",
              "      <td>6</td>\n",
              "      <td>200.0</td>\n",
              "      <td>85.0</td>\n",
              "      <td>2990</td>\n",
              "      <td>18.2</td>\n",
              "      <td>79</td>\n",
              "      <td>1</td>\n",
              "      <td>mercury zephyr 6</td>\n",
              "      <td>-0.475852</td>\n",
              "    </tr>\n",
              "  </tbody>\n",
              "</table>\n",
              "</div>"
            ],
            "text/plain": [
              "    mpg  cylinders  displacement  ...  origin                   name  mpg_zscore\n",
              "0  17.0          6         163.0  ...       2            volvo 264gl   -0.834543\n",
              "1  13.0          8         302.0  ...       1  ford gran torino (sw)   -1.346959\n",
              "2  32.2          4         108.0  ...       3         toyota corolla    1.112638\n",
              "3  18.1          6         258.0  ...       1        amc concord d/l   -0.693628\n",
              "4  19.8          6         200.0  ...       1       mercury zephyr 6   -0.475852\n",
              "\n",
              "[5 rows x 10 columns]"
            ]
          },
          "metadata": {
            "tags": []
          },
          "execution_count": 61
        }
      ]
    },
    {
      "cell_type": "markdown",
      "metadata": {
        "id": "QwC7za8Ls_zO"
      },
      "source": [
        "### Sorting"
      ]
    },
    {
      "cell_type": "code",
      "metadata": {
        "id": "gPo9K-hctPeg",
        "outputId": "1627de72-d6e0-44ad-db82-080d958209c0",
        "colab": {
          "base_uri": "https://localhost:8080/",
          "height": 372
        }
      },
      "source": [
        "df.sort_values(by= 'name', ascending=True)\n",
        "print(f\"The first car is : {df['name'].iloc[0]}\")\n",
        "pd.set_option('display.max_rows', 5)\n",
        "display(df)"
      ],
      "execution_count": null,
      "outputs": [
        {
          "output_type": "stream",
          "text": [
            "The first car is : volvo 264gl\n"
          ],
          "name": "stdout"
        },
        {
          "output_type": "display_data",
          "data": {
            "text/html": [
              "<div>\n",
              "<style scoped>\n",
              "    .dataframe tbody tr th:only-of-type {\n",
              "        vertical-align: middle;\n",
              "    }\n",
              "\n",
              "    .dataframe tbody tr th {\n",
              "        vertical-align: top;\n",
              "    }\n",
              "\n",
              "    .dataframe thead th {\n",
              "        text-align: right;\n",
              "    }\n",
              "</style>\n",
              "<table border=\"1\" class=\"dataframe\">\n",
              "  <thead>\n",
              "    <tr style=\"text-align: right;\">\n",
              "      <th></th>\n",
              "      <th>mpg</th>\n",
              "      <th>cylinders</th>\n",
              "      <th>displacement</th>\n",
              "      <th>horsepower</th>\n",
              "      <th>weight</th>\n",
              "      <th>acceleration</th>\n",
              "      <th>year</th>\n",
              "      <th>origin</th>\n",
              "      <th>name</th>\n",
              "      <th>mpg_zscore</th>\n",
              "    </tr>\n",
              "  </thead>\n",
              "  <tbody>\n",
              "    <tr>\n",
              "      <th>0</th>\n",
              "      <td>17.0</td>\n",
              "      <td>6</td>\n",
              "      <td>163.0</td>\n",
              "      <td>125.0</td>\n",
              "      <td>3140</td>\n",
              "      <td>13.6</td>\n",
              "      <td>78</td>\n",
              "      <td>2</td>\n",
              "      <td>volvo 264gl</td>\n",
              "      <td>-0.834543</td>\n",
              "    </tr>\n",
              "    <tr>\n",
              "      <th>1</th>\n",
              "      <td>13.0</td>\n",
              "      <td>8</td>\n",
              "      <td>302.0</td>\n",
              "      <td>140.0</td>\n",
              "      <td>4294</td>\n",
              "      <td>16.0</td>\n",
              "      <td>72</td>\n",
              "      <td>1</td>\n",
              "      <td>ford gran torino (sw)</td>\n",
              "      <td>-1.346959</td>\n",
              "    </tr>\n",
              "    <tr>\n",
              "      <th>...</th>\n",
              "      <td>...</td>\n",
              "      <td>...</td>\n",
              "      <td>...</td>\n",
              "      <td>...</td>\n",
              "      <td>...</td>\n",
              "      <td>...</td>\n",
              "      <td>...</td>\n",
              "      <td>...</td>\n",
              "      <td>...</td>\n",
              "      <td>...</td>\n",
              "    </tr>\n",
              "    <tr>\n",
              "      <th>396</th>\n",
              "      <td>37.2</td>\n",
              "      <td>4</td>\n",
              "      <td>86.0</td>\n",
              "      <td>65.0</td>\n",
              "      <td>2019</td>\n",
              "      <td>16.4</td>\n",
              "      <td>80</td>\n",
              "      <td>3</td>\n",
              "      <td>datsun 310</td>\n",
              "      <td>1.753158</td>\n",
              "    </tr>\n",
              "    <tr>\n",
              "      <th>397</th>\n",
              "      <td>13.0</td>\n",
              "      <td>8</td>\n",
              "      <td>350.0</td>\n",
              "      <td>145.0</td>\n",
              "      <td>4055</td>\n",
              "      <td>12.0</td>\n",
              "      <td>76</td>\n",
              "      <td>1</td>\n",
              "      <td>chevy c10</td>\n",
              "      <td>-1.346959</td>\n",
              "    </tr>\n",
              "  </tbody>\n",
              "</table>\n",
              "<p>398 rows × 10 columns</p>\n",
              "</div>"
            ],
            "text/plain": [
              "      mpg  cylinders  displacement  ...  origin                   name  mpg_zscore\n",
              "0    17.0          6         163.0  ...       2            volvo 264gl   -0.834543\n",
              "1    13.0          8         302.0  ...       1  ford gran torino (sw)   -1.346959\n",
              "..    ...        ...           ...  ...     ...                    ...         ...\n",
              "396  37.2          4          86.0  ...       3             datsun 310    1.753158\n",
              "397  13.0          8         350.0  ...       1              chevy c10   -1.346959\n",
              "\n",
              "[398 rows x 10 columns]"
            ]
          },
          "metadata": {
            "tags": []
          }
        }
      ]
    },
    {
      "cell_type": "markdown",
      "metadata": {
        "id": "aCHYF7bxt0Ys"
      },
      "source": [
        "### Grouping Dataset"
      ]
    },
    {
      "cell_type": "code",
      "metadata": {
        "id": "kjGUgRd1t3ie",
        "outputId": "6459ee23-c9dd-4faf-8099-8dff38c24253",
        "colab": {
          "base_uri": "https://localhost:8080/",
          "height": 136
        }
      },
      "source": [
        "g = df.groupby('cylinders')['mpg'].mean()\n",
        "g"
      ],
      "execution_count": null,
      "outputs": [
        {
          "output_type": "execute_result",
          "data": {
            "text/plain": [
              "cylinders\n",
              "3    20.550000\n",
              "4    29.286765\n",
              "5    27.366667\n",
              "6    19.985714\n",
              "8    14.963107\n",
              "Name: mpg, dtype: float64"
            ]
          },
          "metadata": {
            "tags": []
          },
          "execution_count": 63
        }
      ]
    },
    {
      "cell_type": "code",
      "metadata": {
        "id": "drT8kUx-uFwt",
        "outputId": "482b56f2-8ddb-49e4-aee6-c2650f7c1c01",
        "colab": {
          "base_uri": "https://localhost:8080/",
          "height": 102
        }
      },
      "source": [
        "# put it in a directory\n",
        "d = g.to_dict()\n",
        "d"
      ],
      "execution_count": null,
      "outputs": [
        {
          "output_type": "execute_result",
          "data": {
            "text/plain": [
              "{3: 20.55,\n",
              " 4: 29.28676470588236,\n",
              " 5: 27.366666666666664,\n",
              " 6: 19.985714285714288,\n",
              " 8: 14.963106796116508}"
            ]
          },
          "metadata": {
            "tags": []
          },
          "execution_count": 64
        }
      ]
    },
    {
      "cell_type": "code",
      "metadata": {
        "id": "VyRqUjYVuVkX",
        "outputId": "d81aa7df-a1bb-4de7-c3eb-246b717e04d8",
        "colab": {
          "base_uri": "https://localhost:8080/",
          "height": 34
        }
      },
      "source": [
        "# Storing count to dictionary\n",
        "df.groupby('cylinders')['mpg'].count().to_dict()"
      ],
      "execution_count": null,
      "outputs": [
        {
          "output_type": "execute_result",
          "data": {
            "text/plain": [
              "{3: 4, 4: 204, 5: 3, 6: 84, 8: 103}"
            ]
          },
          "metadata": {
            "tags": []
          },
          "execution_count": 65
        }
      ]
    },
    {
      "cell_type": "markdown",
      "metadata": {
        "id": "F0XEM7Szuozp"
      },
      "source": [
        "## 2.4 Using Apply and Map in Pandas"
      ]
    },
    {
      "cell_type": "markdown",
      "metadata": {
        "id": "4FHN6ie0xi4c"
      },
      "source": [
        "The map method in Pandas operates on a single column. You provide map with a dictionary of values to transform the target column."
      ]
    },
    {
      "cell_type": "code",
      "metadata": {
        "id": "uVy8XFZ8xVzQ",
        "outputId": "9be52594-bba9-4f72-ed72-29b932a1f33e",
        "colab": {
          "base_uri": "https://localhost:8080/",
          "height": 521
        }
      },
      "source": [
        "df['origin_name'] = df['origin'].map(\n",
        "        {1: 'North America', 2: 'Europe', 3: 'Asia'}\n",
        ")\n",
        "\n",
        "# Display\n",
        "pd.set_option('display.max_columns', 7)\n",
        "pd.set_option('display.max_rows', 10)\n",
        "display(df)"
      ],
      "execution_count": null,
      "outputs": [
        {
          "output_type": "display_data",
          "data": {
            "text/html": [
              "<div>\n",
              "<style scoped>\n",
              "    .dataframe tbody tr th:only-of-type {\n",
              "        vertical-align: middle;\n",
              "    }\n",
              "\n",
              "    .dataframe tbody tr th {\n",
              "        vertical-align: top;\n",
              "    }\n",
              "\n",
              "    .dataframe thead th {\n",
              "        text-align: right;\n",
              "    }\n",
              "</style>\n",
              "<table border=\"1\" class=\"dataframe\">\n",
              "  <thead>\n",
              "    <tr style=\"text-align: right;\">\n",
              "      <th></th>\n",
              "      <th>mpg</th>\n",
              "      <th>cylinders</th>\n",
              "      <th>displacement</th>\n",
              "      <th>...</th>\n",
              "      <th>name</th>\n",
              "      <th>mpg_zscore</th>\n",
              "      <th>origin_name</th>\n",
              "    </tr>\n",
              "  </thead>\n",
              "  <tbody>\n",
              "    <tr>\n",
              "      <th>0</th>\n",
              "      <td>17.0</td>\n",
              "      <td>6</td>\n",
              "      <td>163.0</td>\n",
              "      <td>...</td>\n",
              "      <td>volvo 264gl</td>\n",
              "      <td>-0.834543</td>\n",
              "      <td>Europe</td>\n",
              "    </tr>\n",
              "    <tr>\n",
              "      <th>1</th>\n",
              "      <td>13.0</td>\n",
              "      <td>8</td>\n",
              "      <td>302.0</td>\n",
              "      <td>...</td>\n",
              "      <td>ford gran torino (sw)</td>\n",
              "      <td>-1.346959</td>\n",
              "      <td>North America</td>\n",
              "    </tr>\n",
              "    <tr>\n",
              "      <th>2</th>\n",
              "      <td>32.2</td>\n",
              "      <td>4</td>\n",
              "      <td>108.0</td>\n",
              "      <td>...</td>\n",
              "      <td>toyota corolla</td>\n",
              "      <td>1.112638</td>\n",
              "      <td>Asia</td>\n",
              "    </tr>\n",
              "    <tr>\n",
              "      <th>3</th>\n",
              "      <td>18.1</td>\n",
              "      <td>6</td>\n",
              "      <td>258.0</td>\n",
              "      <td>...</td>\n",
              "      <td>amc concord d/l</td>\n",
              "      <td>-0.693628</td>\n",
              "      <td>North America</td>\n",
              "    </tr>\n",
              "    <tr>\n",
              "      <th>4</th>\n",
              "      <td>19.8</td>\n",
              "      <td>6</td>\n",
              "      <td>200.0</td>\n",
              "      <td>...</td>\n",
              "      <td>mercury zephyr 6</td>\n",
              "      <td>-0.475852</td>\n",
              "      <td>North America</td>\n",
              "    </tr>\n",
              "    <tr>\n",
              "      <th>...</th>\n",
              "      <td>...</td>\n",
              "      <td>...</td>\n",
              "      <td>...</td>\n",
              "      <td>...</td>\n",
              "      <td>...</td>\n",
              "      <td>...</td>\n",
              "      <td>...</td>\n",
              "    </tr>\n",
              "    <tr>\n",
              "      <th>393</th>\n",
              "      <td>13.0</td>\n",
              "      <td>8</td>\n",
              "      <td>360.0</td>\n",
              "      <td>...</td>\n",
              "      <td>plymouth custom suburb</td>\n",
              "      <td>-1.346959</td>\n",
              "      <td>North America</td>\n",
              "    </tr>\n",
              "    <tr>\n",
              "      <th>394</th>\n",
              "      <td>13.0</td>\n",
              "      <td>8</td>\n",
              "      <td>400.0</td>\n",
              "      <td>...</td>\n",
              "      <td>chevrolet caprice classic</td>\n",
              "      <td>-1.346959</td>\n",
              "      <td>North America</td>\n",
              "    </tr>\n",
              "    <tr>\n",
              "      <th>395</th>\n",
              "      <td>20.3</td>\n",
              "      <td>5</td>\n",
              "      <td>131.0</td>\n",
              "      <td>...</td>\n",
              "      <td>audi 5000</td>\n",
              "      <td>-0.411800</td>\n",
              "      <td>Europe</td>\n",
              "    </tr>\n",
              "    <tr>\n",
              "      <th>396</th>\n",
              "      <td>37.2</td>\n",
              "      <td>4</td>\n",
              "      <td>86.0</td>\n",
              "      <td>...</td>\n",
              "      <td>datsun 310</td>\n",
              "      <td>1.753158</td>\n",
              "      <td>Asia</td>\n",
              "    </tr>\n",
              "    <tr>\n",
              "      <th>397</th>\n",
              "      <td>13.0</td>\n",
              "      <td>8</td>\n",
              "      <td>350.0</td>\n",
              "      <td>...</td>\n",
              "      <td>chevy c10</td>\n",
              "      <td>-1.346959</td>\n",
              "      <td>North America</td>\n",
              "    </tr>\n",
              "  </tbody>\n",
              "</table>\n",
              "<p>398 rows × 11 columns</p>\n",
              "</div>"
            ],
            "text/plain": [
              "      mpg  cylinders  displacement  ...                       name  \\\n",
              "0    17.0          6         163.0  ...                volvo 264gl   \n",
              "1    13.0          8         302.0  ...      ford gran torino (sw)   \n",
              "2    32.2          4         108.0  ...             toyota corolla   \n",
              "3    18.1          6         258.0  ...            amc concord d/l   \n",
              "4    19.8          6         200.0  ...           mercury zephyr 6   \n",
              "..    ...        ...           ...  ...                        ...   \n",
              "393  13.0          8         360.0  ...     plymouth custom suburb   \n",
              "394  13.0          8         400.0  ...  chevrolet caprice classic   \n",
              "395  20.3          5         131.0  ...                  audi 5000   \n",
              "396  37.2          4          86.0  ...                 datsun 310   \n",
              "397  13.0          8         350.0  ...                  chevy c10   \n",
              "\n",
              "     mpg_zscore    origin_name  \n",
              "0     -0.834543         Europe  \n",
              "1     -1.346959  North America  \n",
              "2      1.112638           Asia  \n",
              "3     -0.693628  North America  \n",
              "4     -0.475852  North America  \n",
              "..          ...            ...  \n",
              "393   -1.346959  North America  \n",
              "394   -1.346959  North America  \n",
              "395   -0.411800         Europe  \n",
              "396    1.753158           Asia  \n",
              "397   -1.346959  North America  \n",
              "\n",
              "[398 rows x 11 columns]"
            ]
          },
          "metadata": {
            "tags": []
          }
        }
      ]
    },
    {
      "cell_type": "markdown",
      "metadata": {
        "id": "YLYVnm-XyZx4"
      },
      "source": [
        "### Using Apply with Dataframes\n",
        "\n",
        "The apply function of the data frame can run a function over the entire data frame"
      ]
    },
    {
      "cell_type": "code",
      "metadata": {
        "id": "akhBHOnwygaR",
        "outputId": "c64fdbaa-5fbd-44b8-96c1-e0dbc35ef3c7",
        "colab": {
          "base_uri": "https://localhost:8080/",
          "height": 204
        }
      },
      "source": [
        "# The following code calculates a series called efficiency that is the displacement divided by horsepower.\n",
        "\n",
        "efficiency = df.apply(lambda x: x['displacement'] / x['horsepower'], axis=1)\n",
        "display(efficiency[0:10])"
      ],
      "execution_count": null,
      "outputs": [
        {
          "output_type": "display_data",
          "data": {
            "text/plain": [
              "0    1.304000\n",
              "1    2.157143\n",
              "2    1.440000\n",
              "3    2.150000\n",
              "4    2.352941\n",
              "5    1.410526\n",
              "6    2.120000\n",
              "7    1.363636\n",
              "8    1.300000\n",
              "9    1.272727\n",
              "dtype: float64"
            ]
          },
          "metadata": {
            "tags": []
          }
        }
      ]
    },
    {
      "cell_type": "code",
      "metadata": {
        "id": "eWpGmhKCzMY-"
      },
      "source": [
        "df['efficiency'] = efficiency"
      ],
      "execution_count": null,
      "outputs": []
    },
    {
      "cell_type": "markdown",
      "metadata": {
        "id": "0eU2in64zWlO"
      },
      "source": [
        "### Feature Engineering with Apply and Map\n",
        "\n",
        "In this section, we will see how to calculate a complex feature using map, apply, and grouping. The data set is the following CSV\n",
        "\n",
        "https://www.irs.gov/pub/irs-soi/16zpallagi.csv\n",
        "This URL contains US Government public data for \"SOI Tax Stats - Individual Income Tax Statistics.\" The entry point to the website is here:\n",
        "\n",
        "https://www.irs.gov/statistics/soi-tax-stats-individual-income-tax-statistics-2016-zip-code-data-soi\n",
        "Documentation describing this data is at the above link.\n",
        "\n",
        "STATE - The state (e.g., MO)\n",
        "zipcode - The zipcode (e.g. 63017)\n",
        "agi_stub - Six different brackets of annual income (1 through 6)\n",
        "N1 - The number of tax returns for each of the agi_stubs"
      ]
    },
    {
      "cell_type": "code",
      "metadata": {
        "id": "DB8N7eR6zbs4"
      },
      "source": [
        "agi_file = 'https://www.irs.gov/pub/irs-soi/16zpallagi.csv'"
      ],
      "execution_count": null,
      "outputs": []
    },
    {
      "cell_type": "code",
      "metadata": {
        "id": "MYLkhbFl0vYW"
      },
      "source": [
        "df_agi = pd.read_csv(agi_file)"
      ],
      "execution_count": null,
      "outputs": []
    },
    {
      "cell_type": "code",
      "metadata": {
        "id": "MWyf1CqkL7YB",
        "outputId": "3be35c23-e779-40d3-8b55-591a9f3c9027",
        "colab": {
          "base_uri": "https://localhost:8080/",
          "height": 295
        }
      },
      "source": [
        "# Remove all records that have zip code 0 or 99999\n",
        "df_agi = df_agi.loc[(df_agi['zipcode'] != 0) & (df_agi['zipcode'] != 99999),\n",
        "           ['STATE', 'zipcode', 'agi_stub', 'N1']  ]\n",
        "\n",
        "pd.set_option('display.max_columns', 0)\n",
        "pd.set_option('display.max_rows', 7)\n",
        "\n",
        "display(df_agi)"
      ],
      "execution_count": null,
      "outputs": [
        {
          "output_type": "display_data",
          "data": {
            "text/html": [
              "<div>\n",
              "<style scoped>\n",
              "    .dataframe tbody tr th:only-of-type {\n",
              "        vertical-align: middle;\n",
              "    }\n",
              "\n",
              "    .dataframe tbody tr th {\n",
              "        vertical-align: top;\n",
              "    }\n",
              "\n",
              "    .dataframe thead th {\n",
              "        text-align: right;\n",
              "    }\n",
              "</style>\n",
              "<table border=\"1\" class=\"dataframe\">\n",
              "  <thead>\n",
              "    <tr style=\"text-align: right;\">\n",
              "      <th></th>\n",
              "      <th>STATE</th>\n",
              "      <th>zipcode</th>\n",
              "      <th>agi_stub</th>\n",
              "      <th>N1</th>\n",
              "    </tr>\n",
              "  </thead>\n",
              "  <tbody>\n",
              "    <tr>\n",
              "      <th>6</th>\n",
              "      <td>AL</td>\n",
              "      <td>35004</td>\n",
              "      <td>1</td>\n",
              "      <td>1510</td>\n",
              "    </tr>\n",
              "    <tr>\n",
              "      <th>7</th>\n",
              "      <td>AL</td>\n",
              "      <td>35004</td>\n",
              "      <td>2</td>\n",
              "      <td>1410</td>\n",
              "    </tr>\n",
              "    <tr>\n",
              "      <th>8</th>\n",
              "      <td>AL</td>\n",
              "      <td>35004</td>\n",
              "      <td>3</td>\n",
              "      <td>950</td>\n",
              "    </tr>\n",
              "    <tr>\n",
              "      <th>...</th>\n",
              "      <td>...</td>\n",
              "      <td>...</td>\n",
              "      <td>...</td>\n",
              "      <td>...</td>\n",
              "    </tr>\n",
              "    <tr>\n",
              "      <th>179787</th>\n",
              "      <td>WY</td>\n",
              "      <td>83414</td>\n",
              "      <td>4</td>\n",
              "      <td>0</td>\n",
              "    </tr>\n",
              "    <tr>\n",
              "      <th>179788</th>\n",
              "      <td>WY</td>\n",
              "      <td>83414</td>\n",
              "      <td>5</td>\n",
              "      <td>40</td>\n",
              "    </tr>\n",
              "    <tr>\n",
              "      <th>179789</th>\n",
              "      <td>WY</td>\n",
              "      <td>83414</td>\n",
              "      <td>6</td>\n",
              "      <td>30</td>\n",
              "    </tr>\n",
              "  </tbody>\n",
              "</table>\n",
              "<p>179184 rows × 4 columns</p>\n",
              "</div>"
            ],
            "text/plain": [
              "       STATE  zipcode  agi_stub    N1\n",
              "6         AL    35004         1  1510\n",
              "7         AL    35004         2  1410\n",
              "8         AL    35004         3   950\n",
              "...      ...      ...       ...   ...\n",
              "179787    WY    83414         4     0\n",
              "179788    WY    83414         5    40\n",
              "179789    WY    83414         6    30\n",
              "\n",
              "[179184 rows x 4 columns]"
            ]
          },
          "metadata": {
            "tags": []
          }
        }
      ]
    },
    {
      "cell_type": "code",
      "metadata": {
        "id": "BH5iTsS1Pgna",
        "outputId": "d7c32c3b-4236-41e8-ecc0-fb46b18e8d9c",
        "colab": {
          "base_uri": "https://localhost:8080/",
          "height": 295
        }
      },
      "source": [
        "# Replace AGI with Median value\n",
        "\n",
        "medians = {1:12500,2:37500,3:62500,4:87500,5:112500,6:212500}\n",
        "\n",
        "df_agi['agi_stub'] = df_agi.agi_stub.map(medians)\n",
        "\n",
        "pd.set_option('display.max_columns', 0)\n",
        "pd.set_option('display.max_rows', 7)\n",
        "\n",
        "display(df_agi)"
      ],
      "execution_count": null,
      "outputs": [
        {
          "output_type": "display_data",
          "data": {
            "text/html": [
              "<div>\n",
              "<style scoped>\n",
              "    .dataframe tbody tr th:only-of-type {\n",
              "        vertical-align: middle;\n",
              "    }\n",
              "\n",
              "    .dataframe tbody tr th {\n",
              "        vertical-align: top;\n",
              "    }\n",
              "\n",
              "    .dataframe thead th {\n",
              "        text-align: right;\n",
              "    }\n",
              "</style>\n",
              "<table border=\"1\" class=\"dataframe\">\n",
              "  <thead>\n",
              "    <tr style=\"text-align: right;\">\n",
              "      <th></th>\n",
              "      <th>STATE</th>\n",
              "      <th>zipcode</th>\n",
              "      <th>agi_stub</th>\n",
              "      <th>N1</th>\n",
              "    </tr>\n",
              "  </thead>\n",
              "  <tbody>\n",
              "    <tr>\n",
              "      <th>6</th>\n",
              "      <td>AL</td>\n",
              "      <td>35004</td>\n",
              "      <td>12500</td>\n",
              "      <td>1510</td>\n",
              "    </tr>\n",
              "    <tr>\n",
              "      <th>7</th>\n",
              "      <td>AL</td>\n",
              "      <td>35004</td>\n",
              "      <td>37500</td>\n",
              "      <td>1410</td>\n",
              "    </tr>\n",
              "    <tr>\n",
              "      <th>8</th>\n",
              "      <td>AL</td>\n",
              "      <td>35004</td>\n",
              "      <td>62500</td>\n",
              "      <td>950</td>\n",
              "    </tr>\n",
              "    <tr>\n",
              "      <th>...</th>\n",
              "      <td>...</td>\n",
              "      <td>...</td>\n",
              "      <td>...</td>\n",
              "      <td>...</td>\n",
              "    </tr>\n",
              "    <tr>\n",
              "      <th>179787</th>\n",
              "      <td>WY</td>\n",
              "      <td>83414</td>\n",
              "      <td>87500</td>\n",
              "      <td>0</td>\n",
              "    </tr>\n",
              "    <tr>\n",
              "      <th>179788</th>\n",
              "      <td>WY</td>\n",
              "      <td>83414</td>\n",
              "      <td>112500</td>\n",
              "      <td>40</td>\n",
              "    </tr>\n",
              "    <tr>\n",
              "      <th>179789</th>\n",
              "      <td>WY</td>\n",
              "      <td>83414</td>\n",
              "      <td>212500</td>\n",
              "      <td>30</td>\n",
              "    </tr>\n",
              "  </tbody>\n",
              "</table>\n",
              "<p>179184 rows × 4 columns</p>\n",
              "</div>"
            ],
            "text/plain": [
              "       STATE  zipcode  agi_stub    N1\n",
              "6         AL    35004     12500  1510\n",
              "7         AL    35004     37500  1410\n",
              "8         AL    35004     62500   950\n",
              "...      ...      ...       ...   ...\n",
              "179787    WY    83414     87500     0\n",
              "179788    WY    83414    112500    40\n",
              "179789    WY    83414    212500    30\n",
              "\n",
              "[179184 rows x 4 columns]"
            ]
          },
          "metadata": {
            "tags": []
          }
        }
      ]
    },
    {
      "cell_type": "code",
      "metadata": {
        "id": "VxGzYc-6QNQq"
      },
      "source": [
        "# group by zip code\n",
        "groups = df_agi.groupby('zipcode')"
      ],
      "execution_count": null,
      "outputs": []
    },
    {
      "cell_type": "code",
      "metadata": {
        "id": "ReUZxRAeQb56",
        "outputId": "e485e77f-f6c9-43fe-ab9e-c36f51e65373",
        "colab": {
          "base_uri": "https://localhost:8080/",
          "height": 34
        }
      },
      "source": [
        "groups"
      ],
      "execution_count": null,
      "outputs": [
        {
          "output_type": "execute_result",
          "data": {
            "text/plain": [
              "<pandas.core.groupby.generic.DataFrameGroupBy object at 0x7f751523ff28>"
            ]
          },
          "metadata": {
            "tags": []
          },
          "execution_count": 84
        }
      ]
    },
    {
      "cell_type": "code",
      "metadata": {
        "id": "O-TnY9J5QpBu"
      },
      "source": [
        "# Calculate AGI estimate - Apply lambda across groups\n",
        "\n",
        "df_agi = pd.DataFrame(groups.apply(\n",
        "    lambda x: sum(x['N1'] * x['agi_stub']) / sum(x['N1']))).reset_index()"
      ],
      "execution_count": null,
      "outputs": []
    },
    {
      "cell_type": "code",
      "metadata": {
        "id": "3cFxnd2BSSmi"
      },
      "source": [
        "df_agi.columns = ['zipcode','agi_estimate']"
      ],
      "execution_count": null,
      "outputs": []
    },
    {
      "cell_type": "code",
      "metadata": {
        "id": "TiXBeUBHSXZh",
        "outputId": "082402ef-0265-4845-ddf9-c2474ae53a1f",
        "colab": {
          "base_uri": "https://localhost:8080/",
          "height": 419
        }
      },
      "source": [
        "pd.set_option('display.max_columns', 0)\n",
        "pd.set_option('display.max_rows', 10)\n",
        "\n",
        "display(df_agi)"
      ],
      "execution_count": null,
      "outputs": [
        {
          "output_type": "display_data",
          "data": {
            "text/html": [
              "<div>\n",
              "<style scoped>\n",
              "    .dataframe tbody tr th:only-of-type {\n",
              "        vertical-align: middle;\n",
              "    }\n",
              "\n",
              "    .dataframe tbody tr th {\n",
              "        vertical-align: top;\n",
              "    }\n",
              "\n",
              "    .dataframe thead th {\n",
              "        text-align: right;\n",
              "    }\n",
              "</style>\n",
              "<table border=\"1\" class=\"dataframe\">\n",
              "  <thead>\n",
              "    <tr style=\"text-align: right;\">\n",
              "      <th></th>\n",
              "      <th>zipcode</th>\n",
              "      <th>agi_estimate</th>\n",
              "    </tr>\n",
              "  </thead>\n",
              "  <tbody>\n",
              "    <tr>\n",
              "      <th>0</th>\n",
              "      <td>1001</td>\n",
              "      <td>52895.322940</td>\n",
              "    </tr>\n",
              "    <tr>\n",
              "      <th>1</th>\n",
              "      <td>1002</td>\n",
              "      <td>64528.451001</td>\n",
              "    </tr>\n",
              "    <tr>\n",
              "      <th>2</th>\n",
              "      <td>1003</td>\n",
              "      <td>15441.176471</td>\n",
              "    </tr>\n",
              "    <tr>\n",
              "      <th>3</th>\n",
              "      <td>1005</td>\n",
              "      <td>54694.092827</td>\n",
              "    </tr>\n",
              "    <tr>\n",
              "      <th>4</th>\n",
              "      <td>1007</td>\n",
              "      <td>63654.353562</td>\n",
              "    </tr>\n",
              "    <tr>\n",
              "      <th>...</th>\n",
              "      <td>...</td>\n",
              "      <td>...</td>\n",
              "    </tr>\n",
              "    <tr>\n",
              "      <th>29867</th>\n",
              "      <td>99921</td>\n",
              "      <td>48042.168675</td>\n",
              "    </tr>\n",
              "    <tr>\n",
              "      <th>29868</th>\n",
              "      <td>99922</td>\n",
              "      <td>32954.545455</td>\n",
              "    </tr>\n",
              "    <tr>\n",
              "      <th>29869</th>\n",
              "      <td>99925</td>\n",
              "      <td>45639.534884</td>\n",
              "    </tr>\n",
              "    <tr>\n",
              "      <th>29870</th>\n",
              "      <td>99926</td>\n",
              "      <td>41136.363636</td>\n",
              "    </tr>\n",
              "    <tr>\n",
              "      <th>29871</th>\n",
              "      <td>99929</td>\n",
              "      <td>45911.214953</td>\n",
              "    </tr>\n",
              "  </tbody>\n",
              "</table>\n",
              "<p>29872 rows × 2 columns</p>\n",
              "</div>"
            ],
            "text/plain": [
              "       zipcode  agi_estimate\n",
              "0         1001  52895.322940\n",
              "1         1002  64528.451001\n",
              "2         1003  15441.176471\n",
              "3         1005  54694.092827\n",
              "4         1007  63654.353562\n",
              "...        ...           ...\n",
              "29867    99921  48042.168675\n",
              "29868    99922  32954.545455\n",
              "29869    99925  45639.534884\n",
              "29870    99926  41136.363636\n",
              "29871    99929  45911.214953\n",
              "\n",
              "[29872 rows x 2 columns]"
            ]
          },
          "metadata": {
            "tags": []
          }
        }
      ]
    },
    {
      "cell_type": "markdown",
      "metadata": {
        "id": "6vf2C0O-S9kf"
      },
      "source": [
        "# Part 2.5: Feature Engineering\n",
        "\n",
        "You can obtain your own key from this link: Google API Keys.\n",
        "\n",
        "https://developers.google.com/maps/documentation/embed/get-api-key\n"
      ]
    },
    {
      "cell_type": "markdown",
      "metadata": {
        "id": "eJ7dAkWRd8HB"
      },
      "source": [
        "# Tensorflow Keras\n"
      ]
    },
    {
      "cell_type": "code",
      "metadata": {
        "id": "38J7dEted2QF"
      },
      "source": [
        "from tensorflow.keras.models import Sequential\n",
        "from tensorflow.keras.layers import Dense, Activation\n",
        "import numpy as np"
      ],
      "execution_count": null,
      "outputs": []
    },
    {
      "cell_type": "code",
      "metadata": {
        "id": "C3Y27a9weR2A"
      },
      "source": [
        "# create XOR dataset\n",
        "x = np.array([\n",
        "            [0, 0],\n",
        "            [1, 0],\n",
        "            [0, 1],\n",
        "            [1, 1]\n",
        "            ])\n",
        "\n",
        "y = np.array([\n",
        "              0,\n",
        "              1,\n",
        "              1,\n",
        "              0\n",
        "            ])"
      ],
      "execution_count": null,
      "outputs": []
    },
    {
      "cell_type": "code",
      "metadata": {
        "id": "eXzHSlNVe6jk",
        "outputId": "2e2531e4-f894-4cf8-d098-824e028d55b9",
        "colab": {
          "base_uri": "https://localhost:8080/",
          "height": 428
        }
      },
      "source": [
        "# Build the network\n",
        "#SGD = optimizer.SGD(Lr = 0.01, decay = le-6, momentum =0.9, nestrov = True)\n",
        "\n",
        "done = False\n",
        "cycle = 1\n",
        "\n",
        "while not done:\n",
        "    print(\"Cycle#{}\".format(cycle))\n",
        "    cycle+=1\n",
        "    model = Sequential()\n",
        "    model.add(Dense(2, input_dim = 2, activation='relu'))\n",
        "    model.add(Dense(1))\n",
        "    model.compile(loss = 'mean_squared_error', optimizer= 'adam')\n",
        "    model.fit(x, y, verbose = 0, epochs = 10000)\n",
        "\n",
        "    # Predict\n",
        "    pred = model.predict(x)\n",
        "\n",
        "    # check if successful?  It takes several runs with this small of a network\n",
        "    done = pred[0]<0.01 and pred[3]<0.01 and pred[1] > 0.9 and pred[2] > 0.9\n",
        "    print(pred)\n"
      ],
      "execution_count": null,
      "outputs": [
        {
          "output_type": "stream",
          "text": [
            "Cycle#1\n",
            "[[0.49999997]\n",
            " [0.49999997]\n",
            " [0.49999997]\n",
            " [0.49999997]]\n",
            "Cycle#2\n",
            "WARNING:tensorflow:5 out of the last 5 calls to <function Model.make_predict_function.<locals>.predict_function at 0x7f7516140ae8> triggered tf.function retracing. Tracing is expensive and the excessive number of tracings could be due to (1) creating @tf.function repeatedly in a loop, (2) passing tensors with different shapes, (3) passing Python objects instead of tensors. For (1), please define your @tf.function outside of the loop. For (2), @tf.function has experimental_relax_shapes=True option that relaxes argument shapes that can avoid unnecessary retracing. For (3), please refer to https://www.tensorflow.org/tutorials/customization/performance#python_or_tensor_args and https://www.tensorflow.org/api_docs/python/tf/function for  more details.\n",
            "[[0.49999994]\n",
            " [0.49999997]\n",
            " [0.5       ]\n",
            " [0.5       ]]\n",
            "Cycle#3\n",
            "WARNING:tensorflow:6 out of the last 6 calls to <function Model.make_predict_function.<locals>.predict_function at 0x7f7514715f28> triggered tf.function retracing. Tracing is expensive and the excessive number of tracings could be due to (1) creating @tf.function repeatedly in a loop, (2) passing tensors with different shapes, (3) passing Python objects instead of tensors. For (1), please define your @tf.function outside of the loop. For (2), @tf.function has experimental_relax_shapes=True option that relaxes argument shapes that can avoid unnecessary retracing. For (3), please refer to https://www.tensorflow.org/tutorials/customization/performance#python_or_tensor_args and https://www.tensorflow.org/api_docs/python/tf/function for  more details.\n",
            "[[6.6666657e-01]\n",
            " [6.6666657e-01]\n",
            " [6.6666657e-01]\n",
            " [5.9604645e-08]]\n",
            "Cycle#4\n",
            "WARNING:tensorflow:7 out of the last 7 calls to <function Model.make_predict_function.<locals>.predict_function at 0x7f75135fe840> triggered tf.function retracing. Tracing is expensive and the excessive number of tracings could be due to (1) creating @tf.function repeatedly in a loop, (2) passing tensors with different shapes, (3) passing Python objects instead of tensors. For (1), please define your @tf.function outside of the loop. For (2), @tf.function has experimental_relax_shapes=True option that relaxes argument shapes that can avoid unnecessary retracing. For (3), please refer to https://www.tensorflow.org/tutorials/customization/performance#python_or_tensor_args and https://www.tensorflow.org/api_docs/python/tf/function for  more details.\n",
            "[[ 6.2698092e-08]\n",
            " [ 1.0000000e+00]\n",
            " [ 9.9999994e-01]\n",
            " [-2.1949424e-08]]\n"
          ],
          "name": "stdout"
        }
      ]
    },
    {
      "cell_type": "code",
      "metadata": {
        "id": "kQ1PnhyUibKM",
        "outputId": "8f08968a-2bf2-4c7a-b1a6-5f5a7f632520",
        "colab": {
          "base_uri": "https://localhost:8080/",
          "height": 85
        }
      },
      "source": [
        "pred"
      ],
      "execution_count": null,
      "outputs": [
        {
          "output_type": "execute_result",
          "data": {
            "text/plain": [
              "array([[ 6.2698092e-08],\n",
              "       [ 1.0000000e+00],\n",
              "       [ 9.9999994e-01],\n",
              "       [-2.1949424e-08]], dtype=float32)"
            ]
          },
          "metadata": {
            "tags": []
          },
          "execution_count": 51
        }
      ]
    }
  ]
}