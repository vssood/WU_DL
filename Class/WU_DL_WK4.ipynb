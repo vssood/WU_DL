{
  "nbformat": 4,
  "nbformat_minor": 0,
  "metadata": {
    "colab": {
      "name": "WU_DL_WK4.ipynb",
      "provenance": [],
      "authorship_tag": "ABX9TyMscJWp8nwRe2BEk8Pg/Upf",
      "include_colab_link": true
    },
    "kernelspec": {
      "name": "python3",
      "display_name": "Python 3"
    }
  },
  "cells": [
    {
      "cell_type": "markdown",
      "metadata": {
        "id": "view-in-github",
        "colab_type": "text"
      },
      "source": [
        "<a href=\"https://colab.research.google.com/github/vssood/WU_DL/blob/master/Class/WU_DL_WK4.ipynb\" target=\"_parent\"><img src=\"https://colab.research.google.com/assets/colab-badge.svg\" alt=\"Open In Colab\"/></a>"
      ]
    },
    {
      "cell_type": "markdown",
      "metadata": {
        "id": "96CNnf4l-4Kr"
      },
      "source": [
        "# Module 4 Material"
      ]
    },
    {
      "cell_type": "markdown",
      "metadata": {
        "id": "ml0swchc-4B_"
      },
      "source": [
        "## Part 4.1: Encoding a Feature Vector for Keras Deep Learning"
      ]
    },
    {
      "cell_type": "code",
      "metadata": {
        "id": "fAcA9Vir8-84"
      },
      "source": [
        "file_path = \"https://data.heatonresearch.com/data/t81-558/jh-simple-dataset.csv\""
      ],
      "execution_count": 140,
      "outputs": []
    },
    {
      "cell_type": "code",
      "metadata": {
        "id": "VP-IFCfW-PtM"
      },
      "source": [
        "import pandas as pd\n",
        "\n",
        "from scipy.stats import  zscore\n",
        "import scipy.stats as stats\n",
        "\n",
        "import matplotlib.pyplot as plt\n",
        "import math\n",
        "import numpy as np\n",
        "\n",
        "from sklearn.model_selection import train_test_split\n",
        "from sklearn.metrics import roc_curve, auc\n",
        "from sklearn.model_selection import train_test_split\n",
        "from sklearn import metrics\n",
        "from sklearn.metrics import confusion_matrix\n",
        "from sklearn import svm, datasets\n",
        "\n",
        "import tensorflow.keras\n",
        "from tensorflow.keras.models import Sequential\n",
        "from tensorflow.keras.layers import Dense, Activation\n",
        "from tensorflow.keras.callbacks import EarlyStopping\n",
        "\n",
        "from IPython.display import display\n"
      ],
      "execution_count": 141,
      "outputs": []
    },
    {
      "cell_type": "code",
      "metadata": {
        "id": "PSWqe5pg_S7F"
      },
      "source": [
        "df = pd.read_csv(file_path , na_values=[\"NA\", \"?\"])"
      ],
      "execution_count": 142,
      "outputs": []
    },
    {
      "cell_type": "code",
      "metadata": {
        "id": "cpsFT4sT_-sm",
        "outputId": "53e72eab-f439-4745-bb6b-ccfc22ea9160",
        "colab": {
          "base_uri": "https://localhost:8080/",
          "height": 439
        }
      },
      "source": [
        "# pd.set_option('display.max_columns',  0)\n",
        "# pd.set_option('display.max_rows', 5)\n",
        "display(df)"
      ],
      "execution_count": 143,
      "outputs": [
        {
          "output_type": "display_data",
          "data": {
            "text/html": [
              "<div>\n",
              "<style scoped>\n",
              "    .dataframe tbody tr th:only-of-type {\n",
              "        vertical-align: middle;\n",
              "    }\n",
              "\n",
              "    .dataframe tbody tr th {\n",
              "        vertical-align: top;\n",
              "    }\n",
              "\n",
              "    .dataframe thead th {\n",
              "        text-align: right;\n",
              "    }\n",
              "</style>\n",
              "<table border=\"1\" class=\"dataframe\">\n",
              "  <thead>\n",
              "    <tr style=\"text-align: right;\">\n",
              "      <th></th>\n",
              "      <th>id</th>\n",
              "      <th>job</th>\n",
              "      <th>area</th>\n",
              "      <th>income</th>\n",
              "      <th>aspect</th>\n",
              "      <th>subscriptions</th>\n",
              "      <th>dist_healthy</th>\n",
              "      <th>save_rate</th>\n",
              "      <th>dist_unhealthy</th>\n",
              "      <th>age</th>\n",
              "      <th>pop_dense</th>\n",
              "      <th>retail_dense</th>\n",
              "      <th>crime</th>\n",
              "      <th>product</th>\n",
              "    </tr>\n",
              "  </thead>\n",
              "  <tbody>\n",
              "    <tr>\n",
              "      <th>0</th>\n",
              "      <td>1</td>\n",
              "      <td>vv</td>\n",
              "      <td>c</td>\n",
              "      <td>50876.0</td>\n",
              "      <td>13.100000</td>\n",
              "      <td>1</td>\n",
              "      <td>9.017895</td>\n",
              "      <td>35</td>\n",
              "      <td>11.738935</td>\n",
              "      <td>49</td>\n",
              "      <td>0.885827</td>\n",
              "      <td>0.492126</td>\n",
              "      <td>0.071100</td>\n",
              "      <td>b</td>\n",
              "    </tr>\n",
              "    <tr>\n",
              "      <th>1</th>\n",
              "      <td>2</td>\n",
              "      <td>kd</td>\n",
              "      <td>c</td>\n",
              "      <td>60369.0</td>\n",
              "      <td>18.625000</td>\n",
              "      <td>2</td>\n",
              "      <td>7.766643</td>\n",
              "      <td>59</td>\n",
              "      <td>6.805396</td>\n",
              "      <td>51</td>\n",
              "      <td>0.874016</td>\n",
              "      <td>0.342520</td>\n",
              "      <td>0.400809</td>\n",
              "      <td>c</td>\n",
              "    </tr>\n",
              "    <tr>\n",
              "      <th>2</th>\n",
              "      <td>3</td>\n",
              "      <td>pe</td>\n",
              "      <td>c</td>\n",
              "      <td>55126.0</td>\n",
              "      <td>34.766667</td>\n",
              "      <td>1</td>\n",
              "      <td>3.632069</td>\n",
              "      <td>6</td>\n",
              "      <td>13.671772</td>\n",
              "      <td>44</td>\n",
              "      <td>0.944882</td>\n",
              "      <td>0.724409</td>\n",
              "      <td>0.207723</td>\n",
              "      <td>b</td>\n",
              "    </tr>\n",
              "    <tr>\n",
              "      <th>3</th>\n",
              "      <td>4</td>\n",
              "      <td>11</td>\n",
              "      <td>c</td>\n",
              "      <td>51690.0</td>\n",
              "      <td>15.808333</td>\n",
              "      <td>1</td>\n",
              "      <td>5.372942</td>\n",
              "      <td>16</td>\n",
              "      <td>4.333286</td>\n",
              "      <td>50</td>\n",
              "      <td>0.889764</td>\n",
              "      <td>0.444882</td>\n",
              "      <td>0.361216</td>\n",
              "      <td>b</td>\n",
              "    </tr>\n",
              "    <tr>\n",
              "      <th>4</th>\n",
              "      <td>5</td>\n",
              "      <td>kl</td>\n",
              "      <td>d</td>\n",
              "      <td>28347.0</td>\n",
              "      <td>40.941667</td>\n",
              "      <td>3</td>\n",
              "      <td>3.822477</td>\n",
              "      <td>20</td>\n",
              "      <td>5.967121</td>\n",
              "      <td>38</td>\n",
              "      <td>0.744094</td>\n",
              "      <td>0.661417</td>\n",
              "      <td>0.068033</td>\n",
              "      <td>a</td>\n",
              "    </tr>\n",
              "    <tr>\n",
              "      <th>...</th>\n",
              "      <td>...</td>\n",
              "      <td>...</td>\n",
              "      <td>...</td>\n",
              "      <td>...</td>\n",
              "      <td>...</td>\n",
              "      <td>...</td>\n",
              "      <td>...</td>\n",
              "      <td>...</td>\n",
              "      <td>...</td>\n",
              "      <td>...</td>\n",
              "      <td>...</td>\n",
              "      <td>...</td>\n",
              "      <td>...</td>\n",
              "      <td>...</td>\n",
              "    </tr>\n",
              "    <tr>\n",
              "      <th>1995</th>\n",
              "      <td>1996</td>\n",
              "      <td>vv</td>\n",
              "      <td>c</td>\n",
              "      <td>51017.0</td>\n",
              "      <td>38.233333</td>\n",
              "      <td>1</td>\n",
              "      <td>5.454545</td>\n",
              "      <td>34</td>\n",
              "      <td>14.013489</td>\n",
              "      <td>41</td>\n",
              "      <td>0.881890</td>\n",
              "      <td>0.744094</td>\n",
              "      <td>0.104838</td>\n",
              "      <td>b</td>\n",
              "    </tr>\n",
              "    <tr>\n",
              "      <th>1996</th>\n",
              "      <td>1997</td>\n",
              "      <td>kl</td>\n",
              "      <td>d</td>\n",
              "      <td>26576.0</td>\n",
              "      <td>33.358333</td>\n",
              "      <td>2</td>\n",
              "      <td>3.632069</td>\n",
              "      <td>20</td>\n",
              "      <td>8.380497</td>\n",
              "      <td>38</td>\n",
              "      <td>0.944882</td>\n",
              "      <td>0.877953</td>\n",
              "      <td>0.063851</td>\n",
              "      <td>a</td>\n",
              "    </tr>\n",
              "    <tr>\n",
              "      <th>1997</th>\n",
              "      <td>1998</td>\n",
              "      <td>kl</td>\n",
              "      <td>d</td>\n",
              "      <td>28595.0</td>\n",
              "      <td>39.425000</td>\n",
              "      <td>3</td>\n",
              "      <td>7.168218</td>\n",
              "      <td>99</td>\n",
              "      <td>4.626950</td>\n",
              "      <td>36</td>\n",
              "      <td>0.759843</td>\n",
              "      <td>0.744094</td>\n",
              "      <td>0.098703</td>\n",
              "      <td>f</td>\n",
              "    </tr>\n",
              "    <tr>\n",
              "      <th>1998</th>\n",
              "      <td>1999</td>\n",
              "      <td>qp</td>\n",
              "      <td>c</td>\n",
              "      <td>67949.0</td>\n",
              "      <td>5.733333</td>\n",
              "      <td>0</td>\n",
              "      <td>8.936292</td>\n",
              "      <td>26</td>\n",
              "      <td>3.281439</td>\n",
              "      <td>46</td>\n",
              "      <td>0.909449</td>\n",
              "      <td>0.598425</td>\n",
              "      <td>0.117803</td>\n",
              "      <td>c</td>\n",
              "    </tr>\n",
              "    <tr>\n",
              "      <th>1999</th>\n",
              "      <td>2000</td>\n",
              "      <td>pe</td>\n",
              "      <td>c</td>\n",
              "      <td>61467.0</td>\n",
              "      <td>16.891667</td>\n",
              "      <td>0</td>\n",
              "      <td>4.312097</td>\n",
              "      <td>8</td>\n",
              "      <td>9.405648</td>\n",
              "      <td>48</td>\n",
              "      <td>0.925197</td>\n",
              "      <td>0.539370</td>\n",
              "      <td>0.451973</td>\n",
              "      <td>c</td>\n",
              "    </tr>\n",
              "  </tbody>\n",
              "</table>\n",
              "<p>2000 rows × 14 columns</p>\n",
              "</div>"
            ],
            "text/plain": [
              "        id job area   income  ...  pop_dense  retail_dense     crime  product\n",
              "0        1  vv    c  50876.0  ...   0.885827      0.492126  0.071100        b\n",
              "1        2  kd    c  60369.0  ...   0.874016      0.342520  0.400809        c\n",
              "2        3  pe    c  55126.0  ...   0.944882      0.724409  0.207723        b\n",
              "3        4  11    c  51690.0  ...   0.889764      0.444882  0.361216        b\n",
              "4        5  kl    d  28347.0  ...   0.744094      0.661417  0.068033        a\n",
              "...    ...  ..  ...      ...  ...        ...           ...       ...      ...\n",
              "1995  1996  vv    c  51017.0  ...   0.881890      0.744094  0.104838        b\n",
              "1996  1997  kl    d  26576.0  ...   0.944882      0.877953  0.063851        a\n",
              "1997  1998  kl    d  28595.0  ...   0.759843      0.744094  0.098703        f\n",
              "1998  1999  qp    c  67949.0  ...   0.909449      0.598425  0.117803        c\n",
              "1999  2000  pe    c  61467.0  ...   0.925197      0.539370  0.451973        c\n",
              "\n",
              "[2000 rows x 14 columns]"
            ]
          },
          "metadata": {
            "tags": []
          }
        }
      ]
    },
    {
      "cell_type": "markdown",
      "metadata": {
        "id": "8aX0Ie_uAm3B"
      },
      "source": [
        "Product column is the predictor - y\n",
        "\n",
        "remove id \n",
        "\n",
        "job & area - convert to one hot vector \n",
        "\n",
        "look for missing value"
      ]
    },
    {
      "cell_type": "code",
      "metadata": {
        "id": "SqTRjjLnBA9F",
        "outputId": "c0303872-5f19-4be9-8f7b-a2f5208be8c9",
        "colab": {
          "base_uri": "https://localhost:8080/",
          "height": 317
        }
      },
      "source": [
        "df.describe()"
      ],
      "execution_count": 144,
      "outputs": [
        {
          "output_type": "execute_result",
          "data": {
            "text/html": [
              "<div>\n",
              "<style scoped>\n",
              "    .dataframe tbody tr th:only-of-type {\n",
              "        vertical-align: middle;\n",
              "    }\n",
              "\n",
              "    .dataframe tbody tr th {\n",
              "        vertical-align: top;\n",
              "    }\n",
              "\n",
              "    .dataframe thead th {\n",
              "        text-align: right;\n",
              "    }\n",
              "</style>\n",
              "<table border=\"1\" class=\"dataframe\">\n",
              "  <thead>\n",
              "    <tr style=\"text-align: right;\">\n",
              "      <th></th>\n",
              "      <th>id</th>\n",
              "      <th>income</th>\n",
              "      <th>aspect</th>\n",
              "      <th>subscriptions</th>\n",
              "      <th>dist_healthy</th>\n",
              "      <th>save_rate</th>\n",
              "      <th>dist_unhealthy</th>\n",
              "      <th>age</th>\n",
              "      <th>pop_dense</th>\n",
              "      <th>retail_dense</th>\n",
              "      <th>crime</th>\n",
              "    </tr>\n",
              "  </thead>\n",
              "  <tbody>\n",
              "    <tr>\n",
              "      <th>count</th>\n",
              "      <td>2000.000000</td>\n",
              "      <td>1941.000000</td>\n",
              "      <td>2000.000000</td>\n",
              "      <td>2000.000000</td>\n",
              "      <td>2000.000000</td>\n",
              "      <td>2000.000000</td>\n",
              "      <td>2000.000000</td>\n",
              "      <td>2000.000000</td>\n",
              "      <td>2000.000000</td>\n",
              "      <td>2000.000000</td>\n",
              "      <td>2000.000000</td>\n",
              "    </tr>\n",
              "    <tr>\n",
              "      <th>mean</th>\n",
              "      <td>1000.500000</td>\n",
              "      <td>56924.861927</td>\n",
              "      <td>21.135679</td>\n",
              "      <td>1.199000</td>\n",
              "      <td>9.295306</td>\n",
              "      <td>47.549500</td>\n",
              "      <td>14.316942</td>\n",
              "      <td>45.836500</td>\n",
              "      <td>0.879758</td>\n",
              "      <td>0.563258</td>\n",
              "      <td>0.275939</td>\n",
              "    </tr>\n",
              "    <tr>\n",
              "      <th>std</th>\n",
              "      <td>577.494589</td>\n",
              "      <td>10188.938399</td>\n",
              "      <td>12.088238</td>\n",
              "      <td>0.954911</td>\n",
              "      <td>5.731798</td>\n",
              "      <td>58.177598</td>\n",
              "      <td>8.209951</td>\n",
              "      <td>3.703867</td>\n",
              "      <td>0.076570</td>\n",
              "      <td>0.152759</td>\n",
              "      <td>0.182886</td>\n",
              "    </tr>\n",
              "    <tr>\n",
              "      <th>min</th>\n",
              "      <td>1.000000</td>\n",
              "      <td>19846.000000</td>\n",
              "      <td>4.000000</td>\n",
              "      <td>0.000000</td>\n",
              "      <td>2.000000</td>\n",
              "      <td>-119.000000</td>\n",
              "      <td>2.160180</td>\n",
              "      <td>29.000000</td>\n",
              "      <td>0.492126</td>\n",
              "      <td>0.000000</td>\n",
              "      <td>0.000000</td>\n",
              "    </tr>\n",
              "    <tr>\n",
              "      <th>25%</th>\n",
              "      <td>500.750000</td>\n",
              "      <td>51336.000000</td>\n",
              "      <td>10.608333</td>\n",
              "      <td>1.000000</td>\n",
              "      <td>4.937724</td>\n",
              "      <td>7.000000</td>\n",
              "      <td>7.858578</td>\n",
              "      <td>44.000000</td>\n",
              "      <td>0.838583</td>\n",
              "      <td>0.472441</td>\n",
              "      <td>0.141712</td>\n",
              "    </tr>\n",
              "    <tr>\n",
              "      <th>50%</th>\n",
              "      <td>1000.500000</td>\n",
              "      <td>58633.000000</td>\n",
              "      <td>18.083333</td>\n",
              "      <td>1.000000</td>\n",
              "      <td>8.065855</td>\n",
              "      <td>31.000000</td>\n",
              "      <td>12.376985</td>\n",
              "      <td>47.000000</td>\n",
              "      <td>0.889764</td>\n",
              "      <td>0.562992</td>\n",
              "      <td>0.241322</td>\n",
              "    </tr>\n",
              "    <tr>\n",
              "      <th>75%</th>\n",
              "      <td>1500.250000</td>\n",
              "      <td>64407.000000</td>\n",
              "      <td>32.925000</td>\n",
              "      <td>2.000000</td>\n",
              "      <td>12.227631</td>\n",
              "      <td>70.000000</td>\n",
              "      <td>19.312772</td>\n",
              "      <td>49.000000</td>\n",
              "      <td>0.933071</td>\n",
              "      <td>0.673228</td>\n",
              "      <td>0.356615</td>\n",
              "    </tr>\n",
              "    <tr>\n",
              "      <th>max</th>\n",
              "      <td>2000.000000</td>\n",
              "      <td>88671.000000</td>\n",
              "      <td>42.891667</td>\n",
              "      <td>5.000000</td>\n",
              "      <td>33.009306</td>\n",
              "      <td>384.000000</td>\n",
              "      <td>37.052691</td>\n",
              "      <td>52.000000</td>\n",
              "      <td>1.000000</td>\n",
              "      <td>0.972441</td>\n",
              "      <td>0.977276</td>\n",
              "    </tr>\n",
              "  </tbody>\n",
              "</table>\n",
              "</div>"
            ],
            "text/plain": [
              "                id        income  ...  retail_dense        crime\n",
              "count  2000.000000   1941.000000  ...   2000.000000  2000.000000\n",
              "mean   1000.500000  56924.861927  ...      0.563258     0.275939\n",
              "std     577.494589  10188.938399  ...      0.152759     0.182886\n",
              "min       1.000000  19846.000000  ...      0.000000     0.000000\n",
              "25%     500.750000  51336.000000  ...      0.472441     0.141712\n",
              "50%    1000.500000  58633.000000  ...      0.562992     0.241322\n",
              "75%    1500.250000  64407.000000  ...      0.673228     0.356615\n",
              "max    2000.000000  88671.000000  ...      0.972441     0.977276\n",
              "\n",
              "[8 rows x 11 columns]"
            ]
          },
          "metadata": {
            "tags": []
          },
          "execution_count": 144
        }
      ]
    },
    {
      "cell_type": "code",
      "metadata": {
        "id": "ORzQ17cABOyk",
        "outputId": "e8c557ee-655f-4730-dd7d-bc2be3af8259",
        "colab": {
          "base_uri": "https://localhost:8080/",
          "height": 272
        }
      },
      "source": [
        "df.isnull().sum()"
      ],
      "execution_count": 145,
      "outputs": [
        {
          "output_type": "execute_result",
          "data": {
            "text/plain": [
              "id                 0\n",
              "job                0\n",
              "area               0\n",
              "income            59\n",
              "aspect             0\n",
              "subscriptions      0\n",
              "dist_healthy       0\n",
              "save_rate          0\n",
              "dist_unhealthy     0\n",
              "age                0\n",
              "pop_dense          0\n",
              "retail_dense       0\n",
              "crime              0\n",
              "product            0\n",
              "dtype: int64"
            ]
          },
          "metadata": {
            "tags": []
          },
          "execution_count": 145
        }
      ]
    },
    {
      "cell_type": "markdown",
      "metadata": {
        "id": "K5KsJJ0SBmtL"
      },
      "source": [
        "Convert to one hot vector "
      ]
    },
    {
      "cell_type": "code",
      "metadata": {
        "id": "ehd8qh3lBmBE"
      },
      "source": [
        "df = pd.get_dummies(df,   columns= ['job', 'area'])"
      ],
      "execution_count": 146,
      "outputs": []
    },
    {
      "cell_type": "code",
      "metadata": {
        "id": "qO01AXh_CnFL",
        "outputId": "ddc1beb9-7ec0-4363-8b2e-90e7e3fa5261",
        "colab": {
          "base_uri": "https://localhost:8080/",
          "height": 224
        }
      },
      "source": [
        "df.head(5)"
      ],
      "execution_count": 147,
      "outputs": [
        {
          "output_type": "execute_result",
          "data": {
            "text/html": [
              "<div>\n",
              "<style scoped>\n",
              "    .dataframe tbody tr th:only-of-type {\n",
              "        vertical-align: middle;\n",
              "    }\n",
              "\n",
              "    .dataframe tbody tr th {\n",
              "        vertical-align: top;\n",
              "    }\n",
              "\n",
              "    .dataframe thead th {\n",
              "        text-align: right;\n",
              "    }\n",
              "</style>\n",
              "<table border=\"1\" class=\"dataframe\">\n",
              "  <thead>\n",
              "    <tr style=\"text-align: right;\">\n",
              "      <th></th>\n",
              "      <th>id</th>\n",
              "      <th>income</th>\n",
              "      <th>aspect</th>\n",
              "      <th>subscriptions</th>\n",
              "      <th>dist_healthy</th>\n",
              "      <th>save_rate</th>\n",
              "      <th>dist_unhealthy</th>\n",
              "      <th>age</th>\n",
              "      <th>pop_dense</th>\n",
              "      <th>retail_dense</th>\n",
              "      <th>crime</th>\n",
              "      <th>product</th>\n",
              "      <th>job_11</th>\n",
              "      <th>job_al</th>\n",
              "      <th>job_am</th>\n",
              "      <th>job_ax</th>\n",
              "      <th>job_bf</th>\n",
              "      <th>job_by</th>\n",
              "      <th>job_cv</th>\n",
              "      <th>job_de</th>\n",
              "      <th>job_dz</th>\n",
              "      <th>job_e2</th>\n",
              "      <th>job_f8</th>\n",
              "      <th>job_gj</th>\n",
              "      <th>job_gv</th>\n",
              "      <th>job_kd</th>\n",
              "      <th>job_ke</th>\n",
              "      <th>job_kl</th>\n",
              "      <th>job_kp</th>\n",
              "      <th>job_ks</th>\n",
              "      <th>job_kw</th>\n",
              "      <th>job_mm</th>\n",
              "      <th>job_nb</th>\n",
              "      <th>job_nn</th>\n",
              "      <th>job_ob</th>\n",
              "      <th>job_pe</th>\n",
              "      <th>job_po</th>\n",
              "      <th>job_pq</th>\n",
              "      <th>job_pz</th>\n",
              "      <th>job_qp</th>\n",
              "      <th>job_qw</th>\n",
              "      <th>job_rn</th>\n",
              "      <th>job_sa</th>\n",
              "      <th>job_vv</th>\n",
              "      <th>job_zz</th>\n",
              "      <th>area_a</th>\n",
              "      <th>area_b</th>\n",
              "      <th>area_c</th>\n",
              "      <th>area_d</th>\n",
              "    </tr>\n",
              "  </thead>\n",
              "  <tbody>\n",
              "    <tr>\n",
              "      <th>0</th>\n",
              "      <td>1</td>\n",
              "      <td>50876.0</td>\n",
              "      <td>13.100000</td>\n",
              "      <td>1</td>\n",
              "      <td>9.017895</td>\n",
              "      <td>35</td>\n",
              "      <td>11.738935</td>\n",
              "      <td>49</td>\n",
              "      <td>0.885827</td>\n",
              "      <td>0.492126</td>\n",
              "      <td>0.071100</td>\n",
              "      <td>b</td>\n",
              "      <td>0</td>\n",
              "      <td>0</td>\n",
              "      <td>0</td>\n",
              "      <td>0</td>\n",
              "      <td>0</td>\n",
              "      <td>0</td>\n",
              "      <td>0</td>\n",
              "      <td>0</td>\n",
              "      <td>0</td>\n",
              "      <td>0</td>\n",
              "      <td>0</td>\n",
              "      <td>0</td>\n",
              "      <td>0</td>\n",
              "      <td>0</td>\n",
              "      <td>0</td>\n",
              "      <td>0</td>\n",
              "      <td>0</td>\n",
              "      <td>0</td>\n",
              "      <td>0</td>\n",
              "      <td>0</td>\n",
              "      <td>0</td>\n",
              "      <td>0</td>\n",
              "      <td>0</td>\n",
              "      <td>0</td>\n",
              "      <td>0</td>\n",
              "      <td>0</td>\n",
              "      <td>0</td>\n",
              "      <td>0</td>\n",
              "      <td>0</td>\n",
              "      <td>0</td>\n",
              "      <td>0</td>\n",
              "      <td>1</td>\n",
              "      <td>0</td>\n",
              "      <td>0</td>\n",
              "      <td>0</td>\n",
              "      <td>1</td>\n",
              "      <td>0</td>\n",
              "    </tr>\n",
              "    <tr>\n",
              "      <th>1</th>\n",
              "      <td>2</td>\n",
              "      <td>60369.0</td>\n",
              "      <td>18.625000</td>\n",
              "      <td>2</td>\n",
              "      <td>7.766643</td>\n",
              "      <td>59</td>\n",
              "      <td>6.805396</td>\n",
              "      <td>51</td>\n",
              "      <td>0.874016</td>\n",
              "      <td>0.342520</td>\n",
              "      <td>0.400809</td>\n",
              "      <td>c</td>\n",
              "      <td>0</td>\n",
              "      <td>0</td>\n",
              "      <td>0</td>\n",
              "      <td>0</td>\n",
              "      <td>0</td>\n",
              "      <td>0</td>\n",
              "      <td>0</td>\n",
              "      <td>0</td>\n",
              "      <td>0</td>\n",
              "      <td>0</td>\n",
              "      <td>0</td>\n",
              "      <td>0</td>\n",
              "      <td>0</td>\n",
              "      <td>1</td>\n",
              "      <td>0</td>\n",
              "      <td>0</td>\n",
              "      <td>0</td>\n",
              "      <td>0</td>\n",
              "      <td>0</td>\n",
              "      <td>0</td>\n",
              "      <td>0</td>\n",
              "      <td>0</td>\n",
              "      <td>0</td>\n",
              "      <td>0</td>\n",
              "      <td>0</td>\n",
              "      <td>0</td>\n",
              "      <td>0</td>\n",
              "      <td>0</td>\n",
              "      <td>0</td>\n",
              "      <td>0</td>\n",
              "      <td>0</td>\n",
              "      <td>0</td>\n",
              "      <td>0</td>\n",
              "      <td>0</td>\n",
              "      <td>0</td>\n",
              "      <td>1</td>\n",
              "      <td>0</td>\n",
              "    </tr>\n",
              "    <tr>\n",
              "      <th>2</th>\n",
              "      <td>3</td>\n",
              "      <td>55126.0</td>\n",
              "      <td>34.766667</td>\n",
              "      <td>1</td>\n",
              "      <td>3.632069</td>\n",
              "      <td>6</td>\n",
              "      <td>13.671772</td>\n",
              "      <td>44</td>\n",
              "      <td>0.944882</td>\n",
              "      <td>0.724409</td>\n",
              "      <td>0.207723</td>\n",
              "      <td>b</td>\n",
              "      <td>0</td>\n",
              "      <td>0</td>\n",
              "      <td>0</td>\n",
              "      <td>0</td>\n",
              "      <td>0</td>\n",
              "      <td>0</td>\n",
              "      <td>0</td>\n",
              "      <td>0</td>\n",
              "      <td>0</td>\n",
              "      <td>0</td>\n",
              "      <td>0</td>\n",
              "      <td>0</td>\n",
              "      <td>0</td>\n",
              "      <td>0</td>\n",
              "      <td>0</td>\n",
              "      <td>0</td>\n",
              "      <td>0</td>\n",
              "      <td>0</td>\n",
              "      <td>0</td>\n",
              "      <td>0</td>\n",
              "      <td>0</td>\n",
              "      <td>0</td>\n",
              "      <td>0</td>\n",
              "      <td>1</td>\n",
              "      <td>0</td>\n",
              "      <td>0</td>\n",
              "      <td>0</td>\n",
              "      <td>0</td>\n",
              "      <td>0</td>\n",
              "      <td>0</td>\n",
              "      <td>0</td>\n",
              "      <td>0</td>\n",
              "      <td>0</td>\n",
              "      <td>0</td>\n",
              "      <td>0</td>\n",
              "      <td>1</td>\n",
              "      <td>0</td>\n",
              "    </tr>\n",
              "    <tr>\n",
              "      <th>3</th>\n",
              "      <td>4</td>\n",
              "      <td>51690.0</td>\n",
              "      <td>15.808333</td>\n",
              "      <td>1</td>\n",
              "      <td>5.372942</td>\n",
              "      <td>16</td>\n",
              "      <td>4.333286</td>\n",
              "      <td>50</td>\n",
              "      <td>0.889764</td>\n",
              "      <td>0.444882</td>\n",
              "      <td>0.361216</td>\n",
              "      <td>b</td>\n",
              "      <td>1</td>\n",
              "      <td>0</td>\n",
              "      <td>0</td>\n",
              "      <td>0</td>\n",
              "      <td>0</td>\n",
              "      <td>0</td>\n",
              "      <td>0</td>\n",
              "      <td>0</td>\n",
              "      <td>0</td>\n",
              "      <td>0</td>\n",
              "      <td>0</td>\n",
              "      <td>0</td>\n",
              "      <td>0</td>\n",
              "      <td>0</td>\n",
              "      <td>0</td>\n",
              "      <td>0</td>\n",
              "      <td>0</td>\n",
              "      <td>0</td>\n",
              "      <td>0</td>\n",
              "      <td>0</td>\n",
              "      <td>0</td>\n",
              "      <td>0</td>\n",
              "      <td>0</td>\n",
              "      <td>0</td>\n",
              "      <td>0</td>\n",
              "      <td>0</td>\n",
              "      <td>0</td>\n",
              "      <td>0</td>\n",
              "      <td>0</td>\n",
              "      <td>0</td>\n",
              "      <td>0</td>\n",
              "      <td>0</td>\n",
              "      <td>0</td>\n",
              "      <td>0</td>\n",
              "      <td>0</td>\n",
              "      <td>1</td>\n",
              "      <td>0</td>\n",
              "    </tr>\n",
              "    <tr>\n",
              "      <th>4</th>\n",
              "      <td>5</td>\n",
              "      <td>28347.0</td>\n",
              "      <td>40.941667</td>\n",
              "      <td>3</td>\n",
              "      <td>3.822477</td>\n",
              "      <td>20</td>\n",
              "      <td>5.967121</td>\n",
              "      <td>38</td>\n",
              "      <td>0.744094</td>\n",
              "      <td>0.661417</td>\n",
              "      <td>0.068033</td>\n",
              "      <td>a</td>\n",
              "      <td>0</td>\n",
              "      <td>0</td>\n",
              "      <td>0</td>\n",
              "      <td>0</td>\n",
              "      <td>0</td>\n",
              "      <td>0</td>\n",
              "      <td>0</td>\n",
              "      <td>0</td>\n",
              "      <td>0</td>\n",
              "      <td>0</td>\n",
              "      <td>0</td>\n",
              "      <td>0</td>\n",
              "      <td>0</td>\n",
              "      <td>0</td>\n",
              "      <td>0</td>\n",
              "      <td>1</td>\n",
              "      <td>0</td>\n",
              "      <td>0</td>\n",
              "      <td>0</td>\n",
              "      <td>0</td>\n",
              "      <td>0</td>\n",
              "      <td>0</td>\n",
              "      <td>0</td>\n",
              "      <td>0</td>\n",
              "      <td>0</td>\n",
              "      <td>0</td>\n",
              "      <td>0</td>\n",
              "      <td>0</td>\n",
              "      <td>0</td>\n",
              "      <td>0</td>\n",
              "      <td>0</td>\n",
              "      <td>0</td>\n",
              "      <td>0</td>\n",
              "      <td>0</td>\n",
              "      <td>0</td>\n",
              "      <td>0</td>\n",
              "      <td>1</td>\n",
              "    </tr>\n",
              "  </tbody>\n",
              "</table>\n",
              "</div>"
            ],
            "text/plain": [
              "   id   income     aspect  subscriptions  ...  area_a  area_b  area_c  area_d\n",
              "0   1  50876.0  13.100000              1  ...       0       0       1       0\n",
              "1   2  60369.0  18.625000              2  ...       0       0       1       0\n",
              "2   3  55126.0  34.766667              1  ...       0       0       1       0\n",
              "3   4  51690.0  15.808333              1  ...       0       0       1       0\n",
              "4   5  28347.0  40.941667              3  ...       0       0       0       1\n",
              "\n",
              "[5 rows x 49 columns]"
            ]
          },
          "metadata": {
            "tags": []
          },
          "execution_count": 147
        }
      ]
    },
    {
      "cell_type": "markdown",
      "metadata": {
        "id": "kIVKto68ELo1"
      },
      "source": [
        "Notice that you don't have to drop the one hot vector conveted column"
      ]
    },
    {
      "cell_type": "code",
      "metadata": {
        "id": "A5zYe55NEIDv",
        "outputId": "6d954e7d-dde5-4b46-908b-ddf452af8eec",
        "colab": {
          "base_uri": "https://localhost:8080/",
          "height": 131
        }
      },
      "source": [
        "df.head(2)"
      ],
      "execution_count": 148,
      "outputs": [
        {
          "output_type": "execute_result",
          "data": {
            "text/html": [
              "<div>\n",
              "<style scoped>\n",
              "    .dataframe tbody tr th:only-of-type {\n",
              "        vertical-align: middle;\n",
              "    }\n",
              "\n",
              "    .dataframe tbody tr th {\n",
              "        vertical-align: top;\n",
              "    }\n",
              "\n",
              "    .dataframe thead th {\n",
              "        text-align: right;\n",
              "    }\n",
              "</style>\n",
              "<table border=\"1\" class=\"dataframe\">\n",
              "  <thead>\n",
              "    <tr style=\"text-align: right;\">\n",
              "      <th></th>\n",
              "      <th>id</th>\n",
              "      <th>income</th>\n",
              "      <th>aspect</th>\n",
              "      <th>subscriptions</th>\n",
              "      <th>dist_healthy</th>\n",
              "      <th>save_rate</th>\n",
              "      <th>dist_unhealthy</th>\n",
              "      <th>age</th>\n",
              "      <th>pop_dense</th>\n",
              "      <th>retail_dense</th>\n",
              "      <th>crime</th>\n",
              "      <th>product</th>\n",
              "      <th>job_11</th>\n",
              "      <th>job_al</th>\n",
              "      <th>job_am</th>\n",
              "      <th>job_ax</th>\n",
              "      <th>job_bf</th>\n",
              "      <th>job_by</th>\n",
              "      <th>job_cv</th>\n",
              "      <th>job_de</th>\n",
              "      <th>job_dz</th>\n",
              "      <th>job_e2</th>\n",
              "      <th>job_f8</th>\n",
              "      <th>job_gj</th>\n",
              "      <th>job_gv</th>\n",
              "      <th>job_kd</th>\n",
              "      <th>job_ke</th>\n",
              "      <th>job_kl</th>\n",
              "      <th>job_kp</th>\n",
              "      <th>job_ks</th>\n",
              "      <th>job_kw</th>\n",
              "      <th>job_mm</th>\n",
              "      <th>job_nb</th>\n",
              "      <th>job_nn</th>\n",
              "      <th>job_ob</th>\n",
              "      <th>job_pe</th>\n",
              "      <th>job_po</th>\n",
              "      <th>job_pq</th>\n",
              "      <th>job_pz</th>\n",
              "      <th>job_qp</th>\n",
              "      <th>job_qw</th>\n",
              "      <th>job_rn</th>\n",
              "      <th>job_sa</th>\n",
              "      <th>job_vv</th>\n",
              "      <th>job_zz</th>\n",
              "      <th>area_a</th>\n",
              "      <th>area_b</th>\n",
              "      <th>area_c</th>\n",
              "      <th>area_d</th>\n",
              "    </tr>\n",
              "  </thead>\n",
              "  <tbody>\n",
              "    <tr>\n",
              "      <th>0</th>\n",
              "      <td>1</td>\n",
              "      <td>50876.0</td>\n",
              "      <td>13.100</td>\n",
              "      <td>1</td>\n",
              "      <td>9.017895</td>\n",
              "      <td>35</td>\n",
              "      <td>11.738935</td>\n",
              "      <td>49</td>\n",
              "      <td>0.885827</td>\n",
              "      <td>0.492126</td>\n",
              "      <td>0.071100</td>\n",
              "      <td>b</td>\n",
              "      <td>0</td>\n",
              "      <td>0</td>\n",
              "      <td>0</td>\n",
              "      <td>0</td>\n",
              "      <td>0</td>\n",
              "      <td>0</td>\n",
              "      <td>0</td>\n",
              "      <td>0</td>\n",
              "      <td>0</td>\n",
              "      <td>0</td>\n",
              "      <td>0</td>\n",
              "      <td>0</td>\n",
              "      <td>0</td>\n",
              "      <td>0</td>\n",
              "      <td>0</td>\n",
              "      <td>0</td>\n",
              "      <td>0</td>\n",
              "      <td>0</td>\n",
              "      <td>0</td>\n",
              "      <td>0</td>\n",
              "      <td>0</td>\n",
              "      <td>0</td>\n",
              "      <td>0</td>\n",
              "      <td>0</td>\n",
              "      <td>0</td>\n",
              "      <td>0</td>\n",
              "      <td>0</td>\n",
              "      <td>0</td>\n",
              "      <td>0</td>\n",
              "      <td>0</td>\n",
              "      <td>0</td>\n",
              "      <td>1</td>\n",
              "      <td>0</td>\n",
              "      <td>0</td>\n",
              "      <td>0</td>\n",
              "      <td>1</td>\n",
              "      <td>0</td>\n",
              "    </tr>\n",
              "    <tr>\n",
              "      <th>1</th>\n",
              "      <td>2</td>\n",
              "      <td>60369.0</td>\n",
              "      <td>18.625</td>\n",
              "      <td>2</td>\n",
              "      <td>7.766643</td>\n",
              "      <td>59</td>\n",
              "      <td>6.805396</td>\n",
              "      <td>51</td>\n",
              "      <td>0.874016</td>\n",
              "      <td>0.342520</td>\n",
              "      <td>0.400809</td>\n",
              "      <td>c</td>\n",
              "      <td>0</td>\n",
              "      <td>0</td>\n",
              "      <td>0</td>\n",
              "      <td>0</td>\n",
              "      <td>0</td>\n",
              "      <td>0</td>\n",
              "      <td>0</td>\n",
              "      <td>0</td>\n",
              "      <td>0</td>\n",
              "      <td>0</td>\n",
              "      <td>0</td>\n",
              "      <td>0</td>\n",
              "      <td>0</td>\n",
              "      <td>1</td>\n",
              "      <td>0</td>\n",
              "      <td>0</td>\n",
              "      <td>0</td>\n",
              "      <td>0</td>\n",
              "      <td>0</td>\n",
              "      <td>0</td>\n",
              "      <td>0</td>\n",
              "      <td>0</td>\n",
              "      <td>0</td>\n",
              "      <td>0</td>\n",
              "      <td>0</td>\n",
              "      <td>0</td>\n",
              "      <td>0</td>\n",
              "      <td>0</td>\n",
              "      <td>0</td>\n",
              "      <td>0</td>\n",
              "      <td>0</td>\n",
              "      <td>0</td>\n",
              "      <td>0</td>\n",
              "      <td>0</td>\n",
              "      <td>0</td>\n",
              "      <td>1</td>\n",
              "      <td>0</td>\n",
              "    </tr>\n",
              "  </tbody>\n",
              "</table>\n",
              "</div>"
            ],
            "text/plain": [
              "   id   income  aspect  subscriptions  ...  area_a  area_b  area_c  area_d\n",
              "0   1  50876.0  13.100              1  ...       0       0       1       0\n",
              "1   2  60369.0  18.625              2  ...       0       0       1       0\n",
              "\n",
              "[2 rows x 49 columns]"
            ]
          },
          "metadata": {
            "tags": []
          },
          "execution_count": 148
        }
      ]
    },
    {
      "cell_type": "markdown",
      "metadata": {
        "id": "RUOFbikQEc75"
      },
      "source": [
        "Fill missing values in Income with median value"
      ]
    },
    {
      "cell_type": "code",
      "metadata": {
        "id": "ZknU385fEiOY"
      },
      "source": [
        "df['income'] = df['income'].fillna(df['income'].median())"
      ],
      "execution_count": 149,
      "outputs": []
    },
    {
      "cell_type": "code",
      "metadata": {
        "id": "_tidi10EExHY",
        "outputId": "09e741a0-92a7-4bc3-ddd1-8558adc213ff",
        "colab": {
          "base_uri": "https://localhost:8080/",
          "height": 34
        }
      },
      "source": [
        "df['income'].median()"
      ],
      "execution_count": 150,
      "outputs": [
        {
          "output_type": "execute_result",
          "data": {
            "text/plain": [
              "58633.0"
            ]
          },
          "metadata": {
            "tags": []
          },
          "execution_count": 150
        }
      ]
    },
    {
      "cell_type": "code",
      "metadata": {
        "id": "2OssJc_ao6XO",
        "outputId": "32716fa2-c265-44a2-8b94-103f81434922",
        "colab": {
          "base_uri": "https://localhost:8080/",
          "height": 867
        }
      },
      "source": [
        "df.isnull().sum()"
      ],
      "execution_count": 151,
      "outputs": [
        {
          "output_type": "execute_result",
          "data": {
            "text/plain": [
              "id                0\n",
              "income            0\n",
              "aspect            0\n",
              "subscriptions     0\n",
              "dist_healthy      0\n",
              "save_rate         0\n",
              "dist_unhealthy    0\n",
              "age               0\n",
              "pop_dense         0\n",
              "retail_dense      0\n",
              "crime             0\n",
              "product           0\n",
              "job_11            0\n",
              "job_al            0\n",
              "job_am            0\n",
              "job_ax            0\n",
              "job_bf            0\n",
              "job_by            0\n",
              "job_cv            0\n",
              "job_de            0\n",
              "job_dz            0\n",
              "job_e2            0\n",
              "job_f8            0\n",
              "job_gj            0\n",
              "job_gv            0\n",
              "job_kd            0\n",
              "job_ke            0\n",
              "job_kl            0\n",
              "job_kp            0\n",
              "job_ks            0\n",
              "job_kw            0\n",
              "job_mm            0\n",
              "job_nb            0\n",
              "job_nn            0\n",
              "job_ob            0\n",
              "job_pe            0\n",
              "job_po            0\n",
              "job_pq            0\n",
              "job_pz            0\n",
              "job_qp            0\n",
              "job_qw            0\n",
              "job_rn            0\n",
              "job_sa            0\n",
              "job_vv            0\n",
              "job_zz            0\n",
              "area_a            0\n",
              "area_b            0\n",
              "area_c            0\n",
              "area_d            0\n",
              "dtype: int64"
            ]
          },
          "metadata": {
            "tags": []
          },
          "execution_count": 151
        }
      ]
    },
    {
      "cell_type": "markdown",
      "metadata": {
        "id": "Kl6K3RObFk4_"
      },
      "source": [
        "**Generate X and Y for a Classification Neural Network**"
      ]
    },
    {
      "cell_type": "code",
      "metadata": {
        "id": "evVNs814huq_"
      },
      "source": [
        "# Standadize ranges :\n",
        "\n",
        "df['income'] = zscore(df['income'])\n",
        "df['aspect'] = zscore(df['aspect'])\n",
        "df['save_rate'] = zscore(df['save_rate'])\n",
        "df['age'] = zscore(df['age'])\n",
        "df['subscriptions'] = zscore(df['subscriptions'])"
      ],
      "execution_count": 152,
      "outputs": []
    },
    {
      "cell_type": "code",
      "metadata": {
        "id": "2dfrG3uyFK2e"
      },
      "source": [
        "x_columns = df.columns.drop(['id', 'product'])"
      ],
      "execution_count": 153,
      "outputs": []
    },
    {
      "cell_type": "code",
      "metadata": {
        "id": "sSSwINmNFc4e",
        "outputId": "a72952d2-da3b-4060-cd4c-941e875377d8",
        "colab": {
          "base_uri": "https://localhost:8080/",
          "height": 170
        }
      },
      "source": [
        "x_columns"
      ],
      "execution_count": 154,
      "outputs": [
        {
          "output_type": "execute_result",
          "data": {
            "text/plain": [
              "Index(['income', 'aspect', 'subscriptions', 'dist_healthy', 'save_rate',\n",
              "       'dist_unhealthy', 'age', 'pop_dense', 'retail_dense', 'crime', 'job_11',\n",
              "       'job_al', 'job_am', 'job_ax', 'job_bf', 'job_by', 'job_cv', 'job_de',\n",
              "       'job_dz', 'job_e2', 'job_f8', 'job_gj', 'job_gv', 'job_kd', 'job_ke',\n",
              "       'job_kl', 'job_kp', 'job_ks', 'job_kw', 'job_mm', 'job_nb', 'job_nn',\n",
              "       'job_ob', 'job_pe', 'job_po', 'job_pq', 'job_pz', 'job_qp', 'job_qw',\n",
              "       'job_rn', 'job_sa', 'job_vv', 'job_zz', 'area_a', 'area_b', 'area_c',\n",
              "       'area_d'],\n",
              "      dtype='object')"
            ]
          },
          "metadata": {
            "tags": []
          },
          "execution_count": 154
        }
      ]
    },
    {
      "cell_type": "code",
      "metadata": {
        "id": "SsQHb0pcG_ji"
      },
      "source": [
        "# Convert to numpy - Classification\n",
        "x = df[x_columns].values\n",
        "y = pd.get_dummies(df['product']).values"
      ],
      "execution_count": 155,
      "outputs": []
    },
    {
      "cell_type": "code",
      "metadata": {
        "id": "fI879bvu3nrc"
      },
      "source": [
        "products = pd.get_dummies(df['product']).columns"
      ],
      "execution_count": 156,
      "outputs": []
    },
    {
      "cell_type": "code",
      "metadata": {
        "id": "0NEPQTRyHhaG",
        "outputId": "c1c3f341-fb46-4540-d7ca-82dc0233a686",
        "colab": {
          "base_uri": "https://localhost:8080/",
          "height": 34
        }
      },
      "source": [
        "print(x.shape, y.shape, products)"
      ],
      "execution_count": 157,
      "outputs": [
        {
          "output_type": "stream",
          "text": [
            "(2000, 47) (2000, 7) Index(['a', 'b', 'c', 'd', 'e', 'f', 'g'], dtype='object')\n"
          ],
          "name": "stdout"
        }
      ]
    },
    {
      "cell_type": "markdown",
      "metadata": {
        "id": "aO0na-zKhFLI"
      },
      "source": [
        "**Multiclass Classification**  - Error Metric"
      ]
    },
    {
      "cell_type": "code",
      "metadata": {
        "id": "roYLBW9git8Q",
        "outputId": "eaad313a-3d6b-4648-9e02-4767754b57b7",
        "colab": {
          "base_uri": "https://localhost:8080/",
          "height": 34
        }
      },
      "source": [
        "# Classification of Neurl network \n",
        "\n",
        "# Split train and test data \n",
        "\n",
        "x_train, x_test, y_train, y_test = train_test_split(x, y, test_size = 0.25, random_state = 42)\n",
        "\n",
        "print(x_train.shape, y_train.shape, x_test.shape, y_test.shape)"
      ],
      "execution_count": 158,
      "outputs": [
        {
          "output_type": "stream",
          "text": [
            "(1500, 47) (1500, 7) (500, 47) (500, 7)\n"
          ],
          "name": "stdout"
        }
      ]
    },
    {
      "cell_type": "code",
      "metadata": {
        "id": "7Ky9mO1jjGAD"
      },
      "source": [
        "model = Sequential()\n",
        "\n",
        "\n",
        "\n",
        "\n",
        "model.add(Dense(100, input_dim = x.shape[1], activation='relu', kernel_initializer= 'random_normal'))    # Hidden 1\n",
        "model.add(Dense(50, activation='relu', kernel_initializer='random_normal'))                             # Hidden 2\n",
        "model.add(Dense(25, activation='relu', kernel_initializer='random_normal'))                             # Hidden 3\n",
        "model.add(Dense(y.shape[1], activation='softmax', kernel_initializer='random_normal'))                           # output\n",
        "\n",
        "model.compile(loss = 'categorical_crossentropy', \n",
        "                    optimizer = tensorflow.keras.optimizers.Adam(),\n",
        "                    metrics = ['accuracy'])\n",
        "\n",
        "monitor = EarlyStopping(monitor='val_loss', min_delta=1e-3, patience=5, \n",
        "                        verbose=1, mode='auto', restore_best_weights=True)"
      ],
      "execution_count": 159,
      "outputs": []
    },
    {
      "cell_type": "code",
      "metadata": {
        "id": "-E-nnRbBl-mA",
        "outputId": "a2dc112c-ed2d-4cb2-ebc5-4814353cd6f4",
        "colab": {
          "base_uri": "https://localhost:8080/",
          "height": 904
        }
      },
      "source": [
        "# Fit the model \n",
        "\n",
        "model.fit(x_train, y_train, validation_data=(x_test, y_test),\n",
        "                callbacks = [monitor], verbose = 2, epochs = 500 )"
      ],
      "execution_count": 160,
      "outputs": [
        {
          "output_type": "stream",
          "text": [
            "Epoch 1/500\n",
            "47/47 - 0s - loss: 1.4575 - accuracy: 0.4747 - val_loss: 1.1404 - val_accuracy: 0.4980\n",
            "Epoch 2/500\n",
            "47/47 - 0s - loss: 1.1455 - accuracy: 0.4607 - val_loss: 1.1044 - val_accuracy: 0.4980\n",
            "Epoch 3/500\n",
            "47/47 - 0s - loss: 1.1114 - accuracy: 0.4853 - val_loss: 1.0598 - val_accuracy: 0.5020\n",
            "Epoch 4/500\n",
            "47/47 - 0s - loss: 0.9985 - accuracy: 0.5647 - val_loss: 0.9395 - val_accuracy: 0.6300\n",
            "Epoch 5/500\n",
            "47/47 - 0s - loss: 0.8645 - accuracy: 0.6513 - val_loss: 0.8416 - val_accuracy: 0.6860\n",
            "Epoch 6/500\n",
            "47/47 - 0s - loss: 0.8154 - accuracy: 0.6687 - val_loss: 0.8430 - val_accuracy: 0.6520\n",
            "Epoch 7/500\n",
            "47/47 - 0s - loss: 0.7770 - accuracy: 0.6840 - val_loss: 0.7992 - val_accuracy: 0.6900\n",
            "Epoch 8/500\n",
            "47/47 - 0s - loss: 0.7631 - accuracy: 0.6880 - val_loss: 0.8172 - val_accuracy: 0.6520\n",
            "Epoch 9/500\n",
            "47/47 - 0s - loss: 0.7325 - accuracy: 0.7013 - val_loss: 0.7760 - val_accuracy: 0.6820\n",
            "Epoch 10/500\n",
            "47/47 - 0s - loss: 0.7207 - accuracy: 0.7007 - val_loss: 0.7647 - val_accuracy: 0.7040\n",
            "Epoch 11/500\n",
            "47/47 - 0s - loss: 0.7077 - accuracy: 0.7073 - val_loss: 0.7712 - val_accuracy: 0.6940\n",
            "Epoch 12/500\n",
            "47/47 - 0s - loss: 0.7032 - accuracy: 0.6953 - val_loss: 0.7567 - val_accuracy: 0.6960\n",
            "Epoch 13/500\n",
            "47/47 - 0s - loss: 0.7051 - accuracy: 0.6953 - val_loss: 0.7574 - val_accuracy: 0.6780\n",
            "Epoch 14/500\n",
            "47/47 - 0s - loss: 0.6783 - accuracy: 0.7073 - val_loss: 0.7515 - val_accuracy: 0.6980\n",
            "Epoch 15/500\n",
            "47/47 - 0s - loss: 0.6751 - accuracy: 0.7020 - val_loss: 0.7507 - val_accuracy: 0.7060\n",
            "Epoch 16/500\n",
            "47/47 - 0s - loss: 0.6759 - accuracy: 0.7060 - val_loss: 0.7605 - val_accuracy: 0.6940\n",
            "Epoch 17/500\n",
            "47/47 - 0s - loss: 0.6818 - accuracy: 0.7100 - val_loss: 0.7435 - val_accuracy: 0.7040\n",
            "Epoch 18/500\n",
            "47/47 - 0s - loss: 0.6728 - accuracy: 0.7153 - val_loss: 0.7439 - val_accuracy: 0.7080\n",
            "Epoch 19/500\n",
            "47/47 - 0s - loss: 0.6594 - accuracy: 0.7227 - val_loss: 0.7417 - val_accuracy: 0.7040\n",
            "Epoch 20/500\n",
            "47/47 - 0s - loss: 0.6518 - accuracy: 0.7180 - val_loss: 0.7419 - val_accuracy: 0.7080\n",
            "Epoch 21/500\n",
            "47/47 - 0s - loss: 0.6576 - accuracy: 0.7187 - val_loss: 0.7438 - val_accuracy: 0.6940\n",
            "Epoch 22/500\n",
            "47/47 - 0s - loss: 0.6426 - accuracy: 0.7227 - val_loss: 0.7453 - val_accuracy: 0.7040\n",
            "Epoch 23/500\n",
            "47/47 - 0s - loss: 0.6395 - accuracy: 0.7253 - val_loss: 0.7864 - val_accuracy: 0.6780\n",
            "Epoch 24/500\n",
            "Restoring model weights from the end of the best epoch.\n",
            "47/47 - 0s - loss: 0.6466 - accuracy: 0.7193 - val_loss: 0.7448 - val_accuracy: 0.7020\n",
            "Epoch 00024: early stopping\n"
          ],
          "name": "stdout"
        },
        {
          "output_type": "execute_result",
          "data": {
            "text/plain": [
              "<tensorflow.python.keras.callbacks.History at 0x7f5f8488eef0>"
            ]
          },
          "metadata": {
            "tags": []
          },
          "execution_count": 160
        }
      ]
    },
    {
      "cell_type": "markdown",
      "metadata": {
        "id": "CGqckzWKpyXC"
      },
      "source": [
        "Calculate accuracy "
      ]
    },
    {
      "cell_type": "code",
      "metadata": {
        "id": "BX5igq8lp2Kv",
        "outputId": "46e7e9d0-391b-4e8c-876b-d5bcee6f3778",
        "colab": {
          "base_uri": "https://localhost:8080/",
          "height": 136
        }
      },
      "source": [
        "pred = model.predict(x_test)\n",
        "pred"
      ],
      "execution_count": 161,
      "outputs": [
        {
          "output_type": "execute_result",
          "data": {
            "text/plain": [
              "array([[0.  , 0.08, 0.7 , ..., 0.  , 0.  , 0.  ],\n",
              "       [0.  , 0.74, 0.25, ..., 0.  , 0.  , 0.  ],\n",
              "       [0.  , 0.68, 0.31, ..., 0.  , 0.  , 0.  ],\n",
              "       ...,\n",
              "       [0.  , 0.88, 0.12, ..., 0.  , 0.  , 0.  ],\n",
              "       [0.  , 0.43, 0.57, ..., 0.  , 0.  , 0.  ],\n",
              "       [0.  , 0.91, 0.06, ..., 0.02, 0.  , 0.  ]], dtype=float32)"
            ]
          },
          "metadata": {
            "tags": []
          },
          "execution_count": 161
        }
      ]
    },
    {
      "cell_type": "code",
      "metadata": {
        "id": "n1YLHJ7QqCNc"
      },
      "source": [
        "pred = np.argmax(pred, axis=1)"
      ],
      "execution_count": 162,
      "outputs": []
    },
    {
      "cell_type": "code",
      "metadata": {
        "id": "BHR4yqAuqHt6",
        "outputId": "2df37155-da6d-417f-cd21-20f22e77c112",
        "colab": {
          "base_uri": "https://localhost:8080/",
          "height": 34
        }
      },
      "source": [
        "pred[0:5]"
      ],
      "execution_count": 163,
      "outputs": [
        {
          "output_type": "execute_result",
          "data": {
            "text/plain": [
              "array([2, 1, 1, 2, 2])"
            ]
          },
          "metadata": {
            "tags": []
          },
          "execution_count": 163
        }
      ]
    },
    {
      "cell_type": "markdown",
      "metadata": {
        "id": "D41iimdEqYp4"
      },
      "source": [
        "Find out percentage of accuracy"
      ]
    },
    {
      "cell_type": "code",
      "metadata": {
        "id": "IMBnsPE1rHEe",
        "outputId": "28c20893-5223-4ec1-d35b-0b940ad65f3e",
        "colab": {
          "base_uri": "https://localhost:8080/",
          "height": 136
        }
      },
      "source": [
        "y_test"
      ],
      "execution_count": 164,
      "outputs": [
        {
          "output_type": "execute_result",
          "data": {
            "text/plain": [
              "array([[0, 0, 1, ..., 0, 0, 0],\n",
              "       [0, 1, 0, ..., 0, 0, 0],\n",
              "       [0, 1, 0, ..., 0, 0, 0],\n",
              "       ...,\n",
              "       [0, 1, 0, ..., 0, 0, 0],\n",
              "       [0, 0, 1, ..., 0, 0, 0],\n",
              "       [0, 1, 0, ..., 0, 0, 0]], dtype=uint8)"
            ]
          },
          "metadata": {
            "tags": []
          },
          "execution_count": 164
        }
      ]
    },
    {
      "cell_type": "code",
      "metadata": {
        "id": "CaphrL0CqXW9",
        "outputId": "3cc6ce7a-56bb-4472-cc27-6b66d603999f",
        "colab": {
          "base_uri": "https://localhost:8080/",
          "height": 34
        }
      },
      "source": [
        "y_compare = np.argmax(y_test, axis = 1)\n",
        "score = metrics.accuracy_score(y_compare, pred)\n",
        "print('Accuracy Score: {}'.format(score))"
      ],
      "execution_count": 165,
      "outputs": [
        {
          "output_type": "stream",
          "text": [
            "Accuracy Score: 0.704\n"
          ],
          "name": "stdout"
        }
      ]
    },
    {
      "cell_type": "markdown",
      "metadata": {
        "id": "dmdQRfYFrrBW"
      },
      "source": [
        "**Calculate Classification Log Loss**\n",
        "\n",
        "Log loss is an error metric that penalizes confidence in wrong answers. Lower log loss values are desired."
      ]
    },
    {
      "cell_type": "code",
      "metadata": {
        "id": "K_O9ZuoUrsZZ",
        "outputId": "2e6afd16-b235-43d0-9f9b-cc597274d5b5",
        "colab": {
          "base_uri": "https://localhost:8080/",
          "height": 170
        }
      },
      "source": [
        "# Don't display numpy in scientific notation\n",
        "np.set_printoptions(precision=4)\n",
        "np.set_printoptions(suppress=True)\n",
        "\n",
        "# Generate Prediction\n",
        "pred = model.predict(x_test)\n",
        "\n",
        "print(\"Numpy array of predictions\")\n",
        "display(pred[0:5])\n",
        "\n",
        "print(\"As percent probability\")\n",
        "print(pred[0]*100)"
      ],
      "execution_count": 166,
      "outputs": [
        {
          "output_type": "stream",
          "text": [
            "Numpy array of predictions\n"
          ],
          "name": "stdout"
        },
        {
          "output_type": "display_data",
          "data": {
            "text/plain": [
              "array([[0.    , 0.0821, 0.7045, 0.2125, 0.0009, 0.    , 0.    ],\n",
              "       [0.    , 0.7433, 0.2541, 0.    , 0.0025, 0.0001, 0.    ],\n",
              "       [0.    , 0.6816, 0.3138, 0.0003, 0.0042, 0.0001, 0.    ],\n",
              "       [0.    , 0.2768, 0.7051, 0.0159, 0.0021, 0.    , 0.    ],\n",
              "       [0.    , 0.0367, 0.5809, 0.3822, 0.0003, 0.    , 0.    ]],\n",
              "      dtype=float32)"
            ]
          },
          "metadata": {
            "tags": []
          }
        },
        {
          "output_type": "stream",
          "text": [
            "As percent probability\n",
            "[ 0.0001  8.2081 70.4519 21.2537  0.0853  0.001   0.    ]\n"
          ],
          "name": "stdout"
        }
      ]
    },
    {
      "cell_type": "code",
      "metadata": {
        "id": "EFkinuOstFO5",
        "outputId": "dd25937a-4f89-427b-e978-debab0f44aae",
        "colab": {
          "base_uri": "https://localhost:8080/",
          "height": 34
        }
      },
      "source": [
        "score = metrics.log_loss(y_test, pred)\n",
        "print(\"Log loss Score {}\".format(score))"
      ],
      "execution_count": 167,
      "outputs": [
        {
          "output_type": "stream",
          "text": [
            "Log loss Score 0.7416857419013977\n"
          ],
          "name": "stdout"
        }
      ]
    },
    {
      "cell_type": "code",
      "metadata": {
        "id": "c9AeH67jshiB",
        "outputId": "7da4c3d3-cc7b-41ac-9fae-eb69ded8c816",
        "colab": {
          "base_uri": "https://localhost:8080/",
          "height": 255
        }
      },
      "source": [
        "# raw probabilities to chosen class (highest probability)\n",
        "pred = np.argmax(pred, axis =1)\n",
        "print(pred)"
      ],
      "execution_count": 168,
      "outputs": [
        {
          "output_type": "stream",
          "text": [
            "[2 1 1 2 2 2 2 2 1 2 2 1 2 1 1 1 1 2 1 2 1 2 1 0 1 0 1 1 1 1 2 1 1 1 2 1 2\n",
            " 1 2 2 1 2 2 2 2 1 1 2 1 1 1 0 1 2 0 1 2 1 1 2 1 2 2 2 2 2 2 2 2 2 1 1 2 0\n",
            " 2 1 2 1 2 2 1 2 1 2 1 2 1 2 2 1 1 0 2 2 0 1 1 1 2 3 1 1 1 1 2 1 2 1 1 1 2\n",
            " 1 2 2 1 1 1 2 2 3 2 2 2 1 1 0 0 1 3 1 1 1 0 1 1 1 2 2 1 1 1 2 1 1 2 1 2 2\n",
            " 2 1 2 2 0 1 2 2 1 2 1 2 1 1 2 1 2 2 1 3 1 2 2 2 2 2 2 2 1 1 2 2 1 2 2 1 1\n",
            " 2 1 0 2 0 2 2 2 2 1 2 1 1 2 2 1 1 0 2 2 1 2 1 2 2 1 3 1 0 0 2 2 1 1 1 1 1\n",
            " 2 0 0 2 1 2 1 1 1 1 1 2 1 2 1 1 1 1 1 1 1 1 1 1 0 0 1 1 1 1 0 2 1 2 2 1 2\n",
            " 2 2 2 2 2 2 1 1 1 2 1 2 1 1 1 1 2 2 1 1 1 0 2 1 3 1 1 1 1 1 1 1 2 0 1 1 2\n",
            " 2 1 1 1 2 1 0 0 1 1 1 1 1 1 1 2 0 2 1 1 1 2 1 1 1 2 2 0 1 2 1 1 2 1 2 2 1\n",
            " 3 1 2 1 2 2 2 2 0 1 1 1 1 0 3 1 0 1 2 2 2 1 1 1 1 1 1 1 1 1 1 1 2 1 1 2 2\n",
            " 1 1 0 1 1 2 1 2 2 2 0 1 1 1 2 1 2 2 1 2 2 2 1 3 1 1 0 1 1 1 1 2 1 1 1 2 2\n",
            " 2 1 1 2 2 1 0 1 1 0 2 2 1 1 3 2 2 1 2 1 1 1 1 2 2 2 2 1 1 2 1 1 1 1 1 2 1\n",
            " 2 1 1 0 2 1 1 2 1 1 1 2 3 1 2 1 1 1 2 1 2 2 2 1 2 2 2 2 2 1 1 1 2 2 1 1 2\n",
            " 0 2 2 2 1 0 1 1 0 1 2 0 2 2 1 2 1 2 1]\n"
          ],
          "name": "stdout"
        }
      ]
    },
    {
      "cell_type": "markdown",
      "metadata": {
        "id": "NmYiAjkwwAvg"
      },
      "source": [
        "**Confusion Matrix** \n"
      ]
    },
    {
      "cell_type": "code",
      "metadata": {
        "id": "h3wZNEk5_f3F"
      },
      "source": [
        "# plot confusion matrix \n",
        "\n",
        "def plot_Confusion_matrix(cm, names, title = 'confusion matrix', cmap = plt.cm.Blues):\n",
        "    plt.imshow(cm, interpolation='nearest', cmap = cmap) \n",
        "    plt.title(title)\n",
        "    plt.colorbar()\n",
        "    tick_marks = np.arange(len(names))\n",
        "\n",
        "    plt.xticks(tick_marks, names,  rotation = 45)\n",
        "    plt.yticks(tick_marks, names)\n",
        "    plt.tight_layout()\n",
        "    plt.ylabel('True label')\n",
        "    plt.xlabel('Predicted label')\n"
      ],
      "execution_count": 169,
      "outputs": []
    },
    {
      "cell_type": "code",
      "metadata": {
        "id": "gwz7juaFwARG",
        "outputId": "d8fbf7fe-24d6-4287-8e68-8b4edf4356b9",
        "colab": {
          "base_uri": "https://localhost:8080/",
          "height": 447
        }
      },
      "source": [
        "# compute Confusion matrix\n",
        "cm = confusion_matrix(y_compare, pred)\n",
        "np.set_printoptions(precision=2)\n",
        "print(\"Confusion Matrix, without notmalization\")\n",
        "print(cm)\n",
        "\n",
        "plt.figure()\n",
        "plot_Confusion_matrix(cm, products)"
      ],
      "execution_count": 170,
      "outputs": [
        {
          "output_type": "stream",
          "text": [
            "Confusion Matrix, without notmalization\n",
            "[[ 21   1   0   0   0   0   0]\n",
            " [  6 190  53   0   0   0   0]\n",
            " [  0  47 135   5   0   0   0]\n",
            " [  0   0   8   6   0   0   0]\n",
            " [  0   8   0   0   0   0   0]\n",
            " [ 10   7   0   0   0   0   0]\n",
            " [  3   0   0   0   0   0   0]]\n"
          ],
          "name": "stdout"
        },
        {
          "output_type": "display_data",
          "data": {
            "image/png": "[encoded data removed]",
            "text/plain": [
              "<Figure size 432x288 with 2 Axes>"
            ]
          },
          "metadata": {
            "tags": [],
            "needs_background": "light"
          }
        }
      ]
    },
    {
      "cell_type": "code",
      "metadata": {
        "id": "aQQEw7gx4R2C",
        "outputId": "e3973369-7102-47f0-eb7b-c4877aa91a42",
        "colab": {
          "base_uri": "https://localhost:8080/",
          "height": 447
        }
      },
      "source": [
        "# Normalize the confustion matrix by row (i.e. by the number of samples in each class)\n",
        "\n",
        "cm_normalized = cm.astype('float') / cm.sum(axis=1)[:, np.newaxis]\n",
        "print('Normalized confusion matrix')\n",
        "print(cm_normalized)\n",
        "plt.figure()\n",
        "plot_Confusion_matrix(cm_normalized, products, \n",
        "        title='Normalized confusion matrix')\n",
        "\n",
        "plt.show()"
      ],
      "execution_count": 171,
      "outputs": [
        {
          "output_type": "stream",
          "text": [
            "Normalized confusion matrix\n",
            "[[0.95 0.05 0.   0.   0.   0.   0.  ]\n",
            " [0.02 0.76 0.21 0.   0.   0.   0.  ]\n",
            " [0.   0.25 0.72 0.03 0.   0.   0.  ]\n",
            " [0.   0.   0.57 0.43 0.   0.   0.  ]\n",
            " [0.   1.   0.   0.   0.   0.   0.  ]\n",
            " [0.59 0.41 0.   0.   0.   0.   0.  ]\n",
            " [1.   0.   0.   0.   0.   0.   0.  ]]\n"
          ],
          "name": "stdout"
        },
        {
          "output_type": "display_data",
          "data": {
            "image/png": "[encoded data removed]",
            "text/plain": [
              "<Figure size 432x288 with 2 Axes>"
            ]
          },
          "metadata": {
            "tags": [],
            "needs_background": "light"
          }
        }
      ]
    },
    {
      "cell_type": "code",
      "metadata": {
        "id": "M6y7-7oZ4rIh",
        "outputId": "f0145de1-6123-41ad-f1f7-583df78743b4",
        "colab": {
          "base_uri": "https://localhost:8080/",
          "height": 34
        }
      },
      "source": [
        "cm.sum(axis=1), np.newaxis"
      ],
      "execution_count": 172,
      "outputs": [
        {
          "output_type": "execute_result",
          "data": {
            "text/plain": [
              "(array([ 22, 249, 187,  14,   8,  17,   3]), None)"
            ]
          },
          "metadata": {
            "tags": []
          },
          "execution_count": 172
        }
      ]
    },
    {
      "cell_type": "markdown",
      "metadata": {
        "id": "ikqaMibVMH1V"
      },
      "source": [
        "## Binary Classification "
      ]
    },
    {
      "cell_type": "code",
      "metadata": {
        "id": "GVJXrZtOMLm5"
      },
      "source": [
        "file_bc = \"https://data.heatonresearch.com/data/t81-558/wcbreast_wdbc.csv\""
      ],
      "execution_count": 173,
      "outputs": []
    },
    {
      "cell_type": "code",
      "metadata": {
        "id": "Llapj5mNMP3g"
      },
      "source": [
        "df_bc = pd.read_csv(file_bc, na_values=[\"NA\", \"?\"])"
      ],
      "execution_count": 174,
      "outputs": []
    },
    {
      "cell_type": "code",
      "metadata": {
        "id": "g4tVTEnzMk4f",
        "outputId": "18de98a3-86dd-4467-d1de-0f5f9c034907",
        "colab": {
          "base_uri": "https://localhost:8080/",
          "height": 224
        }
      },
      "source": [
        "df_bc.head()"
      ],
      "execution_count": 175,
      "outputs": [
        {
          "output_type": "execute_result",
          "data": {
            "text/html": [
              "<div>\n",
              "<style scoped>\n",
              "    .dataframe tbody tr th:only-of-type {\n",
              "        vertical-align: middle;\n",
              "    }\n",
              "\n",
              "    .dataframe tbody tr th {\n",
              "        vertical-align: top;\n",
              "    }\n",
              "\n",
              "    .dataframe thead th {\n",
              "        text-align: right;\n",
              "    }\n",
              "</style>\n",
              "<table border=\"1\" class=\"dataframe\">\n",
              "  <thead>\n",
              "    <tr style=\"text-align: right;\">\n",
              "      <th></th>\n",
              "      <th>id</th>\n",
              "      <th>diagnosis</th>\n",
              "      <th>mean_radius</th>\n",
              "      <th>mean_texture</th>\n",
              "      <th>mean_perimeter</th>\n",
              "      <th>mean_area</th>\n",
              "      <th>mean_smoothness</th>\n",
              "      <th>mean_compactness</th>\n",
              "      <th>mean_concavity</th>\n",
              "      <th>mean_concave_points</th>\n",
              "      <th>mean_symmetry</th>\n",
              "      <th>mean_fractal_dimension</th>\n",
              "      <th>se_radius</th>\n",
              "      <th>se_texture</th>\n",
              "      <th>se_perimeter</th>\n",
              "      <th>se_area</th>\n",
              "      <th>se_smoothness</th>\n",
              "      <th>se_compactness</th>\n",
              "      <th>se_concavity</th>\n",
              "      <th>se_concave_points</th>\n",
              "      <th>se_symmetry</th>\n",
              "      <th>se_fractal_dimension</th>\n",
              "      <th>worst_radius</th>\n",
              "      <th>worst_texture</th>\n",
              "      <th>worst_perimeter</th>\n",
              "      <th>worst_area</th>\n",
              "      <th>worst_smoothness</th>\n",
              "      <th>worst_compactness</th>\n",
              "      <th>worst_concavity</th>\n",
              "      <th>worst_concave_points</th>\n",
              "      <th>worst_symmetry</th>\n",
              "      <th>worst_fractal_dimension</th>\n",
              "    </tr>\n",
              "  </thead>\n",
              "  <tbody>\n",
              "    <tr>\n",
              "      <th>0</th>\n",
              "      <td>842302</td>\n",
              "      <td>M</td>\n",
              "      <td>17.99</td>\n",
              "      <td>10.38</td>\n",
              "      <td>122.80</td>\n",
              "      <td>1001.0</td>\n",
              "      <td>0.11840</td>\n",
              "      <td>0.27760</td>\n",
              "      <td>0.3001</td>\n",
              "      <td>0.14710</td>\n",
              "      <td>0.2419</td>\n",
              "      <td>0.07871</td>\n",
              "      <td>1.0950</td>\n",
              "      <td>0.9053</td>\n",
              "      <td>8.589</td>\n",
              "      <td>153.40</td>\n",
              "      <td>0.006399</td>\n",
              "      <td>0.04904</td>\n",
              "      <td>0.05373</td>\n",
              "      <td>0.01587</td>\n",
              "      <td>0.03003</td>\n",
              "      <td>0.006193</td>\n",
              "      <td>25.38</td>\n",
              "      <td>17.33</td>\n",
              "      <td>184.60</td>\n",
              "      <td>2019.0</td>\n",
              "      <td>0.1622</td>\n",
              "      <td>0.6656</td>\n",
              "      <td>0.7119</td>\n",
              "      <td>0.2654</td>\n",
              "      <td>0.4601</td>\n",
              "      <td>0.11890</td>\n",
              "    </tr>\n",
              "    <tr>\n",
              "      <th>1</th>\n",
              "      <td>842517</td>\n",
              "      <td>M</td>\n",
              "      <td>20.57</td>\n",
              "      <td>17.77</td>\n",
              "      <td>132.90</td>\n",
              "      <td>1326.0</td>\n",
              "      <td>0.08474</td>\n",
              "      <td>0.07864</td>\n",
              "      <td>0.0869</td>\n",
              "      <td>0.07017</td>\n",
              "      <td>0.1812</td>\n",
              "      <td>0.05667</td>\n",
              "      <td>0.5435</td>\n",
              "      <td>0.7339</td>\n",
              "      <td>3.398</td>\n",
              "      <td>74.08</td>\n",
              "      <td>0.005225</td>\n",
              "      <td>0.01308</td>\n",
              "      <td>0.01860</td>\n",
              "      <td>0.01340</td>\n",
              "      <td>0.01389</td>\n",
              "      <td>0.003532</td>\n",
              "      <td>24.99</td>\n",
              "      <td>23.41</td>\n",
              "      <td>158.80</td>\n",
              "      <td>1956.0</td>\n",
              "      <td>0.1238</td>\n",
              "      <td>0.1866</td>\n",
              "      <td>0.2416</td>\n",
              "      <td>0.1860</td>\n",
              "      <td>0.2750</td>\n",
              "      <td>0.08902</td>\n",
              "    </tr>\n",
              "    <tr>\n",
              "      <th>2</th>\n",
              "      <td>84300903</td>\n",
              "      <td>M</td>\n",
              "      <td>19.69</td>\n",
              "      <td>21.25</td>\n",
              "      <td>130.00</td>\n",
              "      <td>1203.0</td>\n",
              "      <td>0.10960</td>\n",
              "      <td>0.15990</td>\n",
              "      <td>0.1974</td>\n",
              "      <td>0.12790</td>\n",
              "      <td>0.2069</td>\n",
              "      <td>0.05999</td>\n",
              "      <td>0.7456</td>\n",
              "      <td>0.7869</td>\n",
              "      <td>4.585</td>\n",
              "      <td>94.03</td>\n",
              "      <td>0.006150</td>\n",
              "      <td>0.04006</td>\n",
              "      <td>0.03832</td>\n",
              "      <td>0.02058</td>\n",
              "      <td>0.02250</td>\n",
              "      <td>0.004571</td>\n",
              "      <td>23.57</td>\n",
              "      <td>25.53</td>\n",
              "      <td>152.50</td>\n",
              "      <td>1709.0</td>\n",
              "      <td>0.1444</td>\n",
              "      <td>0.4245</td>\n",
              "      <td>0.4504</td>\n",
              "      <td>0.2430</td>\n",
              "      <td>0.3613</td>\n",
              "      <td>0.08758</td>\n",
              "    </tr>\n",
              "    <tr>\n",
              "      <th>3</th>\n",
              "      <td>84348301</td>\n",
              "      <td>M</td>\n",
              "      <td>11.42</td>\n",
              "      <td>20.38</td>\n",
              "      <td>77.58</td>\n",
              "      <td>386.1</td>\n",
              "      <td>0.14250</td>\n",
              "      <td>0.28390</td>\n",
              "      <td>0.2414</td>\n",
              "      <td>0.10520</td>\n",
              "      <td>0.2597</td>\n",
              "      <td>0.09744</td>\n",
              "      <td>0.4956</td>\n",
              "      <td>1.1560</td>\n",
              "      <td>3.445</td>\n",
              "      <td>27.23</td>\n",
              "      <td>0.009110</td>\n",
              "      <td>0.07458</td>\n",
              "      <td>0.05661</td>\n",
              "      <td>0.01867</td>\n",
              "      <td>0.05963</td>\n",
              "      <td>0.009208</td>\n",
              "      <td>14.91</td>\n",
              "      <td>26.50</td>\n",
              "      <td>98.87</td>\n",
              "      <td>567.7</td>\n",
              "      <td>0.2098</td>\n",
              "      <td>0.8663</td>\n",
              "      <td>0.6869</td>\n",
              "      <td>0.2575</td>\n",
              "      <td>0.6638</td>\n",
              "      <td>0.17300</td>\n",
              "    </tr>\n",
              "    <tr>\n",
              "      <th>4</th>\n",
              "      <td>84358402</td>\n",
              "      <td>M</td>\n",
              "      <td>20.29</td>\n",
              "      <td>14.34</td>\n",
              "      <td>135.10</td>\n",
              "      <td>1297.0</td>\n",
              "      <td>0.10030</td>\n",
              "      <td>0.13280</td>\n",
              "      <td>0.1980</td>\n",
              "      <td>0.10430</td>\n",
              "      <td>0.1809</td>\n",
              "      <td>0.05883</td>\n",
              "      <td>0.7572</td>\n",
              "      <td>0.7813</td>\n",
              "      <td>5.438</td>\n",
              "      <td>94.44</td>\n",
              "      <td>0.011490</td>\n",
              "      <td>0.02461</td>\n",
              "      <td>0.05688</td>\n",
              "      <td>0.01885</td>\n",
              "      <td>0.01756</td>\n",
              "      <td>0.005115</td>\n",
              "      <td>22.54</td>\n",
              "      <td>16.67</td>\n",
              "      <td>152.20</td>\n",
              "      <td>1575.0</td>\n",
              "      <td>0.1374</td>\n",
              "      <td>0.2050</td>\n",
              "      <td>0.4000</td>\n",
              "      <td>0.1625</td>\n",
              "      <td>0.2364</td>\n",
              "      <td>0.07678</td>\n",
              "    </tr>\n",
              "  </tbody>\n",
              "</table>\n",
              "</div>"
            ],
            "text/plain": [
              "         id diagnosis  ...  worst_symmetry  worst_fractal_dimension\n",
              "0    842302         M  ...          0.4601                  0.11890\n",
              "1    842517         M  ...          0.2750                  0.08902\n",
              "2  84300903         M  ...          0.3613                  0.08758\n",
              "3  84348301         M  ...          0.6638                  0.17300\n",
              "4  84358402         M  ...          0.2364                  0.07678\n",
              "\n",
              "[5 rows x 32 columns]"
            ]
          },
          "metadata": {
            "tags": []
          },
          "execution_count": 175
        }
      ]
    },
    {
      "cell_type": "code",
      "metadata": {
        "id": "jlYQaSFIMsd4",
        "outputId": "ddf7e027-b90e-491b-e0d7-944b06494192",
        "colab": {
          "base_uri": "https://localhost:8080/",
          "height": 578
        }
      },
      "source": [
        "df_bc.isnull().sum()"
      ],
      "execution_count": 176,
      "outputs": [
        {
          "output_type": "execute_result",
          "data": {
            "text/plain": [
              "id                         0\n",
              "diagnosis                  0\n",
              "mean_radius                0\n",
              "mean_texture               0\n",
              "mean_perimeter             0\n",
              "mean_area                  0\n",
              "mean_smoothness            0\n",
              "mean_compactness           0\n",
              "mean_concavity             0\n",
              "mean_concave_points        0\n",
              "mean_symmetry              0\n",
              "mean_fractal_dimension     0\n",
              "se_radius                  0\n",
              "se_texture                 0\n",
              "se_perimeter               0\n",
              "se_area                    0\n",
              "se_smoothness              0\n",
              "se_compactness             0\n",
              "se_concavity               0\n",
              "se_concave_points          0\n",
              "se_symmetry                0\n",
              "se_fractal_dimension       0\n",
              "worst_radius               0\n",
              "worst_texture              0\n",
              "worst_perimeter            0\n",
              "worst_area                 0\n",
              "worst_smoothness           0\n",
              "worst_compactness          0\n",
              "worst_concavity            0\n",
              "worst_concave_points       0\n",
              "worst_symmetry             0\n",
              "worst_fractal_dimension    0\n",
              "dtype: int64"
            ]
          },
          "metadata": {
            "tags": []
          },
          "execution_count": 176
        }
      ]
    },
    {
      "cell_type": "markdown",
      "metadata": {
        "id": "VSGQhW9V6Cds"
      },
      "source": [
        "Sensitivity Vs Specificity \n",
        "\n",
        "Type 1 Vs Type2"
      ]
    },
    {
      "cell_type": "code",
      "metadata": {
        "id": "MGK0Qbji6KQm",
        "outputId": "61a9cd09-3ebd-494d-b7ed-a206c7fb2aa3",
        "colab": {
          "base_uri": "https://localhost:8080/",
          "height": 282
        }
      },
      "source": [
        "mu1 = -2\n",
        "mu2 = 2\n",
        "variance = 1\n",
        "sigma = math.sqrt(variance)\n",
        "\n",
        "x1 = np.linspace( mu1 - 5*sigma, mu1 + 4*sigma, 100 )\n",
        "x2 = np.linspace( mu2 - 5*sigma, mu2 + 4*sigma, 100 )\n",
        "\n",
        "plt.plot(x1, stats.norm.pdf(x1, mu1, sigma)/ 1, color = 'green', linestyle = 'dashed')\n",
        "plt.plot(x2, stats.norm.pdf(x2, mu2, sigma)/ 1, color = 'red')\n",
        "\n",
        "plt.axvline(x = -2, color =\"black\")\n",
        "plt.axvline(x = 2, color =\"black\")\n",
        "plt.axvline(x = 0, color =\"black\")\n",
        "\n",
        "plt.text(-2.7,0.55,\"Sensitive\")\n",
        "plt.text(-0.7,0.55,\"Balanced\")\n",
        "plt.text(1.7,0.55,\"Specific\")\n",
        "\n",
        "plt.ylim([0,0.53])\n",
        "plt.xlim([-5,5])\n",
        "\n",
        "plt.legend(['Negative','Positive'])\n",
        "plt.yticks([])\n",
        "plt.show()"
      ],
      "execution_count": 177,
      "outputs": [
        {
          "output_type": "display_data",
          "data": {
            "image/png": "[encoded data removed]",
            "text/plain": [
              "<Figure size 432x288 with 1 Axes>"
            ]
          },
          "metadata": {
            "tags": [],
            "needs_background": "light"
          }
        }
      ]
    },
    {
      "cell_type": "markdown",
      "metadata": {
        "id": "kYIVF1pq9NWq"
      },
      "source": [
        "Apply zscore for all x columns "
      ]
    },
    {
      "cell_type": "code",
      "metadata": {
        "id": "RjMYJ23T9SY7"
      },
      "source": [
        "x_columns = df_bc.columns.drop(['diagnosis', 'id'])\n",
        "# convert all columns to zscore \n",
        "for col in x_columns:\n",
        "    df_bc[col] = zscore(df_bc[col])"
      ],
      "execution_count": 178,
      "outputs": []
    },
    {
      "cell_type": "code",
      "metadata": {
        "id": "c63xK2Xj-n6Y"
      },
      "source": [
        "# convert to np array\n",
        "xbc = df_bc[x_columns].values\n",
        "# Binary classification - 1 for malignat \n",
        "ybc = df_bc['diagnosis'].map({'M':1, \"B\":0}).values"
      ],
      "execution_count": 179,
      "outputs": []
    },
    {
      "cell_type": "code",
      "metadata": {
        "id": "pbnU7-yZBKj5"
      },
      "source": [
        "# Plot an ROC. pred - the predictions, y - the expected output.\n",
        "\n",
        "def plot_roc(pred, y):\n",
        "    fpr, tpr, _ = roc_curve(y, pred)\n",
        "    roc_auc = auc(fpr, tpr)\n",
        "\n",
        "    plt.figure()\n",
        "    plt.plot(fpr, tpr, label = 'ROC Curve (area = %0.2f)' % roc_auc)\n",
        "    plt.plot([0,1], [0,1], 'k--')\n",
        "    plt.xlim([0.0, 1.0])\n",
        "    plt.ylim([0.0, 1.05])\n",
        "    plt.xlabel('False poistive rate')\n",
        "    plt.ylabel('True postitive rate')\n",
        "    plt.title('Receiver Operating Characteristics (ROC)')\n",
        "    plt.legend(loc= 'lower right')\n",
        "    plt.show()"
      ],
      "execution_count": 180,
      "outputs": []
    },
    {
      "cell_type": "markdown",
      "metadata": {
        "id": "SUJIqKO_CZSb"
      },
      "source": [
        "**ROC Chart Example**"
      ]
    },
    {
      "cell_type": "code",
      "metadata": {
        "id": "53dH0eYMDEu8",
        "outputId": "2f41bf2d-1a9a-4958-f113-f08251f556d2",
        "colab": {
          "base_uri": "https://localhost:8080/",
          "height": 34
        }
      },
      "source": [
        "# split the data between train and test\n",
        "xbc_train, xbc_test, ybc_train,  ybc_test = train_test_split(xbc, ybc, test_size = 0.25, random_state = 42) \n",
        "\n",
        "print(xbc_train.shape, ybc_train.shape, xbc_test.shape, ybc_test.shape)"
      ],
      "execution_count": 181,
      "outputs": [
        {
          "output_type": "stream",
          "text": [
            "(426, 30) (426,) (143, 30) (143,)\n"
          ],
          "name": "stdout"
        }
      ]
    },
    {
      "cell_type": "code",
      "metadata": {
        "id": "6No-Emg8DdWR"
      },
      "source": [
        "# create model\n",
        "\n",
        "model = Sequential()\n",
        "model.add(Dense(100, input_dim = xbc.shape[1], activation='relu', kernel_initializer='random_normal'))\n",
        "model.add(Dense(25, activation='relu', kernel_initializer='random_normal'))\n",
        "model.add(Dense(1, activation='sigmoid', kernel_initializer='random_normal'))\n",
        "model.compile(loss=  'binary_crossentropy', \n",
        "              optimizer = tensorflow.keras.optimizers.Adam(),\n",
        "              metrics = ['accuracy'])\n",
        "\n",
        "monitor = EarlyStopping(monitor='val_loss', min_delta = 1e-3,\n",
        "                        patience =5, verbose = 1, mode = 'auto', restore_best_weights = True)\n"
      ],
      "execution_count": 182,
      "outputs": []
    },
    {
      "cell_type": "code",
      "metadata": {
        "id": "6glFHh82Gowa",
        "outputId": "0cdfc0b9-d339-475b-a6e8-03f0c4d920ef",
        "colab": {
          "base_uri": "https://localhost:8080/",
          "height": 870
        }
      },
      "source": [
        "model.fit(xbc_train, ybc_train, validation_data=(xbc_test, ybc_test),\n",
        "          callbacks = [monitor], verbose = 2, epochs = 1000)"
      ],
      "execution_count": 183,
      "outputs": [
        {
          "output_type": "stream",
          "text": [
            "Epoch 1/1000\n",
            "14/14 - 0s - loss: 0.6693 - accuracy: 0.8169 - val_loss: 0.6273 - val_accuracy: 0.9441\n",
            "Epoch 2/1000\n",
            "14/14 - 0s - loss: 0.5780 - accuracy: 0.9272 - val_loss: 0.4860 - val_accuracy: 0.9441\n",
            "Epoch 3/1000\n",
            "14/14 - 0s - loss: 0.4210 - accuracy: 0.9296 - val_loss: 0.3070 - val_accuracy: 0.9510\n",
            "Epoch 4/1000\n",
            "14/14 - 0s - loss: 0.2588 - accuracy: 0.9460 - val_loss: 0.1749 - val_accuracy: 0.9510\n",
            "Epoch 5/1000\n",
            "14/14 - 0s - loss: 0.1602 - accuracy: 0.9648 - val_loss: 0.1093 - val_accuracy: 0.9720\n",
            "Epoch 6/1000\n",
            "14/14 - 0s - loss: 0.1168 - accuracy: 0.9718 - val_loss: 0.0793 - val_accuracy: 0.9720\n",
            "Epoch 7/1000\n",
            "14/14 - 0s - loss: 0.0945 - accuracy: 0.9789 - val_loss: 0.0688 - val_accuracy: 0.9650\n",
            "Epoch 8/1000\n",
            "14/14 - 0s - loss: 0.0817 - accuracy: 0.9789 - val_loss: 0.0610 - val_accuracy: 0.9650\n",
            "Epoch 9/1000\n",
            "14/14 - 0s - loss: 0.0737 - accuracy: 0.9789 - val_loss: 0.0578 - val_accuracy: 0.9720\n",
            "Epoch 10/1000\n",
            "14/14 - 0s - loss: 0.0679 - accuracy: 0.9789 - val_loss: 0.0563 - val_accuracy: 0.9720\n",
            "Epoch 11/1000\n",
            "14/14 - 0s - loss: 0.0629 - accuracy: 0.9812 - val_loss: 0.0544 - val_accuracy: 0.9860\n",
            "Epoch 12/1000\n",
            "14/14 - 0s - loss: 0.0589 - accuracy: 0.9812 - val_loss: 0.0537 - val_accuracy: 0.9860\n",
            "Epoch 13/1000\n",
            "14/14 - 0s - loss: 0.0554 - accuracy: 0.9836 - val_loss: 0.0522 - val_accuracy: 0.9860\n",
            "Epoch 14/1000\n",
            "14/14 - 0s - loss: 0.0520 - accuracy: 0.9836 - val_loss: 0.0522 - val_accuracy: 0.9790\n",
            "Epoch 15/1000\n",
            "14/14 - 0s - loss: 0.0495 - accuracy: 0.9836 - val_loss: 0.0522 - val_accuracy: 0.9790\n",
            "Epoch 16/1000\n",
            "14/14 - 0s - loss: 0.0464 - accuracy: 0.9859 - val_loss: 0.0531 - val_accuracy: 0.9860\n",
            "Epoch 17/1000\n",
            "14/14 - 0s - loss: 0.0439 - accuracy: 0.9883 - val_loss: 0.0525 - val_accuracy: 0.9860\n",
            "Epoch 18/1000\n",
            "14/14 - 0s - loss: 0.0425 - accuracy: 0.9883 - val_loss: 0.0499 - val_accuracy: 0.9860\n",
            "Epoch 19/1000\n",
            "14/14 - 0s - loss: 0.0392 - accuracy: 0.9906 - val_loss: 0.0605 - val_accuracy: 0.9860\n",
            "Epoch 20/1000\n",
            "14/14 - 0s - loss: 0.0372 - accuracy: 0.9906 - val_loss: 0.0557 - val_accuracy: 0.9860\n",
            "Epoch 21/1000\n",
            "14/14 - 0s - loss: 0.0352 - accuracy: 0.9930 - val_loss: 0.0544 - val_accuracy: 0.9860\n",
            "Epoch 22/1000\n",
            "14/14 - 0s - loss: 0.0334 - accuracy: 0.9930 - val_loss: 0.0544 - val_accuracy: 0.9860\n",
            "Epoch 23/1000\n",
            "Restoring model weights from the end of the best epoch.\n",
            "14/14 - 0s - loss: 0.0330 - accuracy: 0.9930 - val_loss: 0.0678 - val_accuracy: 0.9860\n",
            "Epoch 00023: early stopping\n"
          ],
          "name": "stdout"
        },
        {
          "output_type": "execute_result",
          "data": {
            "text/plain": [
              "<tensorflow.python.keras.callbacks.History at 0x7f5f84757470>"
            ]
          },
          "metadata": {
            "tags": []
          },
          "execution_count": 183
        }
      ]
    },
    {
      "cell_type": "code",
      "metadata": {
        "id": "7gsWtCEWg_oJ",
        "outputId": "99b5ed4f-c32f-4cca-ec78-fd4e1cc8d0f2",
        "colab": {
          "base_uri": "https://localhost:8080/",
          "height": 295
        }
      },
      "source": [
        "\n",
        "pred = model.predict(xbc_test)\n",
        "plot_roc(pred,ybc_test)"
      ],
      "execution_count": 184,
      "outputs": [
        {
          "output_type": "display_data",
          "data": {
            "image/png": "[encoded data removed]",
            "text/plain": [
              "<Figure size 432x288 with 1 Axes>"
            ]
          },
          "metadata": {
            "tags": [],
            "needs_background": "light"
          }
        }
      ]
    },
    {
      "cell_type": "markdown",
      "metadata": {
        "id": "rvVa0Tbh94Gn"
      },
      "source": [
        "## Part 4.3: Keras Regression for Deep Neural Networks with RMSE"
      ]
    },
    {
      "cell_type": "code",
      "metadata": {
        "id": "qh3MQhJshMdz"
      },
      "source": [
        "df = pd.read_csv(file_path, na_values= ['NA', \"?\"])"
      ],
      "execution_count": 185,
      "outputs": []
    },
    {
      "cell_type": "markdown",
      "metadata": {
        "id": "gqhNK3kq-ISq"
      },
      "source": [
        "Y predictor = Prdict the Age based on the product they bought  "
      ]
    },
    {
      "cell_type": "code",
      "metadata": {
        "id": "UJ8ghu_D-jOk",
        "outputId": "6e0e080b-5545-40b7-c6ea-1d2b4ac4c0a7",
        "colab": {
          "base_uri": "https://localhost:8080/",
          "height": 224
        }
      },
      "source": [
        "df.head()"
      ],
      "execution_count": 186,
      "outputs": [
        {
          "output_type": "execute_result",
          "data": {
            "text/html": [
              "<div>\n",
              "<style scoped>\n",
              "    .dataframe tbody tr th:only-of-type {\n",
              "        vertical-align: middle;\n",
              "    }\n",
              "\n",
              "    .dataframe tbody tr th {\n",
              "        vertical-align: top;\n",
              "    }\n",
              "\n",
              "    .dataframe thead th {\n",
              "        text-align: right;\n",
              "    }\n",
              "</style>\n",
              "<table border=\"1\" class=\"dataframe\">\n",
              "  <thead>\n",
              "    <tr style=\"text-align: right;\">\n",
              "      <th></th>\n",
              "      <th>id</th>\n",
              "      <th>job</th>\n",
              "      <th>area</th>\n",
              "      <th>income</th>\n",
              "      <th>aspect</th>\n",
              "      <th>subscriptions</th>\n",
              "      <th>dist_healthy</th>\n",
              "      <th>save_rate</th>\n",
              "      <th>dist_unhealthy</th>\n",
              "      <th>age</th>\n",
              "      <th>pop_dense</th>\n",
              "      <th>retail_dense</th>\n",
              "      <th>crime</th>\n",
              "      <th>product</th>\n",
              "    </tr>\n",
              "  </thead>\n",
              "  <tbody>\n",
              "    <tr>\n",
              "      <th>0</th>\n",
              "      <td>1</td>\n",
              "      <td>vv</td>\n",
              "      <td>c</td>\n",
              "      <td>50876.0</td>\n",
              "      <td>13.100000</td>\n",
              "      <td>1</td>\n",
              "      <td>9.017895</td>\n",
              "      <td>35</td>\n",
              "      <td>11.738935</td>\n",
              "      <td>49</td>\n",
              "      <td>0.885827</td>\n",
              "      <td>0.492126</td>\n",
              "      <td>0.071100</td>\n",
              "      <td>b</td>\n",
              "    </tr>\n",
              "    <tr>\n",
              "      <th>1</th>\n",
              "      <td>2</td>\n",
              "      <td>kd</td>\n",
              "      <td>c</td>\n",
              "      <td>60369.0</td>\n",
              "      <td>18.625000</td>\n",
              "      <td>2</td>\n",
              "      <td>7.766643</td>\n",
              "      <td>59</td>\n",
              "      <td>6.805396</td>\n",
              "      <td>51</td>\n",
              "      <td>0.874016</td>\n",
              "      <td>0.342520</td>\n",
              "      <td>0.400809</td>\n",
              "      <td>c</td>\n",
              "    </tr>\n",
              "    <tr>\n",
              "      <th>2</th>\n",
              "      <td>3</td>\n",
              "      <td>pe</td>\n",
              "      <td>c</td>\n",
              "      <td>55126.0</td>\n",
              "      <td>34.766667</td>\n",
              "      <td>1</td>\n",
              "      <td>3.632069</td>\n",
              "      <td>6</td>\n",
              "      <td>13.671772</td>\n",
              "      <td>44</td>\n",
              "      <td>0.944882</td>\n",
              "      <td>0.724409</td>\n",
              "      <td>0.207723</td>\n",
              "      <td>b</td>\n",
              "    </tr>\n",
              "    <tr>\n",
              "      <th>3</th>\n",
              "      <td>4</td>\n",
              "      <td>11</td>\n",
              "      <td>c</td>\n",
              "      <td>51690.0</td>\n",
              "      <td>15.808333</td>\n",
              "      <td>1</td>\n",
              "      <td>5.372942</td>\n",
              "      <td>16</td>\n",
              "      <td>4.333286</td>\n",
              "      <td>50</td>\n",
              "      <td>0.889764</td>\n",
              "      <td>0.444882</td>\n",
              "      <td>0.361216</td>\n",
              "      <td>b</td>\n",
              "    </tr>\n",
              "    <tr>\n",
              "      <th>4</th>\n",
              "      <td>5</td>\n",
              "      <td>kl</td>\n",
              "      <td>d</td>\n",
              "      <td>28347.0</td>\n",
              "      <td>40.941667</td>\n",
              "      <td>3</td>\n",
              "      <td>3.822477</td>\n",
              "      <td>20</td>\n",
              "      <td>5.967121</td>\n",
              "      <td>38</td>\n",
              "      <td>0.744094</td>\n",
              "      <td>0.661417</td>\n",
              "      <td>0.068033</td>\n",
              "      <td>a</td>\n",
              "    </tr>\n",
              "  </tbody>\n",
              "</table>\n",
              "</div>"
            ],
            "text/plain": [
              "   id job area   income  ...  pop_dense  retail_dense     crime  product\n",
              "0   1  vv    c  50876.0  ...   0.885827      0.492126  0.071100        b\n",
              "1   2  kd    c  60369.0  ...   0.874016      0.342520  0.400809        c\n",
              "2   3  pe    c  55126.0  ...   0.944882      0.724409  0.207723        b\n",
              "3   4  11    c  51690.0  ...   0.889764      0.444882  0.361216        b\n",
              "4   5  kl    d  28347.0  ...   0.744094      0.661417  0.068033        a\n",
              "\n",
              "[5 rows x 14 columns]"
            ]
          },
          "metadata": {
            "tags": []
          },
          "execution_count": 186
        }
      ]
    },
    {
      "cell_type": "code",
      "metadata": {
        "id": "y7fGHoPk-pyt"
      },
      "source": [
        "# Create Dummies \n",
        "df= pd.get_dummies(df, columns=['job', 'area', 'product'])"
      ],
      "execution_count": 187,
      "outputs": []
    },
    {
      "cell_type": "code",
      "metadata": {
        "id": "Cg42oKss_Kv4"
      },
      "source": [
        "# Update missing income with median income\n",
        "df['income'] = df['income'].fillna(df['income'].median())"
      ],
      "execution_count": 188,
      "outputs": []
    },
    {
      "cell_type": "code",
      "metadata": {
        "id": "JwitAJGy_np4"
      },
      "source": [
        "#Standardize ranges\n",
        "d_columns = ['income', 'aspect', 'subscriptions', 'save_rate' ]\n",
        "\n",
        "for col in d_columns:\n",
        "    df[col] = zscore(df[col])"
      ],
      "execution_count": 189,
      "outputs": []
    },
    {
      "cell_type": "code",
      "metadata": {
        "id": "ffrWfR12AQTA"
      },
      "source": [
        "# Convert to numpy - classification\n",
        "x_columns = df.columns.drop(['age', 'id'])\n",
        "x = df[x_columns].values\n",
        "y = df['age'].values"
      ],
      "execution_count": 192,
      "outputs": []
    },
    {
      "cell_type": "code",
      "metadata": {
        "id": "aBccaoTiAyzr",
        "outputId": "470e3c9a-50a4-4c16-c152-0bb6eeb8312c",
        "colab": {
          "base_uri": "https://localhost:8080/",
          "height": 136
        }
      },
      "source": [
        "print(x, y)"
      ],
      "execution_count": 193,
      "outputs": [
        {
          "output_type": "stream",
          "text": [
            "[[-0.61 -0.66 -0.21 ...  0.    0.    0.  ]\n",
            " [ 0.34 -0.21  0.84 ...  0.    0.    0.  ]\n",
            " [-0.18  1.13 -0.21 ...  0.    0.    0.  ]\n",
            " ...\n",
            " [-2.83  1.51  1.89 ...  0.    1.    0.  ]\n",
            " [ 1.09 -1.27 -1.26 ...  0.    0.    0.  ]\n",
            " [ 0.45 -0.35 -1.26 ...  0.    0.    0.  ]] [49 51 44 ... 36 46 48]\n"
          ],
          "name": "stdout"
        }
      ]
    },
    {
      "cell_type": "code",
      "metadata": {
        "id": "g09hw7KVBS3Q"
      },
      "source": [
        "# create train / test\n",
        "x_train , x_test, y_train, y_test = train_test_split(x, y ,\n",
        "                            test_size = 0.25, random_state = 42)"
      ],
      "execution_count": 194,
      "outputs": []
    },
    {
      "cell_type": "code",
      "metadata": {
        "id": "l0XjvZJ0BnKk",
        "outputId": "4defb6d1-0667-4004-b1d9-542ce5c9aeed",
        "colab": {
          "base_uri": "https://localhost:8080/",
          "height": 34
        }
      },
      "source": [
        "print(x_train.shape, x_test.shape, y_train.shape, y_test.shape)"
      ],
      "execution_count": 195,
      "outputs": [
        {
          "output_type": "stream",
          "text": [
            "(1500, 53) (500, 53) (1500,) (500,)\n"
          ],
          "name": "stdout"
        }
      ]
    },
    {
      "cell_type": "code",
      "metadata": {
        "id": "Sv5iMMAWCXpf"
      },
      "source": [
        "# Build the model \n",
        "model = Sequential()\n",
        "model.add(Dense(25, input_dim=x.shape[1], activation='relu', kernel_initializer='random_normal'))\n",
        "model.add(Dense(10, activation='relu', kernel_initializer= 'random_normal'))\n",
        "model.add(Dense(1))\n",
        "\n",
        "model.compile(loss='mean_squared_error', optimizer='adam')\n",
        "monitor = EarlyStopping(monitor = 'val_loss', min_delta= 1e-3, \n",
        "                    patience = 5, verbose =1,\n",
        "                    mode = 'auto', restore_best_weights = True)"
      ],
      "execution_count": 196,
      "outputs": []
    },
    {
      "cell_type": "code",
      "metadata": {
        "id": "dTJ8JjkwFCEQ",
        "outputId": "d70172d2-040a-4057-ce87-465718d36eaf",
        "colab": {
          "base_uri": "https://localhost:8080/",
          "height": 1000
        }
      },
      "source": [
        "# fit the model\n",
        "model.fit(x_train, y_train, validation_data= (x_test, y_test),\n",
        "          callbacks = [monitor], verbose = 2, epochs = 1000)"
      ],
      "execution_count": 197,
      "outputs": [
        {
          "output_type": "stream",
          "text": [
            "Epoch 1/1000\n",
            "47/47 - 0s - loss: 2035.7003 - val_loss: 1873.9703\n",
            "Epoch 2/1000\n",
            "47/47 - 0s - loss: 1526.0760 - val_loss: 999.1725\n",
            "Epoch 3/1000\n",
            "47/47 - 0s - loss: 548.3021 - val_loss: 262.7303\n",
            "Epoch 4/1000\n",
            "47/47 - 0s - loss: 246.9267 - val_loss: 226.6613\n",
            "Epoch 5/1000\n",
            "47/47 - 0s - loss: 219.6692 - val_loss: 204.5244\n",
            "Epoch 6/1000\n",
            "47/47 - 0s - loss: 197.2735 - val_loss: 183.6048\n",
            "Epoch 7/1000\n",
            "47/47 - 0s - loss: 175.4441 - val_loss: 164.0406\n",
            "Epoch 8/1000\n",
            "47/47 - 0s - loss: 155.4614 - val_loss: 145.8304\n",
            "Epoch 9/1000\n",
            "47/47 - 0s - loss: 136.9540 - val_loss: 128.3982\n",
            "Epoch 10/1000\n",
            "47/47 - 0s - loss: 119.5188 - val_loss: 113.3103\n",
            "Epoch 11/1000\n",
            "47/47 - 0s - loss: 103.9458 - val_loss: 99.2021\n",
            "Epoch 12/1000\n",
            "47/47 - 0s - loss: 90.2605 - val_loss: 87.0331\n",
            "Epoch 13/1000\n",
            "47/47 - 0s - loss: 78.7382 - val_loss: 76.5868\n",
            "Epoch 14/1000\n",
            "47/47 - 0s - loss: 68.8361 - val_loss: 68.3013\n",
            "Epoch 15/1000\n",
            "47/47 - 0s - loss: 60.6972 - val_loss: 61.2106\n",
            "Epoch 16/1000\n",
            "47/47 - 0s - loss: 53.7752 - val_loss: 54.5967\n",
            "Epoch 17/1000\n",
            "47/47 - 0s - loss: 48.0376 - val_loss: 50.8276\n",
            "Epoch 18/1000\n",
            "47/47 - 0s - loss: 43.2328 - val_loss: 44.4461\n",
            "Epoch 19/1000\n",
            "47/47 - 0s - loss: 38.4652 - val_loss: 40.4873\n",
            "Epoch 20/1000\n",
            "47/47 - 0s - loss: 34.7583 - val_loss: 36.5847\n",
            "Epoch 21/1000\n",
            "47/47 - 0s - loss: 31.1474 - val_loss: 33.3445\n",
            "Epoch 22/1000\n",
            "47/47 - 0s - loss: 28.2656 - val_loss: 30.5270\n",
            "Epoch 23/1000\n",
            "47/47 - 0s - loss: 25.7246 - val_loss: 27.7606\n",
            "Epoch 24/1000\n",
            "47/47 - 0s - loss: 23.4419 - val_loss: 25.4731\n",
            "Epoch 25/1000\n",
            "47/47 - 0s - loss: 21.4669 - val_loss: 23.3863\n",
            "Epoch 26/1000\n",
            "47/47 - 0s - loss: 19.7372 - val_loss: 22.2548\n",
            "Epoch 27/1000\n",
            "47/47 - 0s - loss: 18.5201 - val_loss: 20.2405\n",
            "Epoch 28/1000\n",
            "47/47 - 0s - loss: 17.2335 - val_loss: 18.9472\n",
            "Epoch 29/1000\n",
            "47/47 - 0s - loss: 16.1746 - val_loss: 17.8136\n",
            "Epoch 30/1000\n",
            "47/47 - 0s - loss: 15.3290 - val_loss: 16.9242\n",
            "Epoch 31/1000\n",
            "47/47 - 0s - loss: 14.4946 - val_loss: 16.1101\n",
            "Epoch 32/1000\n",
            "47/47 - 0s - loss: 13.9329 - val_loss: 15.3019\n",
            "Epoch 33/1000\n",
            "47/47 - 0s - loss: 13.3535 - val_loss: 14.6729\n",
            "Epoch 34/1000\n",
            "47/47 - 0s - loss: 12.9363 - val_loss: 14.3407\n",
            "Epoch 35/1000\n",
            "47/47 - 0s - loss: 12.5317 - val_loss: 13.7666\n",
            "Epoch 36/1000\n",
            "47/47 - 0s - loss: 12.1253 - val_loss: 13.4537\n",
            "Epoch 37/1000\n",
            "47/47 - 0s - loss: 11.7925 - val_loss: 12.8623\n",
            "Epoch 38/1000\n",
            "47/47 - 0s - loss: 11.5128 - val_loss: 12.5615\n",
            "Epoch 39/1000\n",
            "47/47 - 0s - loss: 11.2295 - val_loss: 12.0972\n",
            "Epoch 40/1000\n",
            "47/47 - 0s - loss: 10.9710 - val_loss: 11.7800\n",
            "Epoch 41/1000\n",
            "47/47 - 0s - loss: 10.6897 - val_loss: 11.5737\n",
            "Epoch 42/1000\n",
            "47/47 - 0s - loss: 10.4834 - val_loss: 11.4587\n",
            "Epoch 43/1000\n",
            "47/47 - 0s - loss: 10.2258 - val_loss: 10.8893\n",
            "Epoch 44/1000\n",
            "47/47 - 0s - loss: 10.0459 - val_loss: 10.8591\n",
            "Epoch 45/1000\n",
            "47/47 - 0s - loss: 9.7763 - val_loss: 10.3562\n",
            "Epoch 46/1000\n",
            "47/47 - 0s - loss: 9.6018 - val_loss: 10.1003\n",
            "Epoch 47/1000\n",
            "47/47 - 0s - loss: 9.3632 - val_loss: 9.9214\n",
            "Epoch 48/1000\n",
            "47/47 - 0s - loss: 9.1406 - val_loss: 9.6235\n",
            "Epoch 49/1000\n",
            "47/47 - 0s - loss: 8.9403 - val_loss: 9.4788\n",
            "Epoch 50/1000\n",
            "47/47 - 0s - loss: 8.7123 - val_loss: 9.1534\n",
            "Epoch 51/1000\n",
            "47/47 - 0s - loss: 8.5373 - val_loss: 8.9180\n",
            "Epoch 52/1000\n",
            "47/47 - 0s - loss: 8.3191 - val_loss: 8.9175\n",
            "Epoch 53/1000\n",
            "47/47 - 0s - loss: 8.1568 - val_loss: 8.5435\n",
            "Epoch 54/1000\n",
            "47/47 - 0s - loss: 7.9601 - val_loss: 8.4531\n",
            "Epoch 55/1000\n",
            "47/47 - 0s - loss: 7.7576 - val_loss: 8.0625\n",
            "Epoch 56/1000\n",
            "47/47 - 0s - loss: 7.5839 - val_loss: 7.9287\n",
            "Epoch 57/1000\n",
            "47/47 - 0s - loss: 7.4739 - val_loss: 7.7252\n",
            "Epoch 58/1000\n",
            "47/47 - 0s - loss: 7.2224 - val_loss: 7.7011\n",
            "Epoch 59/1000\n",
            "47/47 - 0s - loss: 7.0786 - val_loss: 7.2711\n",
            "Epoch 60/1000\n",
            "47/47 - 0s - loss: 6.8319 - val_loss: 7.2931\n",
            "Epoch 61/1000\n",
            "47/47 - 0s - loss: 6.6777 - val_loss: 7.1298\n",
            "Epoch 62/1000\n",
            "47/47 - 0s - loss: 6.5428 - val_loss: 6.7001\n",
            "Epoch 63/1000\n",
            "47/47 - 0s - loss: 6.3505 - val_loss: 6.4892\n",
            "Epoch 64/1000\n",
            "47/47 - 0s - loss: 6.2081 - val_loss: 6.3424\n",
            "Epoch 65/1000\n",
            "47/47 - 0s - loss: 6.0124 - val_loss: 6.1117\n",
            "Epoch 66/1000\n",
            "47/47 - 0s - loss: 5.8753 - val_loss: 6.0665\n",
            "Epoch 67/1000\n",
            "47/47 - 0s - loss: 5.7291 - val_loss: 5.7521\n",
            "Epoch 68/1000\n",
            "47/47 - 0s - loss: 5.4725 - val_loss: 5.6981\n",
            "Epoch 69/1000\n",
            "47/47 - 0s - loss: 5.3037 - val_loss: 5.4234\n",
            "Epoch 70/1000\n",
            "47/47 - 0s - loss: 5.1871 - val_loss: 5.2779\n",
            "Epoch 71/1000\n",
            "47/47 - 0s - loss: 5.0993 - val_loss: 5.0992\n",
            "Epoch 72/1000\n",
            "47/47 - 0s - loss: 4.8767 - val_loss: 4.9067\n",
            "Epoch 73/1000\n",
            "47/47 - 0s - loss: 4.6707 - val_loss: 4.7950\n",
            "Epoch 74/1000\n",
            "47/47 - 0s - loss: 4.5992 - val_loss: 4.6406\n",
            "Epoch 75/1000\n",
            "47/47 - 0s - loss: 4.5586 - val_loss: 5.1234\n",
            "Epoch 76/1000\n",
            "47/47 - 0s - loss: 4.2716 - val_loss: 4.3516\n",
            "Epoch 77/1000\n",
            "47/47 - 0s - loss: 4.1049 - val_loss: 4.3275\n",
            "Epoch 78/1000\n",
            "47/47 - 0s - loss: 4.0131 - val_loss: 3.9818\n",
            "Epoch 79/1000\n",
            "47/47 - 0s - loss: 3.8997 - val_loss: 3.8697\n",
            "Epoch 80/1000\n",
            "47/47 - 0s - loss: 3.7557 - val_loss: 3.6947\n",
            "Epoch 81/1000\n",
            "47/47 - 0s - loss: 3.6104 - val_loss: 3.5708\n",
            "Epoch 82/1000\n",
            "47/47 - 0s - loss: 3.4354 - val_loss: 3.6905\n",
            "Epoch 83/1000\n",
            "47/47 - 0s - loss: 3.3945 - val_loss: 3.4291\n",
            "Epoch 84/1000\n",
            "47/47 - 0s - loss: 3.2790 - val_loss: 3.3097\n",
            "Epoch 85/1000\n",
            "47/47 - 0s - loss: 3.0835 - val_loss: 3.1800\n",
            "Epoch 86/1000\n",
            "47/47 - 0s - loss: 2.9954 - val_loss: 2.9720\n",
            "Epoch 87/1000\n",
            "47/47 - 0s - loss: 2.8280 - val_loss: 2.8817\n",
            "Epoch 88/1000\n",
            "47/47 - 0s - loss: 2.7423 - val_loss: 2.7015\n",
            "Epoch 89/1000\n",
            "47/47 - 0s - loss: 2.6145 - val_loss: 2.5846\n",
            "Epoch 90/1000\n",
            "47/47 - 0s - loss: 2.5250 - val_loss: 2.6450\n",
            "Epoch 91/1000\n",
            "47/47 - 0s - loss: 2.4142 - val_loss: 2.4027\n",
            "Epoch 92/1000\n",
            "47/47 - 0s - loss: 2.3056 - val_loss: 2.3908\n",
            "Epoch 93/1000\n",
            "47/47 - 0s - loss: 2.1970 - val_loss: 2.2680\n",
            "Epoch 94/1000\n",
            "47/47 - 0s - loss: 2.1054 - val_loss: 2.1184\n",
            "Epoch 95/1000\n",
            "47/47 - 0s - loss: 2.0261 - val_loss: 2.0657\n",
            "Epoch 96/1000\n",
            "47/47 - 0s - loss: 1.9439 - val_loss: 2.2771\n",
            "Epoch 97/1000\n",
            "47/47 - 0s - loss: 1.9054 - val_loss: 1.8395\n",
            "Epoch 98/1000\n",
            "47/47 - 0s - loss: 1.7970 - val_loss: 1.7729\n",
            "Epoch 99/1000\n",
            "47/47 - 0s - loss: 1.6760 - val_loss: 1.8311\n",
            "Epoch 100/1000\n",
            "47/47 - 0s - loss: 1.6604 - val_loss: 1.6313\n",
            "Epoch 101/1000\n",
            "47/47 - 0s - loss: 1.5852 - val_loss: 1.5594\n",
            "Epoch 102/1000\n",
            "47/47 - 0s - loss: 1.5076 - val_loss: 1.5295\n",
            "Epoch 103/1000\n",
            "47/47 - 0s - loss: 1.4740 - val_loss: 1.4696\n",
            "Epoch 104/1000\n",
            "47/47 - 0s - loss: 1.3834 - val_loss: 1.4547\n",
            "Epoch 105/1000\n",
            "47/47 - 0s - loss: 1.3393 - val_loss: 1.3419\n",
            "Epoch 106/1000\n",
            "47/47 - 0s - loss: 1.2783 - val_loss: 1.3093\n",
            "Epoch 107/1000\n",
            "47/47 - 0s - loss: 1.2321 - val_loss: 1.2534\n",
            "Epoch 108/1000\n",
            "47/47 - 0s - loss: 1.3101 - val_loss: 1.2204\n",
            "Epoch 109/1000\n",
            "47/47 - 0s - loss: 1.1554 - val_loss: 1.1654\n",
            "Epoch 110/1000\n",
            "47/47 - 0s - loss: 1.0969 - val_loss: 1.1857\n",
            "Epoch 111/1000\n",
            "47/47 - 0s - loss: 1.0851 - val_loss: 1.1534\n",
            "Epoch 112/1000\n",
            "47/47 - 0s - loss: 1.0494 - val_loss: 1.0706\n",
            "Epoch 113/1000\n",
            "47/47 - 0s - loss: 0.9938 - val_loss: 1.0690\n",
            "Epoch 114/1000\n",
            "47/47 - 0s - loss: 0.9805 - val_loss: 1.0613\n",
            "Epoch 115/1000\n",
            "47/47 - 0s - loss: 0.9651 - val_loss: 1.0519\n",
            "Epoch 116/1000\n",
            "47/47 - 0s - loss: 0.9972 - val_loss: 1.0244\n",
            "Epoch 117/1000\n",
            "47/47 - 0s - loss: 0.9163 - val_loss: 0.9681\n",
            "Epoch 118/1000\n",
            "47/47 - 0s - loss: 0.9002 - val_loss: 1.1112\n",
            "Epoch 119/1000\n",
            "47/47 - 0s - loss: 0.8878 - val_loss: 1.0050\n",
            "Epoch 120/1000\n",
            "47/47 - 0s - loss: 0.8614 - val_loss: 0.9072\n",
            "Epoch 121/1000\n",
            "47/47 - 0s - loss: 0.8594 - val_loss: 0.8995\n",
            "Epoch 122/1000\n",
            "47/47 - 0s - loss: 0.8293 - val_loss: 0.9298\n",
            "Epoch 123/1000\n",
            "47/47 - 0s - loss: 0.8263 - val_loss: 0.8853\n",
            "Epoch 124/1000\n",
            "47/47 - 0s - loss: 0.8041 - val_loss: 0.9147\n",
            "Epoch 125/1000\n",
            "47/47 - 0s - loss: 0.8255 - val_loss: 0.8692\n",
            "Epoch 126/1000\n",
            "47/47 - 0s - loss: 0.8358 - val_loss: 1.1184\n",
            "Epoch 127/1000\n",
            "47/47 - 0s - loss: 0.8230 - val_loss: 0.8686\n",
            "Epoch 128/1000\n",
            "47/47 - 0s - loss: 0.7771 - val_loss: 0.9118\n",
            "Epoch 129/1000\n",
            "47/47 - 0s - loss: 0.7682 - val_loss: 0.8337\n",
            "Epoch 130/1000\n",
            "47/47 - 0s - loss: 0.7782 - val_loss: 0.8401\n",
            "Epoch 131/1000\n",
            "47/47 - 0s - loss: 0.7527 - val_loss: 0.8441\n",
            "Epoch 132/1000\n",
            "47/47 - 0s - loss: 0.7610 - val_loss: 0.7978\n",
            "Epoch 133/1000\n",
            "47/47 - 0s - loss: 0.7328 - val_loss: 0.9248\n",
            "Epoch 134/1000\n",
            "47/47 - 0s - loss: 0.7241 - val_loss: 0.7874\n",
            "Epoch 135/1000\n",
            "47/47 - 0s - loss: 0.7147 - val_loss: 0.7841\n",
            "Epoch 136/1000\n",
            "47/47 - 0s - loss: 0.7194 - val_loss: 0.8185\n",
            "Epoch 137/1000\n",
            "47/47 - 0s - loss: 0.7078 - val_loss: 0.8124\n",
            "Epoch 138/1000\n",
            "47/47 - 0s - loss: 0.7378 - val_loss: 0.8273\n",
            "Epoch 139/1000\n",
            "47/47 - 0s - loss: 0.7392 - val_loss: 0.7951\n",
            "Epoch 140/1000\n",
            "47/47 - 0s - loss: 0.7031 - val_loss: 0.7697\n",
            "Epoch 141/1000\n",
            "47/47 - 0s - loss: 0.7168 - val_loss: 0.7380\n",
            "Epoch 142/1000\n",
            "47/47 - 0s - loss: 0.6761 - val_loss: 0.7570\n",
            "Epoch 143/1000\n",
            "47/47 - 0s - loss: 0.6931 - val_loss: 0.7583\n",
            "Epoch 144/1000\n",
            "47/47 - 0s - loss: 0.6878 - val_loss: 0.7542\n",
            "Epoch 145/1000\n",
            "47/47 - 0s - loss: 0.6897 - val_loss: 0.7583\n",
            "Epoch 146/1000\n",
            "47/47 - 0s - loss: 0.6742 - val_loss: 0.7326\n",
            "Epoch 147/1000\n",
            "47/47 - 0s - loss: 0.6627 - val_loss: 0.7064\n",
            "Epoch 148/1000\n",
            "47/47 - 0s - loss: 0.6693 - val_loss: 0.7237\n",
            "Epoch 149/1000\n",
            "47/47 - 0s - loss: 0.6471 - val_loss: 0.6952\n",
            "Epoch 150/1000\n",
            "47/47 - 0s - loss: 0.6461 - val_loss: 0.9077\n",
            "Epoch 151/1000\n",
            "47/47 - 0s - loss: 0.6571 - val_loss: 0.7222\n",
            "Epoch 152/1000\n",
            "47/47 - 0s - loss: 0.6454 - val_loss: 0.7470\n",
            "Epoch 153/1000\n",
            "47/47 - 0s - loss: 0.6297 - val_loss: 0.7186\n",
            "Epoch 154/1000\n",
            "47/47 - 0s - loss: 0.6528 - val_loss: 0.6903\n",
            "Epoch 155/1000\n",
            "47/47 - 0s - loss: 0.6362 - val_loss: 0.7319\n",
            "Epoch 156/1000\n",
            "47/47 - 0s - loss: 0.6202 - val_loss: 0.6587\n",
            "Epoch 157/1000\n",
            "47/47 - 0s - loss: 0.6188 - val_loss: 0.6676\n",
            "Epoch 158/1000\n",
            "47/47 - 0s - loss: 0.6165 - val_loss: 0.6540\n",
            "Epoch 159/1000\n",
            "47/47 - 0s - loss: 0.6403 - val_loss: 0.7322\n",
            "Epoch 160/1000\n",
            "47/47 - 0s - loss: 0.6064 - val_loss: 0.7116\n",
            "Epoch 161/1000\n",
            "47/47 - 0s - loss: 0.5976 - val_loss: 0.6404\n",
            "Epoch 162/1000\n",
            "47/47 - 0s - loss: 0.6027 - val_loss: 0.6772\n",
            "Epoch 163/1000\n",
            "47/47 - 0s - loss: 0.6056 - val_loss: 0.6492\n",
            "Epoch 164/1000\n",
            "47/47 - 0s - loss: 0.6100 - val_loss: 0.6474\n",
            "Epoch 165/1000\n",
            "47/47 - 0s - loss: 0.5913 - val_loss: 0.6408\n",
            "Epoch 166/1000\n",
            "Restoring model weights from the end of the best epoch.\n",
            "47/47 - 0s - loss: 0.5865 - val_loss: 0.6468\n",
            "Epoch 00166: early stopping\n"
          ],
          "name": "stdout"
        },
        {
          "output_type": "execute_result",
          "data": {
            "text/plain": [
              "<tensorflow.python.keras.callbacks.History at 0x7f5f7381af28>"
            ]
          },
          "metadata": {
            "tags": []
          },
          "execution_count": 197
        }
      ]
    },
    {
      "cell_type": "code",
      "metadata": {
        "id": "2ZHJIIpoGcU3",
        "outputId": "8fa76c79-4dd5-4ce2-da8f-d9e1aa30604d",
        "colab": {
          "base_uri": "https://localhost:8080/",
          "height": 34
        }
      },
      "source": [
        "# Predict Root Mean Square Error \n",
        "pred = model.predict(x_test)\n",
        "\n",
        "# Measure MSE error \n",
        "score = metrics.mean_squared_error(pred, y_test)\n",
        "print(\"Final Score (MSE): {}\".format(score))"
      ],
      "execution_count": 198,
      "outputs": [
        {
          "output_type": "stream",
          "text": [
            "Final Score (MSE): 0.6404164519348488\n"
          ],
          "name": "stdout"
        }
      ]
    },
    {
      "cell_type": "code",
      "metadata": {
        "id": "ArZgSzMaG66i",
        "outputId": "8392d2b1-a476-4bdc-ba47-3aea650e8b1c",
        "colab": {
          "base_uri": "https://localhost:8080/",
          "height": 34
        }
      },
      "source": [
        "#Root Mean Square Error\n",
        "\n",
        "score = np.sqrt(metrics.mean_squared_error(pred, y_test))\n",
        "print(\"Final Score (RMSE) : {}\".format(score))"
      ],
      "execution_count": 199,
      "outputs": [
        {
          "output_type": "stream",
          "text": [
            "Final Score (RMSE) : 0.8002602401312018\n"
          ],
          "name": "stdout"
        }
      ]
    },
    {
      "cell_type": "markdown",
      "metadata": {
        "id": "l_dBC7ToS7Jd"
      },
      "source": [
        "### **Lift Chart**\n",
        "\n",
        "Sort the data by expected output. Plot the blue line above.\n",
        "\n",
        "For every point on the x-axis plot the predicted value for that same data point. This is the green line above.\n",
        "\n",
        "The x-axis is just 0 to 100% of the dataset. The expected always starts low and ends high.\n",
        "\n",
        "The y-axis is ranged according to the values predicted."
      ]
    },
    {
      "cell_type": "code",
      "metadata": {
        "id": "7UmbilDITEz6"
      },
      "source": [
        "# Regression Chart \n",
        "\n",
        "def chart_regression(pred, y, sort = True):\n",
        "    t = pd.DataFrame({'pred': pred, 'y': y.flatten()})\n",
        "    if sort:\n",
        "        t.sort_values(by=['y'], inplace = True)\n",
        "    plt.plot(t['y'].tolist(), label='expected')\n",
        "    plt.plot(t['pred'].tolist(), label = 'prediction')\n",
        "    plt.ylabel('output')\n",
        "    plt.legend()\n",
        "    plt.show()"
      ],
      "execution_count": 200,
      "outputs": []
    },
    {
      "cell_type": "code",
      "metadata": {
        "id": "lhGper3IT86s",
        "outputId": "ca6aeb6b-4db2-4673-dcd2-39dffa27d8c0",
        "colab": {
          "base_uri": "https://localhost:8080/",
          "height": 269
        }
      },
      "source": [
        "# plot the chart \n",
        "chart_regression(pred.flatten(), y_test)"
      ],
      "execution_count": 201,
      "outputs": [
        {
          "output_type": "display_data",
          "data": {
            "image/png": "[encoded data removed]",
            "text/plain": [
              "<Figure size 432x288 with 1 Axes>"
            ]
          },
          "metadata": {
            "tags": [],
            "needs_background": "light"
          }
        }
      ]
    }
  ]
}