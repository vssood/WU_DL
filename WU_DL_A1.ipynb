{
  "nbformat": 4,
  "nbformat_minor": 0,
  "metadata": {
    "colab": {
      "name": "WU_DL_A1.ipynb",
      "provenance": [],
      "authorship_tag": "ABX9TyNojVGnb9DEAmVgCUAukS54",
      "include_colab_link": true
    },
    "kernelspec": {
      "name": "python3",
      "display_name": "Python 3"
    }
  },
  "cells": [
    {
      "cell_type": "markdown",
      "metadata": {
        "id": "view-in-github",
        "colab_type": "text"
      },
      "source": [
        "<a href=\"https://colab.research.google.com/github/vssood/WU_DL/blob/master/WU_DL_A1.ipynb\" target=\"_parent\"><img src=\"https://colab.research.google.com/assets/colab-badge.svg\" alt=\"Open In Colab\"/></a>"
      ]
    },
    {
      "cell_type": "code",
      "metadata": {
        "id": "9UZA0lbAc3zY"
      },
      "source": [
        ""
      ],
      "execution_count": 94,
      "outputs": []
    },
    {
      "cell_type": "markdown",
      "metadata": {
        "id": "JMFm61Mpc-Yd"
      },
      "source": [
        "# Assignment\n",
        "\n",
        "For this assignment, you will use the reg-33-data.csv dataset. \n",
        "\n",
        "For this assignment, load and modify the data set.\n",
        "\n",
        "Modify the dataset as follows:\n",
        "\n",
        "Add a column named ratio that is max divided by number. Leave max and number in the dataframe.\n",
        "\n",
        "Replace the cat2 column with dummy variables. e.g. 'cat2_CA-0', 'cat2_CA-1',\n",
        " 'cat2_CA-10', 'cat2_CA-11', 'cat2_CA-12', ...\n",
        "\n",
        "\n",
        "Replace the item column with dummy variables, e.g. 'item_IT-0', 'item_IT-1',\n",
        " 'item_IT-10', 'item_IT-11', 'item_IT-12', ...\n",
        "\n",
        "For field length replace missing values with the median of length.\n",
        "\n",
        "For field height replace missing with median and convert to zscore.\n",
        "\n",
        "Remove all other columns.\n",
        "\n",
        "Your submitted dataframe will have these columns: 'height', 'max', 'number', 'length', 'ratio', 'cat2_CA-0', 'cat2_CA-1',"
      ]
    },
    {
      "cell_type": "code",
      "metadata": {
        "id": "qE0SXWzwdLMY"
      },
      "source": [
        "file_path = \"http://data.heatonresearch.com/data/t81-558/datasets/reg-33-data.csv\""
      ],
      "execution_count": 95,
      "outputs": []
    },
    {
      "cell_type": "code",
      "metadata": {
        "id": "6RCa6zO8dmxH"
      },
      "source": [
        "import pandas as pd\n",
        "import numpy as np\n",
        "from scipy.stats import zscore "
      ],
      "execution_count": 96,
      "outputs": []
    },
    {
      "cell_type": "code",
      "metadata": {
        "id": "TQee0YUldzgc"
      },
      "source": [
        "df = pd.read_csv(file_path)"
      ],
      "execution_count": 97,
      "outputs": []
    },
    {
      "cell_type": "code",
      "metadata": {
        "id": "4xJTOfBceDZu",
        "outputId": "7ea30d9f-31b5-4e24-fafe-a98fadacdb64",
        "colab": {
          "base_uri": "https://localhost:8080/",
          "height": 204
        }
      },
      "source": [
        "df.head()"
      ],
      "execution_count": 98,
      "outputs": [
        {
          "output_type": "execute_result",
          "data": {
            "text/html": [
              "<div>\n",
              "<style scoped>\n",
              "    .dataframe tbody tr th:only-of-type {\n",
              "        vertical-align: middle;\n",
              "    }\n",
              "\n",
              "    .dataframe tbody tr th {\n",
              "        vertical-align: top;\n",
              "    }\n",
              "\n",
              "    .dataframe thead th {\n",
              "        text-align: right;\n",
              "    }\n",
              "</style>\n",
              "<table border=\"1\" class=\"dataframe\">\n",
              "  <thead>\n",
              "    <tr style=\"text-align: right;\">\n",
              "      <th></th>\n",
              "      <th>id</th>\n",
              "      <th>convention</th>\n",
              "      <th>height</th>\n",
              "      <th>max</th>\n",
              "      <th>cat2</th>\n",
              "      <th>number</th>\n",
              "      <th>usage</th>\n",
              "      <th>region</th>\n",
              "      <th>length</th>\n",
              "      <th>code</th>\n",
              "      <th>power</th>\n",
              "      <th>item</th>\n",
              "      <th>weight</th>\n",
              "      <th>country</th>\n",
              "      <th>target</th>\n",
              "    </tr>\n",
              "  </thead>\n",
              "  <tbody>\n",
              "    <tr>\n",
              "      <th>0</th>\n",
              "      <td>1</td>\n",
              "      <td>CO-1A</td>\n",
              "      <td>4284.51</td>\n",
              "      <td>44907</td>\n",
              "      <td>CA-E</td>\n",
              "      <td>16669</td>\n",
              "      <td>US-7</td>\n",
              "      <td>RE-4</td>\n",
              "      <td>12471.1127</td>\n",
              "      <td>CO-B</td>\n",
              "      <td>27351.36</td>\n",
              "      <td>IT-17</td>\n",
              "      <td>13722</td>\n",
              "      <td>CO-1</td>\n",
              "      <td>44098.106769</td>\n",
              "    </tr>\n",
              "    <tr>\n",
              "      <th>1</th>\n",
              "      <td>2</td>\n",
              "      <td>CO-C</td>\n",
              "      <td>806.88</td>\n",
              "      <td>48831</td>\n",
              "      <td>CA-A</td>\n",
              "      <td>8652</td>\n",
              "      <td>US-20</td>\n",
              "      <td>RE-15</td>\n",
              "      <td>10035.7085</td>\n",
              "      <td>CO-E</td>\n",
              "      <td>42323.89</td>\n",
              "      <td>IT-1E</td>\n",
              "      <td>33779</td>\n",
              "      <td>CO-0</td>\n",
              "      <td>95567.294044</td>\n",
              "    </tr>\n",
              "    <tr>\n",
              "      <th>2</th>\n",
              "      <td>3</td>\n",
              "      <td>CO-19</td>\n",
              "      <td>2859.80</td>\n",
              "      <td>40760</td>\n",
              "      <td>CA-16</td>\n",
              "      <td>23103</td>\n",
              "      <td>US-17</td>\n",
              "      <td>RE-1D</td>\n",
              "      <td>14442.6566</td>\n",
              "      <td>CO-5</td>\n",
              "      <td>30660.91</td>\n",
              "      <td>IT-14</td>\n",
              "      <td>26633</td>\n",
              "      <td>CO-23</td>\n",
              "      <td>48583.507153</td>\n",
              "    </tr>\n",
              "    <tr>\n",
              "      <th>3</th>\n",
              "      <td>4</td>\n",
              "      <td>CO-2B</td>\n",
              "      <td>5823.87</td>\n",
              "      <td>33597</td>\n",
              "      <td>CA-9</td>\n",
              "      <td>17680</td>\n",
              "      <td>US-10</td>\n",
              "      <td>RE-1D</td>\n",
              "      <td>15121.4937</td>\n",
              "      <td>CO-B</td>\n",
              "      <td>59456.24</td>\n",
              "      <td>IT-8</td>\n",
              "      <td>14537</td>\n",
              "      <td>CO-11</td>\n",
              "      <td>130572.202064</td>\n",
              "    </tr>\n",
              "    <tr>\n",
              "      <th>4</th>\n",
              "      <td>5</td>\n",
              "      <td>CO-5</td>\n",
              "      <td>NaN</td>\n",
              "      <td>29848</td>\n",
              "      <td>CA-9</td>\n",
              "      <td>24136</td>\n",
              "      <td>US-21</td>\n",
              "      <td>RE-4</td>\n",
              "      <td>18093.9147</td>\n",
              "      <td>CO-4</td>\n",
              "      <td>46998.44</td>\n",
              "      <td>IT-5</td>\n",
              "      <td>21135</td>\n",
              "      <td>CO-1E</td>\n",
              "      <td>85768.812850</td>\n",
              "    </tr>\n",
              "  </tbody>\n",
              "</table>\n",
              "</div>"
            ],
            "text/plain": [
              "   id convention   height    max  ...   item  weight country         target\n",
              "0   1      CO-1A  4284.51  44907  ...  IT-17   13722    CO-1   44098.106769\n",
              "1   2       CO-C   806.88  48831  ...  IT-1E   33779    CO-0   95567.294044\n",
              "2   3      CO-19  2859.80  40760  ...  IT-14   26633   CO-23   48583.507153\n",
              "3   4      CO-2B  5823.87  33597  ...   IT-8   14537   CO-11  130572.202064\n",
              "4   5       CO-5      NaN  29848  ...   IT-5   21135   CO-1E   85768.812850\n",
              "\n",
              "[5 rows x 15 columns]"
            ]
          },
          "metadata": {
            "tags": []
          },
          "execution_count": 98
        }
      ]
    },
    {
      "cell_type": "code",
      "metadata": {
        "id": "PoXHiozPlJGa",
        "outputId": "c701097d-34b9-4bbe-c24e-4387bca9a7a9",
        "colab": {
          "base_uri": "https://localhost:8080/",
          "height": 297
        }
      },
      "source": [
        "df.describe()"
      ],
      "execution_count": 99,
      "outputs": [
        {
          "output_type": "execute_result",
          "data": {
            "text/html": [
              "<div>\n",
              "<style scoped>\n",
              "    .dataframe tbody tr th:only-of-type {\n",
              "        vertical-align: middle;\n",
              "    }\n",
              "\n",
              "    .dataframe tbody tr th {\n",
              "        vertical-align: top;\n",
              "    }\n",
              "\n",
              "    .dataframe thead th {\n",
              "        text-align: right;\n",
              "    }\n",
              "</style>\n",
              "<table border=\"1\" class=\"dataframe\">\n",
              "  <thead>\n",
              "    <tr style=\"text-align: right;\">\n",
              "      <th></th>\n",
              "      <th>id</th>\n",
              "      <th>height</th>\n",
              "      <th>max</th>\n",
              "      <th>number</th>\n",
              "      <th>length</th>\n",
              "      <th>power</th>\n",
              "      <th>weight</th>\n",
              "      <th>target</th>\n",
              "    </tr>\n",
              "  </thead>\n",
              "  <tbody>\n",
              "    <tr>\n",
              "      <th>count</th>\n",
              "      <td>10809.000000</td>\n",
              "      <td>8971.000000</td>\n",
              "      <td>10809.000000</td>\n",
              "      <td>10809.000000</td>\n",
              "      <td>10646.000000</td>\n",
              "      <td>10809.000000</td>\n",
              "      <td>10809.000000</td>\n",
              "      <td>10809.000000</td>\n",
              "    </tr>\n",
              "    <tr>\n",
              "      <th>mean</th>\n",
              "      <td>5405.000000</td>\n",
              "      <td>3467.581587</td>\n",
              "      <td>48390.661208</td>\n",
              "      <td>18315.128504</td>\n",
              "      <td>13511.228041</td>\n",
              "      <td>43638.645361</td>\n",
              "      <td>27952.073272</td>\n",
              "      <td>89338.872653</td>\n",
              "    </tr>\n",
              "    <tr>\n",
              "      <th>std</th>\n",
              "      <td>3120.433864</td>\n",
              "      <td>1972.456969</td>\n",
              "      <td>11267.315126</td>\n",
              "      <td>4807.258933</td>\n",
              "      <td>3278.675670</td>\n",
              "      <td>12431.771621</td>\n",
              "      <td>15798.122063</td>\n",
              "      <td>37692.449571</td>\n",
              "    </tr>\n",
              "    <tr>\n",
              "      <th>min</th>\n",
              "      <td>1.000000</td>\n",
              "      <td>60.070000</td>\n",
              "      <td>712.000000</td>\n",
              "      <td>309.000000</td>\n",
              "      <td>348.000000</td>\n",
              "      <td>819.000000</td>\n",
              "      <td>564.000000</td>\n",
              "      <td>-50194.241772</td>\n",
              "    </tr>\n",
              "    <tr>\n",
              "      <th>25%</th>\n",
              "      <td>2703.000000</td>\n",
              "      <td>1757.095000</td>\n",
              "      <td>40767.000000</td>\n",
              "      <td>15051.000000</td>\n",
              "      <td>11321.074375</td>\n",
              "      <td>35113.380000</td>\n",
              "      <td>14368.000000</td>\n",
              "      <td>63668.960703</td>\n",
              "    </tr>\n",
              "    <tr>\n",
              "      <th>50%</th>\n",
              "      <td>5405.000000</td>\n",
              "      <td>3482.600000</td>\n",
              "      <td>48308.000000</td>\n",
              "      <td>18312.000000</td>\n",
              "      <td>13522.492250</td>\n",
              "      <td>43510.110000</td>\n",
              "      <td>27989.000000</td>\n",
              "      <td>89186.892747</td>\n",
              "    </tr>\n",
              "    <tr>\n",
              "      <th>75%</th>\n",
              "      <td>8107.000000</td>\n",
              "      <td>5156.765000</td>\n",
              "      <td>56071.000000</td>\n",
              "      <td>21581.000000</td>\n",
              "      <td>15738.330800</td>\n",
              "      <td>52049.860000</td>\n",
              "      <td>41680.000000</td>\n",
              "      <td>115138.736504</td>\n",
              "    </tr>\n",
              "    <tr>\n",
              "      <th>max</th>\n",
              "      <td>10809.000000</td>\n",
              "      <td>6889.630000</td>\n",
              "      <td>90415.000000</td>\n",
              "      <td>37150.000000</td>\n",
              "      <td>25633.000000</td>\n",
              "      <td>93939.000000</td>\n",
              "      <td>55308.000000</td>\n",
              "      <td>239516.024243</td>\n",
              "    </tr>\n",
              "  </tbody>\n",
              "</table>\n",
              "</div>"
            ],
            "text/plain": [
              "                 id       height  ...        weight         target\n",
              "count  10809.000000  8971.000000  ...  10809.000000   10809.000000\n",
              "mean    5405.000000  3467.581587  ...  27952.073272   89338.872653\n",
              "std     3120.433864  1972.456969  ...  15798.122063   37692.449571\n",
              "min        1.000000    60.070000  ...    564.000000  -50194.241772\n",
              "25%     2703.000000  1757.095000  ...  14368.000000   63668.960703\n",
              "50%     5405.000000  3482.600000  ...  27989.000000   89186.892747\n",
              "75%     8107.000000  5156.765000  ...  41680.000000  115138.736504\n",
              "max    10809.000000  6889.630000  ...  55308.000000  239516.024243\n",
              "\n",
              "[8 rows x 8 columns]"
            ]
          },
          "metadata": {
            "tags": []
          },
          "execution_count": 99
        }
      ]
    },
    {
      "cell_type": "code",
      "metadata": {
        "id": "-DASmc0UgQH2"
      },
      "source": [
        "df['ratio'] = df['max'] / df['number']"
      ],
      "execution_count": 100,
      "outputs": []
    },
    {
      "cell_type": "markdown",
      "metadata": {
        "id": "ukyF5sX1ge8q"
      },
      "source": [
        "Dummy variables "
      ]
    },
    {
      "cell_type": "code",
      "metadata": {
        "id": "ACDON4aigqNy",
        "outputId": "2faaa2db-6217-480d-bd02-8ce1d7c51ab4",
        "colab": {
          "base_uri": "https://localhost:8080/",
          "height": 697
        }
      },
      "source": [
        "df.cat2.unique().tolist()"
      ],
      "execution_count": 101,
      "outputs": [
        {
          "output_type": "execute_result",
          "data": {
            "text/plain": [
              "['CA-E',\n",
              " 'CA-A',\n",
              " 'CA-16',\n",
              " 'CA-9',\n",
              " 'CA-17',\n",
              " 'CA-1F',\n",
              " 'CA-22',\n",
              " 'CA-18',\n",
              " 'CA-F',\n",
              " 'CA-C',\n",
              " 'CA-1A',\n",
              " 'CA-21',\n",
              " 'CA-3',\n",
              " 'CA-19',\n",
              " 'CA-13',\n",
              " 'CA-12',\n",
              " 'CA-1D',\n",
              " 'CA-1',\n",
              " 'CA-24',\n",
              " 'CA-7',\n",
              " 'CA-1C',\n",
              " 'CA-25',\n",
              " 'CA-8',\n",
              " 'CA-14',\n",
              " 'CA-1E',\n",
              " 'CA-23',\n",
              " 'CA-5',\n",
              " 'CA-1B',\n",
              " 'CA-0',\n",
              " 'CA-15',\n",
              " 'CA-11',\n",
              " 'CA-10',\n",
              " 'CA-26',\n",
              " 'CA-27',\n",
              " 'CA-D',\n",
              " 'CA-20',\n",
              " 'CA-4',\n",
              " 'CA-B',\n",
              " 'CA-6',\n",
              " 'CA-2']"
            ]
          },
          "metadata": {
            "tags": []
          },
          "execution_count": 101
        }
      ]
    },
    {
      "cell_type": "code",
      "metadata": {
        "id": "dxhTBi_khGw0"
      },
      "source": [
        "# Replace the cat2 column with dummy variables. e.g. 'cat2_CA-0', 'cat2_CA-1', 'cat2_CA-10', 'cat2_CA-11', 'cat2_CA-12', ..\n",
        "cat2_dummies = pd.get_dummies(df.cat2, prefix = 'cat2_')"
      ],
      "execution_count": 102,
      "outputs": []
    },
    {
      "cell_type": "code",
      "metadata": {
        "id": "zVadCqU5h8np"
      },
      "source": [
        "# Replace the item column with dummy variables, e.g. 'item_IT-0', 'item_IT-1', 'item_IT-10', 'item_IT-11', 'item_IT-12', ...\n",
        "item_dummies = pd.get_dummies(df.item, prefix='item_') "
      ],
      "execution_count": 103,
      "outputs": []
    },
    {
      "cell_type": "code",
      "metadata": {
        "id": "Kl38Uhk1hkyK"
      },
      "source": [
        "df = pd.concat([df, cat2_dummies, item_dummies], axis= 1)\n",
        "df.drop(['item', 'cat2'], axis = 1, inplace= True)"
      ],
      "execution_count": 104,
      "outputs": []
    },
    {
      "cell_type": "markdown",
      "metadata": {
        "id": "Up1Cpv3mi5Iq"
      },
      "source": [
        "For field length replace missing values with the median of length"
      ]
    },
    {
      "cell_type": "code",
      "metadata": {
        "id": "kCCl4nidi5_x",
        "outputId": "207b2feb-56e8-47c4-f61b-bfc710991906",
        "colab": {
          "base_uri": "https://localhost:8080/",
          "height": 221
        }
      },
      "source": [
        "df[df.length.isna()].count()"
      ],
      "execution_count": 105,
      "outputs": [
        {
          "output_type": "execute_result",
          "data": {
            "text/plain": [
              "id            163\n",
              "convention    163\n",
              "height        143\n",
              "max           163\n",
              "number        163\n",
              "             ... \n",
              "item__IT-B    163\n",
              "item__IT-C    163\n",
              "item__IT-D    163\n",
              "item__IT-E    163\n",
              "item__IT-F    163\n",
              "Length: 85, dtype: int64"
            ]
          },
          "metadata": {
            "tags": []
          },
          "execution_count": 105
        }
      ]
    },
    {
      "cell_type": "code",
      "metadata": {
        "id": "z2sW19mxkNzQ",
        "outputId": "056e53ab-3d6d-4aad-b7d8-d96c4e7e499a",
        "colab": {
          "base_uri": "https://localhost:8080/",
          "height": 34
        }
      },
      "source": [
        "medianl = df.length.median()\n",
        "print(meadianl)"
      ],
      "execution_count": 106,
      "outputs": [
        {
          "output_type": "stream",
          "text": [
            "13522.49225\n"
          ],
          "name": "stdout"
        }
      ]
    },
    {
      "cell_type": "code",
      "metadata": {
        "id": "7D5MhPBskTtB"
      },
      "source": [
        "df.length.fillna(medianl, inplace= True)    # Does not work"
      ],
      "execution_count": 107,
      "outputs": []
    },
    {
      "cell_type": "code",
      "metadata": {
        "id": "WJUk0_SKm8fI",
        "outputId": "5ef2e270-396b-4342-9e10-cdcce2929a59",
        "colab": {
          "base_uri": "https://localhost:8080/",
          "height": 115
        }
      },
      "source": [
        "df[df.length.isna()]"
      ],
      "execution_count": 108,
      "outputs": [
        {
          "output_type": "execute_result",
          "data": {
            "text/html": [
              "<div>\n",
              "<style scoped>\n",
              "    .dataframe tbody tr th:only-of-type {\n",
              "        vertical-align: middle;\n",
              "    }\n",
              "\n",
              "    .dataframe tbody tr th {\n",
              "        vertical-align: top;\n",
              "    }\n",
              "\n",
              "    .dataframe thead th {\n",
              "        text-align: right;\n",
              "    }\n",
              "</style>\n",
              "<table border=\"1\" class=\"dataframe\">\n",
              "  <thead>\n",
              "    <tr style=\"text-align: right;\">\n",
              "      <th></th>\n",
              "      <th>id</th>\n",
              "      <th>convention</th>\n",
              "      <th>height</th>\n",
              "      <th>max</th>\n",
              "      <th>number</th>\n",
              "      <th>usage</th>\n",
              "      <th>region</th>\n",
              "      <th>length</th>\n",
              "      <th>code</th>\n",
              "      <th>power</th>\n",
              "      <th>weight</th>\n",
              "      <th>country</th>\n",
              "      <th>target</th>\n",
              "      <th>ratio</th>\n",
              "      <th>cat2__CA-0</th>\n",
              "      <th>cat2__CA-1</th>\n",
              "      <th>cat2__CA-10</th>\n",
              "      <th>cat2__CA-11</th>\n",
              "      <th>cat2__CA-12</th>\n",
              "      <th>cat2__CA-13</th>\n",
              "      <th>cat2__CA-14</th>\n",
              "      <th>cat2__CA-15</th>\n",
              "      <th>cat2__CA-16</th>\n",
              "      <th>cat2__CA-17</th>\n",
              "      <th>cat2__CA-18</th>\n",
              "      <th>cat2__CA-19</th>\n",
              "      <th>cat2__CA-1A</th>\n",
              "      <th>cat2__CA-1B</th>\n",
              "      <th>cat2__CA-1C</th>\n",
              "      <th>cat2__CA-1D</th>\n",
              "      <th>cat2__CA-1E</th>\n",
              "      <th>cat2__CA-1F</th>\n",
              "      <th>cat2__CA-2</th>\n",
              "      <th>cat2__CA-20</th>\n",
              "      <th>cat2__CA-21</th>\n",
              "      <th>cat2__CA-22</th>\n",
              "      <th>cat2__CA-23</th>\n",
              "      <th>cat2__CA-24</th>\n",
              "      <th>cat2__CA-25</th>\n",
              "      <th>cat2__CA-26</th>\n",
              "      <th>...</th>\n",
              "      <th>cat2__CA-7</th>\n",
              "      <th>cat2__CA-8</th>\n",
              "      <th>cat2__CA-9</th>\n",
              "      <th>cat2__CA-A</th>\n",
              "      <th>cat2__CA-B</th>\n",
              "      <th>cat2__CA-C</th>\n",
              "      <th>cat2__CA-D</th>\n",
              "      <th>cat2__CA-E</th>\n",
              "      <th>cat2__CA-F</th>\n",
              "      <th>item__IT-0</th>\n",
              "      <th>item__IT-1</th>\n",
              "      <th>item__IT-10</th>\n",
              "      <th>item__IT-11</th>\n",
              "      <th>item__IT-12</th>\n",
              "      <th>item__IT-13</th>\n",
              "      <th>item__IT-14</th>\n",
              "      <th>item__IT-15</th>\n",
              "      <th>item__IT-16</th>\n",
              "      <th>item__IT-17</th>\n",
              "      <th>item__IT-18</th>\n",
              "      <th>item__IT-19</th>\n",
              "      <th>item__IT-1A</th>\n",
              "      <th>item__IT-1B</th>\n",
              "      <th>item__IT-1C</th>\n",
              "      <th>item__IT-1D</th>\n",
              "      <th>item__IT-1E</th>\n",
              "      <th>item__IT-2</th>\n",
              "      <th>item__IT-3</th>\n",
              "      <th>item__IT-4</th>\n",
              "      <th>item__IT-5</th>\n",
              "      <th>item__IT-6</th>\n",
              "      <th>item__IT-7</th>\n",
              "      <th>item__IT-8</th>\n",
              "      <th>item__IT-9</th>\n",
              "      <th>item__IT-A</th>\n",
              "      <th>item__IT-B</th>\n",
              "      <th>item__IT-C</th>\n",
              "      <th>item__IT-D</th>\n",
              "      <th>item__IT-E</th>\n",
              "      <th>item__IT-F</th>\n",
              "    </tr>\n",
              "  </thead>\n",
              "  <tbody>\n",
              "  </tbody>\n",
              "</table>\n",
              "<p>0 rows × 85 columns</p>\n",
              "</div>"
            ],
            "text/plain": [
              "Empty DataFrame\n",
              "Columns: [id, convention, height, max, number, usage, region, length, code, power, weight, country, target, ratio, cat2__CA-0, cat2__CA-1, cat2__CA-10, cat2__CA-11, cat2__CA-12, cat2__CA-13, cat2__CA-14, cat2__CA-15, cat2__CA-16, cat2__CA-17, cat2__CA-18, cat2__CA-19, cat2__CA-1A, cat2__CA-1B, cat2__CA-1C, cat2__CA-1D, cat2__CA-1E, cat2__CA-1F, cat2__CA-2, cat2__CA-20, cat2__CA-21, cat2__CA-22, cat2__CA-23, cat2__CA-24, cat2__CA-25, cat2__CA-26, cat2__CA-27, cat2__CA-3, cat2__CA-4, cat2__CA-5, cat2__CA-6, cat2__CA-7, cat2__CA-8, cat2__CA-9, cat2__CA-A, cat2__CA-B, cat2__CA-C, cat2__CA-D, cat2__CA-E, cat2__CA-F, item__IT-0, item__IT-1, item__IT-10, item__IT-11, item__IT-12, item__IT-13, item__IT-14, item__IT-15, item__IT-16, item__IT-17, item__IT-18, item__IT-19, item__IT-1A, item__IT-1B, item__IT-1C, item__IT-1D, item__IT-1E, item__IT-2, item__IT-3, item__IT-4, item__IT-5, item__IT-6, item__IT-7, item__IT-8, item__IT-9, item__IT-A, item__IT-B, item__IT-C, item__IT-D, item__IT-E, item__IT-F]\n",
              "Index: []\n",
              "\n",
              "[0 rows x 85 columns]"
            ]
          },
          "metadata": {
            "tags": []
          },
          "execution_count": 108
        }
      ]
    },
    {
      "cell_type": "markdown",
      "metadata": {
        "id": "wKuY6sdKkyWB"
      },
      "source": [
        "For field height replace missing with median and convert to zscore."
      ]
    },
    {
      "cell_type": "code",
      "metadata": {
        "id": "02ziMITbk5VA",
        "outputId": "c1a17627-cd47-4ddd-b142-2c62b7f57513",
        "colab": {
          "base_uri": "https://localhost:8080/",
          "height": 34
        }
      },
      "source": [
        "medianh = df.height.median() \n",
        "print(medianh)"
      ],
      "execution_count": 109,
      "outputs": [
        {
          "output_type": "stream",
          "text": [
            "3482.6\n"
          ],
          "name": "stdout"
        }
      ]
    },
    {
      "cell_type": "code",
      "metadata": {
        "id": "oy9s1DZ-lTYy"
      },
      "source": [
        "df['height'].fillna(medianh, inplace=True)    # Does not work "
      ],
      "execution_count": 110,
      "outputs": []
    },
    {
      "cell_type": "code",
      "metadata": {
        "id": "HxDCKbz4rTKr",
        "outputId": "82c92ac7-997d-4010-f4a5-e3fc8cb0b1c7",
        "colab": {
          "base_uri": "https://localhost:8080/",
          "height": 34
        }
      },
      "source": [
        "medianh, medianl"
      ],
      "execution_count": 111,
      "outputs": [
        {
          "output_type": "execute_result",
          "data": {
            "text/plain": [
              "(3482.6, 13522.49225)"
            ]
          },
          "metadata": {
            "tags": []
          },
          "execution_count": 111
        }
      ]
    },
    {
      "cell_type": "code",
      "metadata": {
        "id": "YKN75X_5pbuG"
      },
      "source": [
        "df.fillna( {'height': medianh, 'length' : medianl}, inplace= True )    ## ----> Doesnot work "
      ],
      "execution_count": 112,
      "outputs": []
    },
    {
      "cell_type": "code",
      "metadata": {
        "id": "_vxWMUyqrh1M"
      },
      "source": [
        "df['height'] = df.height.fillna( medianh )\n",
        "df['length'] = df.height.fillna( medianl )"
      ],
      "execution_count": 113,
      "outputs": []
    },
    {
      "cell_type": "code",
      "metadata": {
        "id": "3INqMISLmLzp",
        "outputId": "30adfe55-4522-459b-9944-65b06eeedff5",
        "colab": {
          "base_uri": "https://localhost:8080/",
          "height": 115
        }
      },
      "source": [
        "df[df.height.isna()]"
      ],
      "execution_count": 114,
      "outputs": [
        {
          "output_type": "execute_result",
          "data": {
            "text/html": [
              "<div>\n",
              "<style scoped>\n",
              "    .dataframe tbody tr th:only-of-type {\n",
              "        vertical-align: middle;\n",
              "    }\n",
              "\n",
              "    .dataframe tbody tr th {\n",
              "        vertical-align: top;\n",
              "    }\n",
              "\n",
              "    .dataframe thead th {\n",
              "        text-align: right;\n",
              "    }\n",
              "</style>\n",
              "<table border=\"1\" class=\"dataframe\">\n",
              "  <thead>\n",
              "    <tr style=\"text-align: right;\">\n",
              "      <th></th>\n",
              "      <th>id</th>\n",
              "      <th>convention</th>\n",
              "      <th>height</th>\n",
              "      <th>max</th>\n",
              "      <th>number</th>\n",
              "      <th>usage</th>\n",
              "      <th>region</th>\n",
              "      <th>length</th>\n",
              "      <th>code</th>\n",
              "      <th>power</th>\n",
              "      <th>weight</th>\n",
              "      <th>country</th>\n",
              "      <th>target</th>\n",
              "      <th>ratio</th>\n",
              "      <th>cat2__CA-0</th>\n",
              "      <th>cat2__CA-1</th>\n",
              "      <th>cat2__CA-10</th>\n",
              "      <th>cat2__CA-11</th>\n",
              "      <th>cat2__CA-12</th>\n",
              "      <th>cat2__CA-13</th>\n",
              "      <th>cat2__CA-14</th>\n",
              "      <th>cat2__CA-15</th>\n",
              "      <th>cat2__CA-16</th>\n",
              "      <th>cat2__CA-17</th>\n",
              "      <th>cat2__CA-18</th>\n",
              "      <th>cat2__CA-19</th>\n",
              "      <th>cat2__CA-1A</th>\n",
              "      <th>cat2__CA-1B</th>\n",
              "      <th>cat2__CA-1C</th>\n",
              "      <th>cat2__CA-1D</th>\n",
              "      <th>cat2__CA-1E</th>\n",
              "      <th>cat2__CA-1F</th>\n",
              "      <th>cat2__CA-2</th>\n",
              "      <th>cat2__CA-20</th>\n",
              "      <th>cat2__CA-21</th>\n",
              "      <th>cat2__CA-22</th>\n",
              "      <th>cat2__CA-23</th>\n",
              "      <th>cat2__CA-24</th>\n",
              "      <th>cat2__CA-25</th>\n",
              "      <th>cat2__CA-26</th>\n",
              "      <th>...</th>\n",
              "      <th>cat2__CA-7</th>\n",
              "      <th>cat2__CA-8</th>\n",
              "      <th>cat2__CA-9</th>\n",
              "      <th>cat2__CA-A</th>\n",
              "      <th>cat2__CA-B</th>\n",
              "      <th>cat2__CA-C</th>\n",
              "      <th>cat2__CA-D</th>\n",
              "      <th>cat2__CA-E</th>\n",
              "      <th>cat2__CA-F</th>\n",
              "      <th>item__IT-0</th>\n",
              "      <th>item__IT-1</th>\n",
              "      <th>item__IT-10</th>\n",
              "      <th>item__IT-11</th>\n",
              "      <th>item__IT-12</th>\n",
              "      <th>item__IT-13</th>\n",
              "      <th>item__IT-14</th>\n",
              "      <th>item__IT-15</th>\n",
              "      <th>item__IT-16</th>\n",
              "      <th>item__IT-17</th>\n",
              "      <th>item__IT-18</th>\n",
              "      <th>item__IT-19</th>\n",
              "      <th>item__IT-1A</th>\n",
              "      <th>item__IT-1B</th>\n",
              "      <th>item__IT-1C</th>\n",
              "      <th>item__IT-1D</th>\n",
              "      <th>item__IT-1E</th>\n",
              "      <th>item__IT-2</th>\n",
              "      <th>item__IT-3</th>\n",
              "      <th>item__IT-4</th>\n",
              "      <th>item__IT-5</th>\n",
              "      <th>item__IT-6</th>\n",
              "      <th>item__IT-7</th>\n",
              "      <th>item__IT-8</th>\n",
              "      <th>item__IT-9</th>\n",
              "      <th>item__IT-A</th>\n",
              "      <th>item__IT-B</th>\n",
              "      <th>item__IT-C</th>\n",
              "      <th>item__IT-D</th>\n",
              "      <th>item__IT-E</th>\n",
              "      <th>item__IT-F</th>\n",
              "    </tr>\n",
              "  </thead>\n",
              "  <tbody>\n",
              "  </tbody>\n",
              "</table>\n",
              "<p>0 rows × 85 columns</p>\n",
              "</div>"
            ],
            "text/plain": [
              "Empty DataFrame\n",
              "Columns: [id, convention, height, max, number, usage, region, length, code, power, weight, country, target, ratio, cat2__CA-0, cat2__CA-1, cat2__CA-10, cat2__CA-11, cat2__CA-12, cat2__CA-13, cat2__CA-14, cat2__CA-15, cat2__CA-16, cat2__CA-17, cat2__CA-18, cat2__CA-19, cat2__CA-1A, cat2__CA-1B, cat2__CA-1C, cat2__CA-1D, cat2__CA-1E, cat2__CA-1F, cat2__CA-2, cat2__CA-20, cat2__CA-21, cat2__CA-22, cat2__CA-23, cat2__CA-24, cat2__CA-25, cat2__CA-26, cat2__CA-27, cat2__CA-3, cat2__CA-4, cat2__CA-5, cat2__CA-6, cat2__CA-7, cat2__CA-8, cat2__CA-9, cat2__CA-A, cat2__CA-B, cat2__CA-C, cat2__CA-D, cat2__CA-E, cat2__CA-F, item__IT-0, item__IT-1, item__IT-10, item__IT-11, item__IT-12, item__IT-13, item__IT-14, item__IT-15, item__IT-16, item__IT-17, item__IT-18, item__IT-19, item__IT-1A, item__IT-1B, item__IT-1C, item__IT-1D, item__IT-1E, item__IT-2, item__IT-3, item__IT-4, item__IT-5, item__IT-6, item__IT-7, item__IT-8, item__IT-9, item__IT-A, item__IT-B, item__IT-C, item__IT-D, item__IT-E, item__IT-F]\n",
              "Index: []\n",
              "\n",
              "[0 rows x 85 columns]"
            ]
          },
          "metadata": {
            "tags": []
          },
          "execution_count": 114
        }
      ]
    },
    {
      "cell_type": "code",
      "metadata": {
        "id": "WvvgmiYzxSAq",
        "outputId": "d8f42ea6-564b-4847-94f1-15f5010ff48a",
        "colab": {
          "base_uri": "https://localhost:8080/",
          "height": 115
        }
      },
      "source": [
        "df[df.length.isna()]"
      ],
      "execution_count": 115,
      "outputs": [
        {
          "output_type": "execute_result",
          "data": {
            "text/html": [
              "<div>\n",
              "<style scoped>\n",
              "    .dataframe tbody tr th:only-of-type {\n",
              "        vertical-align: middle;\n",
              "    }\n",
              "\n",
              "    .dataframe tbody tr th {\n",
              "        vertical-align: top;\n",
              "    }\n",
              "\n",
              "    .dataframe thead th {\n",
              "        text-align: right;\n",
              "    }\n",
              "</style>\n",
              "<table border=\"1\" class=\"dataframe\">\n",
              "  <thead>\n",
              "    <tr style=\"text-align: right;\">\n",
              "      <th></th>\n",
              "      <th>id</th>\n",
              "      <th>convention</th>\n",
              "      <th>height</th>\n",
              "      <th>max</th>\n",
              "      <th>number</th>\n",
              "      <th>usage</th>\n",
              "      <th>region</th>\n",
              "      <th>length</th>\n",
              "      <th>code</th>\n",
              "      <th>power</th>\n",
              "      <th>weight</th>\n",
              "      <th>country</th>\n",
              "      <th>target</th>\n",
              "      <th>ratio</th>\n",
              "      <th>cat2__CA-0</th>\n",
              "      <th>cat2__CA-1</th>\n",
              "      <th>cat2__CA-10</th>\n",
              "      <th>cat2__CA-11</th>\n",
              "      <th>cat2__CA-12</th>\n",
              "      <th>cat2__CA-13</th>\n",
              "      <th>cat2__CA-14</th>\n",
              "      <th>cat2__CA-15</th>\n",
              "      <th>cat2__CA-16</th>\n",
              "      <th>cat2__CA-17</th>\n",
              "      <th>cat2__CA-18</th>\n",
              "      <th>cat2__CA-19</th>\n",
              "      <th>cat2__CA-1A</th>\n",
              "      <th>cat2__CA-1B</th>\n",
              "      <th>cat2__CA-1C</th>\n",
              "      <th>cat2__CA-1D</th>\n",
              "      <th>cat2__CA-1E</th>\n",
              "      <th>cat2__CA-1F</th>\n",
              "      <th>cat2__CA-2</th>\n",
              "      <th>cat2__CA-20</th>\n",
              "      <th>cat2__CA-21</th>\n",
              "      <th>cat2__CA-22</th>\n",
              "      <th>cat2__CA-23</th>\n",
              "      <th>cat2__CA-24</th>\n",
              "      <th>cat2__CA-25</th>\n",
              "      <th>cat2__CA-26</th>\n",
              "      <th>...</th>\n",
              "      <th>cat2__CA-7</th>\n",
              "      <th>cat2__CA-8</th>\n",
              "      <th>cat2__CA-9</th>\n",
              "      <th>cat2__CA-A</th>\n",
              "      <th>cat2__CA-B</th>\n",
              "      <th>cat2__CA-C</th>\n",
              "      <th>cat2__CA-D</th>\n",
              "      <th>cat2__CA-E</th>\n",
              "      <th>cat2__CA-F</th>\n",
              "      <th>item__IT-0</th>\n",
              "      <th>item__IT-1</th>\n",
              "      <th>item__IT-10</th>\n",
              "      <th>item__IT-11</th>\n",
              "      <th>item__IT-12</th>\n",
              "      <th>item__IT-13</th>\n",
              "      <th>item__IT-14</th>\n",
              "      <th>item__IT-15</th>\n",
              "      <th>item__IT-16</th>\n",
              "      <th>item__IT-17</th>\n",
              "      <th>item__IT-18</th>\n",
              "      <th>item__IT-19</th>\n",
              "      <th>item__IT-1A</th>\n",
              "      <th>item__IT-1B</th>\n",
              "      <th>item__IT-1C</th>\n",
              "      <th>item__IT-1D</th>\n",
              "      <th>item__IT-1E</th>\n",
              "      <th>item__IT-2</th>\n",
              "      <th>item__IT-3</th>\n",
              "      <th>item__IT-4</th>\n",
              "      <th>item__IT-5</th>\n",
              "      <th>item__IT-6</th>\n",
              "      <th>item__IT-7</th>\n",
              "      <th>item__IT-8</th>\n",
              "      <th>item__IT-9</th>\n",
              "      <th>item__IT-A</th>\n",
              "      <th>item__IT-B</th>\n",
              "      <th>item__IT-C</th>\n",
              "      <th>item__IT-D</th>\n",
              "      <th>item__IT-E</th>\n",
              "      <th>item__IT-F</th>\n",
              "    </tr>\n",
              "  </thead>\n",
              "  <tbody>\n",
              "  </tbody>\n",
              "</table>\n",
              "<p>0 rows × 85 columns</p>\n",
              "</div>"
            ],
            "text/plain": [
              "Empty DataFrame\n",
              "Columns: [id, convention, height, max, number, usage, region, length, code, power, weight, country, target, ratio, cat2__CA-0, cat2__CA-1, cat2__CA-10, cat2__CA-11, cat2__CA-12, cat2__CA-13, cat2__CA-14, cat2__CA-15, cat2__CA-16, cat2__CA-17, cat2__CA-18, cat2__CA-19, cat2__CA-1A, cat2__CA-1B, cat2__CA-1C, cat2__CA-1D, cat2__CA-1E, cat2__CA-1F, cat2__CA-2, cat2__CA-20, cat2__CA-21, cat2__CA-22, cat2__CA-23, cat2__CA-24, cat2__CA-25, cat2__CA-26, cat2__CA-27, cat2__CA-3, cat2__CA-4, cat2__CA-5, cat2__CA-6, cat2__CA-7, cat2__CA-8, cat2__CA-9, cat2__CA-A, cat2__CA-B, cat2__CA-C, cat2__CA-D, cat2__CA-E, cat2__CA-F, item__IT-0, item__IT-1, item__IT-10, item__IT-11, item__IT-12, item__IT-13, item__IT-14, item__IT-15, item__IT-16, item__IT-17, item__IT-18, item__IT-19, item__IT-1A, item__IT-1B, item__IT-1C, item__IT-1D, item__IT-1E, item__IT-2, item__IT-3, item__IT-4, item__IT-5, item__IT-6, item__IT-7, item__IT-8, item__IT-9, item__IT-A, item__IT-B, item__IT-C, item__IT-D, item__IT-E, item__IT-F]\n",
              "Index: []\n",
              "\n",
              "[0 rows x 85 columns]"
            ]
          },
          "metadata": {
            "tags": []
          },
          "execution_count": 115
        }
      ]
    },
    {
      "cell_type": "markdown",
      "metadata": {
        "id": "b6CXsjyPyRVt"
      },
      "source": [
        " Height convert to zscore."
      ]
    },
    {
      "cell_type": "code",
      "metadata": {
        "id": "hEv-8Reel7au"
      },
      "source": [
        "z = zscore(df.height)"
      ],
      "execution_count": 116,
      "outputs": []
    },
    {
      "cell_type": "code",
      "metadata": {
        "id": "wnHLMfd_ldOp"
      },
      "source": [
        "df['height'] = zscore(df['height'])"
      ],
      "execution_count": 117,
      "outputs": []
    },
    {
      "cell_type": "code",
      "metadata": {
        "id": "z0M69XL8z1IQ",
        "outputId": "2d67321a-ab2e-4788-a515-76d761ad2114",
        "colab": {
          "base_uri": "https://localhost:8080/",
          "height": 357
        }
      },
      "source": [
        "df.columns.values"
      ],
      "execution_count": 118,
      "outputs": [
        {
          "output_type": "execute_result",
          "data": {
            "text/plain": [
              "array(['id', 'convention', 'height', 'max', 'number', 'usage', 'region',\n",
              "       'length', 'code', 'power', 'weight', 'country', 'target', 'ratio',\n",
              "       'cat2__CA-0', 'cat2__CA-1', 'cat2__CA-10', 'cat2__CA-11',\n",
              "       'cat2__CA-12', 'cat2__CA-13', 'cat2__CA-14', 'cat2__CA-15',\n",
              "       'cat2__CA-16', 'cat2__CA-17', 'cat2__CA-18', 'cat2__CA-19',\n",
              "       'cat2__CA-1A', 'cat2__CA-1B', 'cat2__CA-1C', 'cat2__CA-1D',\n",
              "       'cat2__CA-1E', 'cat2__CA-1F', 'cat2__CA-2', 'cat2__CA-20',\n",
              "       'cat2__CA-21', 'cat2__CA-22', 'cat2__CA-23', 'cat2__CA-24',\n",
              "       'cat2__CA-25', 'cat2__CA-26', 'cat2__CA-27', 'cat2__CA-3',\n",
              "       'cat2__CA-4', 'cat2__CA-5', 'cat2__CA-6', 'cat2__CA-7',\n",
              "       'cat2__CA-8', 'cat2__CA-9', 'cat2__CA-A', 'cat2__CA-B',\n",
              "       'cat2__CA-C', 'cat2__CA-D', 'cat2__CA-E', 'cat2__CA-F',\n",
              "       'item__IT-0', 'item__IT-1', 'item__IT-10', 'item__IT-11',\n",
              "       'item__IT-12', 'item__IT-13', 'item__IT-14', 'item__IT-15',\n",
              "       'item__IT-16', 'item__IT-17', 'item__IT-18', 'item__IT-19',\n",
              "       'item__IT-1A', 'item__IT-1B', 'item__IT-1C', 'item__IT-1D',\n",
              "       'item__IT-1E', 'item__IT-2', 'item__IT-3', 'item__IT-4',\n",
              "       'item__IT-5', 'item__IT-6', 'item__IT-7', 'item__IT-8',\n",
              "       'item__IT-9', 'item__IT-A', 'item__IT-B', 'item__IT-C',\n",
              "       'item__IT-D', 'item__IT-E', 'item__IT-F'], dtype=object)"
            ]
          },
          "metadata": {
            "tags": []
          },
          "execution_count": 118
        }
      ]
    },
    {
      "cell_type": "markdown",
      "metadata": {
        "id": "fBwFV9xP0uYr"
      },
      "source": [
        "Remove all other columns.\n",
        "\n",
        "Your submitted dataframe will have these columns: 'height', 'max', 'number', 'length', 'ratio', 'cat2_CA-0', 'cat2_CA-1',"
      ]
    },
    {
      "cell_type": "code",
      "metadata": {
        "id": "33-MRhuR0t--"
      },
      "source": [
        "df.drop( ['id', 'convention', 'usage', 'region', 'code', 'power', 'weight', 'country', 'target'], axis=1, inplace= True)"
      ],
      "execution_count": 121,
      "outputs": []
    },
    {
      "cell_type": "code",
      "metadata": {
        "id": "eZNvnrHv19Xy",
        "outputId": "5e81ab5a-86cb-4b6a-aa0f-18dc65566a7e",
        "colab": {
          "base_uri": "https://localhost:8080/",
          "height": 241
        }
      },
      "source": [
        "df.head()"
      ],
      "execution_count": 122,
      "outputs": [
        {
          "output_type": "execute_result",
          "data": {
            "text/html": [
              "<div>\n",
              "<style scoped>\n",
              "    .dataframe tbody tr th:only-of-type {\n",
              "        vertical-align: middle;\n",
              "    }\n",
              "\n",
              "    .dataframe tbody tr th {\n",
              "        vertical-align: top;\n",
              "    }\n",
              "\n",
              "    .dataframe thead th {\n",
              "        text-align: right;\n",
              "    }\n",
              "</style>\n",
              "<table border=\"1\" class=\"dataframe\">\n",
              "  <thead>\n",
              "    <tr style=\"text-align: right;\">\n",
              "      <th></th>\n",
              "      <th>height</th>\n",
              "      <th>max</th>\n",
              "      <th>number</th>\n",
              "      <th>length</th>\n",
              "      <th>ratio</th>\n",
              "      <th>cat2__CA-0</th>\n",
              "      <th>cat2__CA-1</th>\n",
              "      <th>cat2__CA-10</th>\n",
              "      <th>cat2__CA-11</th>\n",
              "      <th>cat2__CA-12</th>\n",
              "      <th>cat2__CA-13</th>\n",
              "      <th>cat2__CA-14</th>\n",
              "      <th>cat2__CA-15</th>\n",
              "      <th>cat2__CA-16</th>\n",
              "      <th>cat2__CA-17</th>\n",
              "      <th>cat2__CA-18</th>\n",
              "      <th>cat2__CA-19</th>\n",
              "      <th>cat2__CA-1A</th>\n",
              "      <th>cat2__CA-1B</th>\n",
              "      <th>cat2__CA-1C</th>\n",
              "      <th>cat2__CA-1D</th>\n",
              "      <th>cat2__CA-1E</th>\n",
              "      <th>cat2__CA-1F</th>\n",
              "      <th>cat2__CA-2</th>\n",
              "      <th>cat2__CA-20</th>\n",
              "      <th>cat2__CA-21</th>\n",
              "      <th>cat2__CA-22</th>\n",
              "      <th>cat2__CA-23</th>\n",
              "      <th>cat2__CA-24</th>\n",
              "      <th>cat2__CA-25</th>\n",
              "      <th>cat2__CA-26</th>\n",
              "      <th>cat2__CA-27</th>\n",
              "      <th>cat2__CA-3</th>\n",
              "      <th>cat2__CA-4</th>\n",
              "      <th>cat2__CA-5</th>\n",
              "      <th>cat2__CA-6</th>\n",
              "      <th>cat2__CA-7</th>\n",
              "      <th>cat2__CA-8</th>\n",
              "      <th>cat2__CA-9</th>\n",
              "      <th>cat2__CA-A</th>\n",
              "      <th>cat2__CA-B</th>\n",
              "      <th>cat2__CA-C</th>\n",
              "      <th>cat2__CA-D</th>\n",
              "      <th>cat2__CA-E</th>\n",
              "      <th>cat2__CA-F</th>\n",
              "      <th>item__IT-0</th>\n",
              "      <th>item__IT-1</th>\n",
              "      <th>item__IT-10</th>\n",
              "      <th>item__IT-11</th>\n",
              "      <th>item__IT-12</th>\n",
              "      <th>item__IT-13</th>\n",
              "      <th>item__IT-14</th>\n",
              "      <th>item__IT-15</th>\n",
              "      <th>item__IT-16</th>\n",
              "      <th>item__IT-17</th>\n",
              "      <th>item__IT-18</th>\n",
              "      <th>item__IT-19</th>\n",
              "      <th>item__IT-1A</th>\n",
              "      <th>item__IT-1B</th>\n",
              "      <th>item__IT-1C</th>\n",
              "      <th>item__IT-1D</th>\n",
              "      <th>item__IT-1E</th>\n",
              "      <th>item__IT-2</th>\n",
              "      <th>item__IT-3</th>\n",
              "      <th>item__IT-4</th>\n",
              "      <th>item__IT-5</th>\n",
              "      <th>item__IT-6</th>\n",
              "      <th>item__IT-7</th>\n",
              "      <th>item__IT-8</th>\n",
              "      <th>item__IT-9</th>\n",
              "      <th>item__IT-A</th>\n",
              "      <th>item__IT-B</th>\n",
              "      <th>item__IT-C</th>\n",
              "      <th>item__IT-D</th>\n",
              "      <th>item__IT-E</th>\n",
              "      <th>item__IT-F</th>\n",
              "    </tr>\n",
              "  </thead>\n",
              "  <tbody>\n",
              "    <tr>\n",
              "      <th>0</th>\n",
              "      <td>0.453222</td>\n",
              "      <td>44907</td>\n",
              "      <td>16669</td>\n",
              "      <td>4284.51</td>\n",
              "      <td>2.694043</td>\n",
              "      <td>0</td>\n",
              "      <td>0</td>\n",
              "      <td>0</td>\n",
              "      <td>0</td>\n",
              "      <td>0</td>\n",
              "      <td>0</td>\n",
              "      <td>0</td>\n",
              "      <td>0</td>\n",
              "      <td>0</td>\n",
              "      <td>0</td>\n",
              "      <td>0</td>\n",
              "      <td>0</td>\n",
              "      <td>0</td>\n",
              "      <td>0</td>\n",
              "      <td>0</td>\n",
              "      <td>0</td>\n",
              "      <td>0</td>\n",
              "      <td>0</td>\n",
              "      <td>0</td>\n",
              "      <td>0</td>\n",
              "      <td>0</td>\n",
              "      <td>0</td>\n",
              "      <td>0</td>\n",
              "      <td>0</td>\n",
              "      <td>0</td>\n",
              "      <td>0</td>\n",
              "      <td>0</td>\n",
              "      <td>0</td>\n",
              "      <td>0</td>\n",
              "      <td>0</td>\n",
              "      <td>0</td>\n",
              "      <td>0</td>\n",
              "      <td>0</td>\n",
              "      <td>0</td>\n",
              "      <td>0</td>\n",
              "      <td>0</td>\n",
              "      <td>0</td>\n",
              "      <td>0</td>\n",
              "      <td>1</td>\n",
              "      <td>0</td>\n",
              "      <td>0</td>\n",
              "      <td>0</td>\n",
              "      <td>0</td>\n",
              "      <td>0</td>\n",
              "      <td>0</td>\n",
              "      <td>0</td>\n",
              "      <td>0</td>\n",
              "      <td>0</td>\n",
              "      <td>0</td>\n",
              "      <td>1</td>\n",
              "      <td>0</td>\n",
              "      <td>0</td>\n",
              "      <td>0</td>\n",
              "      <td>0</td>\n",
              "      <td>0</td>\n",
              "      <td>0</td>\n",
              "      <td>0</td>\n",
              "      <td>0</td>\n",
              "      <td>0</td>\n",
              "      <td>0</td>\n",
              "      <td>0</td>\n",
              "      <td>0</td>\n",
              "      <td>0</td>\n",
              "      <td>0</td>\n",
              "      <td>0</td>\n",
              "      <td>0</td>\n",
              "      <td>0</td>\n",
              "      <td>0</td>\n",
              "      <td>0</td>\n",
              "      <td>0</td>\n",
              "      <td>0</td>\n",
              "    </tr>\n",
              "    <tr>\n",
              "      <th>1</th>\n",
              "      <td>-1.482176</td>\n",
              "      <td>48831</td>\n",
              "      <td>8652</td>\n",
              "      <td>806.88</td>\n",
              "      <td>5.643897</td>\n",
              "      <td>0</td>\n",
              "      <td>0</td>\n",
              "      <td>0</td>\n",
              "      <td>0</td>\n",
              "      <td>0</td>\n",
              "      <td>0</td>\n",
              "      <td>0</td>\n",
              "      <td>0</td>\n",
              "      <td>0</td>\n",
              "      <td>0</td>\n",
              "      <td>0</td>\n",
              "      <td>0</td>\n",
              "      <td>0</td>\n",
              "      <td>0</td>\n",
              "      <td>0</td>\n",
              "      <td>0</td>\n",
              "      <td>0</td>\n",
              "      <td>0</td>\n",
              "      <td>0</td>\n",
              "      <td>0</td>\n",
              "      <td>0</td>\n",
              "      <td>0</td>\n",
              "      <td>0</td>\n",
              "      <td>0</td>\n",
              "      <td>0</td>\n",
              "      <td>0</td>\n",
              "      <td>0</td>\n",
              "      <td>0</td>\n",
              "      <td>0</td>\n",
              "      <td>0</td>\n",
              "      <td>0</td>\n",
              "      <td>0</td>\n",
              "      <td>0</td>\n",
              "      <td>0</td>\n",
              "      <td>1</td>\n",
              "      <td>0</td>\n",
              "      <td>0</td>\n",
              "      <td>0</td>\n",
              "      <td>0</td>\n",
              "      <td>0</td>\n",
              "      <td>0</td>\n",
              "      <td>0</td>\n",
              "      <td>0</td>\n",
              "      <td>0</td>\n",
              "      <td>0</td>\n",
              "      <td>0</td>\n",
              "      <td>0</td>\n",
              "      <td>0</td>\n",
              "      <td>0</td>\n",
              "      <td>0</td>\n",
              "      <td>0</td>\n",
              "      <td>0</td>\n",
              "      <td>0</td>\n",
              "      <td>0</td>\n",
              "      <td>0</td>\n",
              "      <td>0</td>\n",
              "      <td>1</td>\n",
              "      <td>0</td>\n",
              "      <td>0</td>\n",
              "      <td>0</td>\n",
              "      <td>0</td>\n",
              "      <td>0</td>\n",
              "      <td>0</td>\n",
              "      <td>0</td>\n",
              "      <td>0</td>\n",
              "      <td>0</td>\n",
              "      <td>0</td>\n",
              "      <td>0</td>\n",
              "      <td>0</td>\n",
              "      <td>0</td>\n",
              "      <td>0</td>\n",
              "    </tr>\n",
              "    <tr>\n",
              "      <th>2</th>\n",
              "      <td>-0.339669</td>\n",
              "      <td>40760</td>\n",
              "      <td>23103</td>\n",
              "      <td>2859.80</td>\n",
              "      <td>1.764273</td>\n",
              "      <td>0</td>\n",
              "      <td>0</td>\n",
              "      <td>0</td>\n",
              "      <td>0</td>\n",
              "      <td>0</td>\n",
              "      <td>0</td>\n",
              "      <td>0</td>\n",
              "      <td>0</td>\n",
              "      <td>1</td>\n",
              "      <td>0</td>\n",
              "      <td>0</td>\n",
              "      <td>0</td>\n",
              "      <td>0</td>\n",
              "      <td>0</td>\n",
              "      <td>0</td>\n",
              "      <td>0</td>\n",
              "      <td>0</td>\n",
              "      <td>0</td>\n",
              "      <td>0</td>\n",
              "      <td>0</td>\n",
              "      <td>0</td>\n",
              "      <td>0</td>\n",
              "      <td>0</td>\n",
              "      <td>0</td>\n",
              "      <td>0</td>\n",
              "      <td>0</td>\n",
              "      <td>0</td>\n",
              "      <td>0</td>\n",
              "      <td>0</td>\n",
              "      <td>0</td>\n",
              "      <td>0</td>\n",
              "      <td>0</td>\n",
              "      <td>0</td>\n",
              "      <td>0</td>\n",
              "      <td>0</td>\n",
              "      <td>0</td>\n",
              "      <td>0</td>\n",
              "      <td>0</td>\n",
              "      <td>0</td>\n",
              "      <td>0</td>\n",
              "      <td>0</td>\n",
              "      <td>0</td>\n",
              "      <td>0</td>\n",
              "      <td>0</td>\n",
              "      <td>0</td>\n",
              "      <td>0</td>\n",
              "      <td>1</td>\n",
              "      <td>0</td>\n",
              "      <td>0</td>\n",
              "      <td>0</td>\n",
              "      <td>0</td>\n",
              "      <td>0</td>\n",
              "      <td>0</td>\n",
              "      <td>0</td>\n",
              "      <td>0</td>\n",
              "      <td>0</td>\n",
              "      <td>0</td>\n",
              "      <td>0</td>\n",
              "      <td>0</td>\n",
              "      <td>0</td>\n",
              "      <td>0</td>\n",
              "      <td>0</td>\n",
              "      <td>0</td>\n",
              "      <td>0</td>\n",
              "      <td>0</td>\n",
              "      <td>0</td>\n",
              "      <td>0</td>\n",
              "      <td>0</td>\n",
              "      <td>0</td>\n",
              "      <td>0</td>\n",
              "      <td>0</td>\n",
              "    </tr>\n",
              "    <tr>\n",
              "      <th>3</th>\n",
              "      <td>1.309919</td>\n",
              "      <td>33597</td>\n",
              "      <td>17680</td>\n",
              "      <td>5823.87</td>\n",
              "      <td>1.900283</td>\n",
              "      <td>0</td>\n",
              "      <td>0</td>\n",
              "      <td>0</td>\n",
              "      <td>0</td>\n",
              "      <td>0</td>\n",
              "      <td>0</td>\n",
              "      <td>0</td>\n",
              "      <td>0</td>\n",
              "      <td>0</td>\n",
              "      <td>0</td>\n",
              "      <td>0</td>\n",
              "      <td>0</td>\n",
              "      <td>0</td>\n",
              "      <td>0</td>\n",
              "      <td>0</td>\n",
              "      <td>0</td>\n",
              "      <td>0</td>\n",
              "      <td>0</td>\n",
              "      <td>0</td>\n",
              "      <td>0</td>\n",
              "      <td>0</td>\n",
              "      <td>0</td>\n",
              "      <td>0</td>\n",
              "      <td>0</td>\n",
              "      <td>0</td>\n",
              "      <td>0</td>\n",
              "      <td>0</td>\n",
              "      <td>0</td>\n",
              "      <td>0</td>\n",
              "      <td>0</td>\n",
              "      <td>0</td>\n",
              "      <td>0</td>\n",
              "      <td>0</td>\n",
              "      <td>1</td>\n",
              "      <td>0</td>\n",
              "      <td>0</td>\n",
              "      <td>0</td>\n",
              "      <td>0</td>\n",
              "      <td>0</td>\n",
              "      <td>0</td>\n",
              "      <td>0</td>\n",
              "      <td>0</td>\n",
              "      <td>0</td>\n",
              "      <td>0</td>\n",
              "      <td>0</td>\n",
              "      <td>0</td>\n",
              "      <td>0</td>\n",
              "      <td>0</td>\n",
              "      <td>0</td>\n",
              "      <td>0</td>\n",
              "      <td>0</td>\n",
              "      <td>0</td>\n",
              "      <td>0</td>\n",
              "      <td>0</td>\n",
              "      <td>0</td>\n",
              "      <td>0</td>\n",
              "      <td>0</td>\n",
              "      <td>0</td>\n",
              "      <td>0</td>\n",
              "      <td>0</td>\n",
              "      <td>0</td>\n",
              "      <td>0</td>\n",
              "      <td>0</td>\n",
              "      <td>1</td>\n",
              "      <td>0</td>\n",
              "      <td>0</td>\n",
              "      <td>0</td>\n",
              "      <td>0</td>\n",
              "      <td>0</td>\n",
              "      <td>0</td>\n",
              "      <td>0</td>\n",
              "    </tr>\n",
              "    <tr>\n",
              "      <th>4</th>\n",
              "      <td>0.006937</td>\n",
              "      <td>29848</td>\n",
              "      <td>24136</td>\n",
              "      <td>3482.60</td>\n",
              "      <td>1.236659</td>\n",
              "      <td>0</td>\n",
              "      <td>0</td>\n",
              "      <td>0</td>\n",
              "      <td>0</td>\n",
              "      <td>0</td>\n",
              "      <td>0</td>\n",
              "      <td>0</td>\n",
              "      <td>0</td>\n",
              "      <td>0</td>\n",
              "      <td>0</td>\n",
              "      <td>0</td>\n",
              "      <td>0</td>\n",
              "      <td>0</td>\n",
              "      <td>0</td>\n",
              "      <td>0</td>\n",
              "      <td>0</td>\n",
              "      <td>0</td>\n",
              "      <td>0</td>\n",
              "      <td>0</td>\n",
              "      <td>0</td>\n",
              "      <td>0</td>\n",
              "      <td>0</td>\n",
              "      <td>0</td>\n",
              "      <td>0</td>\n",
              "      <td>0</td>\n",
              "      <td>0</td>\n",
              "      <td>0</td>\n",
              "      <td>0</td>\n",
              "      <td>0</td>\n",
              "      <td>0</td>\n",
              "      <td>0</td>\n",
              "      <td>0</td>\n",
              "      <td>0</td>\n",
              "      <td>1</td>\n",
              "      <td>0</td>\n",
              "      <td>0</td>\n",
              "      <td>0</td>\n",
              "      <td>0</td>\n",
              "      <td>0</td>\n",
              "      <td>0</td>\n",
              "      <td>0</td>\n",
              "      <td>0</td>\n",
              "      <td>0</td>\n",
              "      <td>0</td>\n",
              "      <td>0</td>\n",
              "      <td>0</td>\n",
              "      <td>0</td>\n",
              "      <td>0</td>\n",
              "      <td>0</td>\n",
              "      <td>0</td>\n",
              "      <td>0</td>\n",
              "      <td>0</td>\n",
              "      <td>0</td>\n",
              "      <td>0</td>\n",
              "      <td>0</td>\n",
              "      <td>0</td>\n",
              "      <td>0</td>\n",
              "      <td>0</td>\n",
              "      <td>0</td>\n",
              "      <td>0</td>\n",
              "      <td>1</td>\n",
              "      <td>0</td>\n",
              "      <td>0</td>\n",
              "      <td>0</td>\n",
              "      <td>0</td>\n",
              "      <td>0</td>\n",
              "      <td>0</td>\n",
              "      <td>0</td>\n",
              "      <td>0</td>\n",
              "      <td>0</td>\n",
              "      <td>0</td>\n",
              "    </tr>\n",
              "  </tbody>\n",
              "</table>\n",
              "</div>"
            ],
            "text/plain": [
              "     height    max  number  ...  item__IT-D  item__IT-E  item__IT-F\n",
              "0  0.453222  44907   16669  ...           0           0           0\n",
              "1 -1.482176  48831    8652  ...           0           0           0\n",
              "2 -0.339669  40760   23103  ...           0           0           0\n",
              "3  1.309919  33597   17680  ...           0           0           0\n",
              "4  0.006937  29848   24136  ...           0           0           0\n",
              "\n",
              "[5 rows x 76 columns]"
            ]
          },
          "metadata": {
            "tags": []
          },
          "execution_count": 122
        }
      ]
    }
  ]
}