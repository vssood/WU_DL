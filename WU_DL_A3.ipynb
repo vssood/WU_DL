{
  "nbformat": 4,
  "nbformat_minor": 0,
  "metadata": {
    "colab": {
      "name": "WU_DL_A3.ipynb",
      "provenance": [],
      "authorship_tag": "ABX9TyOjvdKmkyA2s8jaZqEtYqN1",
      "include_colab_link": true
    },
    "kernelspec": {
      "name": "python3",
      "display_name": "Python 3"
    }
  },
  "cells": [
    {
      "cell_type": "markdown",
      "metadata": {
        "id": "view-in-github",
        "colab_type": "text"
      },
      "source": [
        "<a href=\"https://colab.research.google.com/github/vssood/WU_DL/blob/master/WU_DL_A3.ipynb\" target=\"_parent\"><img src=\"https://colab.research.google.com/assets/colab-badge.svg\" alt=\"Open In Colab\"/></a>"
      ]
    },
    {
      "cell_type": "code",
      "metadata": {
        "id": "sgHghg6E5ocx"
      },
      "source": [
        "file_path = \"https://data.heatonresearch.com/data/t81-558/datasets/series-31.csv\""
      ],
      "execution_count": null,
      "outputs": []
    },
    {
      "cell_type": "markdown",
      "metadata": {
        "id": "o41n4AEj6C-P"
      },
      "source": [
        "There should be one row for each unique date in the data set.\n",
        "\n",
        "Think of the value as a stock price. You only have values during certain hours and certain days.\n",
        "\n",
        "The date column is each of the different dates in the file.\n",
        "\n",
        "The starting column is the first value of that date (has the earliest time).\n",
        "\n",
        "The max column is the maximum value for that day.\n",
        "\n",
        "The min column is the minimum value for that day.\n",
        "\n",
        "The ending column is the final value for that day (has the latest time)."
      ]
    },
    {
      "cell_type": "code",
      "metadata": {
        "id": "-uFYNIOT5xhp"
      },
      "source": [
        "import pandas as pd\n",
        "import numpy as np "
      ],
      "execution_count": null,
      "outputs": []
    },
    {
      "cell_type": "code",
      "metadata": {
        "id": "R1FGO1V66G-N"
      },
      "source": [
        "df = pd.read_csv(file_path)"
      ],
      "execution_count": null,
      "outputs": []
    },
    {
      "cell_type": "code",
      "metadata": {
        "id": "V9PFtDCG6OAV",
        "outputId": "f33399b0-9bb9-42de-a25c-f87e62c5d9ab",
        "colab": {
          "base_uri": "https://localhost:8080/",
          "height": 204
        }
      },
      "source": [
        "df.head()"
      ],
      "execution_count": null,
      "outputs": [
        {
          "output_type": "execute_result",
          "data": {
            "text/html": [
              "<div>\n",
              "<style scoped>\n",
              "    .dataframe tbody tr th:only-of-type {\n",
              "        vertical-align: middle;\n",
              "    }\n",
              "\n",
              "    .dataframe tbody tr th {\n",
              "        vertical-align: top;\n",
              "    }\n",
              "\n",
              "    .dataframe thead th {\n",
              "        text-align: right;\n",
              "    }\n",
              "</style>\n",
              "<table border=\"1\" class=\"dataframe\">\n",
              "  <thead>\n",
              "    <tr style=\"text-align: right;\">\n",
              "      <th></th>\n",
              "      <th>time</th>\n",
              "      <th>value</th>\n",
              "    </tr>\n",
              "  </thead>\n",
              "  <tbody>\n",
              "    <tr>\n",
              "      <th>0</th>\n",
              "      <td>08-22-2019 12:51</td>\n",
              "      <td>19.195359</td>\n",
              "    </tr>\n",
              "    <tr>\n",
              "      <th>1</th>\n",
              "      <td>09-19-2019 09:44</td>\n",
              "      <td>13.519543</td>\n",
              "    </tr>\n",
              "    <tr>\n",
              "      <th>2</th>\n",
              "      <td>08-26-2019 14:05</td>\n",
              "      <td>9.191413</td>\n",
              "    </tr>\n",
              "    <tr>\n",
              "      <th>3</th>\n",
              "      <td>08-19-2019 16:37</td>\n",
              "      <td>18.346598</td>\n",
              "    </tr>\n",
              "    <tr>\n",
              "      <th>4</th>\n",
              "      <td>09-05-2019 09:18</td>\n",
              "      <td>1.349778</td>\n",
              "    </tr>\n",
              "  </tbody>\n",
              "</table>\n",
              "</div>"
            ],
            "text/plain": [
              "               time      value\n",
              "0  08-22-2019 12:51  19.195359\n",
              "1  09-19-2019 09:44  13.519543\n",
              "2  08-26-2019 14:05   9.191413\n",
              "3  08-19-2019 16:37  18.346598\n",
              "4  09-05-2019 09:18   1.349778"
            ]
          },
          "metadata": {
            "tags": []
          },
          "execution_count": 107
        }
      ]
    },
    {
      "cell_type": "code",
      "metadata": {
        "id": "XdVdWlUO6QOz"
      },
      "source": [
        "df.describe()"
      ],
      "execution_count": null,
      "outputs": []
    },
    {
      "cell_type": "code",
      "metadata": {
        "id": "Z2oqjwey6g2_"
      },
      "source": [
        "df['time'] = pd.to_datetime(df['time'], errors='coerce' )"
      ],
      "execution_count": null,
      "outputs": []
    },
    {
      "cell_type": "code",
      "metadata": {
        "id": "oDU5ujRU8ibX"
      },
      "source": [
        "df['date'] = df['time'].dt.date"
      ],
      "execution_count": null,
      "outputs": []
    },
    {
      "cell_type": "code",
      "metadata": {
        "id": "H4bEuQsNJrh-",
        "outputId": "415ec177-954c-4c0b-978a-a6352e39aa41",
        "colab": {
          "base_uri": "https://localhost:8080/",
          "height": 419
        }
      },
      "source": [
        "df"
      ],
      "execution_count": null,
      "outputs": [
        {
          "output_type": "execute_result",
          "data": {
            "text/html": [
              "<div>\n",
              "<style scoped>\n",
              "    .dataframe tbody tr th:only-of-type {\n",
              "        vertical-align: middle;\n",
              "    }\n",
              "\n",
              "    .dataframe tbody tr th {\n",
              "        vertical-align: top;\n",
              "    }\n",
              "\n",
              "    .dataframe thead th {\n",
              "        text-align: right;\n",
              "    }\n",
              "</style>\n",
              "<table border=\"1\" class=\"dataframe\">\n",
              "  <thead>\n",
              "    <tr style=\"text-align: right;\">\n",
              "      <th></th>\n",
              "      <th>time</th>\n",
              "      <th>value</th>\n",
              "      <th>date</th>\n",
              "    </tr>\n",
              "  </thead>\n",
              "  <tbody>\n",
              "    <tr>\n",
              "      <th>0</th>\n",
              "      <td>2019-08-22 12:51:00</td>\n",
              "      <td>19.195359</td>\n",
              "      <td>2019-08-22</td>\n",
              "    </tr>\n",
              "    <tr>\n",
              "      <th>1</th>\n",
              "      <td>2019-09-19 09:44:00</td>\n",
              "      <td>13.519543</td>\n",
              "      <td>2019-09-19</td>\n",
              "    </tr>\n",
              "    <tr>\n",
              "      <th>2</th>\n",
              "      <td>2019-08-26 14:05:00</td>\n",
              "      <td>9.191413</td>\n",
              "      <td>2019-08-26</td>\n",
              "    </tr>\n",
              "    <tr>\n",
              "      <th>3</th>\n",
              "      <td>2019-08-19 16:37:00</td>\n",
              "      <td>18.346598</td>\n",
              "      <td>2019-08-19</td>\n",
              "    </tr>\n",
              "    <tr>\n",
              "      <th>4</th>\n",
              "      <td>2019-09-05 09:18:00</td>\n",
              "      <td>1.349778</td>\n",
              "      <td>2019-09-05</td>\n",
              "    </tr>\n",
              "    <tr>\n",
              "      <th>...</th>\n",
              "      <td>...</td>\n",
              "      <td>...</td>\n",
              "      <td>...</td>\n",
              "    </tr>\n",
              "    <tr>\n",
              "      <th>13495</th>\n",
              "      <td>2019-09-09 12:50:00</td>\n",
              "      <td>19.046697</td>\n",
              "      <td>2019-09-09</td>\n",
              "    </tr>\n",
              "    <tr>\n",
              "      <th>13496</th>\n",
              "      <td>2019-09-09 10:00:00</td>\n",
              "      <td>17.984843</td>\n",
              "      <td>2019-09-09</td>\n",
              "    </tr>\n",
              "    <tr>\n",
              "      <th>13497</th>\n",
              "      <td>2019-09-18 14:16:00</td>\n",
              "      <td>15.827774</td>\n",
              "      <td>2019-09-18</td>\n",
              "    </tr>\n",
              "    <tr>\n",
              "      <th>13498</th>\n",
              "      <td>2019-09-19 16:16:00</td>\n",
              "      <td>13.070049</td>\n",
              "      <td>2019-09-19</td>\n",
              "    </tr>\n",
              "    <tr>\n",
              "      <th>13499</th>\n",
              "      <td>2019-09-06 10:13:00</td>\n",
              "      <td>0.594764</td>\n",
              "      <td>2019-09-06</td>\n",
              "    </tr>\n",
              "  </tbody>\n",
              "</table>\n",
              "<p>13500 rows × 3 columns</p>\n",
              "</div>"
            ],
            "text/plain": [
              "                     time      value        date\n",
              "0     2019-08-22 12:51:00  19.195359  2019-08-22\n",
              "1     2019-09-19 09:44:00  13.519543  2019-09-19\n",
              "2     2019-08-26 14:05:00   9.191413  2019-08-26\n",
              "3     2019-08-19 16:37:00  18.346598  2019-08-19\n",
              "4     2019-09-05 09:18:00   1.349778  2019-09-05\n",
              "...                   ...        ...         ...\n",
              "13495 2019-09-09 12:50:00  19.046697  2019-09-09\n",
              "13496 2019-09-09 10:00:00  17.984843  2019-09-09\n",
              "13497 2019-09-18 14:16:00  15.827774  2019-09-18\n",
              "13498 2019-09-19 16:16:00  13.070049  2019-09-19\n",
              "13499 2019-09-06 10:13:00   0.594764  2019-09-06\n",
              "\n",
              "[13500 rows x 3 columns]"
            ]
          },
          "metadata": {
            "tags": []
          },
          "execution_count": 111
        }
      ]
    },
    {
      "cell_type": "code",
      "metadata": {
        "id": "EYiCmF0wYdSe"
      },
      "source": [
        "df.set_index('time', inplace=True)"
      ],
      "execution_count": null,
      "outputs": []
    },
    {
      "cell_type": "code",
      "metadata": {
        "id": "_uhnX7uSY1a3"
      },
      "source": [
        "df.sort_index(ascending=True, inplace= True)"
      ],
      "execution_count": null,
      "outputs": []
    },
    {
      "cell_type": "code",
      "metadata": {
        "id": "xQWqLl9vIRQU",
        "outputId": "ebdbd7c9-ff58-431c-eb17-f2ab53b51b25",
        "colab": {
          "base_uri": "https://localhost:8080/",
          "height": 855
        }
      },
      "source": [
        "df.groupby(['date'])['value'].agg(['first', 'max', 'min', 'last'])"
      ],
      "execution_count": null,
      "outputs": [
        {
          "output_type": "execute_result",
          "data": {
            "text/html": [
              "<div>\n",
              "<style scoped>\n",
              "    .dataframe tbody tr th:only-of-type {\n",
              "        vertical-align: middle;\n",
              "    }\n",
              "\n",
              "    .dataframe tbody tr th {\n",
              "        vertical-align: top;\n",
              "    }\n",
              "\n",
              "    .dataframe thead th {\n",
              "        text-align: right;\n",
              "    }\n",
              "</style>\n",
              "<table border=\"1\" class=\"dataframe\">\n",
              "  <thead>\n",
              "    <tr style=\"text-align: right;\">\n",
              "      <th></th>\n",
              "      <th>first</th>\n",
              "      <th>max</th>\n",
              "      <th>min</th>\n",
              "      <th>last</th>\n",
              "    </tr>\n",
              "    <tr>\n",
              "      <th>date</th>\n",
              "      <th></th>\n",
              "      <th></th>\n",
              "      <th></th>\n",
              "      <th></th>\n",
              "    </tr>\n",
              "  </thead>\n",
              "  <tbody>\n",
              "    <tr>\n",
              "      <th>2019-08-19</th>\n",
              "      <td>17.573522</td>\n",
              "      <td>18.468835</td>\n",
              "      <td>17.573522</td>\n",
              "      <td>18.468835</td>\n",
              "    </tr>\n",
              "    <tr>\n",
              "      <th>2019-08-20</th>\n",
              "      <td>19.496609</td>\n",
              "      <td>19.848830</td>\n",
              "      <td>19.496609</td>\n",
              "      <td>19.848830</td>\n",
              "    </tr>\n",
              "    <tr>\n",
              "      <th>2019-08-21</th>\n",
              "      <td>20.033917</td>\n",
              "      <td>20.033917</td>\n",
              "      <td>19.920997</td>\n",
              "      <td>19.920997</td>\n",
              "    </tr>\n",
              "    <tr>\n",
              "      <th>2019-08-22</th>\n",
              "      <td>19.393700</td>\n",
              "      <td>19.393700</td>\n",
              "      <td>18.893590</td>\n",
              "      <td>18.893590</td>\n",
              "    </tr>\n",
              "    <tr>\n",
              "      <th>2019-08-23</th>\n",
              "      <td>17.784213</td>\n",
              "      <td>17.784213</td>\n",
              "      <td>16.974865</td>\n",
              "      <td>16.974865</td>\n",
              "    </tr>\n",
              "    <tr>\n",
              "      <th>2019-08-26</th>\n",
              "      <td>9.717627</td>\n",
              "      <td>9.717627</td>\n",
              "      <td>8.814028</td>\n",
              "      <td>8.814028</td>\n",
              "    </tr>\n",
              "    <tr>\n",
              "      <th>2019-08-27</th>\n",
              "      <td>7.630234</td>\n",
              "      <td>7.630234</td>\n",
              "      <td>7.175677</td>\n",
              "      <td>7.175677</td>\n",
              "    </tr>\n",
              "    <tr>\n",
              "      <th>2019-08-28</th>\n",
              "      <td>6.940731</td>\n",
              "      <td>7.091136</td>\n",
              "      <td>6.940731</td>\n",
              "      <td>7.091136</td>\n",
              "    </tr>\n",
              "    <tr>\n",
              "      <th>2019-08-29</th>\n",
              "      <td>7.677676</td>\n",
              "      <td>8.150454</td>\n",
              "      <td>7.677676</td>\n",
              "      <td>8.150454</td>\n",
              "    </tr>\n",
              "    <tr>\n",
              "      <th>2019-08-30</th>\n",
              "      <td>8.989132</td>\n",
              "      <td>9.441207</td>\n",
              "      <td>8.989132</td>\n",
              "      <td>9.441207</td>\n",
              "    </tr>\n",
              "    <tr>\n",
              "      <th>2019-09-02</th>\n",
              "      <td>8.562631</td>\n",
              "      <td>8.562631</td>\n",
              "      <td>7.862781</td>\n",
              "      <td>7.862781</td>\n",
              "    </tr>\n",
              "    <tr>\n",
              "      <th>2019-09-03</th>\n",
              "      <td>6.466720</td>\n",
              "      <td>6.466720</td>\n",
              "      <td>5.518901</td>\n",
              "      <td>5.518901</td>\n",
              "    </tr>\n",
              "    <tr>\n",
              "      <th>2019-09-04</th>\n",
              "      <td>3.806679</td>\n",
              "      <td>3.806679</td>\n",
              "      <td>2.796339</td>\n",
              "      <td>2.796339</td>\n",
              "    </tr>\n",
              "    <tr>\n",
              "      <th>2019-09-05</th>\n",
              "      <td>1.372897</td>\n",
              "      <td>1.372897</td>\n",
              "      <td>0.803337</td>\n",
              "      <td>0.803337</td>\n",
              "    </tr>\n",
              "    <tr>\n",
              "      <th>2019-09-06</th>\n",
              "      <td>0.566174</td>\n",
              "      <td>0.975155</td>\n",
              "      <td>0.566174</td>\n",
              "      <td>0.975155</td>\n",
              "    </tr>\n",
              "    <tr>\n",
              "      <th>2019-09-09</th>\n",
              "      <td>17.609837</td>\n",
              "      <td>20.964092</td>\n",
              "      <td>17.609837</td>\n",
              "      <td>20.964092</td>\n",
              "    </tr>\n",
              "    <tr>\n",
              "      <th>2019-09-10</th>\n",
              "      <td>26.269719</td>\n",
              "      <td>29.067541</td>\n",
              "      <td>26.269719</td>\n",
              "      <td>29.067541</td>\n",
              "    </tr>\n",
              "    <tr>\n",
              "      <th>2019-09-11</th>\n",
              "      <td>32.779998</td>\n",
              "      <td>34.399895</td>\n",
              "      <td>32.779998</td>\n",
              "      <td>34.399895</td>\n",
              "    </tr>\n",
              "    <tr>\n",
              "      <th>2019-09-12</th>\n",
              "      <td>36.168036</td>\n",
              "      <td>36.697054</td>\n",
              "      <td>36.168036</td>\n",
              "      <td>36.697054</td>\n",
              "    </tr>\n",
              "    <tr>\n",
              "      <th>2019-09-13</th>\n",
              "      <td>36.763634</td>\n",
              "      <td>36.763634</td>\n",
              "      <td>36.347701</td>\n",
              "      <td>36.347701</td>\n",
              "    </tr>\n",
              "    <tr>\n",
              "      <th>2019-09-16</th>\n",
              "      <td>26.346598</td>\n",
              "      <td>26.346598</td>\n",
              "      <td>24.406477</td>\n",
              "      <td>24.406477</td>\n",
              "    </tr>\n",
              "    <tr>\n",
              "      <th>2019-09-17</th>\n",
              "      <td>21.203472</td>\n",
              "      <td>21.203472</td>\n",
              "      <td>19.385784</td>\n",
              "      <td>19.385784</td>\n",
              "    </tr>\n",
              "    <tr>\n",
              "      <th>2019-09-18</th>\n",
              "      <td>16.659006</td>\n",
              "      <td>16.659006</td>\n",
              "      <td>15.288665</td>\n",
              "      <td>15.288665</td>\n",
              "    </tr>\n",
              "    <tr>\n",
              "      <th>2019-09-19</th>\n",
              "      <td>13.581243</td>\n",
              "      <td>13.581243</td>\n",
              "      <td>12.983163</td>\n",
              "      <td>12.983163</td>\n",
              "    </tr>\n",
              "    <tr>\n",
              "      <th>2019-09-20</th>\n",
              "      <td>12.838227</td>\n",
              "      <td>13.337320</td>\n",
              "      <td>12.838227</td>\n",
              "      <td>13.337320</td>\n",
              "    </tr>\n",
              "  </tbody>\n",
              "</table>\n",
              "</div>"
            ],
            "text/plain": [
              "                first        max        min       last\n",
              "date                                                  \n",
              "2019-08-19  17.573522  18.468835  17.573522  18.468835\n",
              "2019-08-20  19.496609  19.848830  19.496609  19.848830\n",
              "2019-08-21  20.033917  20.033917  19.920997  19.920997\n",
              "2019-08-22  19.393700  19.393700  18.893590  18.893590\n",
              "2019-08-23  17.784213  17.784213  16.974865  16.974865\n",
              "2019-08-26   9.717627   9.717627   8.814028   8.814028\n",
              "2019-08-27   7.630234   7.630234   7.175677   7.175677\n",
              "2019-08-28   6.940731   7.091136   6.940731   7.091136\n",
              "2019-08-29   7.677676   8.150454   7.677676   8.150454\n",
              "2019-08-30   8.989132   9.441207   8.989132   9.441207\n",
              "2019-09-02   8.562631   8.562631   7.862781   7.862781\n",
              "2019-09-03   6.466720   6.466720   5.518901   5.518901\n",
              "2019-09-04   3.806679   3.806679   2.796339   2.796339\n",
              "2019-09-05   1.372897   1.372897   0.803337   0.803337\n",
              "2019-09-06   0.566174   0.975155   0.566174   0.975155\n",
              "2019-09-09  17.609837  20.964092  17.609837  20.964092\n",
              "2019-09-10  26.269719  29.067541  26.269719  29.067541\n",
              "2019-09-11  32.779998  34.399895  32.779998  34.399895\n",
              "2019-09-12  36.168036  36.697054  36.168036  36.697054\n",
              "2019-09-13  36.763634  36.763634  36.347701  36.347701\n",
              "2019-09-16  26.346598  26.346598  24.406477  24.406477\n",
              "2019-09-17  21.203472  21.203472  19.385784  19.385784\n",
              "2019-09-18  16.659006  16.659006  15.288665  15.288665\n",
              "2019-09-19  13.581243  13.581243  12.983163  12.983163\n",
              "2019-09-20  12.838227  13.337320  12.838227  13.337320"
            ]
          },
          "metadata": {
            "tags": []
          },
          "execution_count": 114
        }
      ]
    }
  ]
}