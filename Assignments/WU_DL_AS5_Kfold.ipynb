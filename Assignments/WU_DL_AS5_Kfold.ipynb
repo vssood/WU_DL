{
  "nbformat": 4,
  "nbformat_minor": 0,
  "metadata": {
    "colab": {
      "name": "WU_DL_AS5_Kfold.ipynb",
      "provenance": [],
      "collapsed_sections": [],
      "authorship_tag": "ABX9TyNhe0U3KwRzNRUFk6c2yWlz",
      "include_colab_link": true
    },
    "kernelspec": {
      "name": "python3",
      "display_name": "Python 3"
    }
  },
  "cells": [
    {
      "cell_type": "markdown",
      "metadata": {
        "id": "view-in-github",
        "colab_type": "text"
      },
      "source": [
        "<a href=\"https://colab.research.google.com/github/vssood/WU_DL/blob/master/Assignments/WU_DL_AS5_Kfold.ipynb\" target=\"_parent\"><img src=\"https://colab.research.google.com/assets/colab-badge.svg\" alt=\"Open In Colab\"/></a>"
      ]
    },
    {
      "cell_type": "markdown",
      "metadata": {
        "id": "DOg5_UrRor4j"
      },
      "source": [
        "# Assignment 5\n",
        "### Problem Statement\n",
        "\n",
        "The median income by zipcode provides an additional feature, median income, that you should use in your predictions. To complete this assignment perform the following steps:\n",
        "\n",
        "1. Load the housing prices training data.\n",
        "\n",
        "2. Join the median income by zipcode to the training data so that you gain the median income.\n",
        "\n",
        "3. Train a model to predict house price when given the following inputs: 'bedrooms', 'bathrooms', 'garage', 'land', 'sqft', 'median_income'.\n",
        "Load the housing prices test data. This data does not contain the house price, you must predict this.\n",
        "\n",
        "4. Join the median income by zipcode to the test/submit data to gain the median income.\n",
        "\n",
        "5. Predict prices for the test/submit data.\n",
        "\n",
        "6. Create a submission dataset that contains the house id (from the test/submit data) and the predicted price for that house. Include no other fields.\n",
        "Submit this dataset and see how close you are to the actual values.\n",
        "\n",
        "https://github.com/jeffheaton/t81_558_deep_learning/blob/df29ce2413c1ef32acaf99764c54b1b529cd8779/assignments/assignment_yourname_class5.ipynb\n"
      ]
    },
    {
      "cell_type": "code",
      "metadata": {
        "id": "exOn3ZTwxX5-"
      },
      "source": [
        "import pandas as pd\n",
        "import numpy as np\n",
        "\n",
        "from sklearn.model_selection import train_test_split\n",
        "from sklearn import metrics\n",
        "from sklearn.model_selection import KFold\n",
        "\n",
        "from scipy.stats import zscore \n",
        "\n",
        "from tensorflow.keras.models import Sequential\n",
        "from tensorflow.keras.layers import Dense, Activation, Dropout\n",
        "from tensorflow.keras.callbacks import EarlyStopping, ModelCheckpoint"
      ],
      "execution_count": null,
      "outputs": []
    },
    {
      "cell_type": "markdown",
      "metadata": {
        "id": "yUobAYBfNQS5"
      },
      "source": [
        "**Save and Load Model** \n",
        "\n",
        "https://www.tensorflow.org/tutorials/keras/save_and_load\n"
      ]
    },
    {
      "cell_type": "markdown",
      "metadata": {
        "id": "RzT9hIDC1buV"
      },
      "source": [
        "## Read, validate, join & Scrub data "
      ]
    },
    {
      "cell_type": "code",
      "metadata": {
        "id": "tOOESWPSzQKC"
      },
      "source": [
        "train_path = \"https://data.heatonresearch.com/data/t81-558/datasets/houses_train.csv\"\n",
        "test_path = \"https://data.heatonresearch.com/data/t81-558/datasets/houses_test.csv\"\n",
        "zip_path = \"https://data.heatonresearch.com/data/t81-558/datasets/zips.csv\"\n"
      ],
      "execution_count": null,
      "outputs": []
    },
    {
      "cell_type": "code",
      "metadata": {
        "id": "sfIgRYPezbFY"
      },
      "source": [
        "df_train = pd.read_csv(train_path, na_values=[\"NA\", \"?\"])\n",
        "df_submit = pd.read_csv(test_path, na_values= [\"NA\", \"?\"])\n",
        "df_zip = pd.read_csv(zip_path, na_values=[\"NA\", \"?\"])"
      ],
      "execution_count": null,
      "outputs": []
    },
    {
      "cell_type": "code",
      "metadata": {
        "id": "zpIhtIOf0-ey",
        "outputId": "fc81484b-30f6-477f-a4a0-b018f1d6dc1e",
        "colab": {
          "base_uri": "https://localhost:8080/",
          "height": 34
        }
      },
      "source": [
        "print(df_train.shape, df_submit.shape, df_zip.shape)"
      ],
      "execution_count": null,
      "outputs": [
        {
          "output_type": "stream",
          "text": [
            "(10000, 8) (2000, 7) (50, 2)\n"
          ],
          "name": "stdout"
        }
      ]
    },
    {
      "cell_type": "code",
      "metadata": {
        "id": "weI3-6-mz6Pe",
        "outputId": "b69d7247-4aae-496e-e06f-c3ee96792889",
        "colab": {
          "base_uri": "https://localhost:8080/",
          "height": 204
        }
      },
      "source": [
        "df_train.head()"
      ],
      "execution_count": null,
      "outputs": [
        {
          "output_type": "execute_result",
          "data": {
            "text/html": [
              "<div>\n",
              "<style scoped>\n",
              "    .dataframe tbody tr th:only-of-type {\n",
              "        vertical-align: middle;\n",
              "    }\n",
              "\n",
              "    .dataframe tbody tr th {\n",
              "        vertical-align: top;\n",
              "    }\n",
              "\n",
              "    .dataframe thead th {\n",
              "        text-align: right;\n",
              "    }\n",
              "</style>\n",
              "<table border=\"1\" class=\"dataframe\">\n",
              "  <thead>\n",
              "    <tr style=\"text-align: right;\">\n",
              "      <th></th>\n",
              "      <th>id</th>\n",
              "      <th>zip</th>\n",
              "      <th>bedrooms</th>\n",
              "      <th>bathrooms</th>\n",
              "      <th>garage</th>\n",
              "      <th>land</th>\n",
              "      <th>sqft</th>\n",
              "      <th>price</th>\n",
              "    </tr>\n",
              "  </thead>\n",
              "  <tbody>\n",
              "    <tr>\n",
              "      <th>0</th>\n",
              "      <td>1</td>\n",
              "      <td>60019</td>\n",
              "      <td>9</td>\n",
              "      <td>2</td>\n",
              "      <td>3</td>\n",
              "      <td>2.198</td>\n",
              "      <td>4860</td>\n",
              "      <td>1005580</td>\n",
              "    </tr>\n",
              "    <tr>\n",
              "      <th>1</th>\n",
              "      <td>2</td>\n",
              "      <td>60049</td>\n",
              "      <td>5</td>\n",
              "      <td>2</td>\n",
              "      <td>2</td>\n",
              "      <td>4.517</td>\n",
              "      <td>2870</td>\n",
              "      <td>620278</td>\n",
              "    </tr>\n",
              "    <tr>\n",
              "      <th>2</th>\n",
              "      <td>3</td>\n",
              "      <td>60011</td>\n",
              "      <td>2</td>\n",
              "      <td>1</td>\n",
              "      <td>0</td>\n",
              "      <td>4.120</td>\n",
              "      <td>1220</td>\n",
              "      <td>265711</td>\n",
              "    </tr>\n",
              "    <tr>\n",
              "      <th>3</th>\n",
              "      <td>4</td>\n",
              "      <td>60027</td>\n",
              "      <td>6</td>\n",
              "      <td>4</td>\n",
              "      <td>2</td>\n",
              "      <td>3.201</td>\n",
              "      <td>3810</td>\n",
              "      <td>819916</td>\n",
              "    </tr>\n",
              "    <tr>\n",
              "      <th>4</th>\n",
              "      <td>5</td>\n",
              "      <td>60001</td>\n",
              "      <td>9</td>\n",
              "      <td>3</td>\n",
              "      <td>2</td>\n",
              "      <td>1.347</td>\n",
              "      <td>5061</td>\n",
              "      <td>1039491</td>\n",
              "    </tr>\n",
              "  </tbody>\n",
              "</table>\n",
              "</div>"
            ],
            "text/plain": [
              "   id    zip  bedrooms  bathrooms  garage   land  sqft    price\n",
              "0   1  60019         9          2       3  2.198  4860  1005580\n",
              "1   2  60049         5          2       2  4.517  2870   620278\n",
              "2   3  60011         2          1       0  4.120  1220   265711\n",
              "3   4  60027         6          4       2  3.201  3810   819916\n",
              "4   5  60001         9          3       2  1.347  5061  1039491"
            ]
          },
          "metadata": {
            "tags": []
          },
          "execution_count": 5
        }
      ]
    },
    {
      "cell_type": "code",
      "metadata": {
        "id": "0EFWiiRacuqE",
        "outputId": "cf9c6dc0-03b3-4e17-f227-ae20dbef0046",
        "colab": {
          "base_uri": "https://localhost:8080/",
          "height": 297
        }
      },
      "source": [
        "df_train.describe()"
      ],
      "execution_count": null,
      "outputs": [
        {
          "output_type": "execute_result",
          "data": {
            "text/html": [
              "<div>\n",
              "<style scoped>\n",
              "    .dataframe tbody tr th:only-of-type {\n",
              "        vertical-align: middle;\n",
              "    }\n",
              "\n",
              "    .dataframe tbody tr th {\n",
              "        vertical-align: top;\n",
              "    }\n",
              "\n",
              "    .dataframe thead th {\n",
              "        text-align: right;\n",
              "    }\n",
              "</style>\n",
              "<table border=\"1\" class=\"dataframe\">\n",
              "  <thead>\n",
              "    <tr style=\"text-align: right;\">\n",
              "      <th></th>\n",
              "      <th>id</th>\n",
              "      <th>zip</th>\n",
              "      <th>bedrooms</th>\n",
              "      <th>bathrooms</th>\n",
              "      <th>garage</th>\n",
              "      <th>land</th>\n",
              "      <th>sqft</th>\n",
              "      <th>price</th>\n",
              "    </tr>\n",
              "  </thead>\n",
              "  <tbody>\n",
              "    <tr>\n",
              "      <th>count</th>\n",
              "      <td>10000.00000</td>\n",
              "      <td>10000.000000</td>\n",
              "      <td>10000.000000</td>\n",
              "      <td>10000.000000</td>\n",
              "      <td>10000.000000</td>\n",
              "      <td>10000.000000</td>\n",
              "      <td>10000.000000</td>\n",
              "      <td>1.000000e+04</td>\n",
              "    </tr>\n",
              "    <tr>\n",
              "      <th>mean</th>\n",
              "      <td>5000.50000</td>\n",
              "      <td>60024.311000</td>\n",
              "      <td>4.998800</td>\n",
              "      <td>2.303200</td>\n",
              "      <td>1.446700</td>\n",
              "      <td>2.586615</td>\n",
              "      <td>2961.487500</td>\n",
              "      <td>6.222294e+05</td>\n",
              "    </tr>\n",
              "    <tr>\n",
              "      <th>std</th>\n",
              "      <td>2886.89568</td>\n",
              "      <td>14.505796</td>\n",
              "      <td>2.577918</td>\n",
              "      <td>1.623679</td>\n",
              "      <td>0.953336</td>\n",
              "      <td>1.366607</td>\n",
              "      <td>1550.644456</td>\n",
              "      <td>3.191416e+05</td>\n",
              "    </tr>\n",
              "    <tr>\n",
              "      <th>min</th>\n",
              "      <td>1.00000</td>\n",
              "      <td>60000.000000</td>\n",
              "      <td>1.000000</td>\n",
              "      <td>1.000000</td>\n",
              "      <td>0.000000</td>\n",
              "      <td>0.250000</td>\n",
              "      <td>650.000000</td>\n",
              "      <td>1.183640e+05</td>\n",
              "    </tr>\n",
              "    <tr>\n",
              "      <th>25%</th>\n",
              "      <td>2500.75000</td>\n",
              "      <td>60012.000000</td>\n",
              "      <td>3.000000</td>\n",
              "      <td>1.000000</td>\n",
              "      <td>1.000000</td>\n",
              "      <td>1.409000</td>\n",
              "      <td>1676.000000</td>\n",
              "      <td>3.540092e+05</td>\n",
              "    </tr>\n",
              "    <tr>\n",
              "      <th>50%</th>\n",
              "      <td>5000.50000</td>\n",
              "      <td>60024.000000</td>\n",
              "      <td>5.000000</td>\n",
              "      <td>2.000000</td>\n",
              "      <td>2.000000</td>\n",
              "      <td>2.574500</td>\n",
              "      <td>2899.500000</td>\n",
              "      <td>6.134955e+05</td>\n",
              "    </tr>\n",
              "    <tr>\n",
              "      <th>75%</th>\n",
              "      <td>7500.25000</td>\n",
              "      <td>60037.000000</td>\n",
              "      <td>7.000000</td>\n",
              "      <td>3.000000</td>\n",
              "      <td>2.000000</td>\n",
              "      <td>3.771000</td>\n",
              "      <td>4340.250000</td>\n",
              "      <td>9.054565e+05</td>\n",
              "    </tr>\n",
              "    <tr>\n",
              "      <th>max</th>\n",
              "      <td>10000.00000</td>\n",
              "      <td>60049.000000</td>\n",
              "      <td>9.000000</td>\n",
              "      <td>7.000000</td>\n",
              "      <td>3.000000</td>\n",
              "      <td>4.999000</td>\n",
              "      <td>5952.000000</td>\n",
              "      <td>1.270773e+06</td>\n",
              "    </tr>\n",
              "  </tbody>\n",
              "</table>\n",
              "</div>"
            ],
            "text/plain": [
              "                id           zip  ...          sqft         price\n",
              "count  10000.00000  10000.000000  ...  10000.000000  1.000000e+04\n",
              "mean    5000.50000  60024.311000  ...   2961.487500  6.222294e+05\n",
              "std     2886.89568     14.505796  ...   1550.644456  3.191416e+05\n",
              "min        1.00000  60000.000000  ...    650.000000  1.183640e+05\n",
              "25%     2500.75000  60012.000000  ...   1676.000000  3.540092e+05\n",
              "50%     5000.50000  60024.000000  ...   2899.500000  6.134955e+05\n",
              "75%     7500.25000  60037.000000  ...   4340.250000  9.054565e+05\n",
              "max    10000.00000  60049.000000  ...   5952.000000  1.270773e+06\n",
              "\n",
              "[8 rows x 8 columns]"
            ]
          },
          "metadata": {
            "tags": []
          },
          "execution_count": 6
        }
      ]
    },
    {
      "cell_type": "code",
      "metadata": {
        "id": "mrptOweWcVMQ",
        "outputId": "282b8e49-3b38-435b-c0a8-5eeee28012f8",
        "colab": {
          "base_uri": "https://localhost:8080/",
          "height": 297
        }
      },
      "source": [
        "df_submit.describe()"
      ],
      "execution_count": null,
      "outputs": [
        {
          "output_type": "execute_result",
          "data": {
            "text/html": [
              "<div>\n",
              "<style scoped>\n",
              "    .dataframe tbody tr th:only-of-type {\n",
              "        vertical-align: middle;\n",
              "    }\n",
              "\n",
              "    .dataframe tbody tr th {\n",
              "        vertical-align: top;\n",
              "    }\n",
              "\n",
              "    .dataframe thead th {\n",
              "        text-align: right;\n",
              "    }\n",
              "</style>\n",
              "<table border=\"1\" class=\"dataframe\">\n",
              "  <thead>\n",
              "    <tr style=\"text-align: right;\">\n",
              "      <th></th>\n",
              "      <th>id</th>\n",
              "      <th>zip</th>\n",
              "      <th>bedrooms</th>\n",
              "      <th>bathrooms</th>\n",
              "      <th>garage</th>\n",
              "      <th>land</th>\n",
              "      <th>sqft</th>\n",
              "    </tr>\n",
              "  </thead>\n",
              "  <tbody>\n",
              "    <tr>\n",
              "      <th>count</th>\n",
              "      <td>2000.000000</td>\n",
              "      <td>2000.000000</td>\n",
              "      <td>2000.000000</td>\n",
              "      <td>2000.000000</td>\n",
              "      <td>2000.000000</td>\n",
              "      <td>2000.000000</td>\n",
              "      <td>2000.000000</td>\n",
              "    </tr>\n",
              "    <tr>\n",
              "      <th>mean</th>\n",
              "      <td>11000.500000</td>\n",
              "      <td>60024.789500</td>\n",
              "      <td>5.043500</td>\n",
              "      <td>2.308000</td>\n",
              "      <td>1.445500</td>\n",
              "      <td>2.653507</td>\n",
              "      <td>2983.922000</td>\n",
              "    </tr>\n",
              "    <tr>\n",
              "      <th>std</th>\n",
              "      <td>577.494589</td>\n",
              "      <td>14.617798</td>\n",
              "      <td>2.634403</td>\n",
              "      <td>1.640269</td>\n",
              "      <td>0.970825</td>\n",
              "      <td>1.355154</td>\n",
              "      <td>1581.491528</td>\n",
              "    </tr>\n",
              "    <tr>\n",
              "      <th>min</th>\n",
              "      <td>10001.000000</td>\n",
              "      <td>60000.000000</td>\n",
              "      <td>1.000000</td>\n",
              "      <td>1.000000</td>\n",
              "      <td>0.000000</td>\n",
              "      <td>0.260000</td>\n",
              "      <td>650.000000</td>\n",
              "    </tr>\n",
              "    <tr>\n",
              "      <th>25%</th>\n",
              "      <td>10500.750000</td>\n",
              "      <td>60012.000000</td>\n",
              "      <td>3.000000</td>\n",
              "      <td>1.000000</td>\n",
              "      <td>1.000000</td>\n",
              "      <td>1.477250</td>\n",
              "      <td>1668.000000</td>\n",
              "    </tr>\n",
              "    <tr>\n",
              "      <th>50%</th>\n",
              "      <td>11000.500000</td>\n",
              "      <td>60025.000000</td>\n",
              "      <td>5.000000</td>\n",
              "      <td>2.000000</td>\n",
              "      <td>2.000000</td>\n",
              "      <td>2.678000</td>\n",
              "      <td>2890.000000</td>\n",
              "    </tr>\n",
              "    <tr>\n",
              "      <th>75%</th>\n",
              "      <td>11500.250000</td>\n",
              "      <td>60038.000000</td>\n",
              "      <td>7.000000</td>\n",
              "      <td>3.000000</td>\n",
              "      <td>2.000000</td>\n",
              "      <td>3.798000</td>\n",
              "      <td>4388.250000</td>\n",
              "    </tr>\n",
              "    <tr>\n",
              "      <th>max</th>\n",
              "      <td>12000.000000</td>\n",
              "      <td>60049.000000</td>\n",
              "      <td>9.000000</td>\n",
              "      <td>7.000000</td>\n",
              "      <td>3.000000</td>\n",
              "      <td>4.999000</td>\n",
              "      <td>5952.000000</td>\n",
              "    </tr>\n",
              "  </tbody>\n",
              "</table>\n",
              "</div>"
            ],
            "text/plain": [
              "                 id           zip  ...         land         sqft\n",
              "count   2000.000000   2000.000000  ...  2000.000000  2000.000000\n",
              "mean   11000.500000  60024.789500  ...     2.653507  2983.922000\n",
              "std      577.494589     14.617798  ...     1.355154  1581.491528\n",
              "min    10001.000000  60000.000000  ...     0.260000   650.000000\n",
              "25%    10500.750000  60012.000000  ...     1.477250  1668.000000\n",
              "50%    11000.500000  60025.000000  ...     2.678000  2890.000000\n",
              "75%    11500.250000  60038.000000  ...     3.798000  4388.250000\n",
              "max    12000.000000  60049.000000  ...     4.999000  5952.000000\n",
              "\n",
              "[8 rows x 7 columns]"
            ]
          },
          "metadata": {
            "tags": []
          },
          "execution_count": 7
        }
      ]
    },
    {
      "cell_type": "code",
      "metadata": {
        "id": "gLD4eEkt0KUp",
        "outputId": "715ab23c-b7ae-4a8e-ac71-60fb5cf56017",
        "colab": {
          "base_uri": "https://localhost:8080/",
          "height": 34
        }
      },
      "source": [
        "# check for misssing values\n",
        "sum(df_train.isnull().sum())"
      ],
      "execution_count": null,
      "outputs": [
        {
          "output_type": "execute_result",
          "data": {
            "text/plain": [
              "0"
            ]
          },
          "metadata": {
            "tags": []
          },
          "execution_count": 8
        }
      ]
    },
    {
      "cell_type": "code",
      "metadata": {
        "id": "-X5K-lZf0iXB",
        "outputId": "7bf52e00-e913-4548-cdba-385b89b44d96",
        "colab": {
          "base_uri": "https://localhost:8080/",
          "height": 204
        }
      },
      "source": [
        "df_zip.head()"
      ],
      "execution_count": null,
      "outputs": [
        {
          "output_type": "execute_result",
          "data": {
            "text/html": [
              "<div>\n",
              "<style scoped>\n",
              "    .dataframe tbody tr th:only-of-type {\n",
              "        vertical-align: middle;\n",
              "    }\n",
              "\n",
              "    .dataframe tbody tr th {\n",
              "        vertical-align: top;\n",
              "    }\n",
              "\n",
              "    .dataframe thead th {\n",
              "        text-align: right;\n",
              "    }\n",
              "</style>\n",
              "<table border=\"1\" class=\"dataframe\">\n",
              "  <thead>\n",
              "    <tr style=\"text-align: right;\">\n",
              "      <th></th>\n",
              "      <th>zip</th>\n",
              "      <th>median_income</th>\n",
              "    </tr>\n",
              "  </thead>\n",
              "  <tbody>\n",
              "    <tr>\n",
              "      <th>0</th>\n",
              "      <td>60000</td>\n",
              "      <td>75806</td>\n",
              "    </tr>\n",
              "    <tr>\n",
              "      <th>1</th>\n",
              "      <td>60001</td>\n",
              "      <td>205564</td>\n",
              "    </tr>\n",
              "    <tr>\n",
              "      <th>2</th>\n",
              "      <td>60002</td>\n",
              "      <td>307019</td>\n",
              "    </tr>\n",
              "    <tr>\n",
              "      <th>3</th>\n",
              "      <td>60003</td>\n",
              "      <td>145929</td>\n",
              "    </tr>\n",
              "    <tr>\n",
              "      <th>4</th>\n",
              "      <td>60004</td>\n",
              "      <td>135496</td>\n",
              "    </tr>\n",
              "  </tbody>\n",
              "</table>\n",
              "</div>"
            ],
            "text/plain": [
              "     zip  median_income\n",
              "0  60000          75806\n",
              "1  60001         205564\n",
              "2  60002         307019\n",
              "3  60003         145929\n",
              "4  60004         135496"
            ]
          },
          "metadata": {
            "tags": []
          },
          "execution_count": 9
        }
      ]
    },
    {
      "cell_type": "markdown",
      "metadata": {
        "id": "HhRn9lkR0pJr"
      },
      "source": [
        "Combine train and zip data"
      ]
    },
    {
      "cell_type": "code",
      "metadata": {
        "id": "kmrJB2b40tPC"
      },
      "source": [
        "df_train = df_train.join(df_zip.set_index('zip'), on='zip')"
      ],
      "execution_count": null,
      "outputs": []
    },
    {
      "cell_type": "code",
      "metadata": {
        "id": "bDjUXqz82LCv"
      },
      "source": [
        "df_submit = df_submit.join(df_zip.set_index('zip'), on='zip')"
      ],
      "execution_count": null,
      "outputs": []
    },
    {
      "cell_type": "markdown",
      "metadata": {
        "id": "_xZlNhe51mmq"
      },
      "source": [
        "### Set-up data for the model "
      ]
    },
    {
      "cell_type": "code",
      "metadata": {
        "id": "RmaQv_q61uSD"
      },
      "source": [
        "# replace with  zscore \t\n",
        "#df_train['land'] = zscore(df_train['land'])     - Not needed as the mean and sd are in single digit \n",
        "df_train['sqft'] = zscore(df_train['sqft'])\n",
        "df_train['median_income'] = zscore(df_train['median_income'])\n",
        "\n",
        "# df_test['land'] = zscore(df_test['land'])        - Not needed as the mean and sd are in single digit \n",
        "df_submit['sqft'] = zscore(df_submit['sqft'])\n",
        "df_submit['median_income'] = zscore(df_submit['median_income'])"
      ],
      "execution_count": null,
      "outputs": []
    },
    {
      "cell_type": "code",
      "metadata": {
        "id": "F_ZdSAOJ2W6A",
        "outputId": "57e28030-8d0b-465f-be3e-541594092501",
        "colab": {
          "base_uri": "https://localhost:8080/",
          "height": 204
        }
      },
      "source": [
        "df_train.head()"
      ],
      "execution_count": null,
      "outputs": [
        {
          "output_type": "execute_result",
          "data": {
            "text/html": [
              "<div>\n",
              "<style scoped>\n",
              "    .dataframe tbody tr th:only-of-type {\n",
              "        vertical-align: middle;\n",
              "    }\n",
              "\n",
              "    .dataframe tbody tr th {\n",
              "        vertical-align: top;\n",
              "    }\n",
              "\n",
              "    .dataframe thead th {\n",
              "        text-align: right;\n",
              "    }\n",
              "</style>\n",
              "<table border=\"1\" class=\"dataframe\">\n",
              "  <thead>\n",
              "    <tr style=\"text-align: right;\">\n",
              "      <th></th>\n",
              "      <th>id</th>\n",
              "      <th>zip</th>\n",
              "      <th>bedrooms</th>\n",
              "      <th>bathrooms</th>\n",
              "      <th>garage</th>\n",
              "      <th>land</th>\n",
              "      <th>sqft</th>\n",
              "      <th>price</th>\n",
              "      <th>median_income</th>\n",
              "    </tr>\n",
              "  </thead>\n",
              "  <tbody>\n",
              "    <tr>\n",
              "      <th>0</th>\n",
              "      <td>1</td>\n",
              "      <td>60019</td>\n",
              "      <td>9</td>\n",
              "      <td>2</td>\n",
              "      <td>3</td>\n",
              "      <td>2.198</td>\n",
              "      <td>1.224399</td>\n",
              "      <td>1005580</td>\n",
              "      <td>-0.820375</td>\n",
              "    </tr>\n",
              "    <tr>\n",
              "      <th>1</th>\n",
              "      <td>2</td>\n",
              "      <td>60049</td>\n",
              "      <td>5</td>\n",
              "      <td>2</td>\n",
              "      <td>2</td>\n",
              "      <td>4.517</td>\n",
              "      <td>-0.059003</td>\n",
              "      <td>620278</td>\n",
              "      <td>0.095794</td>\n",
              "    </tr>\n",
              "    <tr>\n",
              "      <th>2</th>\n",
              "      <td>3</td>\n",
              "      <td>60011</td>\n",
              "      <td>2</td>\n",
              "      <td>1</td>\n",
              "      <td>0</td>\n",
              "      <td>4.120</td>\n",
              "      <td>-1.123130</td>\n",
              "      <td>265711</td>\n",
              "      <td>-0.117203</td>\n",
              "    </tr>\n",
              "    <tr>\n",
              "      <th>3</th>\n",
              "      <td>4</td>\n",
              "      <td>60027</td>\n",
              "      <td>6</td>\n",
              "      <td>4</td>\n",
              "      <td>2</td>\n",
              "      <td>3.201</td>\n",
              "      <td>0.547227</td>\n",
              "      <td>819916</td>\n",
              "      <td>1.599117</td>\n",
              "    </tr>\n",
              "    <tr>\n",
              "      <th>4</th>\n",
              "      <td>5</td>\n",
              "      <td>60001</td>\n",
              "      <td>9</td>\n",
              "      <td>3</td>\n",
              "      <td>2</td>\n",
              "      <td>1.347</td>\n",
              "      <td>1.354029</td>\n",
              "      <td>1039491</td>\n",
              "      <td>-0.163032</td>\n",
              "    </tr>\n",
              "  </tbody>\n",
              "</table>\n",
              "</div>"
            ],
            "text/plain": [
              "   id    zip  bedrooms  bathrooms  ...   land      sqft    price  median_income\n",
              "0   1  60019         9          2  ...  2.198  1.224399  1005580      -0.820375\n",
              "1   2  60049         5          2  ...  4.517 -0.059003   620278       0.095794\n",
              "2   3  60011         2          1  ...  4.120 -1.123130   265711      -0.117203\n",
              "3   4  60027         6          4  ...  3.201  0.547227   819916       1.599117\n",
              "4   5  60001         9          3  ...  1.347  1.354029  1039491      -0.163032\n",
              "\n",
              "[5 rows x 9 columns]"
            ]
          },
          "metadata": {
            "tags": []
          },
          "execution_count": 13
        }
      ]
    },
    {
      "cell_type": "code",
      "metadata": {
        "id": "VjNc-Ro246Yw"
      },
      "source": [
        "# convert to numpy\n",
        "x_columns = df_train.columns.drop(['id','zip', 'price'])"
      ],
      "execution_count": null,
      "outputs": []
    },
    {
      "cell_type": "code",
      "metadata": {
        "id": "kVUri6RW5DqQ"
      },
      "source": [
        "x_columns\n",
        "x = df_train[x_columns].values\n",
        "y = df_train['price'].values"
      ],
      "execution_count": null,
      "outputs": []
    },
    {
      "cell_type": "code",
      "metadata": {
        "id": "WETAamix6Je0",
        "outputId": "d30079dc-1cb1-4c22-93a8-9b1af1adc0fb",
        "colab": {
          "base_uri": "https://localhost:8080/",
          "height": 136
        }
      },
      "source": [
        "print(x, y)"
      ],
      "execution_count": null,
      "outputs": [
        {
          "output_type": "stream",
          "text": [
            "[[ 9.          2.          3.          2.198       1.22439894 -0.82037489]\n",
            " [ 5.          2.          2.          4.517      -0.05900261  0.09579356]\n",
            " [ 2.          1.          0.          4.12       -1.12312953 -0.11720343]\n",
            " ...\n",
            " [ 7.          2.          2.          2.011       0.63364727 -0.65511305]\n",
            " [ 9.          7.          3.          1.768       1.88286778 -0.71704911]\n",
            " [ 4.          1.          1.          2.377      -0.49045771 -1.52139269]] [1005580  620278  265711 ...  813447 1208882  446179]\n"
          ],
          "name": "stdout"
        }
      ]
    },
    {
      "cell_type": "markdown",
      "metadata": {
        "id": "KDhLF0uN7A-D"
      },
      "source": [
        "### Create Model "
      ]
    },
    {
      "cell_type": "code",
      "metadata": {
        "id": "VkRqHWHnBDle"
      },
      "source": [
        "# create a folder to save the mode \n",
        "save_dir = \"model_checkpoints\"\n",
        "!mkdir $save_dir"
      ],
      "execution_count": null,
      "outputs": []
    },
    {
      "cell_type": "code",
      "metadata": {
        "id": "6TKUtM-mAgxr"
      },
      "source": [
        "def create_model(input_dim, output_dim = 1):\n",
        "    # Build the model\n",
        "    model = Sequential()\n",
        "    model.add(Dense(100, input_dim = input_dim, activation='relu', kernel_initializer='random_normal'))   # Hidden 1\n",
        "    #model.add(Dropout(0.5))\n",
        "    model.add(Dense(50, activation='relu', kernel_initializer = 'random_normal' ))                               # Hidden 2\n",
        "    #model.add(Dropout(0.5))\n",
        "    model.add(Dense(25, activation='relu', kernel_initializer= 'random_normal'))                                # Hidden 3\n",
        "    model.add(Dense(output_dim))\n",
        "\n",
        "    model.compile(loss = 'mean_squared_error', optimizer='adam')\n",
        "    return model\n"
      ],
      "execution_count": null,
      "outputs": []
    },
    {
      "cell_type": "code",
      "metadata": {
        "id": "chGBavaR7DET",
        "outputId": "be1c17e7-cf84-4672-dcf9-110b59cf8675",
        "colab": {
          "base_uri": "https://localhost:8080/",
          "height": 442
        }
      },
      "source": [
        "# Use K Fold Classification \n",
        "kf = KFold(5 , shuffle=True, random_state=42)\n",
        "\n",
        "# out of sample list (oos)\n",
        "oos_y = []\n",
        "oos_pred = []\n",
        "\n",
        "fold = 0 \n",
        "\n",
        "for train, test in kf.split(x):\n",
        "    fold += 1\n",
        "    print(f\"Fold #{fold}\")\n",
        "    x_train = x[train]\n",
        "    y_train = y[train]\n",
        "    x_test = x[test]\n",
        "    y_test = y[test]\n",
        "\n",
        "\n",
        "    # Build Model \n",
        "    model = create_model(x_train.shape[1])\n",
        "\n",
        "    monitor = EarlyStopping(monitor='val_loss', min_delta = 1e-3, \n",
        "                            patience=5, verbose = 1, mode = 'auto', \n",
        "                            restore_best_weights=True)\n",
        "    \n",
        "    # save model CheckPoints \n",
        "    checkpoint = ModelCheckpoint(\n",
        "        f\"{save_dir}/{str(fold)}/\",\n",
        "        save_weights_only = True,\n",
        "        monitor =\"val_loss\",\n",
        "        verbose =0,\n",
        "        save_best_only =True,\n",
        "        mode = 'min'\n",
        "    )\n",
        "    \n",
        "    model.fit(x_train, y_train, validation_data=(x_test, y_test), \\\n",
        "              verbose =0, callbacks = [monitor, checkpoint], epochs= 1000 )\n",
        "    # Predict Root Mean Square Error \n",
        "    pred = model.predict(x_test)\n",
        "\n",
        "    oos_y.append(y_test)\n",
        "    oos_pred.append(pred)\n",
        "\n",
        "    # Measure MSE error\n",
        "    score = metrics.mean_squared_error(y_test, pred)\n",
        "    rscore = np.sqrt(score)\n",
        "    print(\"Fold Score (MSE) : {}\".format(score))\n",
        "    print(f\"Fold Score (RMSE): {rscore}\")\n"
      ],
      "execution_count": null,
      "outputs": [
        {
          "output_type": "stream",
          "text": [
            "Fold #1\n",
            "Restoring model weights from the end of the best epoch.\n",
            "Epoch 00052: early stopping\n",
            "Fold Score (MSE) : 23795437.651808105\n",
            "Fold Score (RMSE): 4878.0567495477235\n",
            "Fold #2\n",
            "Restoring model weights from the end of the best epoch.\n",
            "Epoch 00043: early stopping\n",
            "Fold Score (MSE) : 24417560.216883942\n",
            "Fold Score (RMSE): 4941.412775399758\n",
            "Fold #3\n",
            "Restoring model weights from the end of the best epoch.\n",
            "Epoch 00048: early stopping\n",
            "Fold Score (MSE) : 24285554.71957126\n",
            "Fold Score (RMSE): 4928.037613449319\n",
            "Fold #4\n",
            "Restoring model weights from the end of the best epoch.\n",
            "Epoch 00068: early stopping\n",
            "Fold Score (MSE) : 22712087.881425537\n",
            "Fold Score (RMSE): 4765.720080053542\n",
            "Fold #5\n",
            "Restoring model weights from the end of the best epoch.\n",
            "Epoch 00045: early stopping\n",
            "Fold Score (MSE) : 23859105.285986327\n",
            "Fold Score (RMSE): 4884.57831199238\n"
          ],
          "name": "stdout"
        }
      ]
    },
    {
      "cell_type": "code",
      "metadata": {
        "id": "YaAppqo9CYbU",
        "outputId": "bda2d92c-751f-45e5-c175-2a047e7dc5a8",
        "colab": {
          "base_uri": "https://localhost:8080/",
          "height": 34
        }
      },
      "source": [
        "# Build the oos prediction list and calculate the error.\n",
        "oos_y = np.concatenate(oos_y)\n",
        "oos_pred = np.concatenate(oos_pred)\n",
        "score = np.sqrt(metrics.mean_squared_error(oos_pred, oos_y))\n",
        "print(f\"Final out of sample score (RMSE): {score}\")\n",
        "\n",
        "# write cross validation predcition\n"
      ],
      "execution_count": null,
      "outputs": [
        {
          "output_type": "stream",
          "text": [
            "Final out of sample score (RMSE): 4878.6087667627735\n"
          ],
          "name": "stdout"
        }
      ]
    },
    {
      "cell_type": "markdown",
      "metadata": {
        "id": "NKCVh_B_AkXX"
      },
      "source": [
        "### File for Submission "
      ]
    },
    {
      "cell_type": "code",
      "metadata": {
        "id": "StoDX2CwbMvZ"
      },
      "source": [
        "# File to submit \n",
        "df_final = df_submit.copy()"
      ],
      "execution_count": null,
      "outputs": []
    },
    {
      "cell_type": "code",
      "metadata": {
        "id": "XTDU6Qs6FjKm",
        "outputId": "421dda1d-5f7e-4c10-e885-35e27a2d133e",
        "colab": {
          "base_uri": "https://localhost:8080/",
          "height": 111
        }
      },
      "source": [
        "df_submit.head(2)"
      ],
      "execution_count": null,
      "outputs": [
        {
          "output_type": "execute_result",
          "data": {
            "text/html": [
              "<div>\n",
              "<style scoped>\n",
              "    .dataframe tbody tr th:only-of-type {\n",
              "        vertical-align: middle;\n",
              "    }\n",
              "\n",
              "    .dataframe tbody tr th {\n",
              "        vertical-align: top;\n",
              "    }\n",
              "\n",
              "    .dataframe thead th {\n",
              "        text-align: right;\n",
              "    }\n",
              "</style>\n",
              "<table border=\"1\" class=\"dataframe\">\n",
              "  <thead>\n",
              "    <tr style=\"text-align: right;\">\n",
              "      <th></th>\n",
              "      <th>id</th>\n",
              "      <th>zip</th>\n",
              "      <th>bedrooms</th>\n",
              "      <th>bathrooms</th>\n",
              "      <th>garage</th>\n",
              "      <th>land</th>\n",
              "      <th>sqft</th>\n",
              "      <th>median_income</th>\n",
              "    </tr>\n",
              "  </thead>\n",
              "  <tbody>\n",
              "    <tr>\n",
              "      <th>0</th>\n",
              "      <td>10001</td>\n",
              "      <td>60027</td>\n",
              "      <td>8</td>\n",
              "      <td>6</td>\n",
              "      <td>2</td>\n",
              "      <td>2.901</td>\n",
              "      <td>1.425010</td>\n",
              "      <td>1.607912</td>\n",
              "    </tr>\n",
              "    <tr>\n",
              "      <th>1</th>\n",
              "      <td>10002</td>\n",
              "      <td>60026</td>\n",
              "      <td>7</td>\n",
              "      <td>2</td>\n",
              "      <td>2</td>\n",
              "      <td>2.455</td>\n",
              "      <td>0.597736</td>\n",
              "      <td>-0.783911</td>\n",
              "    </tr>\n",
              "  </tbody>\n",
              "</table>\n",
              "</div>"
            ],
            "text/plain": [
              "      id    zip  bedrooms  bathrooms  garage   land      sqft  median_income\n",
              "0  10001  60027         8          6       2  2.901  1.425010       1.607912\n",
              "1  10002  60026         7          2       2  2.455  0.597736      -0.783911"
            ]
          },
          "metadata": {
            "tags": []
          },
          "execution_count": 29
        }
      ]
    },
    {
      "cell_type": "code",
      "metadata": {
        "id": "_qVjTbu1ZfPT"
      },
      "source": [
        "x_submit = df_submit[x_columns].values"
      ],
      "execution_count": null,
      "outputs": []
    },
    {
      "cell_type": "code",
      "metadata": {
        "id": "9M60rO6zFrgN",
        "outputId": "b5b8e2cb-df7c-4bfb-b02c-69cca8519bdb",
        "colab": {
          "base_uri": "https://localhost:8080/",
          "height": 34
        }
      },
      "source": [
        "x_columns"
      ],
      "execution_count": null,
      "outputs": [
        {
          "output_type": "execute_result",
          "data": {
            "text/plain": [
              "Index(['bedrooms', 'bathrooms', 'garage', 'land', 'sqft', 'median_income'], dtype='object')"
            ]
          },
          "metadata": {
            "tags": []
          },
          "execution_count": 30
        }
      ]
    },
    {
      "cell_type": "code",
      "metadata": {
        "id": "I7CpO593aBJ8",
        "outputId": "9c1f32c9-d3a6-4821-d6ad-58d2d9a0560c",
        "colab": {
          "base_uri": "https://localhost:8080/",
          "height": 34
        }
      },
      "source": [
        "x_submit.shape"
      ],
      "execution_count": null,
      "outputs": [
        {
          "output_type": "execute_result",
          "data": {
            "text/plain": [
              "(2000, 6)"
            ]
          },
          "metadata": {
            "tags": []
          },
          "execution_count": 27
        }
      ]
    },
    {
      "cell_type": "code",
      "metadata": {
        "id": "cLi2EvblFaDZ",
        "outputId": "5cd244b1-123f-43e4-833e-e8cdfac38472",
        "colab": {
          "base_uri": "https://localhost:8080/",
          "height": 85
        }
      },
      "source": [
        "x_submit[0:2]"
      ],
      "execution_count": null,
      "outputs": [
        {
          "output_type": "execute_result",
          "data": {
            "text/plain": [
              "array([[ 8.        ,  6.        ,  2.        ,  2.901     ,  1.42501015,\n",
              "         1.60791168],\n",
              "       [ 7.        ,  2.        ,  2.        ,  2.455     ,  0.59773596,\n",
              "        -0.78391149]])"
            ]
          },
          "metadata": {
            "tags": []
          },
          "execution_count": 28
        }
      ]
    },
    {
      "cell_type": "code",
      "metadata": {
        "id": "ICSndECwF8d9"
      },
      "source": [
        "# Read the weights from the saved model\n",
        "fold = 0\n",
        "model = create_model(x_submit.shape[1])\n",
        "\n",
        "for fold in range(1, 6):\n",
        "    fold_str =str(fold)\n",
        "    model.load_weights(f\"{save_dir}/{fold_str}/\")\n",
        "    df_final[f\"pred_{fold_str}\"] = model.predict(x_submit)"
      ],
      "execution_count": null,
      "outputs": []
    },
    {
      "cell_type": "code",
      "metadata": {
        "id": "1ltqzsocDmKJ",
        "outputId": "4bd1a66c-67d9-456b-e599-5a292194d08b",
        "colab": {
          "base_uri": "https://localhost:8080/",
          "height": 111
        }
      },
      "source": [
        "df_final.head(2)"
      ],
      "execution_count": null,
      "outputs": [
        {
          "output_type": "execute_result",
          "data": {
            "text/html": [
              "<div>\n",
              "<style scoped>\n",
              "    .dataframe tbody tr th:only-of-type {\n",
              "        vertical-align: middle;\n",
              "    }\n",
              "\n",
              "    .dataframe tbody tr th {\n",
              "        vertical-align: top;\n",
              "    }\n",
              "\n",
              "    .dataframe thead th {\n",
              "        text-align: right;\n",
              "    }\n",
              "</style>\n",
              "<table border=\"1\" class=\"dataframe\">\n",
              "  <thead>\n",
              "    <tr style=\"text-align: right;\">\n",
              "      <th></th>\n",
              "      <th>id</th>\n",
              "      <th>zip</th>\n",
              "      <th>bedrooms</th>\n",
              "      <th>bathrooms</th>\n",
              "      <th>garage</th>\n",
              "      <th>land</th>\n",
              "      <th>sqft</th>\n",
              "      <th>median_income</th>\n",
              "      <th>pred_1</th>\n",
              "      <th>pred_2</th>\n",
              "      <th>pred_3</th>\n",
              "      <th>pred_4</th>\n",
              "      <th>pred_5</th>\n",
              "    </tr>\n",
              "  </thead>\n",
              "  <tbody>\n",
              "    <tr>\n",
              "      <th>0</th>\n",
              "      <td>10001</td>\n",
              "      <td>60027</td>\n",
              "      <td>8</td>\n",
              "      <td>6</td>\n",
              "      <td>2</td>\n",
              "      <td>2.901</td>\n",
              "      <td>1.425010</td>\n",
              "      <td>1.607912</td>\n",
              "      <td>1.096276e+06</td>\n",
              "      <td>1096121.125</td>\n",
              "      <td>1096746.125</td>\n",
              "      <td>1.096356e+06</td>\n",
              "      <td>1096251.875</td>\n",
              "    </tr>\n",
              "    <tr>\n",
              "      <th>1</th>\n",
              "      <td>10002</td>\n",
              "      <td>60026</td>\n",
              "      <td>7</td>\n",
              "      <td>2</td>\n",
              "      <td>2</td>\n",
              "      <td>2.455</td>\n",
              "      <td>0.597736</td>\n",
              "      <td>-0.783911</td>\n",
              "      <td>8.053898e+05</td>\n",
              "      <td>805895.500</td>\n",
              "      <td>805652.875</td>\n",
              "      <td>8.056452e+05</td>\n",
              "      <td>805296.875</td>\n",
              "    </tr>\n",
              "  </tbody>\n",
              "</table>\n",
              "</div>"
            ],
            "text/plain": [
              "      id    zip  bedrooms  ...       pred_3        pred_4       pred_5\n",
              "0  10001  60027         8  ...  1096746.125  1.096356e+06  1096251.875\n",
              "1  10002  60026         7  ...   805652.875  8.056452e+05   805296.875\n",
              "\n",
              "[2 rows x 13 columns]"
            ]
          },
          "metadata": {
            "tags": []
          },
          "execution_count": 34
        }
      ]
    },
    {
      "cell_type": "code",
      "metadata": {
        "id": "iNpQVk0eITJi"
      },
      "source": [
        "preds = []\n",
        "\n",
        "for fold in range (1, 6):\n",
        "    preds.append(df_final[f\"pred_{str(fold)}\"])\n",
        "\n",
        "df_final['price'] = pd.concat(preds, axis = 1).mean(axis=1).astype(int)"
      ],
      "execution_count": null,
      "outputs": []
    },
    {
      "cell_type": "code",
      "metadata": {
        "id": "DDvqEciXMS3B",
        "outputId": "2e7abae4-ab6e-4568-d36f-d585aa677d68",
        "colab": {
          "base_uri": "https://localhost:8080/",
          "height": 111
        }
      },
      "source": [
        "df_final.head(2)"
      ],
      "execution_count": null,
      "outputs": [
        {
          "output_type": "execute_result",
          "data": {
            "text/html": [
              "<div>\n",
              "<style scoped>\n",
              "    .dataframe tbody tr th:only-of-type {\n",
              "        vertical-align: middle;\n",
              "    }\n",
              "\n",
              "    .dataframe tbody tr th {\n",
              "        vertical-align: top;\n",
              "    }\n",
              "\n",
              "    .dataframe thead th {\n",
              "        text-align: right;\n",
              "    }\n",
              "</style>\n",
              "<table border=\"1\" class=\"dataframe\">\n",
              "  <thead>\n",
              "    <tr style=\"text-align: right;\">\n",
              "      <th></th>\n",
              "      <th>id</th>\n",
              "      <th>zip</th>\n",
              "      <th>bedrooms</th>\n",
              "      <th>bathrooms</th>\n",
              "      <th>garage</th>\n",
              "      <th>land</th>\n",
              "      <th>sqft</th>\n",
              "      <th>median_income</th>\n",
              "      <th>pred_1</th>\n",
              "      <th>pred_2</th>\n",
              "      <th>pred_3</th>\n",
              "      <th>pred_4</th>\n",
              "      <th>pred_5</th>\n",
              "      <th>price</th>\n",
              "    </tr>\n",
              "  </thead>\n",
              "  <tbody>\n",
              "    <tr>\n",
              "      <th>0</th>\n",
              "      <td>10001</td>\n",
              "      <td>60027</td>\n",
              "      <td>8</td>\n",
              "      <td>6</td>\n",
              "      <td>2</td>\n",
              "      <td>2.901</td>\n",
              "      <td>1.425010</td>\n",
              "      <td>1.607912</td>\n",
              "      <td>1.096276e+06</td>\n",
              "      <td>1096121.125</td>\n",
              "      <td>1096746.125</td>\n",
              "      <td>1.096356e+06</td>\n",
              "      <td>1096251.875</td>\n",
              "      <td>1096350</td>\n",
              "    </tr>\n",
              "    <tr>\n",
              "      <th>1</th>\n",
              "      <td>10002</td>\n",
              "      <td>60026</td>\n",
              "      <td>7</td>\n",
              "      <td>2</td>\n",
              "      <td>2</td>\n",
              "      <td>2.455</td>\n",
              "      <td>0.597736</td>\n",
              "      <td>-0.783911</td>\n",
              "      <td>8.053898e+05</td>\n",
              "      <td>805895.500</td>\n",
              "      <td>805652.875</td>\n",
              "      <td>8.056452e+05</td>\n",
              "      <td>805296.875</td>\n",
              "      <td>805576</td>\n",
              "    </tr>\n",
              "  </tbody>\n",
              "</table>\n",
              "</div>"
            ],
            "text/plain": [
              "      id    zip  bedrooms  ...        pred_4       pred_5    price\n",
              "0  10001  60027         8  ...  1.096356e+06  1096251.875  1096350\n",
              "1  10002  60026         7  ...  8.056452e+05   805296.875   805576\n",
              "\n",
              "[2 rows x 14 columns]"
            ]
          },
          "metadata": {
            "tags": []
          },
          "execution_count": 38
        }
      ]
    },
    {
      "cell_type": "code",
      "metadata": {
        "id": "PExciQFHMa0_"
      },
      "source": [
        "df_kaggle = df_final[['id', 'price']]"
      ],
      "execution_count": null,
      "outputs": []
    },
    {
      "cell_type": "code",
      "metadata": {
        "id": "mhSGJHD-MihR",
        "outputId": "b63bc2c3-78eb-46c8-f357-a9783cb83ea9",
        "colab": {
          "base_uri": "https://localhost:8080/",
          "height": 419
        }
      },
      "source": [
        "df_kaggle"
      ],
      "execution_count": null,
      "outputs": [
        {
          "output_type": "execute_result",
          "data": {
            "text/html": [
              "<div>\n",
              "<style scoped>\n",
              "    .dataframe tbody tr th:only-of-type {\n",
              "        vertical-align: middle;\n",
              "    }\n",
              "\n",
              "    .dataframe tbody tr th {\n",
              "        vertical-align: top;\n",
              "    }\n",
              "\n",
              "    .dataframe thead th {\n",
              "        text-align: right;\n",
              "    }\n",
              "</style>\n",
              "<table border=\"1\" class=\"dataframe\">\n",
              "  <thead>\n",
              "    <tr style=\"text-align: right;\">\n",
              "      <th></th>\n",
              "      <th>id</th>\n",
              "      <th>price</th>\n",
              "    </tr>\n",
              "  </thead>\n",
              "  <tbody>\n",
              "    <tr>\n",
              "      <th>0</th>\n",
              "      <td>10001</td>\n",
              "      <td>1096350</td>\n",
              "    </tr>\n",
              "    <tr>\n",
              "      <th>1</th>\n",
              "      <td>10002</td>\n",
              "      <td>805576</td>\n",
              "    </tr>\n",
              "    <tr>\n",
              "      <th>2</th>\n",
              "      <td>10003</td>\n",
              "      <td>288309</td>\n",
              "    </tr>\n",
              "    <tr>\n",
              "      <th>3</th>\n",
              "      <td>10004</td>\n",
              "      <td>236756</td>\n",
              "    </tr>\n",
              "    <tr>\n",
              "      <th>4</th>\n",
              "      <td>10005</td>\n",
              "      <td>360988</td>\n",
              "    </tr>\n",
              "    <tr>\n",
              "      <th>...</th>\n",
              "      <td>...</td>\n",
              "      <td>...</td>\n",
              "    </tr>\n",
              "    <tr>\n",
              "      <th>1995</th>\n",
              "      <td>11996</td>\n",
              "      <td>265756</td>\n",
              "    </tr>\n",
              "    <tr>\n",
              "      <th>1996</th>\n",
              "      <td>11997</td>\n",
              "      <td>1154614</td>\n",
              "    </tr>\n",
              "    <tr>\n",
              "      <th>1997</th>\n",
              "      <td>11998</td>\n",
              "      <td>1098463</td>\n",
              "    </tr>\n",
              "    <tr>\n",
              "      <th>1998</th>\n",
              "      <td>11999</td>\n",
              "      <td>503582</td>\n",
              "    </tr>\n",
              "    <tr>\n",
              "      <th>1999</th>\n",
              "      <td>12000</td>\n",
              "      <td>1120093</td>\n",
              "    </tr>\n",
              "  </tbody>\n",
              "</table>\n",
              "<p>2000 rows × 2 columns</p>\n",
              "</div>"
            ],
            "text/plain": [
              "         id    price\n",
              "0     10001  1096350\n",
              "1     10002   805576\n",
              "2     10003   288309\n",
              "3     10004   236756\n",
              "4     10005   360988\n",
              "...     ...      ...\n",
              "1995  11996   265756\n",
              "1996  11997  1154614\n",
              "1997  11998  1098463\n",
              "1998  11999   503582\n",
              "1999  12000  1120093\n",
              "\n",
              "[2000 rows x 2 columns]"
            ]
          },
          "metadata": {
            "tags": []
          },
          "execution_count": 40
        }
      ]
    },
    {
      "cell_type": "code",
      "metadata": {
        "id": "32he3M_GIwIn",
        "outputId": "36508f2c-e3c5-490d-8e63-11e3918287fe",
        "colab": {
          "base_uri": "https://localhost:8080/",
          "height": 969
        }
      },
      "source": [
        "preds"
      ],
      "execution_count": null,
      "outputs": [
        {
          "output_type": "execute_result",
          "data": {
            "text/plain": [
              "[0       1.096276e+06\n",
              " 1       8.053898e+05\n",
              " 2       2.885076e+05\n",
              " 3       2.370235e+05\n",
              " 4       3.609449e+05\n",
              "             ...     \n",
              " 1995    2.658992e+05\n",
              " 1996    1.154326e+06\n",
              " 1997    1.098365e+06\n",
              " 1998    5.034201e+05\n",
              " 1999    1.120024e+06\n",
              " Name: pred_1, Length: 2000, dtype: float32, 0       1.096121e+06\n",
              " 1       8.058955e+05\n",
              " 2       2.878933e+05\n",
              " 3       2.367739e+05\n",
              " 4       3.613138e+05\n",
              "             ...     \n",
              " 1995    2.655965e+05\n",
              " 1996    1.154898e+06\n",
              " 1997    1.098476e+06\n",
              " 1998    5.039302e+05\n",
              " 1999    1.119818e+06\n",
              " Name: pred_2, Length: 2000, dtype: float32, 0       1.096746e+06\n",
              " 1       8.056529e+05\n",
              " 2       2.884523e+05\n",
              " 3       2.366063e+05\n",
              " 4       3.609432e+05\n",
              "             ...     \n",
              " 1995    2.657881e+05\n",
              " 1996    1.154937e+06\n",
              " 1997    1.098624e+06\n",
              " 1998    5.037107e+05\n",
              " 1999    1.120544e+06\n",
              " Name: pred_3, Length: 2000, dtype: float32, 0       1.096356e+06\n",
              " 1       8.056452e+05\n",
              " 2       2.888354e+05\n",
              " 3       2.367532e+05\n",
              " 4       3.610814e+05\n",
              "             ...     \n",
              " 1995    2.661578e+05\n",
              " 1996    1.154408e+06\n",
              " 1997    1.098210e+06\n",
              " 1998    5.037364e+05\n",
              " 1999    1.120226e+06\n",
              " Name: pred_4, Length: 2000, dtype: float32, 0       1.096252e+06\n",
              " 1       8.052969e+05\n",
              " 2       2.878608e+05\n",
              " 3       2.366237e+05\n",
              " 4       3.606568e+05\n",
              "             ...     \n",
              " 1995    2.653389e+05\n",
              " 1996    1.154503e+06\n",
              " 1997    1.098642e+06\n",
              " 1998    5.031167e+05\n",
              " 1999    1.119854e+06\n",
              " Name: pred_5, Length: 2000, dtype: float32]"
            ]
          },
          "metadata": {
            "tags": []
          },
          "execution_count": 36
        }
      ]
    },
    {
      "cell_type": "code",
      "metadata": {
        "id": "7vL89-qhaKw6",
        "outputId": "6390384d-a11b-4bb5-caba-5be79caef44b",
        "colab": {
          "base_uri": "https://localhost:8080/",
          "height": 136
        }
      },
      "source": [
        "#pred_submit"
      ],
      "execution_count": null,
      "outputs": [
        {
          "output_type": "execute_result",
          "data": {
            "text/plain": [
              "array([[1096338.8 ],\n",
              "       [ 805577.94],\n",
              "       [ 288515.38],\n",
              "       ...,\n",
              "       [1098197.8 ],\n",
              "       [ 503683.06],\n",
              "       [1120096.1 ]], dtype=float32)"
            ]
          },
          "metadata": {
            "tags": []
          },
          "execution_count": 25
        }
      ]
    },
    {
      "cell_type": "code",
      "metadata": {
        "id": "Q14KvIlyhJzW"
      },
      "source": [
        "#df_final['price'] = pd.DataFrame(pred_submit).astype(int)"
      ],
      "execution_count": null,
      "outputs": []
    },
    {
      "cell_type": "code",
      "metadata": {
        "id": "vC5AFyARHxyD",
        "outputId": "fe4c76ec-bae7-4f56-b6ba-5ced68e98f78",
        "colab": {
          "base_uri": "https://localhost:8080/",
          "height": 419
        }
      },
      "source": [
        "#df_final.drop(['zip', 'bedrooms', 'bathrooms', 'garage', 'land', 'sqft',  'median_income'], axis=1)"
      ],
      "execution_count": null,
      "outputs": [
        {
          "output_type": "execute_result",
          "data": {
            "text/html": [
              "<div>\n",
              "<style scoped>\n",
              "    .dataframe tbody tr th:only-of-type {\n",
              "        vertical-align: middle;\n",
              "    }\n",
              "\n",
              "    .dataframe tbody tr th {\n",
              "        vertical-align: top;\n",
              "    }\n",
              "\n",
              "    .dataframe thead th {\n",
              "        text-align: right;\n",
              "    }\n",
              "</style>\n",
              "<table border=\"1\" class=\"dataframe\">\n",
              "  <thead>\n",
              "    <tr style=\"text-align: right;\">\n",
              "      <th></th>\n",
              "      <th>id</th>\n",
              "      <th>price</th>\n",
              "    </tr>\n",
              "  </thead>\n",
              "  <tbody>\n",
              "    <tr>\n",
              "      <th>0</th>\n",
              "      <td>10001</td>\n",
              "      <td>1096338</td>\n",
              "    </tr>\n",
              "    <tr>\n",
              "      <th>1</th>\n",
              "      <td>10002</td>\n",
              "      <td>805577</td>\n",
              "    </tr>\n",
              "    <tr>\n",
              "      <th>2</th>\n",
              "      <td>10003</td>\n",
              "      <td>288515</td>\n",
              "    </tr>\n",
              "    <tr>\n",
              "      <th>3</th>\n",
              "      <td>10004</td>\n",
              "      <td>236831</td>\n",
              "    </tr>\n",
              "    <tr>\n",
              "      <th>4</th>\n",
              "      <td>10005</td>\n",
              "      <td>360995</td>\n",
              "    </tr>\n",
              "    <tr>\n",
              "      <th>...</th>\n",
              "      <td>...</td>\n",
              "      <td>...</td>\n",
              "    </tr>\n",
              "    <tr>\n",
              "      <th>1995</th>\n",
              "      <td>11996</td>\n",
              "      <td>265977</td>\n",
              "    </tr>\n",
              "    <tr>\n",
              "      <th>1996</th>\n",
              "      <td>11997</td>\n",
              "      <td>1154405</td>\n",
              "    </tr>\n",
              "    <tr>\n",
              "      <th>1997</th>\n",
              "      <td>11998</td>\n",
              "      <td>1098197</td>\n",
              "    </tr>\n",
              "    <tr>\n",
              "      <th>1998</th>\n",
              "      <td>11999</td>\n",
              "      <td>503683</td>\n",
              "    </tr>\n",
              "    <tr>\n",
              "      <th>1999</th>\n",
              "      <td>12000</td>\n",
              "      <td>1120096</td>\n",
              "    </tr>\n",
              "  </tbody>\n",
              "</table>\n",
              "<p>2000 rows × 2 columns</p>\n",
              "</div>"
            ],
            "text/plain": [
              "         id    price\n",
              "0     10001  1096338\n",
              "1     10002   805577\n",
              "2     10003   288515\n",
              "3     10004   236831\n",
              "4     10005   360995\n",
              "...     ...      ...\n",
              "1995  11996   265977\n",
              "1996  11997  1154405\n",
              "1997  11998  1098197\n",
              "1998  11999   503683\n",
              "1999  12000  1120096\n",
              "\n",
              "[2000 rows x 2 columns]"
            ]
          },
          "metadata": {
            "tags": []
          },
          "execution_count": 30
        }
      ]
    }
  ]
}