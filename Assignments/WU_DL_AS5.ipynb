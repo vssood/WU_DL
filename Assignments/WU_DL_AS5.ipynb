{
  "nbformat": 4,
  "nbformat_minor": 0,
  "metadata": {
    "colab": {
      "name": "WU_DL_AS5.ipynb",
      "provenance": [],
      "collapsed_sections": [],
      "authorship_tag": "ABX9TyM8OCZkVIfWYRyuZNfKkr97",
      "include_colab_link": true
    },
    "kernelspec": {
      "name": "python3",
      "display_name": "Python 3"
    }
  },
  "cells": [
    {
      "cell_type": "markdown",
      "metadata": {
        "id": "view-in-github",
        "colab_type": "text"
      },
      "source": [
        "<a href=\"https://colab.research.google.com/github/vssood/WU_DL/blob/master/Assignments/WU_DL_AS5.ipynb\" target=\"_parent\"><img src=\"https://colab.research.google.com/assets/colab-badge.svg\" alt=\"Open In Colab\"/></a>"
      ]
    },
    {
      "cell_type": "markdown",
      "metadata": {
        "id": "DOg5_UrRor4j"
      },
      "source": [
        "# Assignment 5\n",
        "### Problem Statement\n",
        "\n",
        "The median income by zipcode provides an additional feature, median income, that you should use in your predictions. To complete this assignment perform the following steps:\n",
        "\n",
        "1. Load the housing prices training data.\n",
        "\n",
        "2. Join the median income by zipcode to the training data so that you gain the median income.\n",
        "\n",
        "3. Train a model to predict house price when given the following inputs: 'bedrooms', 'bathrooms', 'garage', 'land', 'sqft', 'median_income'.\n",
        "Load the housing prices test data. This data does not contain the house price, you must predict this.\n",
        "\n",
        "4. Join the median income by zipcode to the test/submit data to gain the median income.\n",
        "\n",
        "5. Predict prices for the test/submit data.\n",
        "\n",
        "6. Create a submission dataset that contains the house id (from the test/submit data) and the predicted price for that house. Include no other fields.\n",
        "Submit this dataset and see how close you are to the actual values.\n",
        "\n",
        "https://github.com/jeffheaton/t81_558_deep_learning/blob/df29ce2413c1ef32acaf99764c54b1b529cd8779/assignments/assignment_yourname_class5.ipynb\n"
      ]
    },
    {
      "cell_type": "code",
      "metadata": {
        "id": "exOn3ZTwxX5-"
      },
      "source": [
        "import pandas as pd\n",
        "import numpy as np\n",
        "\n",
        "from sklearn.model_selection import train_test_split\n",
        "from sklearn import metrics\n",
        "\n",
        "from scipy.stats import zscore \n",
        "\n",
        "from tensorflow.keras.models import Sequential\n",
        "from tensorflow.keras.layers import Dense, Activation, Dropout\n",
        "from tensorflow.keras.callbacks import EarlyStopping, ModelCheckpoint"
      ],
      "execution_count": null,
      "outputs": []
    },
    {
      "cell_type": "markdown",
      "metadata": {
        "id": "RzT9hIDC1buV"
      },
      "source": [
        "## Read, validate, join & Scrub data "
      ]
    },
    {
      "cell_type": "code",
      "metadata": {
        "id": "tOOESWPSzQKC"
      },
      "source": [
        "train_path = \"https://data.heatonresearch.com/data/t81-558/datasets/houses_train.csv\"\n",
        "test_path = \"https://data.heatonresearch.com/data/t81-558/datasets/houses_test.csv\"\n",
        "zip_path = \"https://data.heatonresearch.com/data/t81-558/datasets/zips.csv\"\n"
      ],
      "execution_count": null,
      "outputs": []
    },
    {
      "cell_type": "code",
      "metadata": {
        "id": "sfIgRYPezbFY"
      },
      "source": [
        "df_train = pd.read_csv(train_path, na_values=[\"NA\", \"?\"])\n",
        "df_test = pd.read_csv(test_path, na_values= [\"NA\", \"?\"])\n",
        "df_zip = pd.read_csv(zip_path, na_values=[\"NA\", \"?\"])"
      ],
      "execution_count": null,
      "outputs": []
    },
    {
      "cell_type": "code",
      "metadata": {
        "id": "zpIhtIOf0-ey",
        "outputId": "e0900967-4da6-46c2-be49-5236d355f2a8",
        "colab": {
          "base_uri": "https://localhost:8080/",
          "height": 34
        }
      },
      "source": [
        "print(df_train.shape, df_test.shape, df_zip.shape)"
      ],
      "execution_count": null,
      "outputs": [
        {
          "output_type": "stream",
          "text": [
            "(10000, 8) (2000, 7) (50, 2)\n"
          ],
          "name": "stdout"
        }
      ]
    },
    {
      "cell_type": "code",
      "metadata": {
        "id": "weI3-6-mz6Pe",
        "outputId": "4fbc9716-b6a4-4103-f7c5-7c9ddc342033",
        "colab": {
          "base_uri": "https://localhost:8080/",
          "height": 204
        }
      },
      "source": [
        "df_train.head()"
      ],
      "execution_count": null,
      "outputs": [
        {
          "output_type": "execute_result",
          "data": {
            "text/html": [
              "<div>\n",
              "<style scoped>\n",
              "    .dataframe tbody tr th:only-of-type {\n",
              "        vertical-align: middle;\n",
              "    }\n",
              "\n",
              "    .dataframe tbody tr th {\n",
              "        vertical-align: top;\n",
              "    }\n",
              "\n",
              "    .dataframe thead th {\n",
              "        text-align: right;\n",
              "    }\n",
              "</style>\n",
              "<table border=\"1\" class=\"dataframe\">\n",
              "  <thead>\n",
              "    <tr style=\"text-align: right;\">\n",
              "      <th></th>\n",
              "      <th>id</th>\n",
              "      <th>zip</th>\n",
              "      <th>bedrooms</th>\n",
              "      <th>bathrooms</th>\n",
              "      <th>garage</th>\n",
              "      <th>land</th>\n",
              "      <th>sqft</th>\n",
              "      <th>price</th>\n",
              "    </tr>\n",
              "  </thead>\n",
              "  <tbody>\n",
              "    <tr>\n",
              "      <th>0</th>\n",
              "      <td>1</td>\n",
              "      <td>60019</td>\n",
              "      <td>9</td>\n",
              "      <td>2</td>\n",
              "      <td>3</td>\n",
              "      <td>2.198</td>\n",
              "      <td>4860</td>\n",
              "      <td>1005580</td>\n",
              "    </tr>\n",
              "    <tr>\n",
              "      <th>1</th>\n",
              "      <td>2</td>\n",
              "      <td>60049</td>\n",
              "      <td>5</td>\n",
              "      <td>2</td>\n",
              "      <td>2</td>\n",
              "      <td>4.517</td>\n",
              "      <td>2870</td>\n",
              "      <td>620278</td>\n",
              "    </tr>\n",
              "    <tr>\n",
              "      <th>2</th>\n",
              "      <td>3</td>\n",
              "      <td>60011</td>\n",
              "      <td>2</td>\n",
              "      <td>1</td>\n",
              "      <td>0</td>\n",
              "      <td>4.120</td>\n",
              "      <td>1220</td>\n",
              "      <td>265711</td>\n",
              "    </tr>\n",
              "    <tr>\n",
              "      <th>3</th>\n",
              "      <td>4</td>\n",
              "      <td>60027</td>\n",
              "      <td>6</td>\n",
              "      <td>4</td>\n",
              "      <td>2</td>\n",
              "      <td>3.201</td>\n",
              "      <td>3810</td>\n",
              "      <td>819916</td>\n",
              "    </tr>\n",
              "    <tr>\n",
              "      <th>4</th>\n",
              "      <td>5</td>\n",
              "      <td>60001</td>\n",
              "      <td>9</td>\n",
              "      <td>3</td>\n",
              "      <td>2</td>\n",
              "      <td>1.347</td>\n",
              "      <td>5061</td>\n",
              "      <td>1039491</td>\n",
              "    </tr>\n",
              "  </tbody>\n",
              "</table>\n",
              "</div>"
            ],
            "text/plain": [
              "   id    zip  bedrooms  bathrooms  garage   land  sqft    price\n",
              "0   1  60019         9          2       3  2.198  4860  1005580\n",
              "1   2  60049         5          2       2  4.517  2870   620278\n",
              "2   3  60011         2          1       0  4.120  1220   265711\n",
              "3   4  60027         6          4       2  3.201  3810   819916\n",
              "4   5  60001         9          3       2  1.347  5061  1039491"
            ]
          },
          "metadata": {
            "tags": []
          },
          "execution_count": 5
        }
      ]
    },
    {
      "cell_type": "code",
      "metadata": {
        "id": "0EFWiiRacuqE",
        "outputId": "e69e8ad2-ad01-479e-f1c0-27b6cf447067",
        "colab": {
          "base_uri": "https://localhost:8080/",
          "height": 297
        }
      },
      "source": [
        "df_train.describe()"
      ],
      "execution_count": null,
      "outputs": [
        {
          "output_type": "execute_result",
          "data": {
            "text/html": [
              "<div>\n",
              "<style scoped>\n",
              "    .dataframe tbody tr th:only-of-type {\n",
              "        vertical-align: middle;\n",
              "    }\n",
              "\n",
              "    .dataframe tbody tr th {\n",
              "        vertical-align: top;\n",
              "    }\n",
              "\n",
              "    .dataframe thead th {\n",
              "        text-align: right;\n",
              "    }\n",
              "</style>\n",
              "<table border=\"1\" class=\"dataframe\">\n",
              "  <thead>\n",
              "    <tr style=\"text-align: right;\">\n",
              "      <th></th>\n",
              "      <th>id</th>\n",
              "      <th>zip</th>\n",
              "      <th>bedrooms</th>\n",
              "      <th>bathrooms</th>\n",
              "      <th>garage</th>\n",
              "      <th>land</th>\n",
              "      <th>sqft</th>\n",
              "      <th>price</th>\n",
              "    </tr>\n",
              "  </thead>\n",
              "  <tbody>\n",
              "    <tr>\n",
              "      <th>count</th>\n",
              "      <td>10000.00000</td>\n",
              "      <td>10000.000000</td>\n",
              "      <td>10000.000000</td>\n",
              "      <td>10000.000000</td>\n",
              "      <td>10000.000000</td>\n",
              "      <td>10000.000000</td>\n",
              "      <td>10000.000000</td>\n",
              "      <td>1.000000e+04</td>\n",
              "    </tr>\n",
              "    <tr>\n",
              "      <th>mean</th>\n",
              "      <td>5000.50000</td>\n",
              "      <td>60024.311000</td>\n",
              "      <td>4.998800</td>\n",
              "      <td>2.303200</td>\n",
              "      <td>1.446700</td>\n",
              "      <td>2.586615</td>\n",
              "      <td>2961.487500</td>\n",
              "      <td>6.222294e+05</td>\n",
              "    </tr>\n",
              "    <tr>\n",
              "      <th>std</th>\n",
              "      <td>2886.89568</td>\n",
              "      <td>14.505796</td>\n",
              "      <td>2.577918</td>\n",
              "      <td>1.623679</td>\n",
              "      <td>0.953336</td>\n",
              "      <td>1.366607</td>\n",
              "      <td>1550.644456</td>\n",
              "      <td>3.191416e+05</td>\n",
              "    </tr>\n",
              "    <tr>\n",
              "      <th>min</th>\n",
              "      <td>1.00000</td>\n",
              "      <td>60000.000000</td>\n",
              "      <td>1.000000</td>\n",
              "      <td>1.000000</td>\n",
              "      <td>0.000000</td>\n",
              "      <td>0.250000</td>\n",
              "      <td>650.000000</td>\n",
              "      <td>1.183640e+05</td>\n",
              "    </tr>\n",
              "    <tr>\n",
              "      <th>25%</th>\n",
              "      <td>2500.75000</td>\n",
              "      <td>60012.000000</td>\n",
              "      <td>3.000000</td>\n",
              "      <td>1.000000</td>\n",
              "      <td>1.000000</td>\n",
              "      <td>1.409000</td>\n",
              "      <td>1676.000000</td>\n",
              "      <td>3.540092e+05</td>\n",
              "    </tr>\n",
              "    <tr>\n",
              "      <th>50%</th>\n",
              "      <td>5000.50000</td>\n",
              "      <td>60024.000000</td>\n",
              "      <td>5.000000</td>\n",
              "      <td>2.000000</td>\n",
              "      <td>2.000000</td>\n",
              "      <td>2.574500</td>\n",
              "      <td>2899.500000</td>\n",
              "      <td>6.134955e+05</td>\n",
              "    </tr>\n",
              "    <tr>\n",
              "      <th>75%</th>\n",
              "      <td>7500.25000</td>\n",
              "      <td>60037.000000</td>\n",
              "      <td>7.000000</td>\n",
              "      <td>3.000000</td>\n",
              "      <td>2.000000</td>\n",
              "      <td>3.771000</td>\n",
              "      <td>4340.250000</td>\n",
              "      <td>9.054565e+05</td>\n",
              "    </tr>\n",
              "    <tr>\n",
              "      <th>max</th>\n",
              "      <td>10000.00000</td>\n",
              "      <td>60049.000000</td>\n",
              "      <td>9.000000</td>\n",
              "      <td>7.000000</td>\n",
              "      <td>3.000000</td>\n",
              "      <td>4.999000</td>\n",
              "      <td>5952.000000</td>\n",
              "      <td>1.270773e+06</td>\n",
              "    </tr>\n",
              "  </tbody>\n",
              "</table>\n",
              "</div>"
            ],
            "text/plain": [
              "                id           zip  ...          sqft         price\n",
              "count  10000.00000  10000.000000  ...  10000.000000  1.000000e+04\n",
              "mean    5000.50000  60024.311000  ...   2961.487500  6.222294e+05\n",
              "std     2886.89568     14.505796  ...   1550.644456  3.191416e+05\n",
              "min        1.00000  60000.000000  ...    650.000000  1.183640e+05\n",
              "25%     2500.75000  60012.000000  ...   1676.000000  3.540092e+05\n",
              "50%     5000.50000  60024.000000  ...   2899.500000  6.134955e+05\n",
              "75%     7500.25000  60037.000000  ...   4340.250000  9.054565e+05\n",
              "max    10000.00000  60049.000000  ...   5952.000000  1.270773e+06\n",
              "\n",
              "[8 rows x 8 columns]"
            ]
          },
          "metadata": {
            "tags": []
          },
          "execution_count": 6
        }
      ]
    },
    {
      "cell_type": "code",
      "metadata": {
        "id": "mrptOweWcVMQ",
        "outputId": "66a10651-c78d-4acb-cf16-6dc332cc0b79",
        "colab": {
          "base_uri": "https://localhost:8080/",
          "height": 297
        }
      },
      "source": [
        "df_test.describe()"
      ],
      "execution_count": null,
      "outputs": [
        {
          "output_type": "execute_result",
          "data": {
            "text/html": [
              "<div>\n",
              "<style scoped>\n",
              "    .dataframe tbody tr th:only-of-type {\n",
              "        vertical-align: middle;\n",
              "    }\n",
              "\n",
              "    .dataframe tbody tr th {\n",
              "        vertical-align: top;\n",
              "    }\n",
              "\n",
              "    .dataframe thead th {\n",
              "        text-align: right;\n",
              "    }\n",
              "</style>\n",
              "<table border=\"1\" class=\"dataframe\">\n",
              "  <thead>\n",
              "    <tr style=\"text-align: right;\">\n",
              "      <th></th>\n",
              "      <th>id</th>\n",
              "      <th>zip</th>\n",
              "      <th>bedrooms</th>\n",
              "      <th>bathrooms</th>\n",
              "      <th>garage</th>\n",
              "      <th>land</th>\n",
              "      <th>sqft</th>\n",
              "    </tr>\n",
              "  </thead>\n",
              "  <tbody>\n",
              "    <tr>\n",
              "      <th>count</th>\n",
              "      <td>2000.000000</td>\n",
              "      <td>2000.000000</td>\n",
              "      <td>2000.000000</td>\n",
              "      <td>2000.000000</td>\n",
              "      <td>2000.000000</td>\n",
              "      <td>2000.000000</td>\n",
              "      <td>2000.000000</td>\n",
              "    </tr>\n",
              "    <tr>\n",
              "      <th>mean</th>\n",
              "      <td>11000.500000</td>\n",
              "      <td>60024.789500</td>\n",
              "      <td>5.043500</td>\n",
              "      <td>2.308000</td>\n",
              "      <td>1.445500</td>\n",
              "      <td>2.653507</td>\n",
              "      <td>2983.922000</td>\n",
              "    </tr>\n",
              "    <tr>\n",
              "      <th>std</th>\n",
              "      <td>577.494589</td>\n",
              "      <td>14.617798</td>\n",
              "      <td>2.634403</td>\n",
              "      <td>1.640269</td>\n",
              "      <td>0.970825</td>\n",
              "      <td>1.355154</td>\n",
              "      <td>1581.491528</td>\n",
              "    </tr>\n",
              "    <tr>\n",
              "      <th>min</th>\n",
              "      <td>10001.000000</td>\n",
              "      <td>60000.000000</td>\n",
              "      <td>1.000000</td>\n",
              "      <td>1.000000</td>\n",
              "      <td>0.000000</td>\n",
              "      <td>0.260000</td>\n",
              "      <td>650.000000</td>\n",
              "    </tr>\n",
              "    <tr>\n",
              "      <th>25%</th>\n",
              "      <td>10500.750000</td>\n",
              "      <td>60012.000000</td>\n",
              "      <td>3.000000</td>\n",
              "      <td>1.000000</td>\n",
              "      <td>1.000000</td>\n",
              "      <td>1.477250</td>\n",
              "      <td>1668.000000</td>\n",
              "    </tr>\n",
              "    <tr>\n",
              "      <th>50%</th>\n",
              "      <td>11000.500000</td>\n",
              "      <td>60025.000000</td>\n",
              "      <td>5.000000</td>\n",
              "      <td>2.000000</td>\n",
              "      <td>2.000000</td>\n",
              "      <td>2.678000</td>\n",
              "      <td>2890.000000</td>\n",
              "    </tr>\n",
              "    <tr>\n",
              "      <th>75%</th>\n",
              "      <td>11500.250000</td>\n",
              "      <td>60038.000000</td>\n",
              "      <td>7.000000</td>\n",
              "      <td>3.000000</td>\n",
              "      <td>2.000000</td>\n",
              "      <td>3.798000</td>\n",
              "      <td>4388.250000</td>\n",
              "    </tr>\n",
              "    <tr>\n",
              "      <th>max</th>\n",
              "      <td>12000.000000</td>\n",
              "      <td>60049.000000</td>\n",
              "      <td>9.000000</td>\n",
              "      <td>7.000000</td>\n",
              "      <td>3.000000</td>\n",
              "      <td>4.999000</td>\n",
              "      <td>5952.000000</td>\n",
              "    </tr>\n",
              "  </tbody>\n",
              "</table>\n",
              "</div>"
            ],
            "text/plain": [
              "                 id           zip  ...         land         sqft\n",
              "count   2000.000000   2000.000000  ...  2000.000000  2000.000000\n",
              "mean   11000.500000  60024.789500  ...     2.653507  2983.922000\n",
              "std      577.494589     14.617798  ...     1.355154  1581.491528\n",
              "min    10001.000000  60000.000000  ...     0.260000   650.000000\n",
              "25%    10500.750000  60012.000000  ...     1.477250  1668.000000\n",
              "50%    11000.500000  60025.000000  ...     2.678000  2890.000000\n",
              "75%    11500.250000  60038.000000  ...     3.798000  4388.250000\n",
              "max    12000.000000  60049.000000  ...     4.999000  5952.000000\n",
              "\n",
              "[8 rows x 7 columns]"
            ]
          },
          "metadata": {
            "tags": []
          },
          "execution_count": 7
        }
      ]
    },
    {
      "cell_type": "code",
      "metadata": {
        "id": "gLD4eEkt0KUp",
        "outputId": "bc48ad40-60f2-42bb-a277-d296d509a743",
        "colab": {
          "base_uri": "https://localhost:8080/",
          "height": 34
        }
      },
      "source": [
        "# check for misssing values\n",
        "sum(df_train.isnull().sum())"
      ],
      "execution_count": null,
      "outputs": [
        {
          "output_type": "execute_result",
          "data": {
            "text/plain": [
              "0"
            ]
          },
          "metadata": {
            "tags": []
          },
          "execution_count": 8
        }
      ]
    },
    {
      "cell_type": "code",
      "metadata": {
        "id": "-X5K-lZf0iXB",
        "outputId": "764d4338-e137-4df3-e4be-8ba152858c45",
        "colab": {
          "base_uri": "https://localhost:8080/",
          "height": 204
        }
      },
      "source": [
        "df_zip.head()"
      ],
      "execution_count": null,
      "outputs": [
        {
          "output_type": "execute_result",
          "data": {
            "text/html": [
              "<div>\n",
              "<style scoped>\n",
              "    .dataframe tbody tr th:only-of-type {\n",
              "        vertical-align: middle;\n",
              "    }\n",
              "\n",
              "    .dataframe tbody tr th {\n",
              "        vertical-align: top;\n",
              "    }\n",
              "\n",
              "    .dataframe thead th {\n",
              "        text-align: right;\n",
              "    }\n",
              "</style>\n",
              "<table border=\"1\" class=\"dataframe\">\n",
              "  <thead>\n",
              "    <tr style=\"text-align: right;\">\n",
              "      <th></th>\n",
              "      <th>zip</th>\n",
              "      <th>median_income</th>\n",
              "    </tr>\n",
              "  </thead>\n",
              "  <tbody>\n",
              "    <tr>\n",
              "      <th>0</th>\n",
              "      <td>60000</td>\n",
              "      <td>75806</td>\n",
              "    </tr>\n",
              "    <tr>\n",
              "      <th>1</th>\n",
              "      <td>60001</td>\n",
              "      <td>205564</td>\n",
              "    </tr>\n",
              "    <tr>\n",
              "      <th>2</th>\n",
              "      <td>60002</td>\n",
              "      <td>307019</td>\n",
              "    </tr>\n",
              "    <tr>\n",
              "      <th>3</th>\n",
              "      <td>60003</td>\n",
              "      <td>145929</td>\n",
              "    </tr>\n",
              "    <tr>\n",
              "      <th>4</th>\n",
              "      <td>60004</td>\n",
              "      <td>135496</td>\n",
              "    </tr>\n",
              "  </tbody>\n",
              "</table>\n",
              "</div>"
            ],
            "text/plain": [
              "     zip  median_income\n",
              "0  60000          75806\n",
              "1  60001         205564\n",
              "2  60002         307019\n",
              "3  60003         145929\n",
              "4  60004         135496"
            ]
          },
          "metadata": {
            "tags": []
          },
          "execution_count": 9
        }
      ]
    },
    {
      "cell_type": "markdown",
      "metadata": {
        "id": "HhRn9lkR0pJr"
      },
      "source": [
        "Combine train and zip data"
      ]
    },
    {
      "cell_type": "code",
      "metadata": {
        "id": "kmrJB2b40tPC"
      },
      "source": [
        "df_train = df_train.join(df_zip.set_index('zip'), on='zip')"
      ],
      "execution_count": null,
      "outputs": []
    },
    {
      "cell_type": "code",
      "metadata": {
        "id": "bDjUXqz82LCv"
      },
      "source": [
        "df_test = df_test.join(df_zip.set_index('zip'), on='zip')"
      ],
      "execution_count": null,
      "outputs": []
    },
    {
      "cell_type": "markdown",
      "metadata": {
        "id": "_xZlNhe51mmq"
      },
      "source": [
        "### Set-up data for the model "
      ]
    },
    {
      "cell_type": "code",
      "metadata": {
        "id": "RmaQv_q61uSD"
      },
      "source": [
        "# replace with  zscore \t\n",
        "#df_train['land'] = zscore(df_train['land'])     - Not needed as the mean and sd are in single digit \n",
        "df_train['sqft'] = zscore(df_train['sqft'])\n",
        "df_train['median_income'] = zscore(df_train['median_income'])\n",
        "\n",
        "# df_test['land'] = zscore(df_test['land'])        - Not needed as the mean and sd are in single digit \n",
        "df_test['sqft'] = zscore(df_test['sqft'])\n",
        "df_test['median_income'] = zscore(df_test['median_income'])"
      ],
      "execution_count": null,
      "outputs": []
    },
    {
      "cell_type": "code",
      "metadata": {
        "id": "F_ZdSAOJ2W6A",
        "outputId": "8636e130-951f-43a8-d765-631b5f2e49c4",
        "colab": {
          "base_uri": "https://localhost:8080/",
          "height": 204
        }
      },
      "source": [
        "df_train.head()"
      ],
      "execution_count": null,
      "outputs": [
        {
          "output_type": "execute_result",
          "data": {
            "text/html": [
              "<div>\n",
              "<style scoped>\n",
              "    .dataframe tbody tr th:only-of-type {\n",
              "        vertical-align: middle;\n",
              "    }\n",
              "\n",
              "    .dataframe tbody tr th {\n",
              "        vertical-align: top;\n",
              "    }\n",
              "\n",
              "    .dataframe thead th {\n",
              "        text-align: right;\n",
              "    }\n",
              "</style>\n",
              "<table border=\"1\" class=\"dataframe\">\n",
              "  <thead>\n",
              "    <tr style=\"text-align: right;\">\n",
              "      <th></th>\n",
              "      <th>id</th>\n",
              "      <th>zip</th>\n",
              "      <th>bedrooms</th>\n",
              "      <th>bathrooms</th>\n",
              "      <th>garage</th>\n",
              "      <th>land</th>\n",
              "      <th>sqft</th>\n",
              "      <th>price</th>\n",
              "      <th>median_income</th>\n",
              "    </tr>\n",
              "  </thead>\n",
              "  <tbody>\n",
              "    <tr>\n",
              "      <th>0</th>\n",
              "      <td>1</td>\n",
              "      <td>60019</td>\n",
              "      <td>9</td>\n",
              "      <td>2</td>\n",
              "      <td>3</td>\n",
              "      <td>2.198</td>\n",
              "      <td>1.224399</td>\n",
              "      <td>1005580</td>\n",
              "      <td>-0.820375</td>\n",
              "    </tr>\n",
              "    <tr>\n",
              "      <th>1</th>\n",
              "      <td>2</td>\n",
              "      <td>60049</td>\n",
              "      <td>5</td>\n",
              "      <td>2</td>\n",
              "      <td>2</td>\n",
              "      <td>4.517</td>\n",
              "      <td>-0.059003</td>\n",
              "      <td>620278</td>\n",
              "      <td>0.095794</td>\n",
              "    </tr>\n",
              "    <tr>\n",
              "      <th>2</th>\n",
              "      <td>3</td>\n",
              "      <td>60011</td>\n",
              "      <td>2</td>\n",
              "      <td>1</td>\n",
              "      <td>0</td>\n",
              "      <td>4.120</td>\n",
              "      <td>-1.123130</td>\n",
              "      <td>265711</td>\n",
              "      <td>-0.117203</td>\n",
              "    </tr>\n",
              "    <tr>\n",
              "      <th>3</th>\n",
              "      <td>4</td>\n",
              "      <td>60027</td>\n",
              "      <td>6</td>\n",
              "      <td>4</td>\n",
              "      <td>2</td>\n",
              "      <td>3.201</td>\n",
              "      <td>0.547227</td>\n",
              "      <td>819916</td>\n",
              "      <td>1.599117</td>\n",
              "    </tr>\n",
              "    <tr>\n",
              "      <th>4</th>\n",
              "      <td>5</td>\n",
              "      <td>60001</td>\n",
              "      <td>9</td>\n",
              "      <td>3</td>\n",
              "      <td>2</td>\n",
              "      <td>1.347</td>\n",
              "      <td>1.354029</td>\n",
              "      <td>1039491</td>\n",
              "      <td>-0.163032</td>\n",
              "    </tr>\n",
              "  </tbody>\n",
              "</table>\n",
              "</div>"
            ],
            "text/plain": [
              "   id    zip  bedrooms  bathrooms  ...   land      sqft    price  median_income\n",
              "0   1  60019         9          2  ...  2.198  1.224399  1005580      -0.820375\n",
              "1   2  60049         5          2  ...  4.517 -0.059003   620278       0.095794\n",
              "2   3  60011         2          1  ...  4.120 -1.123130   265711      -0.117203\n",
              "3   4  60027         6          4  ...  3.201  0.547227   819916       1.599117\n",
              "4   5  60001         9          3  ...  1.347  1.354029  1039491      -0.163032\n",
              "\n",
              "[5 rows x 9 columns]"
            ]
          },
          "metadata": {
            "tags": []
          },
          "execution_count": 13
        }
      ]
    },
    {
      "cell_type": "code",
      "metadata": {
        "id": "VjNc-Ro246Yw"
      },
      "source": [
        "# convert to numpy\n",
        "x_columns = df_train.columns.drop(['id','zip', 'price'])"
      ],
      "execution_count": null,
      "outputs": []
    },
    {
      "cell_type": "code",
      "metadata": {
        "id": "kVUri6RW5DqQ"
      },
      "source": [
        "x_columns\n",
        "x = df_train[x_columns].values\n",
        "y = df_train['price'].values"
      ],
      "execution_count": null,
      "outputs": []
    },
    {
      "cell_type": "code",
      "metadata": {
        "id": "WETAamix6Je0",
        "outputId": "af313dd9-ef4a-42ee-e240-0d0270c98260",
        "colab": {
          "base_uri": "https://localhost:8080/",
          "height": 136
        }
      },
      "source": [
        "print(x, y)"
      ],
      "execution_count": null,
      "outputs": [
        {
          "output_type": "stream",
          "text": [
            "[[ 9.          2.          3.          2.198       1.22439894 -0.82037489]\n",
            " [ 5.          2.          2.          4.517      -0.05900261  0.09579356]\n",
            " [ 2.          1.          0.          4.12       -1.12312953 -0.11720343]\n",
            " ...\n",
            " [ 7.          2.          2.          2.011       0.63364727 -0.65511305]\n",
            " [ 9.          7.          3.          1.768       1.88286778 -0.71704911]\n",
            " [ 4.          1.          1.          2.377      -0.49045771 -1.52139269]] [1005580  620278  265711 ...  813447 1208882  446179]\n"
          ],
          "name": "stdout"
        }
      ]
    },
    {
      "cell_type": "code",
      "metadata": {
        "id": "mk3esoY26R2L"
      },
      "source": [
        "# Create train / validation split \n",
        "x_train, x_val, y_train, y_val = train_test_split(x, y, train_size = .8, random_state = 42)"
      ],
      "execution_count": null,
      "outputs": []
    },
    {
      "cell_type": "code",
      "metadata": {
        "id": "VTFJfZjc6v3w",
        "outputId": "4dda5dc6-4a64-47b1-8eaf-4b9b2374c603",
        "colab": {
          "base_uri": "https://localhost:8080/",
          "height": 34
        }
      },
      "source": [
        "print(x_train.shape, y_train.shape, x_val.shape, y_val.shape)"
      ],
      "execution_count": null,
      "outputs": [
        {
          "output_type": "stream",
          "text": [
            "(8000, 6) (8000,) (2000, 6) (2000,)\n"
          ],
          "name": "stdout"
        }
      ]
    },
    {
      "cell_type": "markdown",
      "metadata": {
        "id": "KDhLF0uN7A-D"
      },
      "source": [
        "### Create Model "
      ]
    },
    {
      "cell_type": "code",
      "metadata": {
        "id": "chGBavaR7DET"
      },
      "source": [
        "# Build Model \n",
        "model = Sequential()\n",
        "model.add(Dense(100, input_dim = x_train.shape[1], activation='relu', kernel_initializer='random_normal'))   # Hidden 1\n",
        "model.add(Dense(50, activation='relu', kernel_initializer = 'random_normal' ))                               # Hidden 2\n",
        "model.add(Dense(25, activation='relu', kernel_initializer= 'random_normal'))                                # Hidden 3\n",
        "model.add(Dense(1))\n",
        "\n",
        "model.compile(loss = 'mean_squared_error', optimizer='adam')\n",
        "monitor = EarlyStopping(monitor='val_loss', min_delta = 1e-3, \n",
        "                        patience=5, verbose = 1, mode = 'auto', restore_best_weights=True)\n"
      ],
      "execution_count": null,
      "outputs": []
    },
    {
      "cell_type": "markdown",
      "metadata": {
        "id": "k_ElE67o-D80"
      },
      "source": [
        "Fit the model"
      ]
    },
    {
      "cell_type": "code",
      "metadata": {
        "id": "bfsSKhsB-CIP",
        "outputId": "c90b401b-e9da-42f1-f9b2-569da3382e6a",
        "colab": {
          "base_uri": "https://localhost:8080/",
          "height": 1000
        }
      },
      "source": [
        "model.fit(x_train, y_train, validation_data=(x_val, y_val), verbose =1, callbacks = [monitor], epochs= 1000 )"
      ],
      "execution_count": null,
      "outputs": [
        {
          "output_type": "stream",
          "text": [
            "Epoch 1/1000\n",
            "250/250 [==============================] - 0s 2ms/step - loss: 484963418112.0000 - val_loss: 446479073280.0000\n",
            "Epoch 2/1000\n",
            "250/250 [==============================] - 0s 1ms/step - loss: 303537979392.0000 - val_loss: 96212148224.0000\n",
            "Epoch 3/1000\n",
            "250/250 [==============================] - 0s 1ms/step - loss: 22727348224.0000 - val_loss: 4546510848.0000\n",
            "Epoch 4/1000\n",
            "250/250 [==============================] - 0s 1ms/step - loss: 4160064000.0000 - val_loss: 3643777792.0000\n",
            "Epoch 5/1000\n",
            "250/250 [==============================] - 0s 1ms/step - loss: 3352642560.0000 - val_loss: 2955854592.0000\n",
            "Epoch 6/1000\n",
            "250/250 [==============================] - 0s 1ms/step - loss: 2745690624.0000 - val_loss: 2442653440.0000\n",
            "Epoch 7/1000\n",
            "250/250 [==============================] - 0s 1ms/step - loss: 2289254144.0000 - val_loss: 2057670784.0000\n",
            "Epoch 8/1000\n",
            "250/250 [==============================] - 0s 1ms/step - loss: 1938535296.0000 - val_loss: 1745691648.0000\n",
            "Epoch 9/1000\n",
            "250/250 [==============================] - 0s 1ms/step - loss: 1645649792.0000 - val_loss: 1476771456.0000\n",
            "Epoch 10/1000\n",
            "250/250 [==============================] - 0s 1ms/step - loss: 1390747264.0000 - val_loss: 1240742272.0000\n",
            "Epoch 11/1000\n",
            "250/250 [==============================] - 0s 1ms/step - loss: 1165972736.0000 - val_loss: 1031980864.0000\n",
            "Epoch 12/1000\n",
            "250/250 [==============================] - 0s 1ms/step - loss: 967822784.0000 - val_loss: 851221120.0000\n",
            "Epoch 13/1000\n",
            "250/250 [==============================] - 0s 1ms/step - loss: 797278400.0000 - val_loss: 697318528.0000\n",
            "Epoch 14/1000\n",
            "250/250 [==============================] - 0s 1ms/step - loss: 656295168.0000 - val_loss: 570894720.0000\n",
            "Epoch 15/1000\n",
            "250/250 [==============================] - 0s 1ms/step - loss: 542151168.0000 - val_loss: 471243776.0000\n",
            "Epoch 16/1000\n",
            "250/250 [==============================] - 0s 1ms/step - loss: 452552800.0000 - val_loss: 394014176.0000\n",
            "Epoch 17/1000\n",
            "250/250 [==============================] - 0s 2ms/step - loss: 382948064.0000 - val_loss: 335068704.0000\n",
            "Epoch 18/1000\n",
            "250/250 [==============================] - 0s 1ms/step - loss: 328430464.0000 - val_loss: 289870176.0000\n",
            "Epoch 19/1000\n",
            "250/250 [==============================] - 0s 1ms/step - loss: 285514976.0000 - val_loss: 251748096.0000\n",
            "Epoch 20/1000\n",
            "250/250 [==============================] - 0s 2ms/step - loss: 250490288.0000 - val_loss: 219892320.0000\n",
            "Epoch 21/1000\n",
            "250/250 [==============================] - 0s 2ms/step - loss: 218233472.0000 - val_loss: 191691504.0000\n",
            "Epoch 22/1000\n",
            "250/250 [==============================] - 0s 2ms/step - loss: 190430288.0000 - val_loss: 166643648.0000\n",
            "Epoch 23/1000\n",
            "250/250 [==============================] - 0s 1ms/step - loss: 163454720.0000 - val_loss: 141952736.0000\n",
            "Epoch 24/1000\n",
            "250/250 [==============================] - 0s 2ms/step - loss: 139474176.0000 - val_loss: 119944720.0000\n",
            "Epoch 25/1000\n",
            "250/250 [==============================] - 0s 2ms/step - loss: 116912336.0000 - val_loss: 101345992.0000\n",
            "Epoch 26/1000\n",
            "250/250 [==============================] - 0s 2ms/step - loss: 97365688.0000 - val_loss: 83016208.0000\n",
            "Epoch 27/1000\n",
            "250/250 [==============================] - 0s 2ms/step - loss: 80147640.0000 - val_loss: 67773824.0000\n",
            "Epoch 28/1000\n",
            "250/250 [==============================] - 0s 2ms/step - loss: 65414776.0000 - val_loss: 55517972.0000\n",
            "Epoch 29/1000\n",
            "250/250 [==============================] - 0s 2ms/step - loss: 53224252.0000 - val_loss: 46767792.0000\n",
            "Epoch 30/1000\n",
            "250/250 [==============================] - 0s 1ms/step - loss: 44184284.0000 - val_loss: 38240624.0000\n",
            "Epoch 31/1000\n",
            "250/250 [==============================] - 0s 1ms/step - loss: 36930996.0000 - val_loss: 33308602.0000\n",
            "Epoch 32/1000\n",
            "250/250 [==============================] - 0s 1ms/step - loss: 32094404.0000 - val_loss: 29160424.0000\n",
            "Epoch 33/1000\n",
            "250/250 [==============================] - 0s 1ms/step - loss: 28936752.0000 - val_loss: 28011980.0000\n",
            "Epoch 34/1000\n",
            "250/250 [==============================] - 0s 2ms/step - loss: 26756734.0000 - val_loss: 25596034.0000\n",
            "Epoch 35/1000\n",
            "250/250 [==============================] - 0s 1ms/step - loss: 25568088.0000 - val_loss: 26362660.0000\n",
            "Epoch 36/1000\n",
            "250/250 [==============================] - 0s 1ms/step - loss: 25169802.0000 - val_loss: 24609496.0000\n",
            "Epoch 37/1000\n",
            "250/250 [==============================] - 0s 1ms/step - loss: 24593416.0000 - val_loss: 24368962.0000\n",
            "Epoch 38/1000\n",
            "250/250 [==============================] - 0s 2ms/step - loss: 24732812.0000 - val_loss: 25178416.0000\n",
            "Epoch 39/1000\n",
            "250/250 [==============================] - 0s 1ms/step - loss: 24479076.0000 - val_loss: 26104298.0000\n",
            "Epoch 40/1000\n",
            "250/250 [==============================] - 0s 1ms/step - loss: 24333480.0000 - val_loss: 24983028.0000\n",
            "Epoch 41/1000\n",
            "250/250 [==============================] - 0s 1ms/step - loss: 24539832.0000 - val_loss: 24205864.0000\n",
            "Epoch 42/1000\n",
            "250/250 [==============================] - 0s 1ms/step - loss: 24452060.0000 - val_loss: 25626484.0000\n",
            "Epoch 43/1000\n",
            "250/250 [==============================] - 0s 1ms/step - loss: 24411176.0000 - val_loss: 23890970.0000\n",
            "Epoch 44/1000\n",
            "250/250 [==============================] - 0s 1ms/step - loss: 24352820.0000 - val_loss: 23924976.0000\n",
            "Epoch 45/1000\n",
            "250/250 [==============================] - 0s 2ms/step - loss: 24818052.0000 - val_loss: 25037676.0000\n",
            "Epoch 46/1000\n",
            "250/250 [==============================] - 0s 2ms/step - loss: 24428948.0000 - val_loss: 23866276.0000\n",
            "Epoch 47/1000\n",
            "250/250 [==============================] - 0s 2ms/step - loss: 24483586.0000 - val_loss: 23866120.0000\n",
            "Epoch 48/1000\n",
            "250/250 [==============================] - 0s 2ms/step - loss: 24597624.0000 - val_loss: 24001458.0000\n",
            "Epoch 49/1000\n",
            "250/250 [==============================] - 0s 2ms/step - loss: 24135340.0000 - val_loss: 23913574.0000\n",
            "Epoch 50/1000\n",
            "250/250 [==============================] - 0s 2ms/step - loss: 24420112.0000 - val_loss: 24256302.0000\n",
            "Epoch 51/1000\n",
            "250/250 [==============================] - 0s 2ms/step - loss: 24236146.0000 - val_loss: 23728214.0000\n",
            "Epoch 52/1000\n",
            "250/250 [==============================] - 0s 2ms/step - loss: 24106744.0000 - val_loss: 23607180.0000\n",
            "Epoch 53/1000\n",
            "250/250 [==============================] - 0s 2ms/step - loss: 24575858.0000 - val_loss: 24523684.0000\n",
            "Epoch 54/1000\n",
            "250/250 [==============================] - 0s 2ms/step - loss: 24112036.0000 - val_loss: 23608666.0000\n",
            "Epoch 55/1000\n",
            "250/250 [==============================] - 0s 2ms/step - loss: 24317238.0000 - val_loss: 23924418.0000\n",
            "Epoch 56/1000\n",
            "250/250 [==============================] - 0s 2ms/step - loss: 24595608.0000 - val_loss: 23619460.0000\n",
            "Epoch 57/1000\n",
            "223/250 [=========================>....] - ETA: 0s - loss: 24150030.0000Restoring model weights from the end of the best epoch.\n",
            "250/250 [==============================] - 0s 2ms/step - loss: 23986688.0000 - val_loss: 24778388.0000\n",
            "Epoch 00057: early stopping\n"
          ],
          "name": "stdout"
        },
        {
          "output_type": "execute_result",
          "data": {
            "text/plain": [
              "<tensorflow.python.keras.callbacks.History at 0x7f14fa62af28>"
            ]
          },
          "metadata": {
            "tags": []
          },
          "execution_count": 20
        }
      ]
    },
    {
      "cell_type": "code",
      "metadata": {
        "id": "Q91Tsmmb_G0s",
        "outputId": "d58ac303-3908-4f02-9d21-1ecfe7176344",
        "colab": {
          "base_uri": "https://localhost:8080/",
          "height": 34
        }
      },
      "source": [
        "# Predict Root Mean Square Error \n",
        "pred = model.predict(x_val)\n",
        "\n",
        "# Measure MSE error\n",
        "score = metrics.mean_squared_error(y_val, pred)\n",
        "print(\"Final Score (MSE) : {}\".format(score))"
      ],
      "execution_count": null,
      "outputs": [
        {
          "output_type": "stream",
          "text": [
            "Final Score (MSE) : 23607183.514568724\n"
          ],
          "name": "stdout"
        }
      ]
    },
    {
      "cell_type": "code",
      "metadata": {
        "id": "hysGXo0zAAS8",
        "outputId": "4e41f083-9ef7-4341-ba1e-a927d5a2bde6",
        "colab": {
          "base_uri": "https://localhost:8080/",
          "height": 34
        }
      },
      "source": [
        "#Root Mean Square Error\n",
        "rmse_score = np.sqrt(metrics.mean_squared_error(y_val, pred))\n",
        "print(\"Final Score (RMSE) : {}\".format(rmse_score))"
      ],
      "execution_count": null,
      "outputs": [
        {
          "output_type": "stream",
          "text": [
            "Final Score (RMSE) : 4858.722415879376\n"
          ],
          "name": "stdout"
        }
      ]
    },
    {
      "cell_type": "markdown",
      "metadata": {
        "id": "NKCVh_B_AkXX"
      },
      "source": [
        "### File for Submission "
      ]
    },
    {
      "cell_type": "code",
      "metadata": {
        "id": "_qVjTbu1ZfPT"
      },
      "source": [
        "x_test = df_test[x_columns].values"
      ],
      "execution_count": null,
      "outputs": []
    },
    {
      "cell_type": "code",
      "metadata": {
        "id": "I7CpO593aBJ8",
        "outputId": "3bdd5c03-de28-42f6-fb5d-5d241beb6090",
        "colab": {
          "base_uri": "https://localhost:8080/",
          "height": 85
        }
      },
      "source": [
        "x_test[0:2]"
      ],
      "execution_count": null,
      "outputs": [
        {
          "output_type": "execute_result",
          "data": {
            "text/plain": [
              "array([[ 8.        ,  6.        ,  2.        ,  2.901     ,  1.42501015,\n",
              "         1.60791168],\n",
              "       [ 7.        ,  2.        ,  2.        ,  2.455     ,  0.59773596,\n",
              "        -0.78391149]])"
            ]
          },
          "metadata": {
            "tags": []
          },
          "execution_count": 24
        }
      ]
    },
    {
      "cell_type": "code",
      "metadata": {
        "id": "1ltqzsocDmKJ"
      },
      "source": [
        "pred_test = model.predict(x_test)"
      ],
      "execution_count": null,
      "outputs": []
    },
    {
      "cell_type": "code",
      "metadata": {
        "id": "7vL89-qhaKw6",
        "outputId": "4a78921b-b5f0-4a0d-c24e-a998691f6e0f",
        "colab": {
          "base_uri": "https://localhost:8080/",
          "height": 136
        }
      },
      "source": [
        "pred_test"
      ],
      "execution_count": null,
      "outputs": [
        {
          "output_type": "execute_result",
          "data": {
            "text/plain": [
              "array([[1096533.1 ],\n",
              "       [ 805605.94],\n",
              "       [ 288208.1 ],\n",
              "       ...,\n",
              "       [1098467.5 ],\n",
              "       [ 503296.8 ],\n",
              "       [1120481.  ]], dtype=float32)"
            ]
          },
          "metadata": {
            "tags": []
          },
          "execution_count": 26
        }
      ]
    },
    {
      "cell_type": "code",
      "metadata": {
        "id": "StoDX2CwbMvZ"
      },
      "source": [
        "# File to submit \n",
        "df_test_submit = df_test.copy()"
      ],
      "execution_count": null,
      "outputs": []
    },
    {
      "cell_type": "code",
      "metadata": {
        "id": "Q14KvIlyhJzW"
      },
      "source": [
        "df_test_submit['price'] = pd.DataFrame(pred_test).astype(int)"
      ],
      "execution_count": null,
      "outputs": []
    },
    {
      "cell_type": "code",
      "metadata": {
        "id": "vC5AFyARHxyD",
        "outputId": "e6c4f63e-1d86-4a77-a437-718ad1cd8f3d",
        "colab": {
          "base_uri": "https://localhost:8080/",
          "height": 419
        }
      },
      "source": [
        "df_test_submit.drop(['zip', 'bedrooms', 'bathrooms', 'garage', 'land', 'sqft',  'median_income'], axis=1)"
      ],
      "execution_count": null,
      "outputs": [
        {
          "output_type": "execute_result",
          "data": {
            "text/html": [
              "<div>\n",
              "<style scoped>\n",
              "    .dataframe tbody tr th:only-of-type {\n",
              "        vertical-align: middle;\n",
              "    }\n",
              "\n",
              "    .dataframe tbody tr th {\n",
              "        vertical-align: top;\n",
              "    }\n",
              "\n",
              "    .dataframe thead th {\n",
              "        text-align: right;\n",
              "    }\n",
              "</style>\n",
              "<table border=\"1\" class=\"dataframe\">\n",
              "  <thead>\n",
              "    <tr style=\"text-align: right;\">\n",
              "      <th></th>\n",
              "      <th>id</th>\n",
              "      <th>price</th>\n",
              "    </tr>\n",
              "  </thead>\n",
              "  <tbody>\n",
              "    <tr>\n",
              "      <th>0</th>\n",
              "      <td>10001</td>\n",
              "      <td>1096533</td>\n",
              "    </tr>\n",
              "    <tr>\n",
              "      <th>1</th>\n",
              "      <td>10002</td>\n",
              "      <td>805605</td>\n",
              "    </tr>\n",
              "    <tr>\n",
              "      <th>2</th>\n",
              "      <td>10003</td>\n",
              "      <td>288208</td>\n",
              "    </tr>\n",
              "    <tr>\n",
              "      <th>3</th>\n",
              "      <td>10004</td>\n",
              "      <td>236514</td>\n",
              "    </tr>\n",
              "    <tr>\n",
              "      <th>4</th>\n",
              "      <td>10005</td>\n",
              "      <td>360632</td>\n",
              "    </tr>\n",
              "    <tr>\n",
              "      <th>...</th>\n",
              "      <td>...</td>\n",
              "      <td>...</td>\n",
              "    </tr>\n",
              "    <tr>\n",
              "      <th>1995</th>\n",
              "      <td>11996</td>\n",
              "      <td>265576</td>\n",
              "    </tr>\n",
              "    <tr>\n",
              "      <th>1996</th>\n",
              "      <td>11997</td>\n",
              "      <td>1154644</td>\n",
              "    </tr>\n",
              "    <tr>\n",
              "      <th>1997</th>\n",
              "      <td>11998</td>\n",
              "      <td>1098467</td>\n",
              "    </tr>\n",
              "    <tr>\n",
              "      <th>1998</th>\n",
              "      <td>11999</td>\n",
              "      <td>503296</td>\n",
              "    </tr>\n",
              "    <tr>\n",
              "      <th>1999</th>\n",
              "      <td>12000</td>\n",
              "      <td>1120481</td>\n",
              "    </tr>\n",
              "  </tbody>\n",
              "</table>\n",
              "<p>2000 rows × 2 columns</p>\n",
              "</div>"
            ],
            "text/plain": [
              "         id    price\n",
              "0     10001  1096533\n",
              "1     10002   805605\n",
              "2     10003   288208\n",
              "3     10004   236514\n",
              "4     10005   360632\n",
              "...     ...      ...\n",
              "1995  11996   265576\n",
              "1996  11997  1154644\n",
              "1997  11998  1098467\n",
              "1998  11999   503296\n",
              "1999  12000  1120481\n",
              "\n",
              "[2000 rows x 2 columns]"
            ]
          },
          "metadata": {
            "tags": []
          },
          "execution_count": 51
        }
      ]
    }
  ]
}